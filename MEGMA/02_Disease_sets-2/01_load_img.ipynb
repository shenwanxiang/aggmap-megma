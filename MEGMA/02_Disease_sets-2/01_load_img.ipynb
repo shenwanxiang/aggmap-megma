{
 "cells": [
  {
   "cell_type": "code",
   "execution_count": 1,
   "id": "221c236d-de34-4e8a-a9ce-ee3624267ea9",
   "metadata": {},
   "outputs": [
    {
     "name": "stderr",
     "output_type": "stream",
     "text": [
      "2022-10-04 15:53:04.545537: I tensorflow/core/util/util.cc:169] oneDNN custom operations are on. You may see slightly different numerical results due to floating-point round-off errors from different computation orders. To turn them off, set the environment variable `TF_ENABLE_ONEDNN_OPTS=0`.\n"
     ]
    }
   ],
   "source": [
    "from keras.preprocessing import image\n",
    "from glob import glob\n",
    "import pandas as pd\n",
    "import os\n",
    "import matplotlib.pyplot as plt\n",
    "\n",
    "def img2array(img_path, grayscale = True):\n",
    "    img = image.image_utils.load_img(img_path,grayscale=grayscale)\n",
    "    return image.image_utils.img_to_array(img) / 255.                         "
   ]
  },
  {
   "cell_type": "code",
   "execution_count": 2,
   "id": "c47f65fb-f53a-49fa-bddc-8f061e3003bb",
   "metadata": {},
   "outputs": [],
   "source": [
    "save_dir = './Met2Img_AggMapNet_data'\n",
    "if not os.path.exists(save_dir):\n",
    "    os.makedirs(save_dir)"
   ]
  },
  {
   "cell_type": "code",
   "execution_count": 3,
   "id": "1321362b-6860-43dc-91e8-b984fc9640ee",
   "metadata": {},
   "outputs": [],
   "source": [
    "data_info_list = [{'path': './images/metagenomics/cirphy_fill_pix_r0p1.0spbm0.0a1.0graybi10_0.0_1.0/fill_*.png',\n",
    "  'dataset': 'Cirrhosis', 'y':'./metagenomics/cirphy_y.csv', 'x': './metagenomics/cirphy_x.csv',\n",
    "  'Met2Img': 'fillup-spb-gray'},\n",
    " {'path': './images/metagenomics/cirphy_fill_pix_r0p1.0spbm0.0a1.0jetbi10_0.0_1.0/fill_*.png',\n",
    "  'dataset': 'Cirrhosis', 'y':'./metagenomics/cirphy_y.csv', 'x': './metagenomics/cirphy_x.csv',\n",
    "  'Met2Img': 'fillup-spb-jet'},\n",
    " {'path': './images/metagenomics/ibdphy_fill_pix_r0p1.0spbm0.0a1.0graybi10_0.0_1.0/fill_*.png',\n",
    "  'dataset': 'IBD', 'y':'./metagenomics/ibdphy_y.csv', 'x': './metagenomics/ibdphy_x.csv',\n",
    "  'Met2Img': 'fillup-spb-gray'},\n",
    " {'path': './images/metagenomics/ibdphy_fill_pix_r0p1.0spbm0.0a1.0jetbi10_0.0_1.0/fill_*.png',\n",
    "  'dataset': 'IBD', 'y':'./metagenomics/ibdphy_y.csv', 'x': './metagenomics/ibdphy_x.csv',\n",
    "  'Met2Img': 'fillup-spb-jet'},\n",
    " {'path': './images/metagenomics/obephy_fill_pix_r0p1.0spbm0.0a1.0graybi10_0.0_1.0/fill_*.png',\n",
    "  'dataset': 'Obesity', 'y':'./metagenomics/obephy_y.csv', 'x': './metagenomics/obephy_x.csv',\n",
    "  'Met2Img': 'fillup-spb-gray'},\n",
    " {'path': './images/metagenomics/obephy_fill_pix_r0p1.0spbm0.0a1.0jetbi10_0.0_1.0/fill_*.png',\n",
    "  'dataset': 'Obesity', 'y':'./metagenomics/obephy_y.csv', 'x': './metagenomics/obephy_x.csv',\n",
    "  'Met2Img': 'fillup-spb-jet'},\n",
    " {'path': './images/metagenomics/t2dphy_fill_pix_r0p1.0spbm0.0a1.0graybi10_0.0_1.0/fill_*.png',\n",
    "  'dataset': 'T2D', 'y':'./metagenomics/t2dphy_y.csv', 'x': './metagenomics/t2dphy_x.csv',\n",
    "  'Met2Img': 'fillup-spb-gray'},\n",
    " {'path': './images/metagenomics/t2dphy_fill_pix_r0p1.0spbm0.0a1.0jetbi10_0.0_1.0/fill_*.png',\n",
    "  'dataset': 'T2D', 'y':'./metagenomics/t2dphy_y.csv', 'x': './metagenomics/t2dphy_x.csv',\n",
    "  'Met2Img': 'fillup-spb-jet'},\n",
    "                  \n",
    " {'path': './images/metagenomics/colphy_fill_pix_r0p1.0spbm0.0a1.0graybi10_0.0_1.0/fill_*.png',\n",
    "  'dataset': 'CRC', 'y':'./metagenomics/colphy_y.csv', 'x': './metagenomics/colphy_x.csv',\n",
    "  'Met2Img': 'fillup-spb-gray'},\n",
    " {'path': './images/metagenomics/colphy_fill_pix_r0p1.0spbm0.0a1.0jetbi10_0.0_1.0/fill_*.png',\n",
    "  'dataset': 'CRC', 'y':'./metagenomics/colphy_y.csv', 'x': './metagenomics/colphy_x.csv',\n",
    "  'Met2Img': 'fillup-spb-jet'} ]"
   ]
  },
  {
   "cell_type": "code",
   "execution_count": 4,
   "id": "baef918c-238d-4535-a7a6-57e48b306371",
   "metadata": {},
   "outputs": [
    {
     "data": {
      "text/html": [
       "<div>\n",
       "<style scoped>\n",
       "    .dataframe tbody tr th:only-of-type {\n",
       "        vertical-align: middle;\n",
       "    }\n",
       "\n",
       "    .dataframe tbody tr th {\n",
       "        vertical-align: top;\n",
       "    }\n",
       "\n",
       "    .dataframe thead th {\n",
       "        text-align: right;\n",
       "    }\n",
       "</style>\n",
       "<table border=\"1\" class=\"dataframe\">\n",
       "  <thead>\n",
       "    <tr style=\"text-align: right;\">\n",
       "      <th></th>\n",
       "      <th>path</th>\n",
       "      <th>dataset</th>\n",
       "      <th>y</th>\n",
       "      <th>x</th>\n",
       "      <th>Met2Img</th>\n",
       "    </tr>\n",
       "  </thead>\n",
       "  <tbody>\n",
       "    <tr>\n",
       "      <th>0</th>\n",
       "      <td>./images/metagenomics/cirphy_fill_pix_r0p1.0sp...</td>\n",
       "      <td>Cirrhosis</td>\n",
       "      <td>./metagenomics/cirphy_y.csv</td>\n",
       "      <td>./metagenomics/cirphy_x.csv</td>\n",
       "      <td>fillup-spb-gray</td>\n",
       "    </tr>\n",
       "    <tr>\n",
       "      <th>1</th>\n",
       "      <td>./images/metagenomics/cirphy_fill_pix_r0p1.0sp...</td>\n",
       "      <td>Cirrhosis</td>\n",
       "      <td>./metagenomics/cirphy_y.csv</td>\n",
       "      <td>./metagenomics/cirphy_x.csv</td>\n",
       "      <td>fillup-spb-jet</td>\n",
       "    </tr>\n",
       "    <tr>\n",
       "      <th>2</th>\n",
       "      <td>./images/metagenomics/ibdphy_fill_pix_r0p1.0sp...</td>\n",
       "      <td>IBD</td>\n",
       "      <td>./metagenomics/ibdphy_y.csv</td>\n",
       "      <td>./metagenomics/ibdphy_x.csv</td>\n",
       "      <td>fillup-spb-gray</td>\n",
       "    </tr>\n",
       "  </tbody>\n",
       "</table>\n",
       "</div>"
      ],
      "text/plain": [
       "                                                path    dataset  \\\n",
       "0  ./images/metagenomics/cirphy_fill_pix_r0p1.0sp...  Cirrhosis   \n",
       "1  ./images/metagenomics/cirphy_fill_pix_r0p1.0sp...  Cirrhosis   \n",
       "2  ./images/metagenomics/ibdphy_fill_pix_r0p1.0sp...        IBD   \n",
       "\n",
       "                             y                            x          Met2Img  \n",
       "0  ./metagenomics/cirphy_y.csv  ./metagenomics/cirphy_x.csv  fillup-spb-gray  \n",
       "1  ./metagenomics/cirphy_y.csv  ./metagenomics/cirphy_x.csv   fillup-spb-jet  \n",
       "2  ./metagenomics/ibdphy_y.csv  ./metagenomics/ibdphy_x.csv  fillup-spb-gray  "
      ]
     },
     "execution_count": 4,
     "metadata": {},
     "output_type": "execute_result"
    }
   ],
   "source": [
    "df_img = pd.DataFrame(data_info_list)\n",
    "df_img.head(3)"
   ]
  },
  {
   "cell_type": "code",
   "execution_count": 5,
   "id": "4429983b-28d2-4c3a-94e8-c9aadf34cb2c",
   "metadata": {},
   "outputs": [
    {
     "name": "stderr",
     "output_type": "stream",
     "text": [
      "/home/shenwanxiang/anaconda3/envs/aggmap/lib/python3.7/site-packages/keras/utils/image_utils.py:382: UserWarning: grayscale is deprecated. Please use color_mode = \"grayscale\"\n",
      "  warnings.warn('grayscale is deprecated. Please use '\n"
     ]
    }
   ],
   "source": [
    "\n",
    "for i in range(len(df_img)):\n",
    "    ts = df_img.iloc[i]\n",
    "    if 'gray' in ts.Met2Img:\n",
    "        grayscale = True\n",
    "    else:\n",
    "        grayscale = False\n",
    "        \n",
    "    img_list = glob(ts.path)\n",
    "    df = pd.DataFrame(img_list, columns = ['img_path'])\n",
    "    df['sid'] = df.img_path.apply(lambda x:os.path.basename(x).split('_')[-1].split('.')[0])\n",
    "    df.sid = df.sid.astype(int) + 1\n",
    "    df = df.sort_values('sid')\n",
    "    df = df.set_index('sid')\n",
    "    df['X'] = df.img_path.apply(lambda x:img2array(x, grayscale = grayscale))\n",
    "    df['dataset'] = ts.dataset\n",
    "    df['Met2Img'] = ts.Met2Img\n",
    "    df['x'] = ts.x\n",
    "    df['y'] = ts.y\n",
    "    lb = pd.read_csv(ts.y, index_col=0).x.to_frame(name= 'label')\n",
    "    df = df.join(lb)\n",
    "    \n",
    "    df.to_pickle('./%s/Met2Img_%s_%s.pkl' % (save_dir, ts.dataset, ts.Met2Img))"
   ]
  },
  {
   "cell_type": "code",
   "execution_count": 6,
   "id": "b86ddc9e-29ad-4e9d-9bbd-fabc3265db8a",
   "metadata": {},
   "outputs": [
    {
     "name": "stdout",
     "output_type": "stream",
     "text": [
      "total 9.1M\n",
      "-rw-rw-r-- 1 shenwanxiang shenwanxiang 561K 10月  4 15:53 Met2Img_Cirrhosis_fillup-spb-gray.pkl\n",
      "-rw-rw-r-- 1 shenwanxiang shenwanxiang 1.6M 10月  4 15:53 Met2Img_Cirrhosis_fillup-spb-jet.pkl\n",
      "-rw-rw-r-- 1 shenwanxiang shenwanxiang 271K 10月  4 15:53 Met2Img_CRC_fillup-spb-gray.pkl\n",
      "-rw-rw-r-- 1 shenwanxiang shenwanxiang 771K 10月  4 15:53 Met2Img_CRC_fillup-spb-jet.pkl\n",
      "-rw-rw-r-- 1 shenwanxiang shenwanxiang 227K 10月  4 15:53 Met2Img_IBD_fillup-spb-gray.pkl\n",
      "-rw-rw-r-- 1 shenwanxiang shenwanxiang 643K 10月  4 15:53 Met2Img_IBD_fillup-spb-jet.pkl\n",
      "-rw-rw-r-- 1 shenwanxiang shenwanxiang 520K 10月  4 15:53 Met2Img_Obesity_fillup-spb-gray.pkl\n",
      "-rw-rw-r-- 1 shenwanxiang shenwanxiang 1.5M 10月  4 15:53 Met2Img_Obesity_fillup-spb-jet.pkl\n",
      "-rw-rw-r-- 1 shenwanxiang shenwanxiang 831K 10月  4 15:53 Met2Img_T2D_fillup-spb-gray.pkl\n",
      "-rw-rw-r-- 1 shenwanxiang shenwanxiang 2.4M 10月  4 15:53 Met2Img_T2D_fillup-spb-jet.pkl\n",
      "-rw-rw-r-- 1 shenwanxiang shenwanxiang   72 10月  4 15:51 Untitled.ipynb\n"
     ]
    }
   ],
   "source": [
    "ls -lh Met2Img_AggMapNet_data/"
   ]
  },
  {
   "cell_type": "code",
   "execution_count": null,
   "id": "2fef78c6-2c00-4afd-bc7e-1e8150fdb4d1",
   "metadata": {},
   "outputs": [],
   "source": []
  }
 ],
 "metadata": {
  "kernelspec": {
   "display_name": "Python 3 (ipykernel)",
   "language": "python",
   "name": "python3"
  },
  "language_info": {
   "codemirror_mode": {
    "name": "ipython",
    "version": 3
   },
   "file_extension": ".py",
   "mimetype": "text/x-python",
   "name": "python",
   "nbconvert_exporter": "python",
   "pygments_lexer": "ipython3",
   "version": "3.7.11"
  }
 },
 "nbformat": 4,
 "nbformat_minor": 5
}
