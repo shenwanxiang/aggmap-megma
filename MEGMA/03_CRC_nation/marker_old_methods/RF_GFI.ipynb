{
 "cells": [
  {
   "cell_type": "code",
   "execution_count": 12,
   "id": "c6bca254-1ddd-4258-9d13-bc23636dd25f",
   "metadata": {},
   "outputs": [],
   "source": [
    "import warnings, os\n",
    "warnings.filterwarnings(\"ignore\")\n",
    "\n",
    "\n",
    "import pandas as pd\n",
    "import numpy as np\n",
    "\n",
    "from sklearn.model_selection import KFold, StratifiedKFold\n",
    "from sklearn.metrics import confusion_matrix, precision_recall_curve, roc_auc_score\n",
    "from sklearn.metrics import auc as calculate_auc\n",
    "\n",
    "import matplotlib.pyplot as plt\n",
    "import seaborn as sns\n",
    "\n",
    "from aggmap import AggMap, AggMapNet, loadmap\n",
    "\n",
    "\n",
    "from sklearn import linear_model\n",
    "from sklearn.metrics import accuracy_score, roc_auc_score,roc_curve\n",
    "from sklearn.ensemble import RandomForestClassifier\n",
    "from sklearn.model_selection import RandomizedSearchCV\n",
    "\n",
    "sns.set(style='white',  font='sans-serif', font_scale=2)  \n",
    "\n",
    "\n",
    "import matplotlib.pyplot as plt\n",
    "import seaborn as sns\n",
    "\n",
    "from matplotlib.ticker import FormatStrFormatter\n",
    "#gfc = gfc.rename(columns = {'AUS':\"AUS\", 'CHI':'CHN', 'FRA':'FRA', 'GER':'DEU', 'USA':'USA'})\n",
    "\n",
    "sns.set(style='white',  font='sans-serif', font_scale=2)  \n",
    "\n",
    "\n",
    "def tune_RF_params(X_train, y_train, random_state):\n",
    "    n_estimators = [5, 20, 50, 100,200, 300] # number of trees in the random forest\n",
    "    max_depth = [int(x) for x in np.linspace(10, 120, num = 12)] # maximum number of levels allowed in each decision tree\n",
    "    min_samples_split = [2, 6, 10] # minimum sample number to split a node\n",
    "    min_samples_leaf = [1, 3, 4] # minimum sample number that can be stored in a leaf node\n",
    "    max_features = ['auto', 'sqrt'] # number of features in consideration at every split\n",
    "    bootstrap = [True, False] # method used to sample data points\n",
    "\n",
    "    random_grid = {'n_estimators': n_estimators,\n",
    "                   'max_depth': max_depth,\n",
    "                   'max_features':max_features,\n",
    "                   'bootstrap':bootstrap,\n",
    "                   'min_samples_split': min_samples_split,\n",
    "                   'min_samples_leaf': min_samples_leaf}\n",
    "\n",
    "    rf = RandomForestClassifier(random_state=random_state)\n",
    "    rf_random = RandomizedSearchCV(estimator = rf,param_distributions = random_grid, random_state=random_state, \n",
    "                   n_iter = 100, cv = 10, verbose=0, n_jobs = -1)\n",
    "    rf_random.fit(X_train, y_train)\n",
    "    best_params = rf_random.best_params_\n",
    "    return best_params\n",
    "\n",
    "\n",
    "def prc_auc_score(y_true, y_score):\n",
    "    precision, recall, threshold  = precision_recall_curve(y_true, y_score) #PRC_AUC\n",
    "    auc = calculate_auc(recall, precision)\n",
    "    return auc\n",
    "\n",
    "def get_non_diag_mean(df):\n",
    "    v = df.values.copy()\n",
    "    np.fill_diagonal(v, np.nan)\n",
    "    mean =  pd.DataFrame(v, columns = df.columns, index = df.index).mean(axis=1).round(2)\n",
    "    std = pd.DataFrame(v, columns = df.columns, index = df.index).std(axis=1).round(2)\n",
    "    return mean.mean()"
   ]
  },
  {
   "cell_type": "code",
   "execution_count": null,
   "id": "90adf824-283c-49b1-908f-18966b330c90",
   "metadata": {},
   "outputs": [],
   "source": []
  },
  {
   "cell_type": "code",
   "execution_count": 13,
   "id": "45d21acf-0829-4eec-9463-fd89857626ed",
   "metadata": {},
   "outputs": [
    {
     "name": "stderr",
     "output_type": "stream",
     "text": [
      "100%|#####################################################################################################################################| 575/575 [00:04<00:00, 139.34it/s]\n"
     ]
    }
   ],
   "source": [
    "dfx = pd.read_excel('../CRC.xlsx', sheet_name='data')\n",
    "dfy = pd.read_excel('../CRC.xlsx', sheet_name='sample_info')\n",
    "df_imp = pd.read_excel('../results/feature_importance.xlsx', index_col=0)\n",
    "mp = loadmap('../model/aggmap.mp')\n",
    "\n",
    "\n",
    "dfx = dfx[dfx.columns[1:]]\n",
    "dfx = np.log(dfx + 1e-8)\n",
    "dfy['Country'] = dfy.Country.map({'AUS':\"AUS\", 'CHI':'CHN', 'FRA':'FRA', 'GER':'DEU', 'USA':'USA'})\n",
    "\n",
    "X_3D = mp.batch_transform(dfx.values, scale_method= 'standard')\n",
    "X_rf = mp.transform_mpX_to_df(X_3D)"
   ]
  },
  {
   "cell_type": "code",
   "execution_count": 14,
   "id": "36ab5b5d-e1b8-414d-9634-47200e74e4f3",
   "metadata": {},
   "outputs": [],
   "source": [
    "y = pd.get_dummies(dfy['Group'])\n",
    "Y = y.CRC.values"
   ]
  },
  {
   "cell_type": "code",
   "execution_count": 15,
   "id": "f0f3c593-a284-405f-a1fe-f25050aac4a8",
   "metadata": {},
   "outputs": [],
   "source": [
    "country_idx = dfy.groupby(['Country']).apply(lambda x:x.index.tolist())\n",
    "country_names = country_idx.index.tolist()"
   ]
  },
  {
   "cell_type": "code",
   "execution_count": null,
   "id": "35119c27-91d4-4142-b279-61ed3007e677",
   "metadata": {},
   "outputs": [],
   "source": []
  },
  {
   "cell_type": "code",
   "execution_count": 16,
   "id": "059d14d3-9d30-4221-a4cf-27221d8e75d1",
   "metadata": {},
   "outputs": [
    {
     "name": "stdout",
     "output_type": "stream",
     "text": [
      "{'n_estimators': 100, 'min_samples_split': 2, 'min_samples_leaf': 1, 'max_features': 'sqrt', 'max_depth': 120, 'bootstrap': False}\n",
      "{'n_estimators': 300, 'min_samples_split': 6, 'min_samples_leaf': 1, 'max_features': 'auto', 'max_depth': 40, 'bootstrap': False}\n",
      "{'n_estimators': 100, 'min_samples_split': 2, 'min_samples_leaf': 1, 'max_features': 'sqrt', 'max_depth': 80, 'bootstrap': True}\n",
      "{'n_estimators': 20, 'min_samples_split': 2, 'min_samples_leaf': 1, 'max_features': 'auto', 'max_depth': 100, 'bootstrap': False}\n",
      "{'n_estimators': 300, 'min_samples_split': 2, 'min_samples_leaf': 1, 'max_features': 'sqrt', 'max_depth': 40, 'bootstrap': True}\n"
     ]
    }
   ],
   "source": [
    "#study to study transfer\n",
    "\n",
    "all_df = []\n",
    "imps = []\n",
    "top = 849\n",
    "\n",
    "X = X_rf[mp.flist].values\n",
    "\n",
    "run_all = []\n",
    "for train_country in country_names:\n",
    "\n",
    "    train_idx = country_idx.loc[train_country]\n",
    "    trainX = X[train_idx]\n",
    "    trainY = Y[train_idx]\n",
    "    \n",
    "    random_state = 123\n",
    "    \n",
    "    best_params = tune_RF_params(trainX, trainY, random_state = random_state)\n",
    "    print(best_params)\n",
    " \n",
    "    clf = RandomForestClassifier(**best_params, random_state = random_state)\n",
    "\n",
    "    clf.fit(trainX, trainY)\n",
    "    for test_country in country_names:\n",
    "        test_idx = country_idx.loc[test_country]\n",
    "        testY = Y[test_idx]\n",
    "        testX = X[test_idx]\n",
    "        y_true = testY\n",
    "        y_pred = clf.predict(testX)\n",
    "        y_score = clf.predict_proba(testX)[:, 1]\n",
    "        tn, fp, fn, tp = confusion_matrix(y_true, y_pred).ravel()\n",
    "        acc = (tp + tn) / sum([tn, fp, fn, tp])\n",
    "        sensitivity = tp / sum([tp, fn])\n",
    "        specificity = tn / sum([tn, fp])\n",
    "        prc_auc = prc_auc_score(y_true, y_score)\n",
    "        roc_auc = roc_auc_score(y_true, y_score)\n",
    "        precision = tp / sum([tp, fp])\n",
    "        recall =  tp / sum([tp, fn]) #equals to sensitivity\n",
    "        f1 = precision*recall*2/(precision + recall)\n",
    "        res = {'Top_features': top, \n",
    "               'train_country': train_country,\n",
    "               'test_country':test_country,\n",
    "               'accuracy':acc, \n",
    "               'prc_auc':prc_auc, \n",
    "               'roc_auc':roc_auc,\n",
    "               'sensitivity': sensitivity, \n",
    "               'specificity': specificity,\n",
    "               'precision':precision,\n",
    "               'recall':recall,\n",
    "               'f1': f1\n",
    "              }\n",
    "        run_all.append(res)\n",
    "\n",
    "    imps.append(pd.DataFrame(clf.feature_importances_, index=mp.flist, columns = [train_country])) \n",
    "    \n",
    "dfres = pd.DataFrame(run_all)\n",
    "dfres = dfres[dfres.train_country != dfres.test_country]\n",
    "\n",
    "average = dfres.mean().round(3).to_dict()\n",
    "\n",
    "dfres = dfres.set_index(['train_country', 'test_country'])"
   ]
  },
  {
   "cell_type": "code",
   "execution_count": 17,
   "id": "c7dc9346-c8ff-4ac5-9ff3-b2328858be5b",
   "metadata": {},
   "outputs": [],
   "source": [
    "dfres.to_csv('./rf_849_performance.csv')"
   ]
  },
  {
   "cell_type": "code",
   "execution_count": 18,
   "id": "33f3f8e7-ef00-4952-938f-289dc0e9f0cd",
   "metadata": {},
   "outputs": [],
   "source": [
    "rfp = dfres.reset_index()\n",
    "rfp['Cross'] = rfp.train_country + '->' + rfp.test_country\n",
    "rfp['Top_features'] = 849\n",
    "rfp['model'] = 'RF'\n",
    "rfp = rfp[['Top_features', 'Cross', 'roc_auc', 'model']]\n",
    "rfp.to_csv('./rf.csv')"
   ]
  },
  {
   "cell_type": "code",
   "execution_count": 19,
   "id": "c98ec21a-212c-421b-81c8-4f4b468cc3e5",
   "metadata": {},
   "outputs": [],
   "source": [
    "df_imp_rf = pd.concat(imps,axis=1)\n",
    "df_imp_rf.to_csv('./rf_feature_imp.csv')"
   ]
  },
  {
   "cell_type": "code",
   "execution_count": 20,
   "id": "2666f1cc-6d20-4fd8-aec9-5f3ceb52ffeb",
   "metadata": {},
   "outputs": [
    {
     "data": {
      "text/plain": [
       "0.7564142366623237"
      ]
     },
     "execution_count": 20,
     "metadata": {},
     "output_type": "execute_result"
    }
   ],
   "source": [
    "rfp.roc_auc.mean()"
   ]
  },
  {
   "cell_type": "code",
   "execution_count": 21,
   "id": "7d73040f-2073-46c5-ae5e-1621e3cc89f6",
   "metadata": {},
   "outputs": [],
   "source": [
    "rfi = pd.DataFrame(index = mp.feature_names_reshape).join(df_imp_rf)\n",
    "rfi = rfi.fillna(0)"
   ]
  },
  {
   "cell_type": "code",
   "execution_count": null,
   "id": "c826bcbb-b6e0-4ce0-9dae-a40c0abc5eed",
   "metadata": {},
   "outputs": [],
   "source": []
  },
  {
   "cell_type": "code",
   "execution_count": null,
   "id": "4557e45e-4051-42d1-915e-e03950781eff",
   "metadata": {},
   "outputs": [],
   "source": []
  },
  {
   "cell_type": "code",
   "execution_count": 23,
   "id": "1486330c-6e09-43e6-9a67-540a71db2ef9",
   "metadata": {},
   "outputs": [
    {
     "data": {
      "image/png": "[encoded data removed]",
      "text/plain": [
       "<Figure size 468x432 with 2 Axes>"
      ]
     },
     "metadata": {},
     "output_type": "display_data"
    },
    {
     "data": {
      "image/png": "[encoded data removed]",
      "text/plain": [
       "<Figure size 468x432 with 2 Axes>"
      ]
     },
     "metadata": {},
     "output_type": "display_data"
    },
    {
     "data": {
      "image/png": "[encoded data removed]",
      "text/plain": [
       "<Figure size 468x432 with 2 Axes>"
      ]
     },
     "metadata": {},
     "output_type": "display_data"
    },
    {
     "data": {
      "image/png": "[encoded data removed]",
      "text/plain": [
       "<Figure size 468x432 with 2 Axes>"
      ]
     },
     "metadata": {},
     "output_type": "display_data"
    },
    {
     "data": {
      "image/png": "[encoded data removed]",
      "text/plain": [
       "<Figure size 468x432 with 2 Axes>"
      ]
     },
     "metadata": {},
     "output_type": "display_data"
    }
   ],
   "source": [
    "for country in  rfi.columns:\n",
    "\n",
    "    fig, ax  = plt.subplots(1, 1, figsize=(6.5, 6))\n",
    "\n",
    "    imp = rfi[country].values\n",
    "    \n",
    "    sns.heatmap(imp.reshape(*mp.fmap_shape),  \n",
    "                cmap = 'rainbow', alpha = 0.8, ax =ax, yticklabels=0, xticklabels=0, \n",
    "                vmax=0.02, vmin=-0.00001,  #norm=Normalize(imp.min(),imp.max()),\n",
    "                cbar_kws = {'fraction':0.07, 'shrink':0.6, \n",
    "                            'aspect': 20, 'pad':0.02, #\"ticks\":[1, 1.01],\n",
    "                            #'orientation':'horizontal'\n",
    "                           }\n",
    "               )\n",
    "\n",
    "    ax.set_title(country)\n",
    "    \n",
    "    cbar = ax.collections[0].colorbar\n",
    "    \n",
    "    cbar.ax.set_title('FI')\n",
    "    cbar.ax.locator_params(nbins=3)\n",
    "    \n",
    "    cbar.ax.yaxis.set_major_formatter(FormatStrFormatter(\"%.2f\"))\n",
    "    \n",
    "    plt.subplots_adjust(wspace = 0.18)\n",
    "    \n",
    "    plt.savefig('./fig/RF_%s.pdf' % country, dpi = 400, bbox_inches=\"tight\")"
   ]
  },
  {
   "cell_type": "code",
   "execution_count": 24,
   "id": "b3bece67-f6ec-4e28-bffd-346301ecf7fb",
   "metadata": {},
   "outputs": [],
   "source": [
    "rfi.to_csv('./fig/04_rfi.csv')"
   ]
  },
  {
   "cell_type": "code",
   "execution_count": null,
   "id": "7a502fc7-13ca-4292-ad96-2255ef44a19a",
   "metadata": {},
   "outputs": [],
   "source": []
  },
  {
   "cell_type": "code",
   "execution_count": null,
   "id": "5ffb4dcf-62b6-420e-b916-de92ae330ba5",
   "metadata": {},
   "outputs": [],
   "source": []
  }
 ],
 "metadata": {
  "kernelspec": {
   "display_name": "Python 3 (ipykernel)",
   "language": "python",
   "name": "python3"
  },
  "language_info": {
   "codemirror_mode": {
    "name": "ipython",
    "version": 3
   },
   "file_extension": ".py",
   "mimetype": "text/x-python",
   "name": "python",
   "nbconvert_exporter": "python",
   "pygments_lexer": "ipython3",
   "version": "3.7.11"
  }
 },
 "nbformat": 4,
 "nbformat_minor": 5
}
