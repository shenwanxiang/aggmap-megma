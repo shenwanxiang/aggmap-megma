{
 "cells": [
  {
   "cell_type": "code",
   "execution_count": 1,
   "metadata": {},
   "outputs": [
    {
     "name": "stderr",
     "output_type": "stream",
     "text": [
      "2022-10-07 13:25:05.018963: I tensorflow/core/util/util.cc:169] oneDNN custom operations are on. You may see slightly different numerical results due to floating-point round-off errors from different computation orders. To turn them off, set the environment variable `TF_ENABLE_ONEDNN_OPTS=0`.\n"
     ]
    }
   ],
   "source": [
    "import warnings, os\n",
    "warnings.filterwarnings(\"ignore\")\n",
    "\n",
    "\n",
    "import pandas as pd\n",
    "import numpy as np\n",
    "\n",
    "from sklearn.model_selection import KFold, StratifiedKFold\n",
    "from sklearn.metrics import confusion_matrix, precision_recall_curve, roc_auc_score\n",
    "from sklearn.metrics import auc as calculate_auc\n",
    "\n",
    "import matplotlib.pyplot as plt\n",
    "import seaborn as sns\n",
    "\n",
    "from aggmap import AggMap, AggMapNet\n",
    "\n",
    "np.random.seed(888) #just for reaptable results\n",
    "\n",
    "def prc_auc_score(y_true, y_score):\n",
    "    precision, recall, threshold  = precision_recall_curve(y_true, y_score) #PRC_AUC\n",
    "    auc = calculate_auc(recall, precision)\n",
    "    return auc"
   ]
  },
  {
   "cell_type": "code",
   "execution_count": 2,
   "metadata": {},
   "outputs": [
    {
     "name": "stdout",
     "output_type": "stream",
     "text": [
      "2022-10-07 13:25:08,143 - \u001b[32mINFO\u001b[0m - [bidd-aggmap]\u001b[0m - Calculating distance ...\u001b[0m\n",
      "2022-10-07 13:25:08,160 - \u001b[32mINFO\u001b[0m - [bidd-aggmap]\u001b[0m - the number of process is 16\u001b[0m\n"
     ]
    },
    {
     "name": "stderr",
     "output_type": "stream",
     "text": [
      "100%|#############################################################################################################################| 359976/359976 [00:29<00:00, 12225.17it/s]\n",
      "100%|###########################################################################################################################| 359976/359976 [00:00<00:00, 5041130.32it/s]\n",
      "100%|####################################################################################################################################| 849/849 [00:00<00:00, 5806.55it/s]\n"
     ]
    }
   ],
   "source": [
    "dfx = pd.read_excel('../CRC.xlsx', sheet_name='data')\n",
    "dfx = dfx[dfx.columns[1:]]\n",
    "dfx = np.log(dfx + 1e-8)\n",
    "\n",
    "feature_groups_df = pd.read_excel('../CRC.xlsx', sheet_name='feature_info')\n",
    "feature_group_list = feature_groups_df.Group.tolist()\n",
    "\n",
    "dfy_all = pd.read_excel('../CRC.xlsx', sheet_name='sample_info')\n",
    "dfy = pd.get_dummies(dfy_all['Group'])\n",
    "\n",
    "X = dfx.values.astype(float)\n",
    "Y = dfy.values.astype(float)\n",
    "mp = AggMap(dfx, metric = 'correlation')"
   ]
  },
  {
   "cell_type": "code",
   "execution_count": 3,
   "metadata": {
    "tags": []
   },
   "outputs": [
    {
     "name": "stdout",
     "output_type": "stream",
     "text": [
      "2022-10-07 13:25:37,998 - \u001b[32mINFO\u001b[0m - [bidd-aggmap]\u001b[0m - applying hierarchical clustering to obtain group information ...\u001b[0m\n",
      "2022-10-07 13:25:38,016 - \u001b[32mINFO\u001b[0m - [bidd-aggmap]\u001b[0m - Applying grid assignment of feature points, this may take several minutes(1~30 min)\u001b[0m\n",
      "2022-10-07 13:25:39,020 - \u001b[32mINFO\u001b[0m - [bidd-aggmap]\u001b[0m - Finished\u001b[0m\n"
     ]
    },
    {
     "name": "stderr",
     "output_type": "stream",
     "text": [
      "100%|######################################################################################################################################| 109/109 [00:01<00:00, 62.47it/s]\n",
      "2022-10-07 13:25:40.871017: I tensorflow/stream_executor/cuda/cuda_gpu_executor.cc:975] successful NUMA node read from SysFS had negative value (-1), but there must be at least one NUMA node, so returning NUMA node zero\n",
      "2022-10-07 13:25:40.888662: I tensorflow/stream_executor/cuda/cuda_gpu_executor.cc:975] successful NUMA node read from SysFS had negative value (-1), but there must be at least one NUMA node, so returning NUMA node zero\n",
      "2022-10-07 13:25:40.888753: I tensorflow/stream_executor/cuda/cuda_gpu_executor.cc:975] successful NUMA node read from SysFS had negative value (-1), but there must be at least one NUMA node, so returning NUMA node zero\n"
     ]
    },
    {
     "name": "stdout",
     "output_type": "stream",
     "text": [
      "MultiClassEstimator(batch_norm=False, batch_size=1, conv1_kernel_size=5,\n",
      "                    dense_avf='relu', dense_layers=[128], dropout=0.0,\n",
      "                    epochs=30, gpuid='1', last_avf='softmax',\n",
      "                    loss='categorical_crossentropy', lr=0.0001, metric='ACC',\n",
      "                    monitor='val_loss', n_inception=2,\n",
      "                    name='AggMap MultiClass Estimator', patience=10000,\n",
      "                    random_state=32, verbose=0)\n"
     ]
    },
    {
     "name": "stderr",
     "output_type": "stream",
     "text": [
      "2022-10-07 13:25:40.889082: I tensorflow/core/platform/cpu_feature_guard.cc:193] This TensorFlow binary is optimized with oneAPI Deep Neural Network Library (oneDNN) to use the following CPU instructions in performance-critical operations:  AVX2 AVX_VNNI FMA\n",
      "To enable them in other operations, rebuild TensorFlow with the appropriate compiler flags.\n",
      "2022-10-07 13:25:40.890749: I tensorflow/stream_executor/cuda/cuda_gpu_executor.cc:975] successful NUMA node read from SysFS had negative value (-1), but there must be at least one NUMA node, so returning NUMA node zero\n",
      "2022-10-07 13:25:40.890912: I tensorflow/stream_executor/cuda/cuda_gpu_executor.cc:975] successful NUMA node read from SysFS had negative value (-1), but there must be at least one NUMA node, so returning NUMA node zero\n",
      "2022-10-07 13:25:40.890974: I tensorflow/stream_executor/cuda/cuda_gpu_executor.cc:975] successful NUMA node read from SysFS had negative value (-1), but there must be at least one NUMA node, so returning NUMA node zero\n",
      "2022-10-07 13:25:41.404187: I tensorflow/stream_executor/cuda/cuda_gpu_executor.cc:975] successful NUMA node read from SysFS had negative value (-1), but there must be at least one NUMA node, so returning NUMA node zero\n",
      "2022-10-07 13:25:41.404310: I tensorflow/stream_executor/cuda/cuda_gpu_executor.cc:975] successful NUMA node read from SysFS had negative value (-1), but there must be at least one NUMA node, so returning NUMA node zero\n",
      "2022-10-07 13:25:41.404375: I tensorflow/stream_executor/cuda/cuda_gpu_executor.cc:975] successful NUMA node read from SysFS had negative value (-1), but there must be at least one NUMA node, so returning NUMA node zero\n",
      "2022-10-07 13:25:41.404437: I tensorflow/core/common_runtime/gpu/gpu_device.cc:1532] Created device /job:localhost/replica:0/task:0/device:GPU:0 with 10091 MB memory:  -> device: 0, name: NVIDIA GeForce RTX 3080 Ti, pci bus id: 0000:04:00.0, compute capability: 8.6\n",
      "2022-10-07 13:25:42.753874: I tensorflow/stream_executor/cuda/cuda_dnn.cc:384] Loaded cuDNN version 8302\n",
      "2022-10-07 13:25:43.973051: I tensorflow/core/platform/default/subprocess.cc:304] Start cannot spawn child process: No such file or directory\n",
      "2022-10-07 13:25:44.038369: I tensorflow/stream_executor/cuda/cuda_blas.cc:1786] TensorFloat-32 will be used for the matrix multiplication. This will only be logged once.\n",
      "100%|####################################################################################################################################| 109/109 [00:00<00:00, 1976.36it/s]\n"
     ]
    },
    {
     "name": "stdout",
     "output_type": "stream",
     "text": [
      "\n",
      " input train and test X shape is (109, 30, 29, 5), (109, 30, 29, 5) \n"
     ]
    },
    {
     "name": "stderr",
     "output_type": "stream",
     "text": [
      "100%|####################################################################################################################################| 128/128 [00:00<00:00, 2129.58it/s]\n"
     ]
    },
    {
     "name": "stdout",
     "output_type": "stream",
     "text": [
      "\n",
      " input train and test X shape is (109, 30, 29, 5), (128, 30, 29, 5) \n"
     ]
    },
    {
     "name": "stderr",
     "output_type": "stream",
     "text": [
      "100%|####################################################################################################################################| 114/114 [00:00<00:00, 2272.68it/s]\n"
     ]
    },
    {
     "name": "stdout",
     "output_type": "stream",
     "text": [
      "\n",
      " input train and test X shape is (109, 30, 29, 5), (114, 30, 29, 5) \n"
     ]
    },
    {
     "name": "stderr",
     "output_type": "stream",
     "text": [
      "100%|####################################################################################################################################| 120/120 [00:00<00:00, 1952.34it/s]\n"
     ]
    },
    {
     "name": "stdout",
     "output_type": "stream",
     "text": [
      "\n",
      " input train and test X shape is (109, 30, 29, 5), (120, 30, 29, 5) \n"
     ]
    },
    {
     "name": "stderr",
     "output_type": "stream",
     "text": [
      "100%|####################################################################################################################################| 104/104 [00:00<00:00, 2383.43it/s]\n"
     ]
    },
    {
     "name": "stdout",
     "output_type": "stream",
     "text": [
      "\n",
      " input train and test X shape is (109, 30, 29, 5), (104, 30, 29, 5) \n"
     ]
    },
    {
     "name": "stderr",
     "output_type": "stream",
     "text": [
      "100%|####################################################################################################################################| 128/128 [00:00<00:00, 2243.95it/s]\n"
     ]
    },
    {
     "name": "stdout",
     "output_type": "stream",
     "text": [
      "MultiClassEstimator(batch_norm=False, batch_size=1, conv1_kernel_size=5,\n",
      "                    dense_avf='relu', dense_layers=[128], dropout=0.0,\n",
      "                    epochs=30, gpuid='1', last_avf='softmax',\n",
      "                    loss='categorical_crossentropy', lr=0.0001, metric='ACC',\n",
      "                    monitor='val_loss', n_inception=2,\n",
      "                    name='AggMap MultiClass Estimator', patience=10000,\n",
      "                    random_state=32, verbose=0)\n"
     ]
    },
    {
     "name": "stderr",
     "output_type": "stream",
     "text": [
      "100%|####################################################################################################################################| 109/109 [00:00<00:00, 2496.26it/s]\n"
     ]
    },
    {
     "name": "stdout",
     "output_type": "stream",
     "text": [
      "\n",
      " input train and test X shape is (128, 30, 29, 5), (109, 30, 29, 5) \n"
     ]
    },
    {
     "name": "stderr",
     "output_type": "stream",
     "text": [
      "100%|####################################################################################################################################| 128/128 [00:00<00:00, 2519.33it/s]\n"
     ]
    },
    {
     "name": "stdout",
     "output_type": "stream",
     "text": [
      "\n",
      " input train and test X shape is (128, 30, 29, 5), (128, 30, 29, 5) \n"
     ]
    },
    {
     "name": "stderr",
     "output_type": "stream",
     "text": [
      "100%|####################################################################################################################################| 114/114 [00:00<00:00, 2547.04it/s]\n"
     ]
    },
    {
     "name": "stdout",
     "output_type": "stream",
     "text": [
      "\n",
      " input train and test X shape is (128, 30, 29, 5), (114, 30, 29, 5) \n"
     ]
    },
    {
     "name": "stderr",
     "output_type": "stream",
     "text": [
      "100%|####################################################################################################################################| 120/120 [00:00<00:00, 1942.10it/s]\n"
     ]
    },
    {
     "name": "stdout",
     "output_type": "stream",
     "text": [
      "\n",
      " input train and test X shape is (128, 30, 29, 5), (120, 30, 29, 5) \n"
     ]
    },
    {
     "name": "stderr",
     "output_type": "stream",
     "text": [
      "100%|####################################################################################################################################| 104/104 [00:00<00:00, 2379.88it/s]\n"
     ]
    },
    {
     "name": "stdout",
     "output_type": "stream",
     "text": [
      "\n",
      " input train and test X shape is (128, 30, 29, 5), (104, 30, 29, 5) \n"
     ]
    },
    {
     "name": "stderr",
     "output_type": "stream",
     "text": [
      "100%|####################################################################################################################################| 114/114 [00:00<00:00, 1832.16it/s]\n"
     ]
    },
    {
     "name": "stdout",
     "output_type": "stream",
     "text": [
      "MultiClassEstimator(batch_norm=False, batch_size=1, conv1_kernel_size=5,\n",
      "                    dense_avf='relu', dense_layers=[128], dropout=0.0,\n",
      "                    epochs=30, gpuid='1', last_avf='softmax',\n",
      "                    loss='categorical_crossentropy', lr=0.0001, metric='ACC',\n",
      "                    monitor='val_loss', n_inception=2,\n",
      "                    name='AggMap MultiClass Estimator', patience=10000,\n",
      "                    random_state=32, verbose=0)\n"
     ]
    },
    {
     "name": "stderr",
     "output_type": "stream",
     "text": [
      "100%|####################################################################################################################################| 109/109 [00:00<00:00, 1449.09it/s]\n"
     ]
    },
    {
     "name": "stdout",
     "output_type": "stream",
     "text": [
      "\n",
      " input train and test X shape is (114, 30, 29, 5), (109, 30, 29, 5) \n"
     ]
    },
    {
     "name": "stderr",
     "output_type": "stream",
     "text": [
      "100%|####################################################################################################################################| 128/128 [00:00<00:00, 2364.18it/s]\n"
     ]
    },
    {
     "name": "stdout",
     "output_type": "stream",
     "text": [
      "\n",
      " input train and test X shape is (114, 30, 29, 5), (128, 30, 29, 5) \n"
     ]
    },
    {
     "name": "stderr",
     "output_type": "stream",
     "text": [
      "100%|####################################################################################################################################| 114/114 [00:00<00:00, 2619.54it/s]\n"
     ]
    },
    {
     "name": "stdout",
     "output_type": "stream",
     "text": [
      "\n",
      " input train and test X shape is (114, 30, 29, 5), (114, 30, 29, 5) \n"
     ]
    },
    {
     "name": "stderr",
     "output_type": "stream",
     "text": [
      "100%|####################################################################################################################################| 120/120 [00:00<00:00, 1834.32it/s]\n"
     ]
    },
    {
     "name": "stdout",
     "output_type": "stream",
     "text": [
      "\n",
      " input train and test X shape is (114, 30, 29, 5), (120, 30, 29, 5) \n"
     ]
    },
    {
     "name": "stderr",
     "output_type": "stream",
     "text": [
      "100%|####################################################################################################################################| 104/104 [00:00<00:00, 2208.44it/s]\n"
     ]
    },
    {
     "name": "stdout",
     "output_type": "stream",
     "text": [
      "\n",
      " input train and test X shape is (114, 30, 29, 5), (104, 30, 29, 5) \n"
     ]
    },
    {
     "name": "stderr",
     "output_type": "stream",
     "text": [
      "100%|####################################################################################################################################| 120/120 [00:00<00:00, 2300.90it/s]\n"
     ]
    },
    {
     "name": "stdout",
     "output_type": "stream",
     "text": [
      "MultiClassEstimator(batch_norm=False, batch_size=1, conv1_kernel_size=5,\n",
      "                    dense_avf='relu', dense_layers=[128], dropout=0.0,\n",
      "                    epochs=30, gpuid='1', last_avf='softmax',\n",
      "                    loss='categorical_crossentropy', lr=0.0001, metric='ACC',\n",
      "                    monitor='val_loss', n_inception=2,\n",
      "                    name='AggMap MultiClass Estimator', patience=10000,\n",
      "                    random_state=32, verbose=0)\n"
     ]
    },
    {
     "name": "stderr",
     "output_type": "stream",
     "text": [
      "100%|####################################################################################################################################| 109/109 [00:00<00:00, 1582.12it/s]\n"
     ]
    },
    {
     "name": "stdout",
     "output_type": "stream",
     "text": [
      "\n",
      " input train and test X shape is (120, 30, 29, 5), (109, 30, 29, 5) \n"
     ]
    },
    {
     "name": "stderr",
     "output_type": "stream",
     "text": [
      "100%|####################################################################################################################################| 128/128 [00:00<00:00, 1923.99it/s]\n"
     ]
    },
    {
     "name": "stdout",
     "output_type": "stream",
     "text": [
      "\n",
      " input train and test X shape is (120, 30, 29, 5), (128, 30, 29, 5) \n"
     ]
    },
    {
     "name": "stderr",
     "output_type": "stream",
     "text": [
      "100%|####################################################################################################################################| 114/114 [00:00<00:00, 1773.68it/s]\n"
     ]
    },
    {
     "name": "stdout",
     "output_type": "stream",
     "text": [
      "\n",
      " input train and test X shape is (120, 30, 29, 5), (114, 30, 29, 5) \n"
     ]
    },
    {
     "name": "stderr",
     "output_type": "stream",
     "text": [
      "100%|####################################################################################################################################| 120/120 [00:00<00:00, 1939.61it/s]\n"
     ]
    },
    {
     "name": "stdout",
     "output_type": "stream",
     "text": [
      "\n",
      " input train and test X shape is (120, 30, 29, 5), (120, 30, 29, 5) \n"
     ]
    },
    {
     "name": "stderr",
     "output_type": "stream",
     "text": [
      "100%|####################################################################################################################################| 104/104 [00:00<00:00, 2368.12it/s]\n"
     ]
    },
    {
     "name": "stdout",
     "output_type": "stream",
     "text": [
      "\n",
      " input train and test X shape is (120, 30, 29, 5), (104, 30, 29, 5) \n"
     ]
    },
    {
     "name": "stderr",
     "output_type": "stream",
     "text": [
      "100%|####################################################################################################################################| 104/104 [00:00<00:00, 2388.43it/s]\n"
     ]
    },
    {
     "name": "stdout",
     "output_type": "stream",
     "text": [
      "MultiClassEstimator(batch_norm=False, batch_size=1, conv1_kernel_size=5,\n",
      "                    dense_avf='relu', dense_layers=[128], dropout=0.0,\n",
      "                    epochs=30, gpuid='1', last_avf='softmax',\n",
      "                    loss='categorical_crossentropy', lr=0.0001, metric='ACC',\n",
      "                    monitor='val_loss', n_inception=2,\n",
      "                    name='AggMap MultiClass Estimator', patience=10000,\n",
      "                    random_state=32, verbose=0)\n"
     ]
    },
    {
     "name": "stderr",
     "output_type": "stream",
     "text": [
      "100%|####################################################################################################################################| 109/109 [00:00<00:00, 2352.06it/s]\n"
     ]
    },
    {
     "name": "stdout",
     "output_type": "stream",
     "text": [
      "\n",
      " input train and test X shape is (104, 30, 29, 5), (109, 30, 29, 5) \n"
     ]
    },
    {
     "name": "stderr",
     "output_type": "stream",
     "text": [
      "100%|####################################################################################################################################| 128/128 [00:00<00:00, 2535.22it/s]\n"
     ]
    },
    {
     "name": "stdout",
     "output_type": "stream",
     "text": [
      "\n",
      " input train and test X shape is (104, 30, 29, 5), (128, 30, 29, 5) \n"
     ]
    },
    {
     "name": "stderr",
     "output_type": "stream",
     "text": [
      "100%|####################################################################################################################################| 114/114 [00:00<00:00, 2581.93it/s]\n"
     ]
    },
    {
     "name": "stdout",
     "output_type": "stream",
     "text": [
      "\n",
      " input train and test X shape is (104, 30, 29, 5), (114, 30, 29, 5) \n"
     ]
    },
    {
     "name": "stderr",
     "output_type": "stream",
     "text": [
      "100%|####################################################################################################################################| 120/120 [00:00<00:00, 1332.09it/s]\n"
     ]
    },
    {
     "name": "stdout",
     "output_type": "stream",
     "text": [
      "\n",
      " input train and test X shape is (104, 30, 29, 5), (120, 30, 29, 5) \n"
     ]
    },
    {
     "name": "stderr",
     "output_type": "stream",
     "text": [
      "100%|####################################################################################################################################| 104/104 [00:00<00:00, 2359.32it/s]\n"
     ]
    },
    {
     "name": "stdout",
     "output_type": "stream",
     "text": [
      "\n",
      " input train and test X shape is (104, 30, 29, 5), (104, 30, 29, 5) \n",
      "2022-10-07 13:29:06,733 - \u001b[32mINFO\u001b[0m - [bidd-aggmap]\u001b[0m - applying hierarchical clustering to obtain group information ...\u001b[0m\n",
      "2022-10-07 13:29:12,348 - \u001b[32mINFO\u001b[0m - [bidd-aggmap]\u001b[0m - Applying grid assignment of feature points, this may take several minutes(1~30 min)\u001b[0m\n",
      "2022-10-07 13:29:13,419 - \u001b[32mINFO\u001b[0m - [bidd-aggmap]\u001b[0m - Finished\u001b[0m\n"
     ]
    },
    {
     "name": "stderr",
     "output_type": "stream",
     "text": [
      "100%|####################################################################################################################################| 109/109 [00:00<00:00, 2381.89it/s]"
     ]
    },
    {
     "name": "stdout",
     "output_type": "stream",
     "text": [
      "MultiClassEstimator(batch_norm=False, batch_size=1, conv1_kernel_size=5,\n",
      "                    dense_avf='relu', dense_layers=[128], dropout=0.0,\n",
      "                    epochs=30, gpuid='1', last_avf='softmax',\n",
      "                    loss='categorical_crossentropy', lr=0.0001, metric='ACC',\n",
      "                    monitor='val_loss', n_inception=2,\n",
      "                    name='AggMap MultiClass Estimator', patience=10000,\n",
      "                    random_state=32, verbose=0)\n"
     ]
    },
    {
     "name": "stderr",
     "output_type": "stream",
     "text": [
      "\n",
      "100%|####################################################################################################################################| 109/109 [00:00<00:00, 1192.31it/s]\n"
     ]
    },
    {
     "name": "stdout",
     "output_type": "stream",
     "text": [
      "\n",
      " input train and test X shape is (109, 30, 29, 5), (109, 30, 29, 5) \n"
     ]
    },
    {
     "name": "stderr",
     "output_type": "stream",
     "text": [
      "100%|####################################################################################################################################| 128/128 [00:00<00:00, 1981.76it/s]\n"
     ]
    },
    {
     "name": "stdout",
     "output_type": "stream",
     "text": [
      "\n",
      " input train and test X shape is (109, 30, 29, 5), (128, 30, 29, 5) \n"
     ]
    },
    {
     "name": "stderr",
     "output_type": "stream",
     "text": [
      "100%|####################################################################################################################################| 114/114 [00:00<00:00, 1479.59it/s]\n"
     ]
    },
    {
     "name": "stdout",
     "output_type": "stream",
     "text": [
      "\n",
      " input train and test X shape is (109, 30, 29, 5), (114, 30, 29, 5) \n"
     ]
    },
    {
     "name": "stderr",
     "output_type": "stream",
     "text": [
      "100%|####################################################################################################################################| 120/120 [00:00<00:00, 2227.22it/s]\n"
     ]
    },
    {
     "name": "stdout",
     "output_type": "stream",
     "text": [
      "\n",
      " input train and test X shape is (109, 30, 29, 5), (120, 30, 29, 5) \n"
     ]
    },
    {
     "name": "stderr",
     "output_type": "stream",
     "text": [
      "100%|####################################################################################################################################| 104/104 [00:00<00:00, 2150.08it/s]\n"
     ]
    },
    {
     "name": "stdout",
     "output_type": "stream",
     "text": [
      "\n",
      " input train and test X shape is (109, 30, 29, 5), (104, 30, 29, 5) \n"
     ]
    },
    {
     "name": "stderr",
     "output_type": "stream",
     "text": [
      "100%|####################################################################################################################################| 128/128 [00:00<00:00, 1678.39it/s]"
     ]
    },
    {
     "name": "stdout",
     "output_type": "stream",
     "text": [
      "MultiClassEstimator(batch_norm=False, batch_size=1, conv1_kernel_size=5,\n",
      "                    dense_avf='relu', dense_layers=[128], dropout=0.0,\n",
      "                    epochs=30, gpuid='1', last_avf='softmax',\n",
      "                    loss='categorical_crossentropy', lr=0.0001, metric='ACC',\n",
      "                    monitor='val_loss', n_inception=2,\n",
      "                    name='AggMap MultiClass Estimator', patience=10000,\n",
      "                    random_state=32, verbose=0)\n"
     ]
    },
    {
     "name": "stderr",
     "output_type": "stream",
     "text": [
      "\n",
      "100%|#####################################################################################################################################| 109/109 [00:00<00:00, 920.85it/s]\n"
     ]
    },
    {
     "name": "stdout",
     "output_type": "stream",
     "text": [
      "\n",
      " input train and test X shape is (128, 30, 29, 5), (109, 30, 29, 5) \n"
     ]
    },
    {
     "name": "stderr",
     "output_type": "stream",
     "text": [
      "100%|####################################################################################################################################| 128/128 [00:00<00:00, 2061.31it/s]\n"
     ]
    },
    {
     "name": "stdout",
     "output_type": "stream",
     "text": [
      "\n",
      " input train and test X shape is (128, 30, 29, 5), (128, 30, 29, 5) \n"
     ]
    },
    {
     "name": "stderr",
     "output_type": "stream",
     "text": [
      "100%|####################################################################################################################################| 114/114 [00:00<00:00, 2080.20it/s]\n"
     ]
    },
    {
     "name": "stdout",
     "output_type": "stream",
     "text": [
      "\n",
      " input train and test X shape is (128, 30, 29, 5), (114, 30, 29, 5) \n"
     ]
    },
    {
     "name": "stderr",
     "output_type": "stream",
     "text": [
      "100%|####################################################################################################################################| 120/120 [00:00<00:00, 1122.54it/s]\n"
     ]
    },
    {
     "name": "stdout",
     "output_type": "stream",
     "text": [
      "\n",
      " input train and test X shape is (128, 30, 29, 5), (120, 30, 29, 5) \n"
     ]
    },
    {
     "name": "stderr",
     "output_type": "stream",
     "text": [
      "100%|####################################################################################################################################| 104/104 [00:00<00:00, 2259.48it/s]\n"
     ]
    },
    {
     "name": "stdout",
     "output_type": "stream",
     "text": [
      "\n",
      " input train and test X shape is (128, 30, 29, 5), (104, 30, 29, 5) \n"
     ]
    },
    {
     "name": "stderr",
     "output_type": "stream",
     "text": [
      "100%|####################################################################################################################################| 114/114 [00:00<00:00, 2426.06it/s]\n"
     ]
    },
    {
     "name": "stdout",
     "output_type": "stream",
     "text": [
      "MultiClassEstimator(batch_norm=False, batch_size=1, conv1_kernel_size=5,\n",
      "                    dense_avf='relu', dense_layers=[128], dropout=0.0,\n",
      "                    epochs=30, gpuid='1', last_avf='softmax',\n",
      "                    loss='categorical_crossentropy', lr=0.0001, metric='ACC',\n",
      "                    monitor='val_loss', n_inception=2,\n",
      "                    name='AggMap MultiClass Estimator', patience=10000,\n",
      "                    random_state=32, verbose=0)\n"
     ]
    },
    {
     "name": "stderr",
     "output_type": "stream",
     "text": [
      "100%|####################################################################################################################################| 109/109 [00:00<00:00, 1717.88it/s]\n"
     ]
    },
    {
     "name": "stdout",
     "output_type": "stream",
     "text": [
      "\n",
      " input train and test X shape is (114, 30, 29, 5), (109, 30, 29, 5) \n"
     ]
    },
    {
     "name": "stderr",
     "output_type": "stream",
     "text": [
      "100%|####################################################################################################################################| 128/128 [00:00<00:00, 2365.32it/s]\n"
     ]
    },
    {
     "name": "stdout",
     "output_type": "stream",
     "text": [
      "\n",
      " input train and test X shape is (114, 30, 29, 5), (128, 30, 29, 5) \n"
     ]
    },
    {
     "name": "stderr",
     "output_type": "stream",
     "text": [
      "100%|####################################################################################################################################| 114/114 [00:00<00:00, 2044.00it/s]\n"
     ]
    },
    {
     "name": "stdout",
     "output_type": "stream",
     "text": [
      "\n",
      " input train and test X shape is (114, 30, 29, 5), (114, 30, 29, 5) \n"
     ]
    },
    {
     "name": "stderr",
     "output_type": "stream",
     "text": [
      "100%|####################################################################################################################################| 120/120 [00:00<00:00, 2164.91it/s]\n"
     ]
    },
    {
     "name": "stdout",
     "output_type": "stream",
     "text": [
      "\n",
      " input train and test X shape is (114, 30, 29, 5), (120, 30, 29, 5) \n"
     ]
    },
    {
     "name": "stderr",
     "output_type": "stream",
     "text": [
      "100%|####################################################################################################################################| 104/104 [00:00<00:00, 2046.18it/s]\n"
     ]
    },
    {
     "name": "stdout",
     "output_type": "stream",
     "text": [
      "\n",
      " input train and test X shape is (114, 30, 29, 5), (104, 30, 29, 5) \n"
     ]
    },
    {
     "name": "stderr",
     "output_type": "stream",
     "text": [
      "100%|####################################################################################################################################| 120/120 [00:00<00:00, 2239.70it/s]"
     ]
    },
    {
     "name": "stdout",
     "output_type": "stream",
     "text": [
      "MultiClassEstimator(batch_norm=False, batch_size=1, conv1_kernel_size=5,\n",
      "                    dense_avf='relu', dense_layers=[128], dropout=0.0,\n",
      "                    epochs=30, gpuid='1', last_avf='softmax',\n",
      "                    loss='categorical_crossentropy', lr=0.0001, metric='ACC',\n",
      "                    monitor='val_loss', n_inception=2,\n",
      "                    name='AggMap MultiClass Estimator', patience=10000,\n",
      "                    random_state=32, verbose=0)\n"
     ]
    },
    {
     "name": "stderr",
     "output_type": "stream",
     "text": [
      "\n",
      "100%|####################################################################################################################################| 109/109 [00:00<00:00, 2024.48it/s]\n"
     ]
    },
    {
     "name": "stdout",
     "output_type": "stream",
     "text": [
      "\n",
      " input train and test X shape is (120, 30, 29, 5), (109, 30, 29, 5) \n"
     ]
    },
    {
     "name": "stderr",
     "output_type": "stream",
     "text": [
      "100%|####################################################################################################################################| 128/128 [00:00<00:00, 2107.96it/s]\n"
     ]
    },
    {
     "name": "stdout",
     "output_type": "stream",
     "text": [
      "\n",
      " input train and test X shape is (120, 30, 29, 5), (128, 30, 29, 5) \n"
     ]
    },
    {
     "name": "stderr",
     "output_type": "stream",
     "text": [
      "100%|####################################################################################################################################| 114/114 [00:00<00:00, 1475.65it/s]\n"
     ]
    },
    {
     "name": "stdout",
     "output_type": "stream",
     "text": [
      "\n",
      " input train and test X shape is (120, 30, 29, 5), (114, 30, 29, 5) \n"
     ]
    },
    {
     "name": "stderr",
     "output_type": "stream",
     "text": [
      "100%|####################################################################################################################################| 120/120 [00:00<00:00, 2191.52it/s]\n"
     ]
    },
    {
     "name": "stdout",
     "output_type": "stream",
     "text": [
      "\n",
      " input train and test X shape is (120, 30, 29, 5), (120, 30, 29, 5) \n"
     ]
    },
    {
     "name": "stderr",
     "output_type": "stream",
     "text": [
      "100%|####################################################################################################################################| 104/104 [00:00<00:00, 2245.69it/s]\n"
     ]
    },
    {
     "name": "stdout",
     "output_type": "stream",
     "text": [
      "\n",
      " input train and test X shape is (120, 30, 29, 5), (104, 30, 29, 5) \n"
     ]
    },
    {
     "name": "stderr",
     "output_type": "stream",
     "text": [
      "100%|####################################################################################################################################| 104/104 [00:00<00:00, 2085.20it/s]\n"
     ]
    },
    {
     "name": "stdout",
     "output_type": "stream",
     "text": [
      "MultiClassEstimator(batch_norm=False, batch_size=1, conv1_kernel_size=5,\n",
      "                    dense_avf='relu', dense_layers=[128], dropout=0.0,\n",
      "                    epochs=30, gpuid='1', last_avf='softmax',\n",
      "                    loss='categorical_crossentropy', lr=0.0001, metric='ACC',\n",
      "                    monitor='val_loss', n_inception=2,\n",
      "                    name='AggMap MultiClass Estimator', patience=10000,\n",
      "                    random_state=32, verbose=0)\n"
     ]
    },
    {
     "name": "stderr",
     "output_type": "stream",
     "text": [
      "100%|####################################################################################################################################| 109/109 [00:00<00:00, 1929.51it/s]\n"
     ]
    },
    {
     "name": "stdout",
     "output_type": "stream",
     "text": [
      "\n",
      " input train and test X shape is (104, 30, 29, 5), (109, 30, 29, 5) \n"
     ]
    },
    {
     "name": "stderr",
     "output_type": "stream",
     "text": [
      "100%|####################################################################################################################################| 128/128 [00:00<00:00, 2116.84it/s]\n"
     ]
    },
    {
     "name": "stdout",
     "output_type": "stream",
     "text": [
      "\n",
      " input train and test X shape is (104, 30, 29, 5), (128, 30, 29, 5) \n"
     ]
    },
    {
     "name": "stderr",
     "output_type": "stream",
     "text": [
      "100%|####################################################################################################################################| 114/114 [00:00<00:00, 2095.14it/s]\n"
     ]
    },
    {
     "name": "stdout",
     "output_type": "stream",
     "text": [
      "\n",
      " input train and test X shape is (104, 30, 29, 5), (114, 30, 29, 5) \n"
     ]
    },
    {
     "name": "stderr",
     "output_type": "stream",
     "text": [
      "100%|####################################################################################################################################| 120/120 [00:00<00:00, 2207.27it/s]\n"
     ]
    },
    {
     "name": "stdout",
     "output_type": "stream",
     "text": [
      "\n",
      " input train and test X shape is (104, 30, 29, 5), (120, 30, 29, 5) \n"
     ]
    },
    {
     "name": "stderr",
     "output_type": "stream",
     "text": [
      "100%|####################################################################################################################################| 104/104 [00:00<00:00, 2160.49it/s]\n"
     ]
    },
    {
     "name": "stdout",
     "output_type": "stream",
     "text": [
      "\n",
      " input train and test X shape is (104, 30, 29, 5), (104, 30, 29, 5) \n",
      "2022-10-07 13:32:29,838 - \u001b[32mINFO\u001b[0m - [bidd-aggmap]\u001b[0m - applying hierarchical clustering to obtain group information ...\u001b[0m\n",
      "2022-10-07 13:32:30,272 - \u001b[32mINFO\u001b[0m - [bidd-aggmap]\u001b[0m - Applying grid assignment of feature points, this may take several minutes(1~30 min)\u001b[0m\n",
      "2022-10-07 13:32:30,816 - \u001b[32mINFO\u001b[0m - [bidd-aggmap]\u001b[0m - Finished\u001b[0m\n"
     ]
    },
    {
     "name": "stderr",
     "output_type": "stream",
     "text": [
      "100%|####################################################################################################################################| 109/109 [00:00<00:00, 1958.18it/s]"
     ]
    },
    {
     "name": "stdout",
     "output_type": "stream",
     "text": [
      "MultiClassEstimator(batch_norm=False, batch_size=1, conv1_kernel_size=5,\n",
      "                    dense_avf='relu', dense_layers=[128], dropout=0.0,\n",
      "                    epochs=30, gpuid='1', last_avf='softmax',\n",
      "                    loss='categorical_crossentropy', lr=0.0001, metric='ACC',\n",
      "                    monitor='val_loss', n_inception=2,\n",
      "                    name='AggMap MultiClass Estimator', patience=10000,\n",
      "                    random_state=32, verbose=0)\n"
     ]
    },
    {
     "name": "stderr",
     "output_type": "stream",
     "text": [
      "\n",
      "100%|####################################################################################################################################| 109/109 [00:00<00:00, 1924.55it/s]\n"
     ]
    },
    {
     "name": "stdout",
     "output_type": "stream",
     "text": [
      "\n",
      " input train and test X shape is (109, 30, 29, 5), (109, 30, 29, 5) \n"
     ]
    },
    {
     "name": "stderr",
     "output_type": "stream",
     "text": [
      "100%|####################################################################################################################################| 128/128 [00:00<00:00, 1984.41it/s]\n"
     ]
    },
    {
     "name": "stdout",
     "output_type": "stream",
     "text": [
      "\n",
      " input train and test X shape is (109, 30, 29, 5), (128, 30, 29, 5) \n"
     ]
    },
    {
     "name": "stderr",
     "output_type": "stream",
     "text": [
      "100%|####################################################################################################################################| 114/114 [00:00<00:00, 2027.90it/s]\n"
     ]
    },
    {
     "name": "stdout",
     "output_type": "stream",
     "text": [
      "\n",
      " input train and test X shape is (109, 30, 29, 5), (114, 30, 29, 5) \n"
     ]
    },
    {
     "name": "stderr",
     "output_type": "stream",
     "text": [
      "100%|####################################################################################################################################| 120/120 [00:00<00:00, 1031.58it/s]\n"
     ]
    },
    {
     "name": "stdout",
     "output_type": "stream",
     "text": [
      "\n",
      " input train and test X shape is (109, 30, 29, 5), (120, 30, 29, 5) \n"
     ]
    },
    {
     "name": "stderr",
     "output_type": "stream",
     "text": [
      "100%|####################################################################################################################################| 104/104 [00:00<00:00, 2071.52it/s]\n"
     ]
    },
    {
     "name": "stdout",
     "output_type": "stream",
     "text": [
      "\n",
      " input train and test X shape is (109, 30, 29, 5), (104, 30, 29, 5) \n"
     ]
    },
    {
     "name": "stderr",
     "output_type": "stream",
     "text": [
      "100%|####################################################################################################################################| 128/128 [00:00<00:00, 2273.88it/s]\n"
     ]
    },
    {
     "name": "stdout",
     "output_type": "stream",
     "text": [
      "MultiClassEstimator(batch_norm=False, batch_size=1, conv1_kernel_size=5,\n",
      "                    dense_avf='relu', dense_layers=[128], dropout=0.0,\n",
      "                    epochs=30, gpuid='1', last_avf='softmax',\n",
      "                    loss='categorical_crossentropy', lr=0.0001, metric='ACC',\n",
      "                    monitor='val_loss', n_inception=2,\n",
      "                    name='AggMap MultiClass Estimator', patience=10000,\n",
      "                    random_state=32, verbose=0)\n"
     ]
    },
    {
     "name": "stderr",
     "output_type": "stream",
     "text": [
      "100%|####################################################################################################################################| 109/109 [00:00<00:00, 2245.65it/s]\n"
     ]
    },
    {
     "name": "stdout",
     "output_type": "stream",
     "text": [
      "\n",
      " input train and test X shape is (128, 30, 29, 5), (109, 30, 29, 5) \n"
     ]
    },
    {
     "name": "stderr",
     "output_type": "stream",
     "text": [
      "100%|####################################################################################################################################| 128/128 [00:00<00:00, 1978.05it/s]\n"
     ]
    },
    {
     "name": "stdout",
     "output_type": "stream",
     "text": [
      "\n",
      " input train and test X shape is (128, 30, 29, 5), (128, 30, 29, 5) \n"
     ]
    },
    {
     "name": "stderr",
     "output_type": "stream",
     "text": [
      "100%|####################################################################################################################################| 114/114 [00:00<00:00, 2003.92it/s]\n"
     ]
    },
    {
     "name": "stdout",
     "output_type": "stream",
     "text": [
      "\n",
      " input train and test X shape is (128, 30, 29, 5), (114, 30, 29, 5) \n"
     ]
    },
    {
     "name": "stderr",
     "output_type": "stream",
     "text": [
      "100%|####################################################################################################################################| 120/120 [00:00<00:00, 1594.37it/s]\n"
     ]
    },
    {
     "name": "stdout",
     "output_type": "stream",
     "text": [
      "\n",
      " input train and test X shape is (128, 30, 29, 5), (120, 30, 29, 5) \n"
     ]
    },
    {
     "name": "stderr",
     "output_type": "stream",
     "text": [
      "100%|####################################################################################################################################| 104/104 [00:00<00:00, 2085.55it/s]\n"
     ]
    },
    {
     "name": "stdout",
     "output_type": "stream",
     "text": [
      "\n",
      " input train and test X shape is (128, 30, 29, 5), (104, 30, 29, 5) \n"
     ]
    },
    {
     "name": "stderr",
     "output_type": "stream",
     "text": [
      "100%|####################################################################################################################################| 114/114 [00:00<00:00, 2025.34it/s]\n"
     ]
    },
    {
     "name": "stdout",
     "output_type": "stream",
     "text": [
      "MultiClassEstimator(batch_norm=False, batch_size=1, conv1_kernel_size=5,\n",
      "                    dense_avf='relu', dense_layers=[128], dropout=0.0,\n",
      "                    epochs=30, gpuid='1', last_avf='softmax',\n",
      "                    loss='categorical_crossentropy', lr=0.0001, metric='ACC',\n",
      "                    monitor='val_loss', n_inception=2,\n",
      "                    name='AggMap MultiClass Estimator', patience=10000,\n",
      "                    random_state=32, verbose=0)\n"
     ]
    },
    {
     "name": "stderr",
     "output_type": "stream",
     "text": [
      "100%|####################################################################################################################################| 109/109 [00:00<00:00, 1741.50it/s]\n"
     ]
    },
    {
     "name": "stdout",
     "output_type": "stream",
     "text": [
      "\n",
      " input train and test X shape is (114, 30, 29, 5), (109, 30, 29, 5) \n"
     ]
    },
    {
     "name": "stderr",
     "output_type": "stream",
     "text": [
      "100%|####################################################################################################################################| 128/128 [00:00<00:00, 1968.62it/s]\n"
     ]
    },
    {
     "name": "stdout",
     "output_type": "stream",
     "text": [
      "\n",
      " input train and test X shape is (114, 30, 29, 5), (128, 30, 29, 5) \n"
     ]
    },
    {
     "name": "stderr",
     "output_type": "stream",
     "text": [
      "100%|####################################################################################################################################| 114/114 [00:00<00:00, 2032.94it/s]\n"
     ]
    },
    {
     "name": "stdout",
     "output_type": "stream",
     "text": [
      "\n",
      " input train and test X shape is (114, 30, 29, 5), (114, 30, 29, 5) \n"
     ]
    },
    {
     "name": "stderr",
     "output_type": "stream",
     "text": [
      "100%|####################################################################################################################################| 120/120 [00:00<00:00, 2042.58it/s]\n"
     ]
    },
    {
     "name": "stdout",
     "output_type": "stream",
     "text": [
      "\n",
      " input train and test X shape is (114, 30, 29, 5), (120, 30, 29, 5) \n"
     ]
    },
    {
     "name": "stderr",
     "output_type": "stream",
     "text": [
      "100%|####################################################################################################################################| 104/104 [00:00<00:00, 2200.57it/s]\n"
     ]
    },
    {
     "name": "stdout",
     "output_type": "stream",
     "text": [
      "\n",
      " input train and test X shape is (114, 30, 29, 5), (104, 30, 29, 5) \n"
     ]
    },
    {
     "name": "stderr",
     "output_type": "stream",
     "text": [
      "100%|####################################################################################################################################| 120/120 [00:00<00:00, 2093.39it/s]\n"
     ]
    },
    {
     "name": "stdout",
     "output_type": "stream",
     "text": [
      "MultiClassEstimator(batch_norm=False, batch_size=1, conv1_kernel_size=5,\n",
      "                    dense_avf='relu', dense_layers=[128], dropout=0.0,\n",
      "                    epochs=30, gpuid='1', last_avf='softmax',\n",
      "                    loss='categorical_crossentropy', lr=0.0001, metric='ACC',\n",
      "                    monitor='val_loss', n_inception=2,\n",
      "                    name='AggMap MultiClass Estimator', patience=10000,\n",
      "                    random_state=32, verbose=0)\n"
     ]
    },
    {
     "name": "stderr",
     "output_type": "stream",
     "text": [
      "100%|####################################################################################################################################| 109/109 [00:00<00:00, 1825.78it/s]\n"
     ]
    },
    {
     "name": "stdout",
     "output_type": "stream",
     "text": [
      "\n",
      " input train and test X shape is (120, 30, 29, 5), (109, 30, 29, 5) \n"
     ]
    },
    {
     "name": "stderr",
     "output_type": "stream",
     "text": [
      "100%|####################################################################################################################################| 128/128 [00:00<00:00, 1998.72it/s]\n"
     ]
    },
    {
     "name": "stdout",
     "output_type": "stream",
     "text": [
      "\n",
      " input train and test X shape is (120, 30, 29, 5), (128, 30, 29, 5) \n"
     ]
    },
    {
     "name": "stderr",
     "output_type": "stream",
     "text": [
      "100%|####################################################################################################################################| 114/114 [00:00<00:00, 1931.91it/s]\n"
     ]
    },
    {
     "name": "stdout",
     "output_type": "stream",
     "text": [
      "\n",
      " input train and test X shape is (120, 30, 29, 5), (114, 30, 29, 5) \n"
     ]
    },
    {
     "name": "stderr",
     "output_type": "stream",
     "text": [
      "100%|####################################################################################################################################| 120/120 [00:00<00:00, 2096.91it/s]"
     ]
    },
    {
     "name": "stdout",
     "output_type": "stream",
     "text": [
      "\n",
      " input train and test X shape is (120, 30, 29, 5), (120, 30, 29, 5) \n"
     ]
    },
    {
     "name": "stderr",
     "output_type": "stream",
     "text": [
      "\n",
      "100%|####################################################################################################################################| 104/104 [00:00<00:00, 2131.06it/s]\n"
     ]
    },
    {
     "name": "stdout",
     "output_type": "stream",
     "text": [
      "\n",
      " input train and test X shape is (120, 30, 29, 5), (104, 30, 29, 5) \n"
     ]
    },
    {
     "name": "stderr",
     "output_type": "stream",
     "text": [
      "100%|####################################################################################################################################| 104/104 [00:00<00:00, 1507.16it/s]\n"
     ]
    },
    {
     "name": "stdout",
     "output_type": "stream",
     "text": [
      "MultiClassEstimator(batch_norm=False, batch_size=1, conv1_kernel_size=5,\n",
      "                    dense_avf='relu', dense_layers=[128], dropout=0.0,\n",
      "                    epochs=30, gpuid='1', last_avf='softmax',\n",
      "                    loss='categorical_crossentropy', lr=0.0001, metric='ACC',\n",
      "                    monitor='val_loss', n_inception=2,\n",
      "                    name='AggMap MultiClass Estimator', patience=10000,\n",
      "                    random_state=32, verbose=0)\n"
     ]
    },
    {
     "name": "stderr",
     "output_type": "stream",
     "text": [
      "100%|####################################################################################################################################| 109/109 [00:00<00:00, 1947.69it/s]\n"
     ]
    },
    {
     "name": "stdout",
     "output_type": "stream",
     "text": [
      "\n",
      " input train and test X shape is (104, 30, 29, 5), (109, 30, 29, 5) \n"
     ]
    },
    {
     "name": "stderr",
     "output_type": "stream",
     "text": [
      "100%|####################################################################################################################################| 128/128 [00:00<00:00, 2008.17it/s]\n"
     ]
    },
    {
     "name": "stdout",
     "output_type": "stream",
     "text": [
      "\n",
      " input train and test X shape is (104, 30, 29, 5), (128, 30, 29, 5) \n"
     ]
    },
    {
     "name": "stderr",
     "output_type": "stream",
     "text": [
      "100%|####################################################################################################################################| 114/114 [00:00<00:00, 1958.94it/s]\n"
     ]
    },
    {
     "name": "stdout",
     "output_type": "stream",
     "text": [
      "\n",
      " input train and test X shape is (104, 30, 29, 5), (114, 30, 29, 5) \n"
     ]
    },
    {
     "name": "stderr",
     "output_type": "stream",
     "text": [
      "100%|####################################################################################################################################| 120/120 [00:00<00:00, 2091.33it/s]\n"
     ]
    },
    {
     "name": "stdout",
     "output_type": "stream",
     "text": [
      "\n",
      " input train and test X shape is (104, 30, 29, 5), (120, 30, 29, 5) \n"
     ]
    },
    {
     "name": "stderr",
     "output_type": "stream",
     "text": [
      "100%|####################################################################################################################################| 104/104 [00:00<00:00, 1458.21it/s]\n"
     ]
    },
    {
     "name": "stdout",
     "output_type": "stream",
     "text": [
      "\n",
      " input train and test X shape is (104, 30, 29, 5), (104, 30, 29, 5) \n",
      "2022-10-07 13:35:51,197 - \u001b[32mINFO\u001b[0m - [bidd-aggmap]\u001b[0m - applying hierarchical clustering to obtain group information ...\u001b[0m\n",
      "2022-10-07 13:35:51,436 - \u001b[32mINFO\u001b[0m - [bidd-aggmap]\u001b[0m - Applying grid assignment of feature points, this may take several minutes(1~30 min)\u001b[0m\n",
      "2022-10-07 13:35:52,340 - \u001b[32mINFO\u001b[0m - [bidd-aggmap]\u001b[0m - Finished\u001b[0m\n"
     ]
    },
    {
     "name": "stderr",
     "output_type": "stream",
     "text": [
      "100%|####################################################################################################################################| 109/109 [00:00<00:00, 1920.72it/s]"
     ]
    },
    {
     "name": "stdout",
     "output_type": "stream",
     "text": [
      "MultiClassEstimator(batch_norm=False, batch_size=1, conv1_kernel_size=5,\n",
      "                    dense_avf='relu', dense_layers=[128], dropout=0.0,\n",
      "                    epochs=30, gpuid='1', last_avf='softmax',\n",
      "                    loss='categorical_crossentropy', lr=0.0001, metric='ACC',\n",
      "                    monitor='val_loss', n_inception=2,\n",
      "                    name='AggMap MultiClass Estimator', patience=10000,\n",
      "                    random_state=32, verbose=0)\n"
     ]
    },
    {
     "name": "stderr",
     "output_type": "stream",
     "text": [
      "\n",
      "100%|#####################################################################################################################################| 109/109 [00:00<00:00, 973.14it/s]\n"
     ]
    },
    {
     "name": "stdout",
     "output_type": "stream",
     "text": [
      "\n",
      " input train and test X shape is (109, 30, 29, 5), (109, 30, 29, 5) \n"
     ]
    },
    {
     "name": "stderr",
     "output_type": "stream",
     "text": [
      "100%|####################################################################################################################################| 128/128 [00:00<00:00, 1974.42it/s]\n"
     ]
    },
    {
     "name": "stdout",
     "output_type": "stream",
     "text": [
      "\n",
      " input train and test X shape is (109, 30, 29, 5), (128, 30, 29, 5) \n"
     ]
    },
    {
     "name": "stderr",
     "output_type": "stream",
     "text": [
      "100%|####################################################################################################################################| 114/114 [00:00<00:00, 1784.29it/s]\n"
     ]
    },
    {
     "name": "stdout",
     "output_type": "stream",
     "text": [
      "\n",
      " input train and test X shape is (109, 30, 29, 5), (114, 30, 29, 5) \n"
     ]
    },
    {
     "name": "stderr",
     "output_type": "stream",
     "text": [
      "100%|####################################################################################################################################| 120/120 [00:00<00:00, 1644.45it/s]"
     ]
    },
    {
     "name": "stdout",
     "output_type": "stream",
     "text": [
      "\n",
      " input train and test X shape is (109, 30, 29, 5), (120, 30, 29, 5) \n"
     ]
    },
    {
     "name": "stderr",
     "output_type": "stream",
     "text": [
      "\n",
      "100%|####################################################################################################################################| 104/104 [00:00<00:00, 1539.27it/s]\n"
     ]
    },
    {
     "name": "stdout",
     "output_type": "stream",
     "text": [
      "\n",
      " input train and test X shape is (109, 30, 29, 5), (104, 30, 29, 5) \n"
     ]
    },
    {
     "name": "stderr",
     "output_type": "stream",
     "text": [
      "100%|####################################################################################################################################| 128/128 [00:00<00:00, 1951.20it/s]\n"
     ]
    },
    {
     "name": "stdout",
     "output_type": "stream",
     "text": [
      "MultiClassEstimator(batch_norm=False, batch_size=1, conv1_kernel_size=5,\n",
      "                    dense_avf='relu', dense_layers=[128], dropout=0.0,\n",
      "                    epochs=30, gpuid='1', last_avf='softmax',\n",
      "                    loss='categorical_crossentropy', lr=0.0001, metric='ACC',\n",
      "                    monitor='val_loss', n_inception=2,\n",
      "                    name='AggMap MultiClass Estimator', patience=10000,\n",
      "                    random_state=32, verbose=0)\n"
     ]
    },
    {
     "name": "stderr",
     "output_type": "stream",
     "text": [
      "100%|####################################################################################################################################| 109/109 [00:00<00:00, 1416.09it/s]\n"
     ]
    },
    {
     "name": "stdout",
     "output_type": "stream",
     "text": [
      "\n",
      " input train and test X shape is (128, 30, 29, 5), (109, 30, 29, 5) \n"
     ]
    },
    {
     "name": "stderr",
     "output_type": "stream",
     "text": [
      "100%|####################################################################################################################################| 128/128 [00:00<00:00, 1872.65it/s]\n"
     ]
    },
    {
     "name": "stdout",
     "output_type": "stream",
     "text": [
      "\n",
      " input train and test X shape is (128, 30, 29, 5), (128, 30, 29, 5) \n"
     ]
    },
    {
     "name": "stderr",
     "output_type": "stream",
     "text": [
      "100%|####################################################################################################################################| 114/114 [00:00<00:00, 1659.36it/s]\n"
     ]
    },
    {
     "name": "stdout",
     "output_type": "stream",
     "text": [
      "\n",
      " input train and test X shape is (128, 30, 29, 5), (114, 30, 29, 5) \n"
     ]
    },
    {
     "name": "stderr",
     "output_type": "stream",
     "text": [
      "100%|####################################################################################################################################| 120/120 [00:00<00:00, 1597.37it/s]\n"
     ]
    },
    {
     "name": "stdout",
     "output_type": "stream",
     "text": [
      "\n",
      " input train and test X shape is (128, 30, 29, 5), (120, 30, 29, 5) \n"
     ]
    },
    {
     "name": "stderr",
     "output_type": "stream",
     "text": [
      "100%|####################################################################################################################################| 104/104 [00:00<00:00, 1528.10it/s]\n"
     ]
    },
    {
     "name": "stdout",
     "output_type": "stream",
     "text": [
      "\n",
      " input train and test X shape is (128, 30, 29, 5), (104, 30, 29, 5) \n"
     ]
    },
    {
     "name": "stderr",
     "output_type": "stream",
     "text": [
      "100%|####################################################################################################################################| 114/114 [00:00<00:00, 1439.09it/s]\n"
     ]
    },
    {
     "name": "stdout",
     "output_type": "stream",
     "text": [
      "MultiClassEstimator(batch_norm=False, batch_size=1, conv1_kernel_size=5,\n",
      "                    dense_avf='relu', dense_layers=[128], dropout=0.0,\n",
      "                    epochs=30, gpuid='1', last_avf='softmax',\n",
      "                    loss='categorical_crossentropy', lr=0.0001, metric='ACC',\n",
      "                    monitor='val_loss', n_inception=2,\n",
      "                    name='AggMap MultiClass Estimator', patience=10000,\n",
      "                    random_state=32, verbose=0)\n"
     ]
    },
    {
     "name": "stderr",
     "output_type": "stream",
     "text": [
      "100%|####################################################################################################################################| 109/109 [00:00<00:00, 1834.54it/s]\n"
     ]
    },
    {
     "name": "stdout",
     "output_type": "stream",
     "text": [
      "\n",
      " input train and test X shape is (114, 30, 29, 5), (109, 30, 29, 5) \n"
     ]
    },
    {
     "name": "stderr",
     "output_type": "stream",
     "text": [
      "100%|####################################################################################################################################| 128/128 [00:00<00:00, 1879.96it/s]\n"
     ]
    },
    {
     "name": "stdout",
     "output_type": "stream",
     "text": [
      "\n",
      " input train and test X shape is (114, 30, 29, 5), (128, 30, 29, 5) \n"
     ]
    },
    {
     "name": "stderr",
     "output_type": "stream",
     "text": [
      "100%|####################################################################################################################################| 114/114 [00:00<00:00, 1961.13it/s]\n"
     ]
    },
    {
     "name": "stdout",
     "output_type": "stream",
     "text": [
      "\n",
      " input train and test X shape is (114, 30, 29, 5), (114, 30, 29, 5) \n"
     ]
    },
    {
     "name": "stderr",
     "output_type": "stream",
     "text": [
      "100%|####################################################################################################################################| 120/120 [00:00<00:00, 1845.45it/s]\n"
     ]
    },
    {
     "name": "stdout",
     "output_type": "stream",
     "text": [
      "\n",
      " input train and test X shape is (114, 30, 29, 5), (120, 30, 29, 5) \n"
     ]
    },
    {
     "name": "stderr",
     "output_type": "stream",
     "text": [
      "100%|#####################################################################################################################################| 104/104 [00:00<00:00, 928.66it/s]\n"
     ]
    },
    {
     "name": "stdout",
     "output_type": "stream",
     "text": [
      "\n",
      " input train and test X shape is (114, 30, 29, 5), (104, 30, 29, 5) \n"
     ]
    },
    {
     "name": "stderr",
     "output_type": "stream",
     "text": [
      "100%|####################################################################################################################################| 120/120 [00:00<00:00, 1605.71it/s]\n"
     ]
    },
    {
     "name": "stdout",
     "output_type": "stream",
     "text": [
      "MultiClassEstimator(batch_norm=False, batch_size=1, conv1_kernel_size=5,\n",
      "                    dense_avf='relu', dense_layers=[128], dropout=0.0,\n",
      "                    epochs=30, gpuid='1', last_avf='softmax',\n",
      "                    loss='categorical_crossentropy', lr=0.0001, metric='ACC',\n",
      "                    monitor='val_loss', n_inception=2,\n",
      "                    name='AggMap MultiClass Estimator', patience=10000,\n",
      "                    random_state=32, verbose=0)\n"
     ]
    },
    {
     "name": "stderr",
     "output_type": "stream",
     "text": [
      "100%|####################################################################################################################################| 109/109 [00:00<00:00, 1025.55it/s]\n"
     ]
    },
    {
     "name": "stdout",
     "output_type": "stream",
     "text": [
      "\n",
      " input train and test X shape is (120, 30, 29, 5), (109, 30, 29, 5) \n"
     ]
    },
    {
     "name": "stderr",
     "output_type": "stream",
     "text": [
      "100%|####################################################################################################################################| 128/128 [00:00<00:00, 1950.00it/s]\n"
     ]
    },
    {
     "name": "stdout",
     "output_type": "stream",
     "text": [
      "\n",
      " input train and test X shape is (120, 30, 29, 5), (128, 30, 29, 5) \n"
     ]
    },
    {
     "name": "stderr",
     "output_type": "stream",
     "text": [
      "100%|####################################################################################################################################| 114/114 [00:00<00:00, 1921.07it/s]\n"
     ]
    },
    {
     "name": "stdout",
     "output_type": "stream",
     "text": [
      "\n",
      " input train and test X shape is (120, 30, 29, 5), (114, 30, 29, 5) \n"
     ]
    },
    {
     "name": "stderr",
     "output_type": "stream",
     "text": [
      "100%|####################################################################################################################################| 120/120 [00:00<00:00, 1867.99it/s]"
     ]
    },
    {
     "name": "stdout",
     "output_type": "stream",
     "text": [
      "\n",
      " input train and test X shape is (120, 30, 29, 5), (120, 30, 29, 5) \n"
     ]
    },
    {
     "name": "stderr",
     "output_type": "stream",
     "text": [
      "\n",
      "100%|####################################################################################################################################| 104/104 [00:00<00:00, 1541.70it/s]\n"
     ]
    },
    {
     "name": "stdout",
     "output_type": "stream",
     "text": [
      "\n",
      " input train and test X shape is (120, 30, 29, 5), (104, 30, 29, 5) \n"
     ]
    },
    {
     "name": "stderr",
     "output_type": "stream",
     "text": [
      "100%|####################################################################################################################################| 104/104 [00:00<00:00, 1788.29it/s]\n"
     ]
    },
    {
     "name": "stdout",
     "output_type": "stream",
     "text": [
      "MultiClassEstimator(batch_norm=False, batch_size=1, conv1_kernel_size=5,\n",
      "                    dense_avf='relu', dense_layers=[128], dropout=0.0,\n",
      "                    epochs=30, gpuid='1', last_avf='softmax',\n",
      "                    loss='categorical_crossentropy', lr=0.0001, metric='ACC',\n",
      "                    monitor='val_loss', n_inception=2,\n",
      "                    name='AggMap MultiClass Estimator', patience=10000,\n",
      "                    random_state=32, verbose=0)\n"
     ]
    },
    {
     "name": "stderr",
     "output_type": "stream",
     "text": [
      "100%|####################################################################################################################################| 109/109 [00:00<00:00, 1868.08it/s]\n"
     ]
    },
    {
     "name": "stdout",
     "output_type": "stream",
     "text": [
      "\n",
      " input train and test X shape is (104, 30, 29, 5), (109, 30, 29, 5) \n"
     ]
    },
    {
     "name": "stderr",
     "output_type": "stream",
     "text": [
      "100%|####################################################################################################################################| 128/128 [00:00<00:00, 1927.67it/s]\n"
     ]
    },
    {
     "name": "stdout",
     "output_type": "stream",
     "text": [
      "\n",
      " input train and test X shape is (104, 30, 29, 5), (128, 30, 29, 5) \n"
     ]
    },
    {
     "name": "stderr",
     "output_type": "stream",
     "text": [
      "100%|####################################################################################################################################| 114/114 [00:00<00:00, 1940.21it/s]\n"
     ]
    },
    {
     "name": "stdout",
     "output_type": "stream",
     "text": [
      "\n",
      " input train and test X shape is (104, 30, 29, 5), (114, 30, 29, 5) \n"
     ]
    },
    {
     "name": "stderr",
     "output_type": "stream",
     "text": [
      "100%|####################################################################################################################################| 120/120 [00:00<00:00, 1657.64it/s]\n"
     ]
    },
    {
     "name": "stdout",
     "output_type": "stream",
     "text": [
      "\n",
      " input train and test X shape is (104, 30, 29, 5), (120, 30, 29, 5) \n"
     ]
    },
    {
     "name": "stderr",
     "output_type": "stream",
     "text": [
      "100%|#####################################################################################################################################| 104/104 [00:00<00:00, 896.15it/s]\n"
     ]
    },
    {
     "name": "stdout",
     "output_type": "stream",
     "text": [
      "\n",
      " input train and test X shape is (104, 30, 29, 5), (104, 30, 29, 5) \n",
      "2022-10-07 13:39:14,294 - \u001b[32mINFO\u001b[0m - [bidd-aggmap]\u001b[0m - applying hierarchical clustering to obtain group information ...\u001b[0m\n",
      "2022-10-07 13:39:14,952 - \u001b[32mINFO\u001b[0m - [bidd-aggmap]\u001b[0m - Applying grid assignment of feature points, this may take several minutes(1~30 min)\u001b[0m\n",
      "2022-10-07 13:39:15,310 - \u001b[32mINFO\u001b[0m - [bidd-aggmap]\u001b[0m - Finished\u001b[0m\n"
     ]
    },
    {
     "name": "stderr",
     "output_type": "stream",
     "text": [
      "100%|####################################################################################################################################| 109/109 [00:00<00:00, 1093.29it/s]\n"
     ]
    },
    {
     "name": "stdout",
     "output_type": "stream",
     "text": [
      "MultiClassEstimator(batch_norm=False, batch_size=1, conv1_kernel_size=5,\n",
      "                    dense_avf='relu', dense_layers=[128], dropout=0.0,\n",
      "                    epochs=30, gpuid='1', last_avf='softmax',\n",
      "                    loss='categorical_crossentropy', lr=0.0001, metric='ACC',\n",
      "                    monitor='val_loss', n_inception=2,\n",
      "                    name='AggMap MultiClass Estimator', patience=10000,\n",
      "                    random_state=32, verbose=0)\n"
     ]
    },
    {
     "name": "stderr",
     "output_type": "stream",
     "text": [
      "100%|####################################################################################################################################| 109/109 [00:00<00:00, 2042.24it/s]\n"
     ]
    },
    {
     "name": "stdout",
     "output_type": "stream",
     "text": [
      "\n",
      " input train and test X shape is (109, 30, 29, 5), (109, 30, 29, 5) \n"
     ]
    },
    {
     "name": "stderr",
     "output_type": "stream",
     "text": [
      "100%|####################################################################################################################################| 128/128 [00:00<00:00, 2049.90it/s]\n"
     ]
    },
    {
     "name": "stdout",
     "output_type": "stream",
     "text": [
      "\n",
      " input train and test X shape is (109, 30, 29, 5), (128, 30, 29, 5) \n"
     ]
    },
    {
     "name": "stderr",
     "output_type": "stream",
     "text": [
      "100%|####################################################################################################################################| 114/114 [00:00<00:00, 2224.82it/s]\n"
     ]
    },
    {
     "name": "stdout",
     "output_type": "stream",
     "text": [
      "\n",
      " input train and test X shape is (109, 30, 29, 5), (114, 30, 29, 5) \n"
     ]
    },
    {
     "name": "stderr",
     "output_type": "stream",
     "text": [
      "100%|####################################################################################################################################| 120/120 [00:00<00:00, 2269.78it/s]\n"
     ]
    },
    {
     "name": "stdout",
     "output_type": "stream",
     "text": [
      "\n",
      " input train and test X shape is (109, 30, 29, 5), (120, 30, 29, 5) \n"
     ]
    },
    {
     "name": "stderr",
     "output_type": "stream",
     "text": [
      "100%|####################################################################################################################################| 104/104 [00:00<00:00, 2372.41it/s]\n"
     ]
    },
    {
     "name": "stdout",
     "output_type": "stream",
     "text": [
      "\n",
      " input train and test X shape is (109, 30, 29, 5), (104, 30, 29, 5) \n"
     ]
    },
    {
     "name": "stderr",
     "output_type": "stream",
     "text": [
      "100%|####################################################################################################################################| 128/128 [00:00<00:00, 2093.44it/s]\n"
     ]
    },
    {
     "name": "stdout",
     "output_type": "stream",
     "text": [
      "MultiClassEstimator(batch_norm=False, batch_size=1, conv1_kernel_size=5,\n",
      "                    dense_avf='relu', dense_layers=[128], dropout=0.0,\n",
      "                    epochs=30, gpuid='1', last_avf='softmax',\n",
      "                    loss='categorical_crossentropy', lr=0.0001, metric='ACC',\n",
      "                    monitor='val_loss', n_inception=2,\n",
      "                    name='AggMap MultiClass Estimator', patience=10000,\n",
      "                    random_state=32, verbose=0)\n"
     ]
    },
    {
     "name": "stderr",
     "output_type": "stream",
     "text": [
      "100%|####################################################################################################################################| 109/109 [00:00<00:00, 2001.78it/s]\n"
     ]
    },
    {
     "name": "stdout",
     "output_type": "stream",
     "text": [
      "\n",
      " input train and test X shape is (128, 30, 29, 5), (109, 30, 29, 5) \n"
     ]
    },
    {
     "name": "stderr",
     "output_type": "stream",
     "text": [
      "100%|####################################################################################################################################| 128/128 [00:00<00:00, 2295.08it/s]\n"
     ]
    },
    {
     "name": "stdout",
     "output_type": "stream",
     "text": [
      "\n",
      " input train and test X shape is (128, 30, 29, 5), (128, 30, 29, 5) \n"
     ]
    },
    {
     "name": "stderr",
     "output_type": "stream",
     "text": [
      "100%|####################################################################################################################################| 114/114 [00:00<00:00, 2559.84it/s]\n"
     ]
    },
    {
     "name": "stdout",
     "output_type": "stream",
     "text": [
      "\n",
      " input train and test X shape is (128, 30, 29, 5), (114, 30, 29, 5) \n"
     ]
    },
    {
     "name": "stderr",
     "output_type": "stream",
     "text": [
      "100%|####################################################################################################################################| 120/120 [00:00<00:00, 2264.29it/s]\n"
     ]
    },
    {
     "name": "stdout",
     "output_type": "stream",
     "text": [
      "\n",
      " input train and test X shape is (128, 30, 29, 5), (120, 30, 29, 5) \n"
     ]
    },
    {
     "name": "stderr",
     "output_type": "stream",
     "text": [
      "100%|####################################################################################################################################| 104/104 [00:00<00:00, 2296.92it/s]\n"
     ]
    },
    {
     "name": "stdout",
     "output_type": "stream",
     "text": [
      "\n",
      " input train and test X shape is (128, 30, 29, 5), (104, 30, 29, 5) \n"
     ]
    },
    {
     "name": "stderr",
     "output_type": "stream",
     "text": [
      "100%|####################################################################################################################################| 114/114 [00:00<00:00, 2311.97it/s]\n"
     ]
    },
    {
     "name": "stdout",
     "output_type": "stream",
     "text": [
      "MultiClassEstimator(batch_norm=False, batch_size=1, conv1_kernel_size=5,\n",
      "                    dense_avf='relu', dense_layers=[128], dropout=0.0,\n",
      "                    epochs=30, gpuid='1', last_avf='softmax',\n",
      "                    loss='categorical_crossentropy', lr=0.0001, metric='ACC',\n",
      "                    monitor='val_loss', n_inception=2,\n",
      "                    name='AggMap MultiClass Estimator', patience=10000,\n",
      "                    random_state=32, verbose=0)\n"
     ]
    },
    {
     "name": "stderr",
     "output_type": "stream",
     "text": [
      "100%|####################################################################################################################################| 109/109 [00:00<00:00, 1909.02it/s]\n"
     ]
    },
    {
     "name": "stdout",
     "output_type": "stream",
     "text": [
      "\n",
      " input train and test X shape is (114, 30, 29, 5), (109, 30, 29, 5) \n"
     ]
    },
    {
     "name": "stderr",
     "output_type": "stream",
     "text": [
      "100%|####################################################################################################################################| 128/128 [00:00<00:00, 2492.69it/s]\n"
     ]
    },
    {
     "name": "stdout",
     "output_type": "stream",
     "text": [
      "\n",
      " input train and test X shape is (114, 30, 29, 5), (128, 30, 29, 5) \n"
     ]
    },
    {
     "name": "stderr",
     "output_type": "stream",
     "text": [
      "100%|####################################################################################################################################| 114/114 [00:00<00:00, 1983.92it/s]\n"
     ]
    },
    {
     "name": "stdout",
     "output_type": "stream",
     "text": [
      "\n",
      " input train and test X shape is (114, 30, 29, 5), (114, 30, 29, 5) \n"
     ]
    },
    {
     "name": "stderr",
     "output_type": "stream",
     "text": [
      "100%|####################################################################################################################################| 120/120 [00:00<00:00, 2720.75it/s]\n"
     ]
    },
    {
     "name": "stdout",
     "output_type": "stream",
     "text": [
      "\n",
      " input train and test X shape is (114, 30, 29, 5), (120, 30, 29, 5) \n"
     ]
    },
    {
     "name": "stderr",
     "output_type": "stream",
     "text": [
      "100%|####################################################################################################################################| 104/104 [00:00<00:00, 2341.88it/s]\n"
     ]
    },
    {
     "name": "stdout",
     "output_type": "stream",
     "text": [
      "\n",
      " input train and test X shape is (114, 30, 29, 5), (104, 30, 29, 5) \n"
     ]
    },
    {
     "name": "stderr",
     "output_type": "stream",
     "text": [
      "100%|####################################################################################################################################| 120/120 [00:00<00:00, 2242.88it/s]\n"
     ]
    },
    {
     "name": "stdout",
     "output_type": "stream",
     "text": [
      "MultiClassEstimator(batch_norm=False, batch_size=1, conv1_kernel_size=5,\n",
      "                    dense_avf='relu', dense_layers=[128], dropout=0.0,\n",
      "                    epochs=30, gpuid='1', last_avf='softmax',\n",
      "                    loss='categorical_crossentropy', lr=0.0001, metric='ACC',\n",
      "                    monitor='val_loss', n_inception=2,\n",
      "                    name='AggMap MultiClass Estimator', patience=10000,\n",
      "                    random_state=32, verbose=0)\n"
     ]
    },
    {
     "name": "stderr",
     "output_type": "stream",
     "text": [
      "100%|####################################################################################################################################| 109/109 [00:00<00:00, 1994.21it/s]\n"
     ]
    },
    {
     "name": "stdout",
     "output_type": "stream",
     "text": [
      "\n",
      " input train and test X shape is (120, 30, 29, 5), (109, 30, 29, 5) \n"
     ]
    },
    {
     "name": "stderr",
     "output_type": "stream",
     "text": [
      "100%|####################################################################################################################################| 128/128 [00:00<00:00, 1803.29it/s]\n"
     ]
    },
    {
     "name": "stdout",
     "output_type": "stream",
     "text": [
      "\n",
      " input train and test X shape is (120, 30, 29, 5), (128, 30, 29, 5) \n"
     ]
    },
    {
     "name": "stderr",
     "output_type": "stream",
     "text": [
      "100%|####################################################################################################################################| 114/114 [00:00<00:00, 1963.58it/s]\n"
     ]
    },
    {
     "name": "stdout",
     "output_type": "stream",
     "text": [
      "\n",
      " input train and test X shape is (120, 30, 29, 5), (114, 30, 29, 5) \n"
     ]
    },
    {
     "name": "stderr",
     "output_type": "stream",
     "text": [
      "100%|####################################################################################################################################| 120/120 [00:00<00:00, 2678.24it/s]\n"
     ]
    },
    {
     "name": "stdout",
     "output_type": "stream",
     "text": [
      "\n",
      " input train and test X shape is (120, 30, 29, 5), (120, 30, 29, 5) \n"
     ]
    },
    {
     "name": "stderr",
     "output_type": "stream",
     "text": [
      "100%|####################################################################################################################################| 104/104 [00:00<00:00, 2263.42it/s]\n"
     ]
    },
    {
     "name": "stdout",
     "output_type": "stream",
     "text": [
      "\n",
      " input train and test X shape is (120, 30, 29, 5), (104, 30, 29, 5) \n"
     ]
    },
    {
     "name": "stderr",
     "output_type": "stream",
     "text": [
      "100%|####################################################################################################################################| 104/104 [00:00<00:00, 2296.05it/s]\n"
     ]
    },
    {
     "name": "stdout",
     "output_type": "stream",
     "text": [
      "MultiClassEstimator(batch_norm=False, batch_size=1, conv1_kernel_size=5,\n",
      "                    dense_avf='relu', dense_layers=[128], dropout=0.0,\n",
      "                    epochs=30, gpuid='1', last_avf='softmax',\n",
      "                    loss='categorical_crossentropy', lr=0.0001, metric='ACC',\n",
      "                    monitor='val_loss', n_inception=2,\n",
      "                    name='AggMap MultiClass Estimator', patience=10000,\n",
      "                    random_state=32, verbose=0)\n"
     ]
    },
    {
     "name": "stderr",
     "output_type": "stream",
     "text": [
      "100%|####################################################################################################################################| 109/109 [00:00<00:00, 2492.00it/s]\n"
     ]
    },
    {
     "name": "stdout",
     "output_type": "stream",
     "text": [
      "\n",
      " input train and test X shape is (104, 30, 29, 5), (109, 30, 29, 5) \n"
     ]
    },
    {
     "name": "stderr",
     "output_type": "stream",
     "text": [
      "100%|####################################################################################################################################| 128/128 [00:00<00:00, 1132.60it/s]\n"
     ]
    },
    {
     "name": "stdout",
     "output_type": "stream",
     "text": [
      "\n",
      " input train and test X shape is (104, 30, 29, 5), (128, 30, 29, 5) \n"
     ]
    },
    {
     "name": "stderr",
     "output_type": "stream",
     "text": [
      "100%|####################################################################################################################################| 114/114 [00:00<00:00, 1747.15it/s]\n"
     ]
    },
    {
     "name": "stdout",
     "output_type": "stream",
     "text": [
      "\n",
      " input train and test X shape is (104, 30, 29, 5), (114, 30, 29, 5) \n"
     ]
    },
    {
     "name": "stderr",
     "output_type": "stream",
     "text": [
      "100%|####################################################################################################################################| 120/120 [00:00<00:00, 2356.15it/s]\n"
     ]
    },
    {
     "name": "stdout",
     "output_type": "stream",
     "text": [
      "\n",
      " input train and test X shape is (104, 30, 29, 5), (120, 30, 29, 5) \n"
     ]
    },
    {
     "name": "stderr",
     "output_type": "stream",
     "text": [
      "100%|####################################################################################################################################| 104/104 [00:00<00:00, 2212.58it/s]\n"
     ]
    },
    {
     "name": "stdout",
     "output_type": "stream",
     "text": [
      "\n",
      " input train and test X shape is (104, 30, 29, 5), (104, 30, 29, 5) \n"
     ]
    }
   ],
   "source": [
    "for me in ['random','mds', 'lle', 'umap', 'isomap', 'tsne']:\n",
    "    \n",
    "    mp.fit(cluster_channels = 5, emb_method=me, verbose = 0)\n",
    "    country_idx = dfy_all.groupby(['Country']).apply(lambda x:x.index.tolist())\n",
    "    country_names = country_idx.index.tolist()\n",
    "    #study to study transfer\n",
    "\n",
    "    run_all = []\n",
    "    for train_country in country_names:\n",
    "\n",
    "        train_idx = country_idx.loc[train_country]\n",
    "        trainx = X[train_idx]\n",
    "        trainY = Y[train_idx]\n",
    "        trainX = mp.batch_transform(trainx, scale_method = 'standard')        \n",
    "        clf = AggMapNet.MultiClassEstimator(epochs = 30,  batch_size = 1, \n",
    "                                           conv1_kernel_size = 5, \n",
    "                                           verbose = 0, gpuid = 1)\n",
    "        clf.fit(trainX, trainY)  \n",
    "        for test_country in country_names:\n",
    "            test_idx = country_idx.loc[test_country]\n",
    "            testY = Y[test_idx]\n",
    "            testx = X[test_idx]\n",
    "            testX = mp.batch_transform(testx, scale_method = 'standard')\n",
    "            print(\"\\n input train and test X shape is %s, %s \" % (trainX.shape,  testX.shape))\n",
    "            y_true = testY[:,0]\n",
    "            y_pred = clf.predict(testX)[:,0]\n",
    "            y_score = clf.predict_proba(testX)[:,0]\n",
    "            tn, fp, fn, tp = confusion_matrix(y_true, y_pred).ravel()\n",
    "            acc = (tp + tn) / sum([tn, fp, fn, tp])\n",
    "            sensitivity = tp / sum([tp, fn])\n",
    "            specificity = tn / sum([tn, fp])\n",
    "            prc_auc = prc_auc_score(y_true, y_score)\n",
    "            roc_auc = roc_auc_score(y_true, y_score)\n",
    "            precision = tp / sum([tp, fp])\n",
    "            recall =  tp / sum([tp, fn]) #equals to sensitivity\n",
    "            res = {'train_country': train_country,\n",
    "                   'test_country':test_country,\n",
    "                   'accuracy':acc, \n",
    "                   'prc_auc':prc_auc, \n",
    "                   'roc_auc':roc_auc,\n",
    "                   'sensitivity': sensitivity, \n",
    "                   'specificity': specificity,\n",
    "                   'precision':precision,\n",
    "                   'recall':recall,\n",
    "                  }\n",
    "            run_all.append(res)\n",
    "\n",
    "    df = pd.DataFrame(run_all)\n",
    "    dfres = pd.crosstab(index = df.train_country, columns= df.test_country, \n",
    "                        values= df.roc_auc, aggfunc = np.mean)\n",
    "    dfres = dfres.rename(columns = {'AUS':\"AUS\", 'CHI':'CHN', 'FRA':'FRA', 'GER':'DEU', 'USA':'USA'},\n",
    "                        index =  {'AUS':\"AUS\", 'CHI':'CHN', 'FRA':'FRA', 'GER':'DEU', 'USA':'USA'}\n",
    "                        )\n",
    "\n",
    "    dfres.to_excel('./%s_study2study_results_ROC.xlsx' % me)"
   ]
  },
  {
   "cell_type": "code",
   "execution_count": null,
   "metadata": {},
   "outputs": [],
   "source": []
  },
  {
   "cell_type": "code",
   "execution_count": null,
   "metadata": {},
   "outputs": [],
   "source": []
  },
  {
   "cell_type": "code",
   "execution_count": null,
   "metadata": {},
   "outputs": [],
   "source": []
  }
 ],
 "metadata": {
  "kernelspec": {
   "display_name": "Python 3 (ipykernel)",
   "language": "python",
   "name": "python3"
  },
  "language_info": {
   "codemirror_mode": {
    "name": "ipython",
    "version": 3
   },
   "file_extension": ".py",
   "mimetype": "text/x-python",
   "name": "python",
   "nbconvert_exporter": "python",
   "pygments_lexer": "ipython3",
   "version": "3.7.11"
  }
 },
 "nbformat": 4,
 "nbformat_minor": 4
}
