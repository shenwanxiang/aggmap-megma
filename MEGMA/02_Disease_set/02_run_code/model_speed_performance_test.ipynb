{
 "cells": [
  {
   "cell_type": "code",
   "execution_count": 28,
   "id": "1d3e3d22-66f6-41ff-a45a-dafc3bdf2aeb",
   "metadata": {},
   "outputs": [],
   "source": [
    "\n",
    "import warnings, os\n",
    "\n",
    "import matplotlib.pyplot as plt\n",
    "import seaborn as sns\n",
    "import pandas as pd\n",
    "import numpy as np\n",
    "from copy import copy\n",
    "from tqdm import tqdm\n",
    "\n",
    "from glob import glob\n",
    "\n",
    "warnings.filterwarnings(\"ignore\")\n",
    "\n",
    "from matplotlib.ticker import FormatStrFormatter\n",
    "#gfc = gfc.rename(columns = {'AUS':\"AUS\", 'CHI':'CHN', 'FRA':'FRA', 'GER':'DEU', 'USA':'USA'})\n",
    "\n",
    "sns.set(style='white',  font='sans-serif', font_scale=2)  \n",
    "\n",
    "from statannot import add_stat_annotation\n",
    "\n",
    "\n",
    "from sklearn.ensemble import RandomForestClassifier\n",
    "\n",
    "import seaborn as sns\n",
    "import matplotlib.pyplot as plt\n",
    "from joblib import dump, load\n",
    "\n",
    "from aggmap import AggMap, AggMapNet\n",
    "\n"
   ]
  },
  {
   "cell_type": "code",
   "execution_count": 29,
   "id": "fe7eaf60-0577-43b5-92bd-3b95232dab10",
   "metadata": {},
   "outputs": [],
   "source": [
    "from time import time"
   ]
  },
  {
   "cell_type": "code",
   "execution_count": 30,
   "id": "37f9c2ae-a2ac-49b2-9288-951bd2712ebb",
   "metadata": {},
   "outputs": [],
   "source": [
    "def get_megma_time(dfx):\n",
    "    t1 = time()\n",
    "    mp = AggMap(dfx, by_scipy = True)\n",
    "    mp = mp.fit(verbose = 0, var_thr = 0) \n",
    "    X = mp.batch_transform(dfx.values)\n",
    "    t2 = time()\n",
    "    megma_time = t2-t1\n",
    "    \n",
    "    return megma_time, X, mp\n",
    "\n",
    "def get_AggMapNet_time(X, Y, **args):\n",
    "    t1 = time()\n",
    "    clf = AggMapNet.MultiClassEstimator(**args) #best epochs for dataset Cirrhosis\n",
    "    clf.fit(X, Y)\n",
    "    t2 = time()\n",
    "    aggmapnet_time = t2-t1\n",
    "    return aggmapnet_time\n",
    "\n",
    "\n",
    "\n",
    "def get_RF_time(X, Y, best_params):\n",
    "    t1 = time()\n",
    "    clf = RandomForestClassifier(**best_params, random_state = 666)\n",
    "    clf.fit(X, Y)  #, \n",
    "    t2 = time()\n",
    "    rf_time = t2-t1\n",
    "    return rf_time"
   ]
  },
  {
   "cell_type": "code",
   "execution_count": null,
   "id": "c9ee10c1-6bd3-44f7-b5d8-0ca29830b1d1",
   "metadata": {},
   "outputs": [],
   "source": []
  },
  {
   "cell_type": "code",
   "execution_count": 31,
   "id": "c271824e-0648-4eaf-aa90-218a9184b91b",
   "metadata": {},
   "outputs": [],
   "source": []
  },
  {
   "cell_type": "code",
   "execution_count": null,
   "id": "0bb71ea1-c813-4424-8c07-8e07e63d3628",
   "metadata": {
    "tags": []
   },
   "outputs": [],
   "source": []
  },
  {
   "cell_type": "code",
   "execution_count": 58,
   "id": "f6eec1fd-acc9-4739-8d6b-b9f4530a3d50",
   "metadata": {},
   "outputs": [
    {
     "name": "stdout",
     "output_type": "stream",
     "text": [
      "2022-09-21 17:14:39,900 - \u001b[32mINFO\u001b[0m - [bidd-aggmap]\u001b[0m - Calculating distance ...\u001b[0m\n"
     ]
    },
    {
     "name": "stderr",
     "output_type": "stream",
     "text": [
      "100%|####################################################################################################################################| 542/542 [00:00<00:00, 5461.95it/s]"
     ]
    },
    {
     "name": "stdout",
     "output_type": "stream",
     "text": [
      "2022-09-21 17:14:40,012 - \u001b[32mINFO\u001b[0m - [bidd-aggmap]\u001b[0m - applying hierarchical clustering to obtain group information ...\u001b[0m\n"
     ]
    },
    {
     "name": "stderr",
     "output_type": "stream",
     "text": [
      "\n"
     ]
    },
    {
     "name": "stdout",
     "output_type": "stream",
     "text": [
      "2022-09-21 17:14:40,402 - \u001b[32mINFO\u001b[0m - [bidd-aggmap]\u001b[0m - Applying grid assignment of feature points, this may take several minutes(1~30 min)\u001b[0m\n",
      "2022-09-21 17:14:40,784 - \u001b[32mINFO\u001b[0m - [bidd-aggmap]\u001b[0m - Finished\u001b[0m\n"
     ]
    },
    {
     "name": "stderr",
     "output_type": "stream",
     "text": [
      "100%|####################################################################################################################################| 232/232 [00:00<00:00, 4209.91it/s]"
     ]
    },
    {
     "name": "stdout",
     "output_type": "stream",
     "text": [
      "MultiClassEstimator(batch_norm=False, batch_size=128, conv1_kernel_size=13,\n",
      "                    dense_avf='relu', dense_layers=[128], dropout=0.0,\n",
      "                    epochs=18, gpuid='0', last_avf='softmax',\n",
      "                    loss='categorical_crossentropy', lr=0.0001, metric='ACC',\n",
      "                    monitor='val_loss', n_inception=2,\n",
      "                    name='AggMap MultiClass Estimator', patience=10000,\n",
      "                    random_state=32, verbose=0)\n"
     ]
    },
    {
     "name": "stderr",
     "output_type": "stream",
     "text": [
      "\n"
     ]
    }
   ],
   "source": [
    "data_path = '../01_data/species_level/Cirrhosis/'\n",
    "\n",
    "dfa = pd.read_csv(os.path.join(data_path, 'abundance.tsv'),sep='\\t', header=None, index_col=0)\n",
    "dfb = pd.read_csv(os.path.join(data_path, 'labels.txt'),sep='\\t', header=None)\n",
    "dfx = np.log(dfa.T + 1e-4)\n",
    "n, p = dfx.shape\n",
    "\n",
    "dfy = dfb[0].map({'cirrhosis':1, 'n':0})\n",
    "Y_rf = dfy.values\n",
    "\n",
    "Y_net = pd.get_dummies(dfy).values\n",
    "\n",
    "\n",
    "megma_time, X, mp = get_megma_time(dfx)\n",
    "\n",
    "ag_best_params = {\"epochs\":18, 'batch_size':2}\n",
    "aggmapnet_time = get_AggMapNet_time(X, Y_net, **ag_best_params) #best epochs for dataset Cirrhosis\n",
    "X_rf = mp.transform_mpX_to_df(X)[mp.flist].values\n",
    "rf_best_params = {\"n_estimators\":50,\"min_samples_split\":10,\"min_samples_leaf\":1,\"max_features\":\"auto\",\"max_depth\":100,\"bootstrap\":True}\n",
    "\n",
    "rf_time = get_RF_time(X_rf, Y_rf, rf_best_params)"
   ]
  },
  {
   "cell_type": "code",
   "execution_count": 93,
   "id": "cf8d0123-d9ab-428d-a47e-8ff278933afe",
   "metadata": {
    "tags": []
   },
   "outputs": [
    {
     "data": {
      "text/plain": [
       "(232, 542, 1.5725126266479492, 3.6546993255615234, 0.09367585182189941)"
      ]
     },
     "execution_count": 93,
     "metadata": {},
     "output_type": "execute_result"
    },
    {
     "data": {
      "image/png": "[encoded data removed]",
      "text/plain": [
       "<Figure size 432x576 with 1 Axes>"
      ]
     },
     "metadata": {},
     "output_type": "display_data"
    }
   ],
   "source": [
    "res = {'sklearn RF\\nmodule': {'RF': rf_time}, 'aggmap\\npackage': {'MEGMA':megma_time, 'AggMapNet':aggmapnet_time} }\n",
    "\n",
    "fig, ax =plt.subplots(figsize = (6,8),)\n",
    "pd.DataFrame(res).T.plot(kind='bar', stacked=True, ax =ax, width = 0.2) #hatch='x', \n",
    "n, p, megma_time, aggmapnet_time, rf_time"
   ]
  }
 ],
 "metadata": {
  "kernelspec": {
   "display_name": "Python 3 (ipykernel)",
   "language": "python",
   "name": "python3"
  },
  "language_info": {
   "codemirror_mode": {
    "name": "ipython",
    "version": 3
   },
   "file_extension": ".py",
   "mimetype": "text/x-python",
   "name": "python",
   "nbconvert_exporter": "python",
   "pygments_lexer": "ipython3",
   "version": "3.7.11"
  }
 },
 "nbformat": 4,
 "nbformat_minor": 5
}
