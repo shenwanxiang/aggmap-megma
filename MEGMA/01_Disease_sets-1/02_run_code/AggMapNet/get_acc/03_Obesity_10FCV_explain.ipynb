{
 "cells": [
  {
   "cell_type": "code",
   "execution_count": 8,
   "metadata": {},
   "outputs": [],
   "source": [
    "import warnings, os\n",
    "warnings.filterwarnings(\"ignore\")\n",
    "\n",
    "from copy import copy\n",
    "import pandas as pd\n",
    "import numpy as np\n",
    "from tqdm import tqdm\n",
    "from sklearn.model_selection import KFold, StratifiedKFold\n",
    "from sklearn.metrics import confusion_matrix, precision_recall_curve, accuracy_score\n",
    "from sklearn.metrics import roc_auc_score, matthews_corrcoef, precision_score, recall_score, f1_score\n",
    "\n",
    "\n",
    "import seaborn as sns\n",
    "import matplotlib.pyplot as plt\n",
    "from joblib import dump, load\n",
    "\n",
    "from aggmap import AggMap, loadmap\n",
    "from aggmap import AggMapNet as AggModel\n",
    "\n",
    "from aggmap.AggMapNet import load_model, save_model\n",
    "from aggmap import show\n",
    "\n",
    "\n",
    "np.random.seed(666) #just for reaptable results\n",
    "\n",
    "\n",
    "def score(dfr):\n",
    "    y_true = dfr.y_true\n",
    "    y_score = dfr.y_score\n",
    "    y_pred = dfr.y_pred\n",
    "\n",
    "    '''\n",
    "    the metrics are taken from orignal paper:\n",
    "    Meta-Signer: Metagenomic Signature Identifier based on Rank Aggregation of Features\n",
    "    https://github.com/YDaiLab/Meta-Signer/blob/bd6a1cd98d1035f848ecb6e53d9ee67a85871db2/src/utils/metasigner_io.py#L34\n",
    "    '''\n",
    "    auc = roc_auc_score(y_true, y_score, average='weighted')        \n",
    "    mcc = matthews_corrcoef(y_true, y_pred)\n",
    "    pres = precision_score(y_true, y_pred, average='weighted')\n",
    "    recall = recall_score(y_true, y_pred, average='weighted')\n",
    "    f1 = f1_score(y_true, y_pred, average='weighted')\n",
    "    acc = accuracy_score(y_true, y_pred)\n",
    "    \n",
    "    print('roc-auc: %.3f, mcc: %.3f, pres: %.3f, recall: %.3f, f1: %.3f' % (auc, mcc, pres, recall, f1))\n",
    "\n",
    "    return acc, auc, mcc, pres, recall, f1"
   ]
  },
  {
   "cell_type": "markdown",
   "metadata": {},
   "source": [
    "# read data"
   ]
  },
  {
   "cell_type": "code",
   "execution_count": 9,
   "metadata": {},
   "outputs": [],
   "source": [
    "task = 'Obesity'\n",
    "data_path = '../../../01_data/species_level/%s/' % (task)\n",
    "save_dir = '%s_results' % task\n",
    "if not os.path.exists(save_dir):\n",
    "    os.makedirs(save_dir)\n",
    "\n",
    "dfa = pd.read_csv(os.path.join(data_path, 'abundance.tsv'),sep='\\t', header=None, index_col=0)\n",
    "dfy = pd.read_csv(os.path.join(data_path, 'labels.txt'),sep='\\t', header=None)\n",
    "dfx = dfa.T\n",
    "dfy = pd.get_dummies(dfy[0].map({'obesity':1, 'leaness':0}))\n",
    "Y = dfy.values"
   ]
  },
  {
   "cell_type": "markdown",
   "metadata": {},
   "source": [
    "# generate Fmaps"
   ]
  },
  {
   "cell_type": "code",
   "execution_count": 10,
   "metadata": {},
   "outputs": [
    {
     "name": "stdout",
     "output_type": "stream",
     "text": [
      "2022-10-03 17:37:22,908 - \u001b[32mINFO\u001b[0m - [bidd-aggmap]\u001b[0m - Calculating distance ...\u001b[0m\n",
      "2022-10-03 17:37:22,914 - \u001b[32mINFO\u001b[0m - [bidd-aggmap]\u001b[0m - the number of process is 16\u001b[0m\n"
     ]
    },
    {
     "name": "stderr",
     "output_type": "stream",
     "text": [
      "100%|#############################################################################################################################| 107880/107880 [00:04<00:00, 26840.58it/s]\n",
      "100%|###########################################################################################################################| 107880/107880 [00:00<00:00, 4917315.26it/s]\n",
      "100%|####################################################################################################################################| 465/465 [00:00<00:00, 4837.31it/s]\n"
     ]
    },
    {
     "name": "stdout",
     "output_type": "stream",
     "text": [
      "2022-10-03 17:37:27,729 - \u001b[32mINFO\u001b[0m - [bidd-aggmap]\u001b[0m - applying hierarchical clustering to obtain group information ...\u001b[0m\n",
      "2022-10-03 17:37:28,144 - \u001b[32mINFO\u001b[0m - [bidd-aggmap]\u001b[0m - Applying grid assignment of feature points, this may take several minutes(1~30 min)\u001b[0m\n",
      "2022-10-03 17:37:28,424 - \u001b[32mINFO\u001b[0m - [bidd-aggmap]\u001b[0m - Finished\u001b[0m\n",
      "2022-10-03 17:37:28,429 - \u001b[32mINFO\u001b[0m - [bidd-aggmap]\u001b[0m - generate file: Obesity_results/feature points_465_correlation_umap_mp\u001b[0m\n",
      "2022-10-03 17:37:28,434 - \u001b[32mINFO\u001b[0m - [bidd-aggmap]\u001b[0m - save html file to Obesity_results/feature points_465_correlation_umap_mp\u001b[0m\n",
      "2022-10-03 17:37:28,435 - \u001b[32mINFO\u001b[0m - [bidd-aggmap]\u001b[0m - generate file: Obesity_results/feature points_465_correlation_umap_scatter\u001b[0m\n",
      "2022-10-03 17:37:28,440 - \u001b[32mINFO\u001b[0m - [bidd-aggmap]\u001b[0m - save html file to Obesity_results/feature points_465_correlation_umap_scatter\u001b[0m\n"
     ]
    },
    {
     "name": "stderr",
     "output_type": "stream",
     "text": [
      "100%|####################################################################################################################################| 253/253 [00:00<00:00, 2709.04it/s]\n"
     ]
    }
   ],
   "source": [
    "#could be optimized\n",
    "featHPs = {\"best_fill\":1e-2, \"best_scale_method\":'standard', \"best_channel_number\":8}\n",
    "dfx = np.log(dfx + featHPs.get('best_fill'))\n",
    "mp = AggMap(dfx, metric = 'correlation')\n",
    "mp = mp.fit(cluster_channels = featHPs.get('best_channel_number'), verbose = 0)\n",
    "\n",
    "mp.plot_grid(save_dir)\n",
    "mp.plot_scatter(save_dir)\n",
    "mp.save(os.path.join(save_dir, 'agg.mp'))\n",
    "\n",
    "X = mp.batch_transform(dfx.values, scale = featHPs.get('best_scale_method')) # NaN values should be the lowest value"
   ]
  },
  {
   "cell_type": "code",
   "execution_count": 11,
   "metadata": {},
   "outputs": [
    {
     "data": {
      "image/png": "[encoded data removed]",
      "text/plain": [
       "<Figure size 1152x576 with 1 Axes>"
      ]
     },
     "metadata": {
      "needs_background": "light"
     },
     "output_type": "display_data"
    }
   ],
   "source": [
    "fig_tree = mp.plot_tree(add_leaf_labels = False, leaf_font_size = 1)\n",
    "fig_tree.savefig(os.path.join(save_dir, 'tree.png'), bbox_inches='tight', dpi=300)"
   ]
  },
  {
   "cell_type": "markdown",
   "metadata": {},
   "source": [
    "# 10FCV"
   ]
  },
  {
   "cell_type": "code",
   "execution_count": 12,
   "metadata": {},
   "outputs": [
    {
     "name": "stdout",
     "output_type": "stream",
     "text": [
      "################################################## repeat_seed: 8; fold_00 ##################################################\n",
      "\n",
      " input train and test X shape is (227, 22, 22, 8), (26, 22, 22, 8) \n",
      "MultiClassEstimator(batch_norm=False, batch_size=2, conv1_kernel_size=13,\n",
      "                    dense_avf='relu', dense_layers=[128], dropout=0.0,\n",
      "                    epochs=50, gpuid='0', last_avf='softmax',\n",
      "                    loss='categorical_crossentropy', lr=0.0001, metric='ACC',\n",
      "                    monitor='val_loss', n_inception=2,\n",
      "                    name='AggMap MultiClass Estimator', patience=10000,\n",
      "                    random_state=32, verbose=0)\n",
      "saving model to Obesity_results/fold_00.model\n",
      "roc-auc: 0.647, mcc: 0.150, pres: 0.615, recall: 0.615, f1: 0.615\n",
      "{'acc': 0.615, 'auc': 0.647, 'mcc': 0.15, 'pres': 0.615, 'recall': 0.615, 'f1': 0.615, 'i': 0.0, 'repeat_seed': 8.0}\n",
      "################################################## repeat_seed: 8; fold_01 ##################################################\n",
      "\n",
      " input train and test X shape is (227, 22, 22, 8), (26, 22, 22, 8) \n",
      "MultiClassEstimator(batch_norm=False, batch_size=2, conv1_kernel_size=13,\n",
      "                    dense_avf='relu', dense_layers=[128], dropout=0.0,\n",
      "                    epochs=50, gpuid='0', last_avf='softmax',\n",
      "                    loss='categorical_crossentropy', lr=0.0001, metric='ACC',\n",
      "                    monitor='val_loss', n_inception=2,\n",
      "                    name='AggMap MultiClass Estimator', patience=10000,\n",
      "                    random_state=32, verbose=0)\n",
      "saving model to Obesity_results/fold_01.model\n",
      "roc-auc: 0.745, mcc: 0.320, pres: 0.692, recall: 0.692, f1: 0.692\n",
      "{'acc': 0.692, 'auc': 0.745, 'mcc': 0.32, 'pres': 0.692, 'recall': 0.692, 'f1': 0.692, 'i': 0.0, 'repeat_seed': 8.0}\n",
      "################################################## repeat_seed: 8; fold_02 ##################################################\n",
      "\n",
      " input train and test X shape is (227, 22, 22, 8), (26, 22, 22, 8) \n",
      "MultiClassEstimator(batch_norm=False, batch_size=2, conv1_kernel_size=13,\n",
      "                    dense_avf='relu', dense_layers=[128], dropout=0.0,\n",
      "                    epochs=50, gpuid='0', last_avf='softmax',\n",
      "                    loss='categorical_crossentropy', lr=0.0001, metric='ACC',\n",
      "                    monitor='val_loss', n_inception=2,\n",
      "                    name='AggMap MultiClass Estimator', patience=10000,\n",
      "                    random_state=32, verbose=0)\n",
      "saving model to Obesity_results/fold_02.model\n",
      "roc-auc: 0.503, mcc: -0.150, pres: 0.474, recall: 0.538, f1: 0.497\n",
      "{'acc': 0.538, 'auc': 0.503, 'mcc': -0.15, 'pres': 0.474, 'recall': 0.538, 'f1': 0.497, 'i': 0.0, 'repeat_seed': 8.0}\n",
      "################################################## repeat_seed: 8; fold_03 ##################################################\n",
      "\n",
      " input train and test X shape is (228, 22, 22, 8), (25, 22, 22, 8) \n",
      "MultiClassEstimator(batch_norm=False, batch_size=2, conv1_kernel_size=13,\n",
      "                    dense_avf='relu', dense_layers=[128], dropout=0.0,\n",
      "                    epochs=50, gpuid='0', last_avf='softmax',\n",
      "                    loss='categorical_crossentropy', lr=0.0001, metric='ACC',\n",
      "                    monitor='val_loss', n_inception=2,\n",
      "                    name='AggMap MultiClass Estimator', patience=10000,\n",
      "                    random_state=32, verbose=0)\n",
      "saving model to Obesity_results/fold_03.model\n",
      "roc-auc: 0.699, mcc: 0.336, pres: 0.712, recall: 0.720, f1: 0.715\n",
      "{'acc': 0.72, 'auc': 0.699, 'mcc': 0.336, 'pres': 0.712, 'recall': 0.72, 'f1': 0.715, 'i': 0.0, 'repeat_seed': 8.0}\n",
      "################################################## repeat_seed: 8; fold_04 ##################################################\n",
      "\n",
      " input train and test X shape is (228, 22, 22, 8), (25, 22, 22, 8) \n",
      "MultiClassEstimator(batch_norm=False, batch_size=2, conv1_kernel_size=13,\n",
      "                    dense_avf='relu', dense_layers=[128], dropout=0.0,\n",
      "                    epochs=50, gpuid='0', last_avf='softmax',\n",
      "                    loss='categorical_crossentropy', lr=0.0001, metric='ACC',\n",
      "                    monitor='val_loss', n_inception=2,\n",
      "                    name='AggMap MultiClass Estimator', patience=10000,\n",
      "                    random_state=32, verbose=0)\n",
      "saving model to Obesity_results/fold_04.model\n",
      "roc-auc: 0.667, mcc: 0.089, pres: 0.581, recall: 0.600, f1: 0.587\n",
      "{'acc': 0.6, 'auc': 0.667, 'mcc': 0.089, 'pres': 0.581, 'recall': 0.6, 'f1': 0.587, 'i': 0.0, 'repeat_seed': 8.0}\n",
      "################################################## repeat_seed: 8; fold_05 ##################################################\n",
      "\n",
      " input train and test X shape is (228, 22, 22, 8), (25, 22, 22, 8) \n",
      "MultiClassEstimator(batch_norm=False, batch_size=2, conv1_kernel_size=13,\n",
      "                    dense_avf='relu', dense_layers=[128], dropout=0.0,\n",
      "                    epochs=50, gpuid='0', last_avf='softmax',\n",
      "                    loss='categorical_crossentropy', lr=0.0001, metric='ACC',\n",
      "                    monitor='val_loss', n_inception=2,\n",
      "                    name='AggMap MultiClass Estimator', patience=10000,\n",
      "                    random_state=32, verbose=0)\n",
      "saving model to Obesity_results/fold_05.model\n",
      "roc-auc: 0.576, mcc: 0.089, pres: 0.581, recall: 0.600, f1: 0.587\n",
      "{'acc': 0.6, 'auc': 0.576, 'mcc': 0.089, 'pres': 0.581, 'recall': 0.6, 'f1': 0.587, 'i': 0.0, 'repeat_seed': 8.0}\n",
      "################################################## repeat_seed: 8; fold_06 ##################################################\n",
      "\n",
      " input train and test X shape is (228, 22, 22, 8), (25, 22, 22, 8) \n",
      "MultiClassEstimator(batch_norm=False, batch_size=2, conv1_kernel_size=13,\n",
      "                    dense_avf='relu', dense_layers=[128], dropout=0.0,\n",
      "                    epochs=50, gpuid='0', last_avf='softmax',\n",
      "                    loss='categorical_crossentropy', lr=0.0001, metric='ACC',\n",
      "                    monitor='val_loss', n_inception=2,\n",
      "                    name='AggMap MultiClass Estimator', patience=10000,\n",
      "                    random_state=32, verbose=0)\n",
      "saving model to Obesity_results/fold_06.model\n",
      "roc-auc: 0.618, mcc: 0.021, pres: 0.549, recall: 0.560, f1: 0.554\n",
      "{'acc': 0.56, 'auc': 0.618, 'mcc': 0.021, 'pres': 0.549, 'recall': 0.56, 'f1': 0.554, 'i': 0.0, 'repeat_seed': 8.0}\n",
      "################################################## repeat_seed: 8; fold_07 ##################################################\n",
      "\n",
      " input train and test X shape is (228, 22, 22, 8), (25, 22, 22, 8) \n",
      "MultiClassEstimator(batch_norm=False, batch_size=2, conv1_kernel_size=13,\n",
      "                    dense_avf='relu', dense_layers=[128], dropout=0.0,\n",
      "                    epochs=50, gpuid='0', last_avf='softmax',\n",
      "                    loss='categorical_crossentropy', lr=0.0001, metric='ACC',\n",
      "                    monitor='val_loss', n_inception=2,\n",
      "                    name='AggMap MultiClass Estimator', patience=10000,\n",
      "                    random_state=32, verbose=0)\n",
      "saving model to Obesity_results/fold_07.model\n",
      "roc-auc: 0.660, mcc: 0.164, pres: 0.618, recall: 0.640, f1: 0.619\n",
      "{'acc': 0.64, 'auc': 0.66, 'mcc': 0.164, 'pres': 0.618, 'recall': 0.64, 'f1': 0.619, 'i': 0.0, 'repeat_seed': 8.0}\n",
      "################################################## repeat_seed: 8; fold_08 ##################################################\n",
      "\n",
      " input train and test X shape is (228, 22, 22, 8), (25, 22, 22, 8) \n",
      "MultiClassEstimator(batch_norm=False, batch_size=2, conv1_kernel_size=13,\n",
      "                    dense_avf='relu', dense_layers=[128], dropout=0.0,\n",
      "                    epochs=50, gpuid='0', last_avf='softmax',\n",
      "                    loss='categorical_crossentropy', lr=0.0001, metric='ACC',\n",
      "                    monitor='val_loss', n_inception=2,\n",
      "                    name='AggMap MultiClass Estimator', patience=10000,\n",
      "                    random_state=32, verbose=0)\n",
      "saving model to Obesity_results/fold_08.model\n",
      "roc-auc: 0.618, mcc: 0.379, pres: 0.714, recall: 0.720, f1: 0.716\n",
      "{'acc': 0.72, 'auc': 0.618, 'mcc': 0.379, 'pres': 0.714, 'recall': 0.72, 'f1': 0.716, 'i': 0.0, 'repeat_seed': 8.0}\n",
      "################################################## repeat_seed: 8; fold_09 ##################################################\n",
      "\n",
      " input train and test X shape is (228, 22, 22, 8), (25, 22, 22, 8) \n",
      "MultiClassEstimator(batch_norm=False, batch_size=2, conv1_kernel_size=13,\n",
      "                    dense_avf='relu', dense_layers=[128], dropout=0.0,\n",
      "                    epochs=50, gpuid='0', last_avf='softmax',\n",
      "                    loss='categorical_crossentropy', lr=0.0001, metric='ACC',\n",
      "                    monitor='val_loss', n_inception=2,\n",
      "                    name='AggMap MultiClass Estimator', patience=10000,\n",
      "                    random_state=32, verbose=0)\n",
      "saving model to Obesity_results/fold_09.model\n",
      "roc-auc: 0.597, mcc: 0.306, pres: 0.680, recall: 0.680, f1: 0.680\n",
      "{'acc': 0.68, 'auc': 0.597, 'mcc': 0.306, 'pres': 0.68, 'recall': 0.68, 'f1': 0.68, 'i': 0.0, 'repeat_seed': 8.0}\n",
      "\n",
      "\n",
      "results for seed 8\n",
      "{'acc': 0.6365, 'auc': 0.633, 'mcc': 0.1704, 'pres': 0.6215999999999999, 'recall': 0.6365, 'f1': 0.6262, 'i': 0.0, 'repeat_seed': 8.0}\n",
      "################################################## repeat_seed: 16; fold_00 ##################################################\n",
      "\n",
      " input train and test X shape is (227, 22, 22, 8), (26, 22, 22, 8) \n",
      "MultiClassEstimator(batch_norm=False, batch_size=2, conv1_kernel_size=13,\n",
      "                    dense_avf='relu', dense_layers=[128], dropout=0.0,\n",
      "                    epochs=50, gpuid='0', last_avf='softmax',\n",
      "                    loss='categorical_crossentropy', lr=0.0001, metric='ACC',\n",
      "                    monitor='val_loss', n_inception=2,\n",
      "                    name='AggMap MultiClass Estimator', patience=10000,\n",
      "                    random_state=32, verbose=0)\n",
      "roc-auc: 0.693, mcc: 0.195, pres: 0.637, recall: 0.615, f1: 0.623\n",
      "{'acc': 0.615, 'auc': 0.693, 'mcc': 0.195, 'pres': 0.637, 'recall': 0.615, 'f1': 0.623, 'i': 1.0, 'repeat_seed': 16.0}\n",
      "################################################## repeat_seed: 16; fold_01 ##################################################\n",
      "\n",
      " input train and test X shape is (227, 22, 22, 8), (26, 22, 22, 8) \n",
      "MultiClassEstimator(batch_norm=False, batch_size=2, conv1_kernel_size=13,\n",
      "                    dense_avf='relu', dense_layers=[128], dropout=0.0,\n",
      "                    epochs=50, gpuid='0', last_avf='softmax',\n",
      "                    loss='categorical_crossentropy', lr=0.0001, metric='ACC',\n",
      "                    monitor='val_loss', n_inception=2,\n",
      "                    name='AggMap MultiClass Estimator', patience=10000,\n",
      "                    random_state=32, verbose=0)\n",
      "roc-auc: 0.569, mcc: 0.040, pres: 0.566, recall: 0.577, f1: 0.571\n",
      "{'acc': 0.577, 'auc': 0.569, 'mcc': 0.04, 'pres': 0.566, 'recall': 0.577, 'f1': 0.571, 'i': 1.0, 'repeat_seed': 16.0}\n",
      "################################################## repeat_seed: 16; fold_02 ##################################################\n",
      "\n",
      " input train and test X shape is (227, 22, 22, 8), (26, 22, 22, 8) \n",
      "MultiClassEstimator(batch_norm=False, batch_size=2, conv1_kernel_size=13,\n",
      "                    dense_avf='relu', dense_layers=[128], dropout=0.0,\n",
      "                    epochs=50, gpuid='0', last_avf='softmax',\n",
      "                    loss='categorical_crossentropy', lr=0.0001, metric='ACC',\n",
      "                    monitor='val_loss', n_inception=2,\n",
      "                    name='AggMap MultiClass Estimator', patience=10000,\n",
      "                    random_state=32, verbose=0)\n",
      "roc-auc: 0.569, mcc: -0.263, pres: 0.398, recall: 0.538, f1: 0.458\n",
      "{'acc': 0.538, 'auc': 0.569, 'mcc': -0.263, 'pres': 0.398, 'recall': 0.538, 'f1': 0.458, 'i': 1.0, 'repeat_seed': 16.0}\n",
      "################################################## repeat_seed: 16; fold_03 ##################################################\n",
      "\n",
      " input train and test X shape is (228, 22, 22, 8), (25, 22, 22, 8) \n",
      "MultiClassEstimator(batch_norm=False, batch_size=2, conv1_kernel_size=13,\n",
      "                    dense_avf='relu', dense_layers=[128], dropout=0.0,\n",
      "                    epochs=50, gpuid='0', last_avf='softmax',\n",
      "                    loss='categorical_crossentropy', lr=0.0001, metric='ACC',\n",
      "                    monitor='val_loss', n_inception=2,\n",
      "                    name='AggMap MultiClass Estimator', patience=10000,\n",
      "                    random_state=32, verbose=0)\n",
      "roc-auc: 0.522, mcc: 0.021, pres: 0.574, recall: 0.560, f1: 0.566\n",
      "{'acc': 0.56, 'auc': 0.522, 'mcc': 0.021, 'pres': 0.574, 'recall': 0.56, 'f1': 0.566, 'i': 1.0, 'repeat_seed': 16.0}\n",
      "################################################## repeat_seed: 16; fold_04 ##################################################\n",
      "\n",
      " input train and test X shape is (228, 22, 22, 8), (25, 22, 22, 8) \n",
      "MultiClassEstimator(batch_norm=False, batch_size=2, conv1_kernel_size=13,\n",
      "                    dense_avf='relu', dense_layers=[128], dropout=0.0,\n",
      "                    epochs=50, gpuid='0', last_avf='softmax',\n",
      "                    loss='categorical_crossentropy', lr=0.0001, metric='ACC',\n",
      "                    monitor='val_loss', n_inception=2,\n",
      "                    name='AggMap MultiClass Estimator', patience=10000,\n",
      "                    random_state=32, verbose=0)\n",
      "roc-auc: 0.743, mcc: 0.086, pres: 0.597, recall: 0.640, f1: 0.558\n",
      "{'acc': 0.64, 'auc': 0.743, 'mcc': 0.086, 'pres': 0.597, 'recall': 0.64, 'f1': 0.558, 'i': 1.0, 'repeat_seed': 16.0}\n",
      "################################################## repeat_seed: 16; fold_05 ##################################################\n",
      "\n",
      " input train and test X shape is (228, 22, 22, 8), (25, 22, 22, 8) \n",
      "MultiClassEstimator(batch_norm=False, batch_size=2, conv1_kernel_size=13,\n",
      "                    dense_avf='relu', dense_layers=[128], dropout=0.0,\n",
      "                    epochs=50, gpuid='0', last_avf='softmax',\n",
      "                    loss='categorical_crossentropy', lr=0.0001, metric='ACC',\n",
      "                    monitor='val_loss', n_inception=2,\n",
      "                    name='AggMap MultiClass Estimator', patience=10000,\n",
      "                    random_state=32, verbose=0)\n",
      "roc-auc: 0.743, mcc: 0.359, pres: 0.712, recall: 0.720, f1: 0.704\n",
      "{'acc': 0.72, 'auc': 0.743, 'mcc': 0.359, 'pres': 0.712, 'recall': 0.72, 'f1': 0.704, 'i': 1.0, 'repeat_seed': 16.0}\n",
      "################################################## repeat_seed: 16; fold_06 ##################################################\n",
      "\n",
      " input train and test X shape is (228, 22, 22, 8), (25, 22, 22, 8) \n",
      "MultiClassEstimator(batch_norm=False, batch_size=2, conv1_kernel_size=13,\n",
      "                    dense_avf='relu', dense_layers=[128], dropout=0.0,\n",
      "                    epochs=50, gpuid='0', last_avf='softmax',\n",
      "                    loss='categorical_crossentropy', lr=0.0001, metric='ACC',\n",
      "                    monitor='val_loss', n_inception=2,\n",
      "                    name='AggMap MultiClass Estimator', patience=10000,\n",
      "                    random_state=32, verbose=0)\n",
      "roc-auc: 0.528, mcc: 0.089, pres: 0.581, recall: 0.600, f1: 0.587\n",
      "{'acc': 0.6, 'auc': 0.528, 'mcc': 0.089, 'pres': 0.581, 'recall': 0.6, 'f1': 0.587, 'i': 1.0, 'repeat_seed': 16.0}\n",
      "################################################## repeat_seed: 16; fold_07 ##################################################\n",
      "\n",
      " input train and test X shape is (228, 22, 22, 8), (25, 22, 22, 8) \n",
      "MultiClassEstimator(batch_norm=False, batch_size=2, conv1_kernel_size=13,\n",
      "                    dense_avf='relu', dense_layers=[128], dropout=0.0,\n",
      "                    epochs=50, gpuid='0', last_avf='softmax',\n",
      "                    loss='categorical_crossentropy', lr=0.0001, metric='ACC',\n",
      "                    monitor='val_loss', n_inception=2,\n",
      "                    name='AggMap MultiClass Estimator', patience=10000,\n",
      "                    random_state=32, verbose=0)\n",
      "roc-auc: 0.660, mcc: 0.379, pres: 0.714, recall: 0.720, f1: 0.716\n",
      "{'acc': 0.72, 'auc': 0.66, 'mcc': 0.379, 'pres': 0.714, 'recall': 0.72, 'f1': 0.716, 'i': 1.0, 'repeat_seed': 16.0}\n",
      "################################################## repeat_seed: 16; fold_08 ##################################################\n",
      "\n",
      " input train and test X shape is (228, 22, 22, 8), (25, 22, 22, 8) \n",
      "MultiClassEstimator(batch_norm=False, batch_size=2, conv1_kernel_size=13,\n",
      "                    dense_avf='relu', dense_layers=[128], dropout=0.0,\n",
      "                    epochs=50, gpuid='0', last_avf='softmax',\n",
      "                    loss='categorical_crossentropy', lr=0.0001, metric='ACC',\n",
      "                    monitor='val_loss', n_inception=2,\n",
      "                    name='AggMap MultiClass Estimator', patience=10000,\n",
      "                    random_state=32, verbose=0)\n",
      "roc-auc: 0.715, mcc: 0.306, pres: 0.680, recall: 0.680, f1: 0.680\n",
      "{'acc': 0.68, 'auc': 0.715, 'mcc': 0.306, 'pres': 0.68, 'recall': 0.68, 'f1': 0.68, 'i': 1.0, 'repeat_seed': 16.0}\n",
      "################################################## repeat_seed: 16; fold_09 ##################################################\n",
      "\n",
      " input train and test X shape is (228, 22, 22, 8), (25, 22, 22, 8) \n",
      "MultiClassEstimator(batch_norm=False, batch_size=2, conv1_kernel_size=13,\n",
      "                    dense_avf='relu', dense_layers=[128], dropout=0.0,\n",
      "                    epochs=50, gpuid='0', last_avf='softmax',\n",
      "                    loss='categorical_crossentropy', lr=0.0001, metric='ACC',\n",
      "                    monitor='val_loss', n_inception=2,\n",
      "                    name='AggMap MultiClass Estimator', patience=10000,\n",
      "                    random_state=32, verbose=0)\n",
      "roc-auc: 0.451, mcc: -0.097, pres: 0.494, recall: 0.520, f1: 0.504\n",
      "{'acc': 0.52, 'auc': 0.451, 'mcc': -0.097, 'pres': 0.494, 'recall': 0.52, 'f1': 0.504, 'i': 1.0, 'repeat_seed': 16.0}\n",
      "\n",
      "\n",
      "results for seed 16\n",
      "{'acc': 0.617, 'auc': 0.6192999999999999, 'mcc': 0.1115, 'pres': 0.5952999999999999, 'recall': 0.617, 'f1': 0.5966999999999999, 'i': 1.0, 'repeat_seed': 16.0}\n",
      "################################################## repeat_seed: 32; fold_00 ##################################################\n",
      "\n",
      " input train and test X shape is (227, 22, 22, 8), (26, 22, 22, 8) \n",
      "MultiClassEstimator(batch_norm=False, batch_size=2, conv1_kernel_size=13,\n",
      "                    dense_avf='relu', dense_layers=[128], dropout=0.0,\n",
      "                    epochs=50, gpuid='0', last_avf='softmax',\n",
      "                    loss='categorical_crossentropy', lr=0.0001, metric='ACC',\n",
      "                    monitor='val_loss', n_inception=2,\n",
      "                    name='AggMap MultiClass Estimator', patience=10000,\n",
      "                    random_state=32, verbose=0)\n",
      "roc-auc: 0.641, mcc: 0.138, pres: 0.619, recall: 0.654, f1: 0.609\n",
      "{'acc': 0.654, 'auc': 0.641, 'mcc': 0.138, 'pres': 0.619, 'recall': 0.654, 'f1': 0.609, 'i': 2.0, 'repeat_seed': 32.0}\n",
      "################################################## repeat_seed: 32; fold_01 ##################################################\n",
      "\n",
      " input train and test X shape is (227, 22, 22, 8), (26, 22, 22, 8) \n",
      "MultiClassEstimator(batch_norm=False, batch_size=2, conv1_kernel_size=13,\n",
      "                    dense_avf='relu', dense_layers=[128], dropout=0.0,\n",
      "                    epochs=50, gpuid='0', last_avf='softmax',\n",
      "                    loss='categorical_crossentropy', lr=0.0001, metric='ACC',\n",
      "                    monitor='val_loss', n_inception=2,\n",
      "                    name='AggMap MultiClass Estimator', patience=10000,\n",
      "                    random_state=32, verbose=0)\n",
      "roc-auc: 0.719, mcc: 0.320, pres: 0.692, recall: 0.692, f1: 0.692\n",
      "{'acc': 0.692, 'auc': 0.719, 'mcc': 0.32, 'pres': 0.692, 'recall': 0.692, 'f1': 0.692, 'i': 2.0, 'repeat_seed': 32.0}\n",
      "################################################## repeat_seed: 32; fold_02 ##################################################\n",
      "\n",
      " input train and test X shape is (227, 22, 22, 8), (26, 22, 22, 8) \n",
      "MultiClassEstimator(batch_norm=False, batch_size=2, conv1_kernel_size=13,\n",
      "                    dense_avf='relu', dense_layers=[128], dropout=0.0,\n",
      "                    epochs=50, gpuid='0', last_avf='softmax',\n",
      "                    loss='categorical_crossentropy', lr=0.0001, metric='ACC',\n",
      "                    monitor='val_loss', n_inception=2,\n",
      "                    name='AggMap MultiClass Estimator', patience=10000,\n",
      "                    random_state=32, verbose=0)\n",
      "roc-auc: 0.536, mcc: -0.010, pres: 0.542, recall: 0.615, f1: 0.548\n",
      "{'acc': 0.615, 'auc': 0.536, 'mcc': -0.01, 'pres': 0.542, 'recall': 0.615, 'f1': 0.548, 'i': 2.0, 'repeat_seed': 32.0}\n",
      "################################################## repeat_seed: 32; fold_03 ##################################################\n",
      "\n",
      " input train and test X shape is (228, 22, 22, 8), (25, 22, 22, 8) \n",
      "MultiClassEstimator(batch_norm=False, batch_size=2, conv1_kernel_size=13,\n",
      "                    dense_avf='relu', dense_layers=[128], dropout=0.0,\n",
      "                    epochs=50, gpuid='0', last_avf='softmax',\n",
      "                    loss='categorical_crossentropy', lr=0.0001, metric='ACC',\n",
      "                    monitor='val_loss', n_inception=2,\n",
      "                    name='AggMap MultiClass Estimator', patience=10000,\n",
      "                    random_state=32, verbose=0)\n",
      "roc-auc: 0.772, mcc: 0.418, pres: 0.750, recall: 0.760, f1: 0.750\n",
      "{'acc': 0.76, 'auc': 0.772, 'mcc': 0.418, 'pres': 0.75, 'recall': 0.76, 'f1': 0.75, 'i': 2.0, 'repeat_seed': 32.0}\n",
      "################################################## repeat_seed: 32; fold_04 ##################################################\n",
      "\n",
      " input train and test X shape is (228, 22, 22, 8), (25, 22, 22, 8) \n",
      "MultiClassEstimator(batch_norm=False, batch_size=2, conv1_kernel_size=13,\n",
      "                    dense_avf='relu', dense_layers=[128], dropout=0.0,\n",
      "                    epochs=50, gpuid='0', last_avf='softmax',\n",
      "                    loss='categorical_crossentropy', lr=0.0001, metric='ACC',\n",
      "                    monitor='val_loss', n_inception=2,\n",
      "                    name='AggMap MultiClass Estimator', patience=10000,\n",
      "                    random_state=32, verbose=0)\n",
      "roc-auc: 0.590, mcc: 0.042, pres: 0.560, recall: 0.600, f1: 0.565\n",
      "{'acc': 0.6, 'auc': 0.59, 'mcc': 0.042, 'pres': 0.56, 'recall': 0.6, 'f1': 0.565, 'i': 2.0, 'repeat_seed': 32.0}\n",
      "################################################## repeat_seed: 32; fold_05 ##################################################\n",
      "\n",
      " input train and test X shape is (228, 22, 22, 8), (25, 22, 22, 8) \n",
      "MultiClassEstimator(batch_norm=False, batch_size=2, conv1_kernel_size=13,\n",
      "                    dense_avf='relu', dense_layers=[128], dropout=0.0,\n",
      "                    epochs=50, gpuid='0', last_avf='softmax',\n",
      "                    loss='categorical_crossentropy', lr=0.0001, metric='ACC',\n",
      "                    monitor='val_loss', n_inception=2,\n",
      "                    name='AggMap MultiClass Estimator', patience=10000,\n",
      "                    random_state=32, verbose=0)\n",
      "roc-auc: 0.729, mcc: 0.355, pres: 0.727, recall: 0.720, f1: 0.685\n",
      "{'acc': 0.72, 'auc': 0.729, 'mcc': 0.355, 'pres': 0.727, 'recall': 0.72, 'f1': 0.685, 'i': 2.0, 'repeat_seed': 32.0}\n",
      "################################################## repeat_seed: 32; fold_06 ##################################################\n",
      "\n",
      " input train and test X shape is (228, 22, 22, 8), (25, 22, 22, 8) \n",
      "MultiClassEstimator(batch_norm=False, batch_size=2, conv1_kernel_size=13,\n",
      "                    dense_avf='relu', dense_layers=[128], dropout=0.0,\n",
      "                    epochs=50, gpuid='0', last_avf='softmax',\n",
      "                    loss='categorical_crossentropy', lr=0.0001, metric='ACC',\n",
      "                    monitor='val_loss', n_inception=2,\n",
      "                    name='AggMap MultiClass Estimator', patience=10000,\n",
      "                    random_state=32, verbose=0)\n",
      "roc-auc: 0.639, mcc: 0.113, pres: 0.593, recall: 0.560, f1: 0.569\n",
      "{'acc': 0.56, 'auc': 0.639, 'mcc': 0.113, 'pres': 0.593, 'recall': 0.56, 'f1': 0.569, 'i': 2.0, 'repeat_seed': 32.0}\n",
      "################################################## repeat_seed: 32; fold_07 ##################################################\n",
      "\n",
      " input train and test X shape is (228, 22, 22, 8), (25, 22, 22, 8) \n",
      "MultiClassEstimator(batch_norm=False, batch_size=2, conv1_kernel_size=13,\n",
      "                    dense_avf='relu', dense_layers=[128], dropout=0.0,\n",
      "                    epochs=50, gpuid='0', last_avf='softmax',\n",
      "                    loss='categorical_crossentropy', lr=0.0001, metric='ACC',\n",
      "                    monitor='val_loss', n_inception=2,\n",
      "                    name='AggMap MultiClass Estimator', patience=10000,\n",
      "                    random_state=32, verbose=0)\n",
      "roc-auc: 0.549, mcc: 0.042, pres: 0.560, recall: 0.600, f1: 0.565\n",
      "{'acc': 0.6, 'auc': 0.549, 'mcc': 0.042, 'pres': 0.56, 'recall': 0.6, 'f1': 0.565, 'i': 2.0, 'repeat_seed': 32.0}\n",
      "################################################## repeat_seed: 32; fold_08 ##################################################\n",
      "\n",
      " input train and test X shape is (228, 22, 22, 8), (25, 22, 22, 8) \n",
      "MultiClassEstimator(batch_norm=False, batch_size=2, conv1_kernel_size=13,\n",
      "                    dense_avf='relu', dense_layers=[128], dropout=0.0,\n",
      "                    epochs=50, gpuid='0', last_avf='softmax',\n",
      "                    loss='categorical_crossentropy', lr=0.0001, metric='ACC',\n",
      "                    monitor='val_loss', n_inception=2,\n",
      "                    name='AggMap MultiClass Estimator', patience=10000,\n",
      "                    random_state=32, verbose=0)\n",
      "roc-auc: 0.660, mcc: 0.175, pres: 0.621, recall: 0.600, f1: 0.607\n",
      "{'acc': 0.6, 'auc': 0.66, 'mcc': 0.175, 'pres': 0.621, 'recall': 0.6, 'f1': 0.607, 'i': 2.0, 'repeat_seed': 32.0}\n",
      "################################################## repeat_seed: 32; fold_09 ##################################################\n",
      "\n",
      " input train and test X shape is (228, 22, 22, 8), (25, 22, 22, 8) \n",
      "MultiClassEstimator(batch_norm=False, batch_size=2, conv1_kernel_size=13,\n",
      "                    dense_avf='relu', dense_layers=[128], dropout=0.0,\n",
      "                    epochs=50, gpuid='0', last_avf='softmax',\n",
      "                    loss='categorical_crossentropy', lr=0.0001, metric='ACC',\n",
      "                    monitor='val_loss', n_inception=2,\n",
      "                    name='AggMap MultiClass Estimator', patience=10000,\n",
      "                    random_state=32, verbose=0)\n",
      "roc-auc: 0.785, mcc: 0.460, pres: 0.755, recall: 0.760, f1: 0.752\n",
      "{'acc': 0.76, 'auc': 0.785, 'mcc': 0.46, 'pres': 0.755, 'recall': 0.76, 'f1': 0.752, 'i': 2.0, 'repeat_seed': 32.0}\n",
      "\n",
      "\n",
      "results for seed 32\n",
      "{'acc': 0.6561, 'auc': 0.6620000000000001, 'mcc': 0.20529999999999998, 'pres': 0.6418999999999999, 'recall': 0.6561, 'f1': 0.6342000000000001, 'i': 2.0, 'repeat_seed': 32.0}\n",
      "################################################## repeat_seed: 64; fold_00 ##################################################\n",
      "\n",
      " input train and test X shape is (227, 22, 22, 8), (26, 22, 22, 8) \n",
      "MultiClassEstimator(batch_norm=False, batch_size=2, conv1_kernel_size=13,\n",
      "                    dense_avf='relu', dense_layers=[128], dropout=0.0,\n",
      "                    epochs=50, gpuid='0', last_avf='softmax',\n",
      "                    loss='categorical_crossentropy', lr=0.0001, metric='ACC',\n",
      "                    monitor='val_loss', n_inception=2,\n",
      "                    name='AggMap MultiClass Estimator', patience=10000,\n",
      "                    random_state=32, verbose=0)\n",
      "roc-auc: 0.673, mcc: 0.105, pres: 0.596, recall: 0.615, f1: 0.602\n",
      "{'acc': 0.615, 'auc': 0.673, 'mcc': 0.105, 'pres': 0.596, 'recall': 0.615, 'f1': 0.602, 'i': 3.0, 'repeat_seed': 64.0}\n",
      "################################################## repeat_seed: 64; fold_01 ##################################################\n",
      "\n",
      " input train and test X shape is (227, 22, 22, 8), (26, 22, 22, 8) \n",
      "MultiClassEstimator(batch_norm=False, batch_size=2, conv1_kernel_size=13,\n",
      "                    dense_avf='relu', dense_layers=[128], dropout=0.0,\n",
      "                    epochs=50, gpuid='0', last_avf='softmax',\n",
      "                    loss='categorical_crossentropy', lr=0.0001, metric='ACC',\n",
      "                    monitor='val_loss', n_inception=2,\n",
      "                    name='AggMap MultiClass Estimator', patience=10000,\n",
      "                    random_state=32, verbose=0)\n",
      "roc-auc: 0.660, mcc: 0.105, pres: 0.596, recall: 0.615, f1: 0.602\n",
      "{'acc': 0.615, 'auc': 0.66, 'mcc': 0.105, 'pres': 0.596, 'recall': 0.615, 'f1': 0.602, 'i': 3.0, 'repeat_seed': 64.0}\n",
      "################################################## repeat_seed: 64; fold_02 ##################################################\n",
      "\n",
      " input train and test X shape is (227, 22, 22, 8), (26, 22, 22, 8) \n",
      "MultiClassEstimator(batch_norm=False, batch_size=2, conv1_kernel_size=13,\n",
      "                    dense_avf='relu', dense_layers=[128], dropout=0.0,\n",
      "                    epochs=50, gpuid='0', last_avf='softmax',\n",
      "                    loss='categorical_crossentropy', lr=0.0001, metric='ACC',\n",
      "                    monitor='val_loss', n_inception=2,\n",
      "                    name='AggMap MultiClass Estimator', patience=10000,\n",
      "                    random_state=32, verbose=0)\n",
      "roc-auc: 0.392, mcc: -0.259, pres: 0.428, recall: 0.462, f1: 0.443\n",
      "{'acc': 0.462, 'auc': 0.392, 'mcc': -0.259, 'pres': 0.428, 'recall': 0.462, 'f1': 0.443, 'i': 3.0, 'repeat_seed': 64.0}\n",
      "################################################## repeat_seed: 64; fold_03 ##################################################\n",
      "\n",
      " input train and test X shape is (228, 22, 22, 8), (25, 22, 22, 8) \n",
      "MultiClassEstimator(batch_norm=False, batch_size=2, conv1_kernel_size=13,\n",
      "                    dense_avf='relu', dense_layers=[128], dropout=0.0,\n",
      "                    epochs=50, gpuid='0', last_avf='softmax',\n",
      "                    loss='categorical_crossentropy', lr=0.0001, metric='ACC',\n",
      "                    monitor='val_loss', n_inception=2,\n",
      "                    name='AggMap MultiClass Estimator', patience=10000,\n",
      "                    random_state=32, verbose=0)\n",
      "roc-auc: 0.596, mcc: 0.011, pres: 0.570, recall: 0.640, f1: 0.581\n",
      "{'acc': 0.64, 'auc': 0.596, 'mcc': 0.011, 'pres': 0.57, 'recall': 0.64, 'f1': 0.581, 'i': 3.0, 'repeat_seed': 64.0}\n",
      "################################################## repeat_seed: 64; fold_04 ##################################################\n",
      "\n",
      " input train and test X shape is (228, 22, 22, 8), (25, 22, 22, 8) \n",
      "MultiClassEstimator(batch_norm=False, batch_size=2, conv1_kernel_size=13,\n",
      "                    dense_avf='relu', dense_layers=[128], dropout=0.0,\n",
      "                    epochs=50, gpuid='0', last_avf='softmax',\n",
      "                    loss='categorical_crossentropy', lr=0.0001, metric='ACC',\n",
      "                    monitor='val_loss', n_inception=2,\n",
      "                    name='AggMap MultiClass Estimator', patience=10000,\n",
      "                    random_state=32, verbose=0)\n",
      "roc-auc: 0.597, mcc: 0.089, pres: 0.581, recall: 0.600, f1: 0.587\n",
      "{'acc': 0.6, 'auc': 0.597, 'mcc': 0.089, 'pres': 0.581, 'recall': 0.6, 'f1': 0.587, 'i': 3.0, 'repeat_seed': 64.0}\n",
      "################################################## repeat_seed: 64; fold_05 ##################################################\n",
      "\n",
      " input train and test X shape is (228, 22, 22, 8), (25, 22, 22, 8) \n",
      "MultiClassEstimator(batch_norm=False, batch_size=2, conv1_kernel_size=13,\n",
      "                    dense_avf='relu', dense_layers=[128], dropout=0.0,\n",
      "                    epochs=50, gpuid='0', last_avf='softmax',\n",
      "                    loss='categorical_crossentropy', lr=0.0001, metric='ACC',\n",
      "                    monitor='val_loss', n_inception=2,\n",
      "                    name='AggMap MultiClass Estimator', patience=10000,\n",
      "                    random_state=32, verbose=0)\n",
      "roc-auc: 0.896, mcc: 0.554, pres: 0.805, recall: 0.800, f1: 0.789\n",
      "{'acc': 0.8, 'auc': 0.896, 'mcc': 0.554, 'pres': 0.805, 'recall': 0.8, 'f1': 0.789, 'i': 3.0, 'repeat_seed': 64.0}\n",
      "################################################## repeat_seed: 64; fold_06 ##################################################\n",
      "\n",
      " input train and test X shape is (228, 22, 22, 8), (25, 22, 22, 8) \n",
      "MultiClassEstimator(batch_norm=False, batch_size=2, conv1_kernel_size=13,\n",
      "                    dense_avf='relu', dense_layers=[128], dropout=0.0,\n",
      "                    epochs=50, gpuid='0', last_avf='softmax',\n",
      "                    loss='categorical_crossentropy', lr=0.0001, metric='ACC',\n",
      "                    monitor='val_loss', n_inception=2,\n",
      "                    name='AggMap MultiClass Estimator', patience=10000,\n",
      "                    random_state=32, verbose=0)\n",
      "roc-auc: 0.528, mcc: 0.089, pres: 0.581, recall: 0.600, f1: 0.587\n",
      "{'acc': 0.6, 'auc': 0.528, 'mcc': 0.089, 'pres': 0.581, 'recall': 0.6, 'f1': 0.587, 'i': 3.0, 'repeat_seed': 64.0}\n",
      "################################################## repeat_seed: 64; fold_07 ##################################################\n",
      "\n",
      " input train and test X shape is (228, 22, 22, 8), (25, 22, 22, 8) \n",
      "MultiClassEstimator(batch_norm=False, batch_size=2, conv1_kernel_size=13,\n",
      "                    dense_avf='relu', dense_layers=[128], dropout=0.0,\n",
      "                    epochs=50, gpuid='0', last_avf='softmax',\n",
      "                    loss='categorical_crossentropy', lr=0.0001, metric='ACC',\n",
      "                    monitor='val_loss', n_inception=2,\n",
      "                    name='AggMap MultiClass Estimator', patience=10000,\n",
      "                    random_state=32, verbose=0)\n",
      "roc-auc: 0.854, mcc: 0.458, pres: 0.768, recall: 0.760, f1: 0.739\n",
      "{'acc': 0.76, 'auc': 0.854, 'mcc': 0.458, 'pres': 0.768, 'recall': 0.76, 'f1': 0.739, 'i': 3.0, 'repeat_seed': 64.0}\n",
      "################################################## repeat_seed: 64; fold_08 ##################################################\n",
      "\n",
      " input train and test X shape is (228, 22, 22, 8), (25, 22, 22, 8) \n",
      "MultiClassEstimator(batch_norm=False, batch_size=2, conv1_kernel_size=13,\n",
      "                    dense_avf='relu', dense_layers=[128], dropout=0.0,\n",
      "                    epochs=50, gpuid='0', last_avf='softmax',\n",
      "                    loss='categorical_crossentropy', lr=0.0001, metric='ACC',\n",
      "                    monitor='val_loss', n_inception=2,\n",
      "                    name='AggMap MultiClass Estimator', patience=10000,\n",
      "                    random_state=32, verbose=0)\n",
      "roc-auc: 0.701, mcc: 0.306, pres: 0.680, recall: 0.680, f1: 0.680\n",
      "{'acc': 0.68, 'auc': 0.701, 'mcc': 0.306, 'pres': 0.68, 'recall': 0.68, 'f1': 0.68, 'i': 3.0, 'repeat_seed': 64.0}\n",
      "################################################## repeat_seed: 64; fold_09 ##################################################\n",
      "\n",
      " input train and test X shape is (228, 22, 22, 8), (25, 22, 22, 8) \n",
      "MultiClassEstimator(batch_norm=False, batch_size=2, conv1_kernel_size=13,\n",
      "                    dense_avf='relu', dense_layers=[128], dropout=0.0,\n",
      "                    epochs=50, gpuid='0', last_avf='softmax',\n",
      "                    loss='categorical_crossentropy', lr=0.0001, metric='ACC',\n",
      "                    monitor='val_loss', n_inception=2,\n",
      "                    name='AggMap MultiClass Estimator', patience=10000,\n",
      "                    random_state=32, verbose=0)\n",
      "roc-auc: 0.493, mcc: -0.097, pres: 0.494, recall: 0.520, f1: 0.504\n",
      "{'acc': 0.52, 'auc': 0.493, 'mcc': -0.097, 'pres': 0.494, 'recall': 0.52, 'f1': 0.504, 'i': 3.0, 'repeat_seed': 64.0}\n",
      "\n",
      "\n",
      "results for seed 64\n",
      "{'acc': 0.6292, 'auc': 0.639, 'mcc': 0.1361, 'pres': 0.6098999999999999, 'recall': 0.6292, 'f1': 0.6113999999999999, 'i': 3.0, 'repeat_seed': 64.0}\n",
      "################################################## repeat_seed: 128; fold_00 ##################################################\n",
      "\n",
      " input train and test X shape is (227, 22, 22, 8), (26, 22, 22, 8) \n",
      "MultiClassEstimator(batch_norm=False, batch_size=2, conv1_kernel_size=13,\n",
      "                    dense_avf='relu', dense_layers=[128], dropout=0.0,\n",
      "                    epochs=50, gpuid='0', last_avf='softmax',\n",
      "                    loss='categorical_crossentropy', lr=0.0001, metric='ACC',\n",
      "                    monitor='val_loss', n_inception=2,\n",
      "                    name='AggMap MultiClass Estimator', patience=10000,\n",
      "                    random_state=32, verbose=0)\n",
      "roc-auc: 0.523, mcc: 0.105, pres: 0.596, recall: 0.615, f1: 0.602\n",
      "{'acc': 0.615, 'auc': 0.523, 'mcc': 0.105, 'pres': 0.596, 'recall': 0.615, 'f1': 0.602, 'i': 4.0, 'repeat_seed': 128.0}\n",
      "################################################## repeat_seed: 128; fold_01 ##################################################\n",
      "\n",
      " input train and test X shape is (227, 22, 22, 8), (26, 22, 22, 8) \n",
      "MultiClassEstimator(batch_norm=False, batch_size=2, conv1_kernel_size=13,\n",
      "                    dense_avf='relu', dense_layers=[128], dropout=0.0,\n",
      "                    epochs=50, gpuid='0', last_avf='softmax',\n",
      "                    loss='categorical_crossentropy', lr=0.0001, metric='ACC',\n",
      "                    monitor='val_loss', n_inception=2,\n",
      "                    name='AggMap MultiClass Estimator', patience=10000,\n",
      "                    random_state=32, verbose=0)\n",
      "roc-auc: 0.719, mcc: 0.299, pres: 0.687, recall: 0.654, f1: 0.662\n",
      "{'acc': 0.654, 'auc': 0.719, 'mcc': 0.299, 'pres': 0.687, 'recall': 0.654, 'f1': 0.662, 'i': 4.0, 'repeat_seed': 128.0}\n",
      "################################################## repeat_seed: 128; fold_02 ##################################################\n",
      "\n",
      " input train and test X shape is (227, 22, 22, 8), (26, 22, 22, 8) \n",
      "MultiClassEstimator(batch_norm=False, batch_size=2, conv1_kernel_size=13,\n",
      "                    dense_avf='relu', dense_layers=[128], dropout=0.0,\n",
      "                    epochs=50, gpuid='0', last_avf='softmax',\n",
      "                    loss='categorical_crossentropy', lr=0.0001, metric='ACC',\n",
      "                    monitor='val_loss', n_inception=2,\n",
      "                    name='AggMap MultiClass Estimator', patience=10000,\n",
      "                    random_state=32, verbose=0)\n",
      "roc-auc: 0.654, mcc: 0.093, pres: 0.609, recall: 0.654, f1: 0.573\n",
      "{'acc': 0.654, 'auc': 0.654, 'mcc': 0.093, 'pres': 0.609, 'recall': 0.654, 'f1': 0.573, 'i': 4.0, 'repeat_seed': 128.0}\n",
      "################################################## repeat_seed: 128; fold_03 ##################################################\n",
      "\n",
      " input train and test X shape is (228, 22, 22, 8), (25, 22, 22, 8) \n",
      "MultiClassEstimator(batch_norm=False, batch_size=2, conv1_kernel_size=13,\n",
      "                    dense_avf='relu', dense_layers=[128], dropout=0.0,\n",
      "                    epochs=50, gpuid='0', last_avf='softmax',\n",
      "                    loss='categorical_crossentropy', lr=0.0001, metric='ACC',\n",
      "                    monitor='val_loss', n_inception=2,\n",
      "                    name='AggMap MultiClass Estimator', patience=10000,\n",
      "                    random_state=32, verbose=0)\n",
      "roc-auc: 0.603, mcc: 0.081, pres: 0.600, recall: 0.600, f1: 0.600\n",
      "{'acc': 0.6, 'auc': 0.603, 'mcc': 0.081, 'pres': 0.6, 'recall': 0.6, 'f1': 0.6, 'i': 4.0, 'repeat_seed': 128.0}\n",
      "################################################## repeat_seed: 128; fold_04 ##################################################\n",
      "\n",
      " input train and test X shape is (228, 22, 22, 8), (25, 22, 22, 8) \n",
      "MultiClassEstimator(batch_norm=False, batch_size=2, conv1_kernel_size=13,\n",
      "                    dense_avf='relu', dense_layers=[128], dropout=0.0,\n",
      "                    epochs=50, gpuid='0', last_avf='softmax',\n",
      "                    loss='categorical_crossentropy', lr=0.0001, metric='ACC',\n",
      "                    monitor='val_loss', n_inception=2,\n",
      "                    name='AggMap MultiClass Estimator', patience=10000,\n",
      "                    random_state=32, verbose=0)\n",
      "roc-auc: 0.604, mcc: 0.068, pres: 0.571, recall: 0.560, f1: 0.564\n",
      "{'acc': 0.56, 'auc': 0.604, 'mcc': 0.068, 'pres': 0.571, 'recall': 0.56, 'f1': 0.564, 'i': 4.0, 'repeat_seed': 128.0}\n",
      "################################################## repeat_seed: 128; fold_05 ##################################################\n",
      "\n",
      " input train and test X shape is (228, 22, 22, 8), (25, 22, 22, 8) \n",
      "MultiClassEstimator(batch_norm=False, batch_size=2, conv1_kernel_size=13,\n",
      "                    dense_avf='relu', dense_layers=[128], dropout=0.0,\n",
      "                    epochs=50, gpuid='0', last_avf='softmax',\n",
      "                    loss='categorical_crossentropy', lr=0.0001, metric='ACC',\n",
      "                    monitor='val_loss', n_inception=2,\n",
      "                    name='AggMap MultiClass Estimator', patience=10000,\n",
      "                    random_state=32, verbose=0)\n",
      "roc-auc: 0.854, mcc: 0.306, pres: 0.680, recall: 0.680, f1: 0.680\n",
      "{'acc': 0.68, 'auc': 0.854, 'mcc': 0.306, 'pres': 0.68, 'recall': 0.68, 'f1': 0.68, 'i': 4.0, 'repeat_seed': 128.0}\n",
      "################################################## repeat_seed: 128; fold_06 ##################################################\n",
      "\n",
      " input train and test X shape is (228, 22, 22, 8), (25, 22, 22, 8) \n",
      "MultiClassEstimator(batch_norm=False, batch_size=2, conv1_kernel_size=13,\n",
      "                    dense_avf='relu', dense_layers=[128], dropout=0.0,\n",
      "                    epochs=50, gpuid='0', last_avf='softmax',\n",
      "                    loss='categorical_crossentropy', lr=0.0001, metric='ACC',\n",
      "                    monitor='val_loss', n_inception=2,\n",
      "                    name='AggMap MultiClass Estimator', patience=10000,\n",
      "                    random_state=32, verbose=0)\n",
      "roc-auc: 0.590, mcc: 0.068, pres: 0.571, recall: 0.560, f1: 0.564\n",
      "{'acc': 0.56, 'auc': 0.59, 'mcc': 0.068, 'pres': 0.571, 'recall': 0.56, 'f1': 0.564, 'i': 4.0, 'repeat_seed': 128.0}\n",
      "################################################## repeat_seed: 128; fold_07 ##################################################\n",
      "\n",
      " input train and test X shape is (228, 22, 22, 8), (25, 22, 22, 8) \n",
      "MultiClassEstimator(batch_norm=False, batch_size=2, conv1_kernel_size=13,\n",
      "                    dense_avf='relu', dense_layers=[128], dropout=0.0,\n",
      "                    epochs=50, gpuid='0', last_avf='softmax',\n",
      "                    loss='categorical_crossentropy', lr=0.0001, metric='ACC',\n",
      "                    monitor='val_loss', n_inception=2,\n",
      "                    name='AggMap MultiClass Estimator', patience=10000,\n",
      "                    random_state=32, verbose=0)\n",
      "roc-auc: 0.361, mcc: -0.167, pres: 0.456, recall: 0.520, f1: 0.478\n",
      "{'acc': 0.52, 'auc': 0.361, 'mcc': -0.167, 'pres': 0.456, 'recall': 0.52, 'f1': 0.478, 'i': 4.0, 'repeat_seed': 128.0}\n",
      "################################################## repeat_seed: 128; fold_08 ##################################################\n",
      "\n",
      " input train and test X shape is (228, 22, 22, 8), (25, 22, 22, 8) \n",
      "MultiClassEstimator(batch_norm=False, batch_size=2, conv1_kernel_size=13,\n",
      "                    dense_avf='relu', dense_layers=[128], dropout=0.0,\n",
      "                    epochs=50, gpuid='0', last_avf='softmax',\n",
      "                    loss='categorical_crossentropy', lr=0.0001, metric='ACC',\n",
      "                    monitor='val_loss', n_inception=2,\n",
      "                    name='AggMap MultiClass Estimator', patience=10000,\n",
      "                    random_state=32, verbose=0)\n",
      "roc-auc: 0.882, mcc: 0.582, pres: 0.848, recall: 0.800, f1: 0.775\n",
      "{'acc': 0.8, 'auc': 0.882, 'mcc': 0.582, 'pres': 0.848, 'recall': 0.8, 'f1': 0.775, 'i': 4.0, 'repeat_seed': 128.0}\n",
      "################################################## repeat_seed: 128; fold_09 ##################################################\n",
      "\n",
      " input train and test X shape is (228, 22, 22, 8), (25, 22, 22, 8) \n",
      "MultiClassEstimator(batch_norm=False, batch_size=2, conv1_kernel_size=13,\n",
      "                    dense_avf='relu', dense_layers=[128], dropout=0.0,\n",
      "                    epochs=50, gpuid='0', last_avf='softmax',\n",
      "                    loss='categorical_crossentropy', lr=0.0001, metric='ACC',\n",
      "                    monitor='val_loss', n_inception=2,\n",
      "                    name='AggMap MultiClass Estimator', patience=10000,\n",
      "                    random_state=32, verbose=0)\n",
      "roc-auc: 0.764, mcc: 0.379, pres: 0.714, recall: 0.720, f1: 0.716\n",
      "{'acc': 0.72, 'auc': 0.764, 'mcc': 0.379, 'pres': 0.714, 'recall': 0.72, 'f1': 0.716, 'i': 4.0, 'repeat_seed': 128.0}\n",
      "\n",
      "\n",
      "results for seed 128\n",
      "{'acc': 0.6363, 'auc': 0.6554, 'mcc': 0.1814, 'pres': 0.6332000000000001, 'recall': 0.6363, 'f1': 0.6214000000000001, 'i': 4.0, 'repeat_seed': 128.0}\n",
      "################################################## repeat_seed: 256; fold_00 ##################################################\n",
      "\n",
      " input train and test X shape is (227, 22, 22, 8), (26, 22, 22, 8) \n",
      "MultiClassEstimator(batch_norm=False, batch_size=2, conv1_kernel_size=13,\n",
      "                    dense_avf='relu', dense_layers=[128], dropout=0.0,\n",
      "                    epochs=50, gpuid='0', last_avf='softmax',\n",
      "                    loss='categorical_crossentropy', lr=0.0001, metric='ACC',\n",
      "                    monitor='val_loss', n_inception=2,\n",
      "                    name='AggMap MultiClass Estimator', patience=10000,\n",
      "                    random_state=32, verbose=0)\n",
      "roc-auc: 0.725, mcc: 0.391, pres: 0.725, recall: 0.731, f1: 0.727\n",
      "{'acc': 0.731, 'auc': 0.725, 'mcc': 0.391, 'pres': 0.725, 'recall': 0.731, 'f1': 0.727, 'i': 5.0, 'repeat_seed': 256.0}\n",
      "################################################## repeat_seed: 256; fold_01 ##################################################\n",
      "\n",
      " input train and test X shape is (227, 22, 22, 8), (26, 22, 22, 8) \n",
      "MultiClassEstimator(batch_norm=False, batch_size=2, conv1_kernel_size=13,\n",
      "                    dense_avf='relu', dense_layers=[128], dropout=0.0,\n",
      "                    epochs=50, gpuid='0', last_avf='softmax',\n",
      "                    loss='categorical_crossentropy', lr=0.0001, metric='ACC',\n",
      "                    monitor='val_loss', n_inception=2,\n",
      "                    name='AggMap MultiClass Estimator', patience=10000,\n",
      "                    random_state=32, verbose=0)\n",
      "roc-auc: 0.654, mcc: 0.138, pres: 0.619, recall: 0.654, f1: 0.609\n",
      "{'acc': 0.654, 'auc': 0.654, 'mcc': 0.138, 'pres': 0.619, 'recall': 0.654, 'f1': 0.609, 'i': 5.0, 'repeat_seed': 256.0}\n",
      "################################################## repeat_seed: 256; fold_02 ##################################################\n",
      "\n",
      " input train and test X shape is (227, 22, 22, 8), (26, 22, 22, 8) \n",
      "MultiClassEstimator(batch_norm=False, batch_size=2, conv1_kernel_size=13,\n",
      "                    dense_avf='relu', dense_layers=[128], dropout=0.0,\n",
      "                    epochs=50, gpuid='0', last_avf='softmax',\n",
      "                    loss='categorical_crossentropy', lr=0.0001, metric='ACC',\n",
      "                    monitor='val_loss', n_inception=2,\n",
      "                    name='AggMap MultiClass Estimator', patience=10000,\n",
      "                    random_state=32, verbose=0)\n",
      "roc-auc: 0.680, mcc: 0.243, pres: 0.686, recall: 0.692, f1: 0.638\n",
      "{'acc': 0.692, 'auc': 0.68, 'mcc': 0.243, 'pres': 0.686, 'recall': 0.692, 'f1': 0.638, 'i': 5.0, 'repeat_seed': 256.0}\n",
      "################################################## repeat_seed: 256; fold_03 ##################################################\n",
      "\n",
      " input train and test X shape is (228, 22, 22, 8), (25, 22, 22, 8) \n",
      "MultiClassEstimator(batch_norm=False, batch_size=2, conv1_kernel_size=13,\n",
      "                    dense_avf='relu', dense_layers=[128], dropout=0.0,\n",
      "                    epochs=50, gpuid='0', last_avf='softmax',\n",
      "                    loss='categorical_crossentropy', lr=0.0001, metric='ACC',\n",
      "                    monitor='val_loss', n_inception=2,\n",
      "                    name='AggMap MultiClass Estimator', patience=10000,\n",
      "                    random_state=32, verbose=0)\n",
      "roc-auc: 0.676, mcc: 0.402, pres: 0.758, recall: 0.760, f1: 0.733\n",
      "{'acc': 0.76, 'auc': 0.676, 'mcc': 0.402, 'pres': 0.758, 'recall': 0.76, 'f1': 0.733, 'i': 5.0, 'repeat_seed': 256.0}\n",
      "################################################## repeat_seed: 256; fold_04 ##################################################\n",
      "\n",
      " input train and test X shape is (228, 22, 22, 8), (25, 22, 22, 8) \n",
      "MultiClassEstimator(batch_norm=False, batch_size=2, conv1_kernel_size=13,\n",
      "                    dense_avf='relu', dense_layers=[128], dropout=0.0,\n",
      "                    epochs=50, gpuid='0', last_avf='softmax',\n",
      "                    loss='categorical_crossentropy', lr=0.0001, metric='ACC',\n",
      "                    monitor='val_loss', n_inception=2,\n",
      "                    name='AggMap MultiClass Estimator', patience=10000,\n",
      "                    random_state=32, verbose=0)\n",
      "roc-auc: 0.632, mcc: 0.113, pres: 0.593, recall: 0.560, f1: 0.569\n",
      "{'acc': 0.56, 'auc': 0.632, 'mcc': 0.113, 'pres': 0.593, 'recall': 0.56, 'f1': 0.569, 'i': 5.0, 'repeat_seed': 256.0}\n",
      "################################################## repeat_seed: 256; fold_05 ##################################################\n",
      "\n",
      " input train and test X shape is (228, 22, 22, 8), (25, 22, 22, 8) \n",
      "MultiClassEstimator(batch_norm=False, batch_size=2, conv1_kernel_size=13,\n",
      "                    dense_avf='relu', dense_layers=[128], dropout=0.0,\n",
      "                    epochs=50, gpuid='0', last_avf='softmax',\n",
      "                    loss='categorical_crossentropy', lr=0.0001, metric='ACC',\n",
      "                    monitor='val_loss', n_inception=2,\n",
      "                    name='AggMap MultiClass Estimator', patience=10000,\n",
      "                    random_state=32, verbose=0)\n",
      "roc-auc: 0.736, mcc: 0.342, pres: 0.699, recall: 0.680, f1: 0.685\n",
      "{'acc': 0.68, 'auc': 0.736, 'mcc': 0.342, 'pres': 0.699, 'recall': 0.68, 'f1': 0.685, 'i': 5.0, 'repeat_seed': 256.0}\n",
      "################################################## repeat_seed: 256; fold_06 ##################################################\n",
      "\n",
      " input train and test X shape is (228, 22, 22, 8), (25, 22, 22, 8) \n",
      "MultiClassEstimator(batch_norm=False, batch_size=2, conv1_kernel_size=13,\n",
      "                    dense_avf='relu', dense_layers=[128], dropout=0.0,\n",
      "                    epochs=50, gpuid='0', last_avf='softmax',\n",
      "                    loss='categorical_crossentropy', lr=0.0001, metric='ACC',\n",
      "                    monitor='val_loss', n_inception=2,\n",
      "                    name='AggMap MultiClass Estimator', patience=10000,\n",
      "                    random_state=32, verbose=0)\n",
      "roc-auc: 0.736, mcc: 0.359, pres: 0.712, recall: 0.720, f1: 0.704\n",
      "{'acc': 0.72, 'auc': 0.736, 'mcc': 0.359, 'pres': 0.712, 'recall': 0.72, 'f1': 0.704, 'i': 5.0, 'repeat_seed': 256.0}\n",
      "################################################## repeat_seed: 256; fold_07 ##################################################\n",
      "\n",
      " input train and test X shape is (228, 22, 22, 8), (25, 22, 22, 8) \n",
      "MultiClassEstimator(batch_norm=False, batch_size=2, conv1_kernel_size=13,\n",
      "                    dense_avf='relu', dense_layers=[128], dropout=0.0,\n",
      "                    epochs=50, gpuid='0', last_avf='softmax',\n",
      "                    loss='categorical_crossentropy', lr=0.0001, metric='ACC',\n",
      "                    monitor='val_loss', n_inception=2,\n",
      "                    name='AggMap MultiClass Estimator', patience=10000,\n",
      "                    random_state=32, verbose=0)\n",
      "roc-auc: 0.722, mcc: 0.275, pres: 0.668, recall: 0.680, f1: 0.669\n",
      "{'acc': 0.68, 'auc': 0.722, 'mcc': 0.275, 'pres': 0.668, 'recall': 0.68, 'f1': 0.669, 'i': 5.0, 'repeat_seed': 256.0}\n",
      "################################################## repeat_seed: 256; fold_08 ##################################################\n",
      "\n",
      " input train and test X shape is (228, 22, 22, 8), (25, 22, 22, 8) \n",
      "MultiClassEstimator(batch_norm=False, batch_size=2, conv1_kernel_size=13,\n",
      "                    dense_avf='relu', dense_layers=[128], dropout=0.0,\n",
      "                    epochs=50, gpuid='0', last_avf='softmax',\n",
      "                    loss='categorical_crossentropy', lr=0.0001, metric='ACC',\n",
      "                    monitor='val_loss', n_inception=2,\n",
      "                    name='AggMap MultiClass Estimator', patience=10000,\n",
      "                    random_state=32, verbose=0)\n",
      "roc-auc: 0.569, mcc: -0.100, pres: 0.486, recall: 0.560, f1: 0.505\n",
      "{'acc': 0.56, 'auc': 0.569, 'mcc': -0.1, 'pres': 0.486, 'recall': 0.56, 'f1': 0.505, 'i': 5.0, 'repeat_seed': 256.0}\n",
      "################################################## repeat_seed: 256; fold_09 ##################################################\n",
      "\n",
      " input train and test X shape is (228, 22, 22, 8), (25, 22, 22, 8) \n",
      "MultiClassEstimator(batch_norm=False, batch_size=2, conv1_kernel_size=13,\n",
      "                    dense_avf='relu', dense_layers=[128], dropout=0.0,\n",
      "                    epochs=50, gpuid='0', last_avf='softmax',\n",
      "                    loss='categorical_crossentropy', lr=0.0001, metric='ACC',\n",
      "                    monitor='val_loss', n_inception=2,\n",
      "                    name='AggMap MultiClass Estimator', patience=10000,\n",
      "                    random_state=32, verbose=0)\n",
      "roc-auc: 0.444, mcc: 0.021, pres: 0.549, recall: 0.560, f1: 0.554\n",
      "{'acc': 0.56, 'auc': 0.444, 'mcc': 0.021, 'pres': 0.549, 'recall': 0.56, 'f1': 0.554, 'i': 5.0, 'repeat_seed': 256.0}\n",
      "\n",
      "\n",
      "results for seed 256\n",
      "{'acc': 0.6597, 'auc': 0.6574, 'mcc': 0.21839999999999998, 'pres': 0.6495, 'recall': 0.6597, 'f1': 0.6393, 'i': 5.0, 'repeat_seed': 256.0}\n",
      "################################################## repeat_seed: 1024; fold_00 ##################################################\n",
      "\n",
      " input train and test X shape is (227, 22, 22, 8), (26, 22, 22, 8) \n",
      "MultiClassEstimator(batch_norm=False, batch_size=2, conv1_kernel_size=13,\n",
      "                    dense_avf='relu', dense_layers=[128], dropout=0.0,\n",
      "                    epochs=50, gpuid='0', last_avf='softmax',\n",
      "                    loss='categorical_crossentropy', lr=0.0001, metric='ACC',\n",
      "                    monitor='val_loss', n_inception=2,\n",
      "                    name='AggMap MultiClass Estimator', patience=10000,\n",
      "                    random_state=32, verbose=0)\n",
      "roc-auc: 0.490, mcc: 0.177, pres: 0.631, recall: 0.654, f1: 0.633\n",
      "{'acc': 0.654, 'auc': 0.49, 'mcc': 0.177, 'pres': 0.631, 'recall': 0.654, 'f1': 0.633, 'i': 6.0, 'repeat_seed': 1024.0}\n",
      "################################################## repeat_seed: 1024; fold_01 ##################################################\n",
      "\n",
      " input train and test X shape is (227, 22, 22, 8), (26, 22, 22, 8) \n",
      "MultiClassEstimator(batch_norm=False, batch_size=2, conv1_kernel_size=13,\n",
      "                    dense_avf='relu', dense_layers=[128], dropout=0.0,\n",
      "                    epochs=50, gpuid='0', last_avf='softmax',\n",
      "                    loss='categorical_crossentropy', lr=0.0001, metric='ACC',\n",
      "                    monitor='val_loss', n_inception=2,\n",
      "                    name='AggMap MultiClass Estimator', patience=10000,\n",
      "                    random_state=32, verbose=0)\n",
      "roc-auc: 0.876, mcc: 0.566, pres: 0.804, recall: 0.808, f1: 0.805\n",
      "{'acc': 0.808, 'auc': 0.876, 'mcc': 0.566, 'pres': 0.804, 'recall': 0.808, 'f1': 0.805, 'i': 6.0, 'repeat_seed': 1024.0}\n",
      "################################################## repeat_seed: 1024; fold_02 ##################################################\n",
      "\n",
      " input train and test X shape is (227, 22, 22, 8), (26, 22, 22, 8) \n",
      "MultiClassEstimator(batch_norm=False, batch_size=2, conv1_kernel_size=13,\n",
      "                    dense_avf='relu', dense_layers=[128], dropout=0.0,\n",
      "                    epochs=50, gpuid='0', last_avf='softmax',\n",
      "                    loss='categorical_crossentropy', lr=0.0001, metric='ACC',\n",
      "                    monitor='val_loss', n_inception=2,\n",
      "                    name='AggMap MultiClass Estimator', patience=10000,\n",
      "                    random_state=32, verbose=0)\n",
      "roc-auc: 0.575, mcc: 0.216, pres: 0.645, recall: 0.654, f1: 0.649\n",
      "{'acc': 0.654, 'auc': 0.575, 'mcc': 0.216, 'pres': 0.645, 'recall': 0.654, 'f1': 0.649, 'i': 6.0, 'repeat_seed': 1024.0}\n",
      "################################################## repeat_seed: 1024; fold_03 ##################################################\n",
      "\n",
      " input train and test X shape is (228, 22, 22, 8), (25, 22, 22, 8) \n",
      "MultiClassEstimator(batch_norm=False, batch_size=2, conv1_kernel_size=13,\n",
      "                    dense_avf='relu', dense_layers=[128], dropout=0.0,\n",
      "                    epochs=50, gpuid='0', last_avf='softmax',\n",
      "                    loss='categorical_crossentropy', lr=0.0001, metric='ACC',\n",
      "                    monitor='val_loss', n_inception=2,\n",
      "                    name='AggMap MultiClass Estimator', patience=10000,\n",
      "                    random_state=32, verbose=0)\n",
      "roc-auc: 0.640, mcc: 0.081, pres: 0.600, recall: 0.600, f1: 0.600\n",
      "{'acc': 0.6, 'auc': 0.64, 'mcc': 0.081, 'pres': 0.6, 'recall': 0.6, 'f1': 0.6, 'i': 6.0, 'repeat_seed': 1024.0}\n",
      "################################################## repeat_seed: 1024; fold_04 ##################################################\n",
      "\n",
      " input train and test X shape is (228, 22, 22, 8), (25, 22, 22, 8) \n",
      "MultiClassEstimator(batch_norm=False, batch_size=2, conv1_kernel_size=13,\n",
      "                    dense_avf='relu', dense_layers=[128], dropout=0.0,\n",
      "                    epochs=50, gpuid='0', last_avf='softmax',\n",
      "                    loss='categorical_crossentropy', lr=0.0001, metric='ACC',\n",
      "                    monitor='val_loss', n_inception=2,\n",
      "                    name='AggMap MultiClass Estimator', patience=10000,\n",
      "                    random_state=32, verbose=0)\n",
      "roc-auc: 0.632, mcc: 0.238, pres: 0.649, recall: 0.640, f1: 0.644\n",
      "{'acc': 0.64, 'auc': 0.632, 'mcc': 0.238, 'pres': 0.649, 'recall': 0.64, 'f1': 0.644, 'i': 6.0, 'repeat_seed': 1024.0}\n",
      "################################################## repeat_seed: 1024; fold_05 ##################################################\n",
      "\n",
      " input train and test X shape is (228, 22, 22, 8), (25, 22, 22, 8) \n",
      "MultiClassEstimator(batch_norm=False, batch_size=2, conv1_kernel_size=13,\n",
      "                    dense_avf='relu', dense_layers=[128], dropout=0.0,\n",
      "                    epochs=50, gpuid='0', last_avf='softmax',\n",
      "                    loss='categorical_crossentropy', lr=0.0001, metric='ACC',\n",
      "                    monitor='val_loss', n_inception=2,\n",
      "                    name='AggMap MultiClass Estimator', patience=10000,\n",
      "                    random_state=32, verbose=0)\n",
      "roc-auc: 0.389, mcc: 0.042, pres: 0.560, recall: 0.600, f1: 0.565\n",
      "{'acc': 0.6, 'auc': 0.389, 'mcc': 0.042, 'pres': 0.56, 'recall': 0.6, 'f1': 0.565, 'i': 6.0, 'repeat_seed': 1024.0}\n",
      "################################################## repeat_seed: 1024; fold_06 ##################################################\n",
      "\n",
      " input train and test X shape is (228, 22, 22, 8), (25, 22, 22, 8) \n",
      "MultiClassEstimator(batch_norm=False, batch_size=2, conv1_kernel_size=13,\n",
      "                    dense_avf='relu', dense_layers=[128], dropout=0.0,\n",
      "                    epochs=50, gpuid='0', last_avf='softmax',\n",
      "                    loss='categorical_crossentropy', lr=0.0001, metric='ACC',\n",
      "                    monitor='val_loss', n_inception=2,\n",
      "                    name='AggMap MultiClass Estimator', patience=10000,\n",
      "                    random_state=32, verbose=0)\n",
      "roc-auc: 0.778, mcc: 0.408, pres: 0.728, recall: 0.720, f1: 0.723\n",
      "{'acc': 0.72, 'auc': 0.778, 'mcc': 0.408, 'pres': 0.728, 'recall': 0.72, 'f1': 0.723, 'i': 6.0, 'repeat_seed': 1024.0}\n",
      "################################################## repeat_seed: 1024; fold_07 ##################################################\n",
      "\n",
      " input train and test X shape is (228, 22, 22, 8), (25, 22, 22, 8) \n",
      "MultiClassEstimator(batch_norm=False, batch_size=2, conv1_kernel_size=13,\n",
      "                    dense_avf='relu', dense_layers=[128], dropout=0.0,\n",
      "                    epochs=50, gpuid='0', last_avf='softmax',\n",
      "                    loss='categorical_crossentropy', lr=0.0001, metric='ACC',\n",
      "                    monitor='val_loss', n_inception=2,\n",
      "                    name='AggMap MultiClass Estimator', patience=10000,\n",
      "                    random_state=32, verbose=0)\n",
      "roc-auc: 0.653, mcc: -0.100, pres: 0.486, recall: 0.560, f1: 0.505\n",
      "{'acc': 0.56, 'auc': 0.653, 'mcc': -0.1, 'pres': 0.486, 'recall': 0.56, 'f1': 0.505, 'i': 6.0, 'repeat_seed': 1024.0}\n",
      "################################################## repeat_seed: 1024; fold_08 ##################################################\n",
      "\n",
      " input train and test X shape is (228, 22, 22, 8), (25, 22, 22, 8) \n",
      "MultiClassEstimator(batch_norm=False, batch_size=2, conv1_kernel_size=13,\n",
      "                    dense_avf='relu', dense_layers=[128], dropout=0.0,\n",
      "                    epochs=50, gpuid='0', last_avf='softmax',\n",
      "                    loss='categorical_crossentropy', lr=0.0001, metric='ACC',\n",
      "                    monitor='val_loss', n_inception=2,\n",
      "                    name='AggMap MultiClass Estimator', patience=10000,\n",
      "                    random_state=32, verbose=0)\n",
      "roc-auc: 0.583, mcc: 0.200, pres: 0.632, recall: 0.640, f1: 0.635\n",
      "{'acc': 0.64, 'auc': 0.583, 'mcc': 0.2, 'pres': 0.632, 'recall': 0.64, 'f1': 0.635, 'i': 6.0, 'repeat_seed': 1024.0}\n",
      "################################################## repeat_seed: 1024; fold_09 ##################################################\n",
      "\n",
      " input train and test X shape is (228, 22, 22, 8), (25, 22, 22, 8) \n",
      "MultiClassEstimator(batch_norm=False, batch_size=2, conv1_kernel_size=13,\n",
      "                    dense_avf='relu', dense_layers=[128], dropout=0.0,\n",
      "                    epochs=50, gpuid='0', last_avf='softmax',\n",
      "                    loss='categorical_crossentropy', lr=0.0001, metric='ACC',\n",
      "                    monitor='val_loss', n_inception=2,\n",
      "                    name='AggMap MultiClass Estimator', patience=10000,\n",
      "                    random_state=32, verbose=0)\n",
      "roc-auc: 0.743, mcc: 0.379, pres: 0.714, recall: 0.720, f1: 0.716\n",
      "{'acc': 0.72, 'auc': 0.743, 'mcc': 0.379, 'pres': 0.714, 'recall': 0.72, 'f1': 0.716, 'i': 6.0, 'repeat_seed': 1024.0}\n",
      "\n",
      "\n",
      "results for seed 1024\n",
      "{'acc': 0.6596, 'auc': 0.6359000000000001, 'mcc': 0.22069999999999998, 'pres': 0.6449, 'recall': 0.6596, 'f1': 0.6475000000000001, 'i': 6.0, 'repeat_seed': 1024.0}\n",
      "################################################## repeat_seed: 2048; fold_00 ##################################################\n",
      "\n",
      " input train and test X shape is (227, 22, 22, 8), (26, 22, 22, 8) \n",
      "MultiClassEstimator(batch_norm=False, batch_size=2, conv1_kernel_size=13,\n",
      "                    dense_avf='relu', dense_layers=[128], dropout=0.0,\n",
      "                    epochs=50, gpuid='0', last_avf='softmax',\n",
      "                    loss='categorical_crossentropy', lr=0.0001, metric='ACC',\n",
      "                    monitor='val_loss', n_inception=2,\n",
      "                    name='AggMap MultiClass Estimator', patience=10000,\n",
      "                    random_state=32, verbose=0)\n",
      "roc-auc: 0.810, mcc: 0.566, pres: 0.804, recall: 0.808, f1: 0.805\n",
      "{'acc': 0.808, 'auc': 0.81, 'mcc': 0.566, 'pres': 0.804, 'recall': 0.808, 'f1': 0.805, 'i': 7.0, 'repeat_seed': 2048.0}\n",
      "################################################## repeat_seed: 2048; fold_01 ##################################################\n",
      "\n",
      " input train and test X shape is (227, 22, 22, 8), (26, 22, 22, 8) \n",
      "MultiClassEstimator(batch_norm=False, batch_size=2, conv1_kernel_size=13,\n",
      "                    dense_avf='relu', dense_layers=[128], dropout=0.0,\n",
      "                    epochs=50, gpuid='0', last_avf='softmax',\n",
      "                    loss='categorical_crossentropy', lr=0.0001, metric='ACC',\n",
      "                    monitor='val_loss', n_inception=2,\n",
      "                    name='AggMap MultiClass Estimator', patience=10000,\n",
      "                    random_state=32, verbose=0)\n",
      "roc-auc: 0.667, mcc: 0.391, pres: 0.725, recall: 0.731, f1: 0.727\n",
      "{'acc': 0.731, 'auc': 0.667, 'mcc': 0.391, 'pres': 0.725, 'recall': 0.731, 'f1': 0.727, 'i': 7.0, 'repeat_seed': 2048.0}\n",
      "################################################## repeat_seed: 2048; fold_02 ##################################################\n",
      "\n",
      " input train and test X shape is (227, 22, 22, 8), (26, 22, 22, 8) \n",
      "MultiClassEstimator(batch_norm=False, batch_size=2, conv1_kernel_size=13,\n",
      "                    dense_avf='relu', dense_layers=[128], dropout=0.0,\n",
      "                    epochs=50, gpuid='0', last_avf='softmax',\n",
      "                    loss='categorical_crossentropy', lr=0.0001, metric='ACC',\n",
      "                    monitor='val_loss', n_inception=2,\n",
      "                    name='AggMap MultiClass Estimator', patience=10000,\n",
      "                    random_state=32, verbose=0)\n",
      "roc-auc: 0.761, mcc: 0.260, pres: 0.675, recall: 0.692, f1: 0.665\n",
      "{'acc': 0.692, 'auc': 0.761, 'mcc': 0.26, 'pres': 0.675, 'recall': 0.692, 'f1': 0.665, 'i': 7.0, 'repeat_seed': 2048.0}\n",
      "################################################## repeat_seed: 2048; fold_03 ##################################################\n",
      "\n",
      " input train and test X shape is (228, 22, 22, 8), (25, 22, 22, 8) \n",
      "MultiClassEstimator(batch_norm=False, batch_size=2, conv1_kernel_size=13,\n",
      "                    dense_avf='relu', dense_layers=[128], dropout=0.0,\n",
      "                    epochs=50, gpuid='0', last_avf='softmax',\n",
      "                    loss='categorical_crossentropy', lr=0.0001, metric='ACC',\n",
      "                    monitor='val_loss', n_inception=2,\n",
      "                    name='AggMap MultiClass Estimator', patience=10000,\n",
      "                    random_state=32, verbose=0)\n",
      "roc-auc: 0.743, mcc: 0.200, pres: 0.652, recall: 0.640, f1: 0.645\n",
      "{'acc': 0.64, 'auc': 0.743, 'mcc': 0.2, 'pres': 0.652, 'recall': 0.64, 'f1': 0.645, 'i': 7.0, 'repeat_seed': 2048.0}\n",
      "################################################## repeat_seed: 2048; fold_04 ##################################################\n",
      "\n",
      " input train and test X shape is (228, 22, 22, 8), (25, 22, 22, 8) \n",
      "MultiClassEstimator(batch_norm=False, batch_size=2, conv1_kernel_size=13,\n",
      "                    dense_avf='relu', dense_layers=[128], dropout=0.0,\n",
      "                    epochs=50, gpuid='0', last_avf='softmax',\n",
      "                    loss='categorical_crossentropy', lr=0.0001, metric='ACC',\n",
      "                    monitor='val_loss', n_inception=2,\n",
      "                    name='AggMap MultiClass Estimator', patience=10000,\n",
      "                    random_state=32, verbose=0)\n",
      "roc-auc: 0.458, mcc: -0.167, pres: 0.456, recall: 0.520, f1: 0.478\n",
      "{'acc': 0.52, 'auc': 0.458, 'mcc': -0.167, 'pres': 0.456, 'recall': 0.52, 'f1': 0.478, 'i': 7.0, 'repeat_seed': 2048.0}\n",
      "################################################## repeat_seed: 2048; fold_05 ##################################################\n",
      "\n",
      " input train and test X shape is (228, 22, 22, 8), (25, 22, 22, 8) \n",
      "MultiClassEstimator(batch_norm=False, batch_size=2, conv1_kernel_size=13,\n",
      "                    dense_avf='relu', dense_layers=[128], dropout=0.0,\n",
      "                    epochs=50, gpuid='0', last_avf='softmax',\n",
      "                    loss='categorical_crossentropy', lr=0.0001, metric='ACC',\n",
      "                    monitor='val_loss', n_inception=2,\n",
      "                    name='AggMap MultiClass Estimator', patience=10000,\n",
      "                    random_state=32, verbose=0)\n",
      "roc-auc: 0.514, mcc: -0.031, pres: 0.524, recall: 0.560, f1: 0.535\n",
      "{'acc': 0.56, 'auc': 0.514, 'mcc': -0.031, 'pres': 0.524, 'recall': 0.56, 'f1': 0.535, 'i': 7.0, 'repeat_seed': 2048.0}\n",
      "################################################## repeat_seed: 2048; fold_06 ##################################################\n",
      "\n",
      " input train and test X shape is (228, 22, 22, 8), (25, 22, 22, 8) \n",
      "MultiClassEstimator(batch_norm=False, batch_size=2, conv1_kernel_size=13,\n",
      "                    dense_avf='relu', dense_layers=[128], dropout=0.0,\n",
      "                    epochs=50, gpuid='0', last_avf='softmax',\n",
      "                    loss='categorical_crossentropy', lr=0.0001, metric='ACC',\n",
      "                    monitor='val_loss', n_inception=2,\n",
      "                    name='AggMap MultiClass Estimator', patience=10000,\n",
      "                    random_state=32, verbose=0)\n",
      "roc-auc: 0.743, mcc: 0.306, pres: 0.680, recall: 0.680, f1: 0.680\n",
      "{'acc': 0.68, 'auc': 0.743, 'mcc': 0.306, 'pres': 0.68, 'recall': 0.68, 'f1': 0.68, 'i': 7.0, 'repeat_seed': 2048.0}\n",
      "################################################## repeat_seed: 2048; fold_07 ##################################################\n",
      "\n",
      " input train and test X shape is (228, 22, 22, 8), (25, 22, 22, 8) \n",
      "MultiClassEstimator(batch_norm=False, batch_size=2, conv1_kernel_size=13,\n",
      "                    dense_avf='relu', dense_layers=[128], dropout=0.0,\n",
      "                    epochs=50, gpuid='0', last_avf='softmax',\n",
      "                    loss='categorical_crossentropy', lr=0.0001, metric='ACC',\n",
      "                    monitor='val_loss', n_inception=2,\n",
      "                    name='AggMap MultiClass Estimator', patience=10000,\n",
      "                    random_state=32, verbose=0)\n",
      "roc-auc: 0.410, mcc: -0.167, pres: 0.456, recall: 0.520, f1: 0.478\n",
      "{'acc': 0.52, 'auc': 0.41, 'mcc': -0.167, 'pres': 0.456, 'recall': 0.52, 'f1': 0.478, 'i': 7.0, 'repeat_seed': 2048.0}\n",
      "################################################## repeat_seed: 2048; fold_08 ##################################################\n",
      "\n",
      " input train and test X shape is (228, 22, 22, 8), (25, 22, 22, 8) \n",
      "MultiClassEstimator(batch_norm=False, batch_size=2, conv1_kernel_size=13,\n",
      "                    dense_avf='relu', dense_layers=[128], dropout=0.0,\n",
      "                    epochs=50, gpuid='0', last_avf='softmax',\n",
      "                    loss='categorical_crossentropy', lr=0.0001, metric='ACC',\n",
      "                    monitor='val_loss', n_inception=2,\n",
      "                    name='AggMap MultiClass Estimator', patience=10000,\n",
      "                    random_state=32, verbose=0)\n",
      "roc-auc: 0.757, mcc: 0.275, pres: 0.668, recall: 0.680, f1: 0.669\n",
      "{'acc': 0.68, 'auc': 0.757, 'mcc': 0.275, 'pres': 0.668, 'recall': 0.68, 'f1': 0.669, 'i': 7.0, 'repeat_seed': 2048.0}\n",
      "################################################## repeat_seed: 2048; fold_09 ##################################################\n",
      "\n",
      " input train and test X shape is (228, 22, 22, 8), (25, 22, 22, 8) \n",
      "MultiClassEstimator(batch_norm=False, batch_size=2, conv1_kernel_size=13,\n",
      "                    dense_avf='relu', dense_layers=[128], dropout=0.0,\n",
      "                    epochs=50, gpuid='0', last_avf='softmax',\n",
      "                    loss='categorical_crossentropy', lr=0.0001, metric='ACC',\n",
      "                    monitor='val_loss', n_inception=2,\n",
      "                    name='AggMap MultiClass Estimator', patience=10000,\n",
      "                    random_state=32, verbose=0)\n",
      "roc-auc: 0.681, mcc: 0.379, pres: 0.714, recall: 0.720, f1: 0.716\n",
      "{'acc': 0.72, 'auc': 0.681, 'mcc': 0.379, 'pres': 0.714, 'recall': 0.72, 'f1': 0.716, 'i': 7.0, 'repeat_seed': 2048.0}\n",
      "\n",
      "\n",
      "results for seed 2048\n",
      "{'acc': 0.6550999999999999, 'auc': 0.6544000000000001, 'mcc': 0.2012, 'pres': 0.6354000000000001, 'recall': 0.6550999999999999, 'f1': 0.6398, 'i': 7.0, 'repeat_seed': 2048.0}\n",
      "################################################## repeat_seed: 4096; fold_00 ##################################################\n",
      "\n",
      " input train and test X shape is (227, 22, 22, 8), (26, 22, 22, 8) \n",
      "MultiClassEstimator(batch_norm=False, batch_size=2, conv1_kernel_size=13,\n",
      "                    dense_avf='relu', dense_layers=[128], dropout=0.0,\n",
      "                    epochs=50, gpuid='0', last_avf='softmax',\n",
      "                    loss='categorical_crossentropy', lr=0.0001, metric='ACC',\n",
      "                    monitor='val_loss', n_inception=2,\n",
      "                    name='AggMap MultiClass Estimator', patience=10000,\n",
      "                    random_state=32, verbose=0)\n",
      "roc-auc: 0.725, mcc: 0.177, pres: 0.631, recall: 0.654, f1: 0.633\n",
      "{'acc': 0.654, 'auc': 0.725, 'mcc': 0.177, 'pres': 0.631, 'recall': 0.654, 'f1': 0.633, 'i': 8.0, 'repeat_seed': 4096.0}\n",
      "################################################## repeat_seed: 4096; fold_01 ##################################################\n",
      "\n",
      " input train and test X shape is (227, 22, 22, 8), (26, 22, 22, 8) \n",
      "MultiClassEstimator(batch_norm=False, batch_size=2, conv1_kernel_size=13,\n",
      "                    dense_avf='relu', dense_layers=[128], dropout=0.0,\n",
      "                    epochs=50, gpuid='0', last_avf='softmax',\n",
      "                    loss='categorical_crossentropy', lr=0.0001, metric='ACC',\n",
      "                    monitor='val_loss', n_inception=2,\n",
      "                    name='AggMap MultiClass Estimator', patience=10000,\n",
      "                    random_state=32, verbose=0)\n",
      "roc-auc: 0.529, mcc: -0.150, pres: 0.474, recall: 0.538, f1: 0.497\n",
      "{'acc': 0.538, 'auc': 0.529, 'mcc': -0.15, 'pres': 0.474, 'recall': 0.538, 'f1': 0.497, 'i': 8.0, 'repeat_seed': 4096.0}\n",
      "################################################## repeat_seed: 4096; fold_02 ##################################################\n",
      "\n",
      " input train and test X shape is (227, 22, 22, 8), (26, 22, 22, 8) \n",
      "MultiClassEstimator(batch_norm=False, batch_size=2, conv1_kernel_size=13,\n",
      "                    dense_avf='relu', dense_layers=[128], dropout=0.0,\n",
      "                    epochs=50, gpuid='0', last_avf='softmax',\n",
      "                    loss='categorical_crossentropy', lr=0.0001, metric='ACC',\n",
      "                    monitor='val_loss', n_inception=2,\n",
      "                    name='AggMap MultiClass Estimator', patience=10000,\n",
      "                    random_state=32, verbose=0)\n",
      "roc-auc: 0.614, mcc: 0.040, pres: 0.566, recall: 0.577, f1: 0.571\n",
      "{'acc': 0.577, 'auc': 0.614, 'mcc': 0.04, 'pres': 0.566, 'recall': 0.577, 'f1': 0.571, 'i': 8.0, 'repeat_seed': 4096.0}\n",
      "################################################## repeat_seed: 4096; fold_03 ##################################################\n",
      "\n",
      " input train and test X shape is (228, 22, 22, 8), (25, 22, 22, 8) \n",
      "MultiClassEstimator(batch_norm=False, batch_size=2, conv1_kernel_size=13,\n",
      "                    dense_avf='relu', dense_layers=[128], dropout=0.0,\n",
      "                    epochs=50, gpuid='0', last_avf='softmax',\n",
      "                    loss='categorical_crossentropy', lr=0.0001, metric='ACC',\n",
      "                    monitor='val_loss', n_inception=2,\n",
      "                    name='AggMap MultiClass Estimator', patience=10000,\n",
      "                    random_state=32, verbose=0)\n",
      "roc-auc: 0.471, mcc: -0.046, pres: 0.545, recall: 0.560, f1: 0.552\n",
      "{'acc': 0.56, 'auc': 0.471, 'mcc': -0.046, 'pres': 0.545, 'recall': 0.56, 'f1': 0.552, 'i': 8.0, 'repeat_seed': 4096.0}\n",
      "################################################## repeat_seed: 4096; fold_04 ##################################################\n",
      "\n",
      " input train and test X shape is (228, 22, 22, 8), (25, 22, 22, 8) \n",
      "MultiClassEstimator(batch_norm=False, batch_size=2, conv1_kernel_size=13,\n",
      "                    dense_avf='relu', dense_layers=[128], dropout=0.0,\n",
      "                    epochs=50, gpuid='0', last_avf='softmax',\n",
      "                    loss='categorical_crossentropy', lr=0.0001, metric='ACC',\n",
      "                    monitor='val_loss', n_inception=2,\n",
      "                    name='AggMap MultiClass Estimator', patience=10000,\n",
      "                    random_state=32, verbose=0)\n",
      "roc-auc: 0.500, mcc: -0.031, pres: 0.524, recall: 0.560, f1: 0.535\n",
      "{'acc': 0.56, 'auc': 0.5, 'mcc': -0.031, 'pres': 0.524, 'recall': 0.56, 'f1': 0.535, 'i': 8.0, 'repeat_seed': 4096.0}\n",
      "################################################## repeat_seed: 4096; fold_05 ##################################################\n",
      "\n",
      " input train and test X shape is (228, 22, 22, 8), (25, 22, 22, 8) \n",
      "MultiClassEstimator(batch_norm=False, batch_size=2, conv1_kernel_size=13,\n",
      "                    dense_avf='relu', dense_layers=[128], dropout=0.0,\n",
      "                    epochs=50, gpuid='0', last_avf='softmax',\n",
      "                    loss='categorical_crossentropy', lr=0.0001, metric='ACC',\n",
      "                    monitor='val_loss', n_inception=2,\n",
      "                    name='AggMap MultiClass Estimator', patience=10000,\n",
      "                    random_state=32, verbose=0)\n",
      "roc-auc: 0.618, mcc: 0.460, pres: 0.755, recall: 0.760, f1: 0.752\n",
      "{'acc': 0.76, 'auc': 0.618, 'mcc': 0.46, 'pres': 0.755, 'recall': 0.76, 'f1': 0.752, 'i': 8.0, 'repeat_seed': 4096.0}\n",
      "################################################## repeat_seed: 4096; fold_06 ##################################################\n",
      "\n",
      " input train and test X shape is (228, 22, 22, 8), (25, 22, 22, 8) \n",
      "MultiClassEstimator(batch_norm=False, batch_size=2, conv1_kernel_size=13,\n",
      "                    dense_avf='relu', dense_layers=[128], dropout=0.0,\n",
      "                    epochs=50, gpuid='0', last_avf='softmax',\n",
      "                    loss='categorical_crossentropy', lr=0.0001, metric='ACC',\n",
      "                    monitor='val_loss', n_inception=2,\n",
      "                    name='AggMap MultiClass Estimator', patience=10000,\n",
      "                    random_state=32, verbose=0)\n",
      "roc-auc: 0.757, mcc: 0.479, pres: 0.760, recall: 0.760, f1: 0.760\n",
      "{'acc': 0.76, 'auc': 0.757, 'mcc': 0.479, 'pres': 0.76, 'recall': 0.76, 'f1': 0.76, 'i': 8.0, 'repeat_seed': 4096.0}\n",
      "################################################## repeat_seed: 4096; fold_07 ##################################################\n",
      "\n",
      " input train and test X shape is (228, 22, 22, 8), (25, 22, 22, 8) \n",
      "MultiClassEstimator(batch_norm=False, batch_size=2, conv1_kernel_size=13,\n",
      "                    dense_avf='relu', dense_layers=[128], dropout=0.0,\n",
      "                    epochs=50, gpuid='0', last_avf='softmax',\n",
      "                    loss='categorical_crossentropy', lr=0.0001, metric='ACC',\n",
      "                    monitor='val_loss', n_inception=2,\n",
      "                    name='AggMap MultiClass Estimator', patience=10000,\n",
      "                    random_state=32, verbose=0)\n",
      "roc-auc: 0.618, mcc: 0.236, pres: 0.676, recall: 0.680, f1: 0.625\n",
      "{'acc': 0.68, 'auc': 0.618, 'mcc': 0.236, 'pres': 0.676, 'recall': 0.68, 'f1': 0.625, 'i': 8.0, 'repeat_seed': 4096.0}\n",
      "################################################## repeat_seed: 4096; fold_08 ##################################################\n",
      "\n",
      " input train and test X shape is (228, 22, 22, 8), (25, 22, 22, 8) \n",
      "MultiClassEstimator(batch_norm=False, batch_size=2, conv1_kernel_size=13,\n",
      "                    dense_avf='relu', dense_layers=[128], dropout=0.0,\n",
      "                    epochs=50, gpuid='0', last_avf='softmax',\n",
      "                    loss='categorical_crossentropy', lr=0.0001, metric='ACC',\n",
      "                    monitor='val_loss', n_inception=2,\n",
      "                    name='AggMap MultiClass Estimator', patience=10000,\n",
      "                    random_state=32, verbose=0)\n",
      "roc-auc: 0.729, mcc: 0.458, pres: 0.768, recall: 0.760, f1: 0.739\n",
      "{'acc': 0.76, 'auc': 0.729, 'mcc': 0.458, 'pres': 0.768, 'recall': 0.76, 'f1': 0.739, 'i': 8.0, 'repeat_seed': 4096.0}\n",
      "################################################## repeat_seed: 4096; fold_09 ##################################################\n",
      "\n",
      " input train and test X shape is (228, 22, 22, 8), (25, 22, 22, 8) \n",
      "MultiClassEstimator(batch_norm=False, batch_size=2, conv1_kernel_size=13,\n",
      "                    dense_avf='relu', dense_layers=[128], dropout=0.0,\n",
      "                    epochs=50, gpuid='0', last_avf='softmax',\n",
      "                    loss='categorical_crossentropy', lr=0.0001, metric='ACC',\n",
      "                    monitor='val_loss', n_inception=2,\n",
      "                    name='AggMap MultiClass Estimator', patience=10000,\n",
      "                    random_state=32, verbose=0)\n",
      "roc-auc: 0.611, mcc: 0.068, pres: 0.571, recall: 0.560, f1: 0.564\n",
      "{'acc': 0.56, 'auc': 0.611, 'mcc': 0.068, 'pres': 0.571, 'recall': 0.56, 'f1': 0.564, 'i': 8.0, 'repeat_seed': 4096.0}\n",
      "\n",
      "\n",
      "results for seed 4096\n",
      "{'acc': 0.6408999999999999, 'auc': 0.6172, 'mcc': 0.1691, 'pres': 0.627, 'recall': 0.6408999999999999, 'f1': 0.6228, 'i': 8.0, 'repeat_seed': 4096.0}\n",
      "################################################## repeat_seed: 8192; fold_00 ##################################################\n",
      "\n",
      " input train and test X shape is (227, 22, 22, 8), (26, 22, 22, 8) \n",
      "MultiClassEstimator(batch_norm=False, batch_size=2, conv1_kernel_size=13,\n",
      "                    dense_avf='relu', dense_layers=[128], dropout=0.0,\n",
      "                    epochs=50, gpuid='0', last_avf='softmax',\n",
      "                    loss='categorical_crossentropy', lr=0.0001, metric='ACC',\n",
      "                    monitor='val_loss', n_inception=2,\n",
      "                    name='AggMap MultiClass Estimator', patience=10000,\n",
      "                    random_state=32, verbose=0)\n",
      "roc-auc: 0.654, mcc: 0.089, pres: 0.588, recall: 0.577, f1: 0.582\n",
      "{'acc': 0.577, 'auc': 0.654, 'mcc': 0.089, 'pres': 0.588, 'recall': 0.577, 'f1': 0.582, 'i': 9.0, 'repeat_seed': 8192.0}\n",
      "################################################## repeat_seed: 8192; fold_01 ##################################################\n",
      "\n",
      " input train and test X shape is (227, 22, 22, 8), (26, 22, 22, 8) \n",
      "MultiClassEstimator(batch_norm=False, batch_size=2, conv1_kernel_size=13,\n",
      "                    dense_avf='relu', dense_layers=[128], dropout=0.0,\n",
      "                    epochs=50, gpuid='0', last_avf='softmax',\n",
      "                    loss='categorical_crossentropy', lr=0.0001, metric='ACC',\n",
      "                    monitor='val_loss', n_inception=2,\n",
      "                    name='AggMap MultiClass Estimator', patience=10000,\n",
      "                    random_state=32, verbose=0)\n",
      "roc-auc: 0.680, mcc: 0.359, pres: 0.712, recall: 0.692, f1: 0.698\n",
      "{'acc': 0.692, 'auc': 0.68, 'mcc': 0.359, 'pres': 0.712, 'recall': 0.692, 'f1': 0.698, 'i': 9.0, 'repeat_seed': 8192.0}\n",
      "################################################## repeat_seed: 8192; fold_02 ##################################################\n",
      "\n",
      " input train and test X shape is (227, 22, 22, 8), (26, 22, 22, 8) \n",
      "MultiClassEstimator(batch_norm=False, batch_size=2, conv1_kernel_size=13,\n",
      "                    dense_avf='relu', dense_layers=[128], dropout=0.0,\n",
      "                    epochs=50, gpuid='0', last_avf='softmax',\n",
      "                    loss='categorical_crossentropy', lr=0.0001, metric='ACC',\n",
      "                    monitor='val_loss', n_inception=2,\n",
      "                    name='AggMap MultiClass Estimator', patience=10000,\n",
      "                    random_state=32, verbose=0)\n",
      "roc-auc: 0.562, mcc: -0.086, pres: 0.503, recall: 0.577, f1: 0.523\n",
      "{'acc': 0.577, 'auc': 0.562, 'mcc': -0.086, 'pres': 0.503, 'recall': 0.577, 'f1': 0.523, 'i': 9.0, 'repeat_seed': 8192.0}\n",
      "################################################## repeat_seed: 8192; fold_03 ##################################################\n",
      "\n",
      " input train and test X shape is (228, 22, 22, 8), (25, 22, 22, 8) \n",
      "MultiClassEstimator(batch_norm=False, batch_size=2, conv1_kernel_size=13,\n",
      "                    dense_avf='relu', dense_layers=[128], dropout=0.0,\n",
      "                    epochs=50, gpuid='0', last_avf='softmax',\n",
      "                    loss='categorical_crossentropy', lr=0.0001, metric='ACC',\n",
      "                    monitor='val_loss', n_inception=2,\n",
      "                    name='AggMap MultiClass Estimator', patience=10000,\n",
      "                    random_state=32, verbose=0)\n",
      "roc-auc: 0.632, mcc: 0.300, pres: 0.702, recall: 0.720, f1: 0.699\n",
      "{'acc': 0.72, 'auc': 0.632, 'mcc': 0.3, 'pres': 0.702, 'recall': 0.72, 'f1': 0.699, 'i': 9.0, 'repeat_seed': 8192.0}\n",
      "################################################## repeat_seed: 8192; fold_04 ##################################################\n",
      "\n",
      " input train and test X shape is (228, 22, 22, 8), (25, 22, 22, 8) \n",
      "MultiClassEstimator(batch_norm=False, batch_size=2, conv1_kernel_size=13,\n",
      "                    dense_avf='relu', dense_layers=[128], dropout=0.0,\n",
      "                    epochs=50, gpuid='0', last_avf='softmax',\n",
      "                    loss='categorical_crossentropy', lr=0.0001, metric='ACC',\n",
      "                    monitor='val_loss', n_inception=2,\n",
      "                    name='AggMap MultiClass Estimator', patience=10000,\n",
      "                    random_state=32, verbose=0)\n",
      "roc-auc: 0.688, mcc: 0.275, pres: 0.668, recall: 0.680, f1: 0.669\n",
      "{'acc': 0.68, 'auc': 0.688, 'mcc': 0.275, 'pres': 0.668, 'recall': 0.68, 'f1': 0.669, 'i': 9.0, 'repeat_seed': 8192.0}\n",
      "################################################## repeat_seed: 8192; fold_05 ##################################################\n",
      "\n",
      " input train and test X shape is (228, 22, 22, 8), (25, 22, 22, 8) \n",
      "MultiClassEstimator(batch_norm=False, batch_size=2, conv1_kernel_size=13,\n",
      "                    dense_avf='relu', dense_layers=[128], dropout=0.0,\n",
      "                    epochs=50, gpuid='0', last_avf='softmax',\n",
      "                    loss='categorical_crossentropy', lr=0.0001, metric='ACC',\n",
      "                    monitor='val_loss', n_inception=2,\n",
      "                    name='AggMap MultiClass Estimator', patience=10000,\n",
      "                    random_state=32, verbose=0)\n",
      "roc-auc: 0.500, mcc: 0.086, pres: 0.597, recall: 0.640, f1: 0.558\n",
      "{'acc': 0.64, 'auc': 0.5, 'mcc': 0.086, 'pres': 0.597, 'recall': 0.64, 'f1': 0.558, 'i': 9.0, 'repeat_seed': 8192.0}\n",
      "################################################## repeat_seed: 8192; fold_06 ##################################################\n",
      "\n",
      " input train and test X shape is (228, 22, 22, 8), (25, 22, 22, 8) \n",
      "MultiClassEstimator(batch_norm=False, batch_size=2, conv1_kernel_size=13,\n",
      "                    dense_avf='relu', dense_layers=[128], dropout=0.0,\n",
      "                    epochs=50, gpuid='0', last_avf='softmax',\n",
      "                    loss='categorical_crossentropy', lr=0.0001, metric='ACC',\n",
      "                    monitor='val_loss', n_inception=2,\n",
      "                    name='AggMap MultiClass Estimator', patience=10000,\n",
      "                    random_state=32, verbose=0)\n",
      "roc-auc: 0.632, mcc: 0.306, pres: 0.680, recall: 0.680, f1: 0.680\n",
      "{'acc': 0.68, 'auc': 0.632, 'mcc': 0.306, 'pres': 0.68, 'recall': 0.68, 'f1': 0.68, 'i': 9.0, 'repeat_seed': 8192.0}\n",
      "################################################## repeat_seed: 8192; fold_07 ##################################################\n",
      "\n",
      " input train and test X shape is (228, 22, 22, 8), (25, 22, 22, 8) \n",
      "MultiClassEstimator(batch_norm=False, batch_size=2, conv1_kernel_size=13,\n",
      "                    dense_avf='relu', dense_layers=[128], dropout=0.0,\n",
      "                    epochs=50, gpuid='0', last_avf='softmax',\n",
      "                    loss='categorical_crossentropy', lr=0.0001, metric='ACC',\n",
      "                    monitor='val_loss', n_inception=2,\n",
      "                    name='AggMap MultiClass Estimator', patience=10000,\n",
      "                    random_state=32, verbose=0)\n",
      "roc-auc: 0.840, mcc: 0.667, pres: 0.872, recall: 0.840, f1: 0.826\n",
      "{'acc': 0.84, 'auc': 0.84, 'mcc': 0.667, 'pres': 0.872, 'recall': 0.84, 'f1': 0.826, 'i': 9.0, 'repeat_seed': 8192.0}\n",
      "################################################## repeat_seed: 8192; fold_08 ##################################################\n",
      "\n",
      " input train and test X shape is (228, 22, 22, 8), (25, 22, 22, 8) \n",
      "MultiClassEstimator(batch_norm=False, batch_size=2, conv1_kernel_size=13,\n",
      "                    dense_avf='relu', dense_layers=[128], dropout=0.0,\n",
      "                    epochs=50, gpuid='0', last_avf='softmax',\n",
      "                    loss='categorical_crossentropy', lr=0.0001, metric='ACC',\n",
      "                    monitor='val_loss', n_inception=2,\n",
      "                    name='AggMap MultiClass Estimator', patience=10000,\n",
      "                    random_state=32, verbose=0)\n",
      "roc-auc: 0.611, mcc: 0.200, pres: 0.632, recall: 0.640, f1: 0.635\n",
      "{'acc': 0.64, 'auc': 0.611, 'mcc': 0.2, 'pres': 0.632, 'recall': 0.64, 'f1': 0.635, 'i': 9.0, 'repeat_seed': 8192.0}\n",
      "################################################## repeat_seed: 8192; fold_09 ##################################################\n",
      "\n",
      " input train and test X shape is (228, 22, 22, 8), (25, 22, 22, 8) \n",
      "MultiClassEstimator(batch_norm=False, batch_size=2, conv1_kernel_size=13,\n",
      "                    dense_avf='relu', dense_layers=[128], dropout=0.0,\n",
      "                    epochs=50, gpuid='0', last_avf='softmax',\n",
      "                    loss='categorical_crossentropy', lr=0.0001, metric='ACC',\n",
      "                    monitor='val_loss', n_inception=2,\n",
      "                    name='AggMap MultiClass Estimator', patience=10000,\n",
      "                    random_state=32, verbose=0)\n",
      "roc-auc: 0.465, mcc: -0.031, pres: 0.524, recall: 0.560, f1: 0.535\n",
      "{'acc': 0.56, 'auc': 0.465, 'mcc': -0.031, 'pres': 0.524, 'recall': 0.56, 'f1': 0.535, 'i': 9.0, 'repeat_seed': 8192.0}\n",
      "\n",
      "\n",
      "results for seed 8192\n",
      "{'acc': 0.6606, 'auc': 0.6264, 'mcc': 0.2165, 'pres': 0.6477999999999999, 'recall': 0.6606, 'f1': 0.6405, 'i': 9.0, 'repeat_seed': 8192.0}\n"
     ]
    }
   ],
   "source": [
    "gpuid = 0\n",
    "\n",
    "outer_fold = 10\n",
    "repeat_seeds = [8, 16, 32, 64, 128, 256, 1024, 2048, 4096, 8192] #10 repeats random seeds 8, 16, 32, 64, 128\n",
    "\n",
    "each_fold_results = []\n",
    "run_all_res = []\n",
    "\n",
    "for i, repeat_seed in enumerate(repeat_seeds): \n",
    "    outer = StratifiedKFold(n_splits = outer_fold, shuffle = True, random_state = repeat_seed)\n",
    "    outer_idx = outer.split(range(len(dfy)), dfy.idxmax(axis=1))\n",
    "    run_one_res = []\n",
    "    one_repeat_results = []\n",
    "    for j, idx in enumerate(outer_idx):\n",
    "        fold_num = \"fold_%s\" % str(j).zfill(2) \n",
    "        print('#'*50 + ' repeat_seed: %s; %s ' % (repeat_seed, fold_num) + '#'*50 )\n",
    "        \n",
    "        train_idx, test_idx = idx\n",
    "\n",
    "        testY = Y[test_idx]\n",
    "        testX = X[test_idx]\n",
    "        \n",
    "        trainX = X[train_idx]\n",
    "        trainY = Y[train_idx]\n",
    "\n",
    "        print(\"\\n input train and test X shape is %s, %s \" % (trainX.shape,  testX.shape))\n",
    "\n",
    "        clf = AggModel.MultiClassEstimator(epochs = 50,  batch_size = 2, verbose = 0, gpuid=gpuid) #\n",
    "        clf.fit(trainX, trainY)  #, \n",
    "        \n",
    "        ## save model for explaination\n",
    "        if i == 0:\n",
    "            clf.save_model(os.path.join(save_dir, '%s.model' % fold_num))\n",
    "            paras = clf.get_params()\n",
    "            paras.update({'featHPs':featHPs})\n",
    "            pd.Series(paras).to_json(os.path.join(save_dir, 'HPs.json'))\n",
    "\n",
    "        pred_proba = clf.predict_proba(testX)\n",
    "        y_true = testY[:,1] \n",
    "        y_score = pred_proba[:,1]\n",
    "        y_pred = np.argmax(pred_proba, axis=1)\n",
    "        \n",
    "        dfr = pd.DataFrame([y_true, y_score, y_pred]).T\n",
    "        dfr.columns = ['y_true', 'y_score', 'y_pred']\n",
    "        dfr.index = dfy.iloc[test_idx].index\n",
    "        acc, auc, mcc, pres, recall, f1  = score(dfr)\n",
    "        run_one_res.append(dfr)\n",
    "        ts = pd.Series([acc, auc, mcc, pres, recall, f1, i, repeat_seed]).round(3)\n",
    "        ts.index = ['acc','auc', 'mcc', 'pres', 'recall', 'f1', 'i', 'repeat_seed']\n",
    "        print(ts.to_dict())\n",
    "        each_fold_results.append(ts.to_dict())    \n",
    "        one_repeat_results.append(ts.to_dict())\n",
    "    print('\\n\\nresults for seed %s' % repeat_seed)\n",
    "    print(pd.DataFrame(one_repeat_results).mean().to_dict())\n",
    "    \n",
    "    run_all_res.append(pd.concat(run_one_res))"
   ]
  },
  {
   "cell_type": "code",
   "execution_count": 13,
   "metadata": {},
   "outputs": [
    {
     "data": {
      "text/plain": [
       "acc       0.64510\n",
       "auc       0.64000\n",
       "mcc       0.18306\n",
       "pres      0.63065\n",
       "recall    0.64510\n",
       "f1        0.62798\n",
       "i         4.50000\n",
       "dtype: float64"
      ]
     },
     "execution_count": 13,
     "metadata": {},
     "output_type": "execute_result"
    }
   ],
   "source": [
    "pd.DataFrame(each_fold_results).groupby('repeat_seed').mean().mean()"
   ]
  },
  {
   "cell_type": "code",
   "execution_count": 14,
   "metadata": {},
   "outputs": [
    {
     "data": {
      "text/plain": [
       "acc       0.081273\n",
       "auc       0.114885\n",
       "mcc       0.205598\n",
       "pres      0.098576\n",
       "recall    0.081273\n",
       "f1        0.088825\n",
       "i         0.000000\n",
       "dtype: float64"
      ]
     },
     "execution_count": 14,
     "metadata": {},
     "output_type": "execute_result"
    }
   ],
   "source": [
    "pd.DataFrame(each_fold_results).groupby('repeat_seed').std().mean()"
   ]
  },
  {
   "cell_type": "code",
   "execution_count": 15,
   "metadata": {},
   "outputs": [],
   "source": [
    "pd.DataFrame(each_fold_results).to_csv(os.path.join(save_dir, 'performance_results.csv'))"
   ]
  },
  {
   "cell_type": "code",
   "execution_count": null,
   "metadata": {},
   "outputs": [],
   "source": []
  },
  {
   "cell_type": "code",
   "execution_count": null,
   "metadata": {},
   "outputs": [],
   "source": []
  },
  {
   "cell_type": "code",
   "execution_count": null,
   "metadata": {},
   "outputs": [],
   "source": []
  },
  {
   "cell_type": "markdown",
   "metadata": {},
   "source": [
    "# feature importance"
   ]
  },
  {
   "cell_type": "code",
   "execution_count": 16,
   "metadata": {},
   "outputs": [
    {
     "name": "stdout",
     "output_type": "stream",
     "text": [
      "8/8 [==============================] - 0s 917us/step\n",
      "calculating feature importance for column 1 ...\n"
     ]
    },
    {
     "name": "stderr",
     "output_type": "stream",
     "text": [
      "  0%|                                                                                                                                                | 0/484 [00:00<?, ?it/s]"
     ]
    },
    {
     "name": "stdout",
     "output_type": "stream",
     "text": [
      "149/149 [==============================] - 1s 3ms/step\n"
     ]
    },
    {
     "name": "stderr",
     "output_type": "stream",
     "text": [
      "  4%|#####8                                                                                                                                 | 21/484 [00:00<00:13, 34.28it/s]"
     ]
    },
    {
     "name": "stdout",
     "output_type": "stream",
     "text": [
      "142/142 [==============================] - 1s 4ms/step\n"
     ]
    },
    {
     "name": "stderr",
     "output_type": "stream",
     "text": [
      "  8%|###########4                                                                                                                           | 41/484 [00:01<00:13, 32.00it/s]"
     ]
    },
    {
     "name": "stdout",
     "output_type": "stream",
     "text": [
      "142/142 [==============================] - 1s 4ms/step\n"
     ]
    },
    {
     "name": "stderr",
     "output_type": "stream",
     "text": [
      " 13%|#################                                                                                                                      | 61/484 [00:01<00:14, 30.08it/s]"
     ]
    },
    {
     "name": "stdout",
     "output_type": "stream",
     "text": [
      "142/142 [==============================] - 0s 3ms/step\n"
     ]
    },
    {
     "name": "stderr",
     "output_type": "stream",
     "text": [
      " 17%|######################5                                                                                                                | 81/484 [00:02<00:12, 31.44it/s]"
     ]
    },
    {
     "name": "stdout",
     "output_type": "stream",
     "text": [
      "142/142 [==============================] - 0s 831us/step\n"
     ]
    },
    {
     "name": "stderr",
     "output_type": "stream",
     "text": [
      " 21%|###########################9                                                                                                          | 101/484 [00:02<00:09, 40.89it/s]"
     ]
    },
    {
     "name": "stdout",
     "output_type": "stream",
     "text": [
      "142/142 [==============================] - 0s 2ms/step\n"
     ]
    },
    {
     "name": "stderr",
     "output_type": "stream",
     "text": [
      " 25%|#################################5                                                                                                    | 121/484 [00:03<00:08, 42.18it/s]"
     ]
    },
    {
     "name": "stdout",
     "output_type": "stream",
     "text": [
      "142/142 [==============================] - 0s 2ms/step\n"
     ]
    },
    {
     "name": "stderr",
     "output_type": "stream",
     "text": [
      " 29%|#######################################                                                                                               | 141/484 [00:03<00:07, 43.34it/s]"
     ]
    },
    {
     "name": "stdout",
     "output_type": "stream",
     "text": [
      "142/142 [==============================] - 0s 2ms/step\n"
     ]
    },
    {
     "name": "stderr",
     "output_type": "stream",
     "text": [
      " 33%|############################################5                                                                                         | 161/484 [00:04<00:07, 42.92it/s]"
     ]
    },
    {
     "name": "stdout",
     "output_type": "stream",
     "text": [
      "142/142 [==============================] - 0s 3ms/step\n"
     ]
    },
    {
     "name": "stderr",
     "output_type": "stream",
     "text": [
      " 37%|##################################################1                                                                                   | 181/484 [00:04<00:07, 41.62it/s]"
     ]
    },
    {
     "name": "stdout",
     "output_type": "stream",
     "text": [
      "142/142 [==============================] - 0s 2ms/step\n"
     ]
    },
    {
     "name": "stderr",
     "output_type": "stream",
     "text": [
      " 42%|#######################################################6                                                                              | 201/484 [00:04<00:06, 46.22it/s]"
     ]
    },
    {
     "name": "stdout",
     "output_type": "stream",
     "text": [
      "142/142 [==============================] - 0s 3ms/step\n"
     ]
    },
    {
     "name": "stderr",
     "output_type": "stream",
     "text": [
      " 46%|#############################################################1                                                                        | 221/484 [00:05<00:06, 42.33it/s]"
     ]
    },
    {
     "name": "stdout",
     "output_type": "stream",
     "text": [
      "142/142 [==============================] - 0s 2ms/step\n"
     ]
    },
    {
     "name": "stderr",
     "output_type": "stream",
     "text": [
      " 50%|##################################################################7                                                                   | 241/484 [00:05<00:05, 43.53it/s]"
     ]
    },
    {
     "name": "stdout",
     "output_type": "stream",
     "text": [
      "142/142 [==============================] - 1s 4ms/step\n"
     ]
    },
    {
     "name": "stderr",
     "output_type": "stream",
     "text": [
      " 54%|########################################################################2                                                             | 261/484 [00:06<00:05, 38.59it/s]"
     ]
    },
    {
     "name": "stdout",
     "output_type": "stream",
     "text": [
      "142/142 [==============================] - 0s 3ms/step\n"
     ]
    },
    {
     "name": "stderr",
     "output_type": "stream",
     "text": [
      " 58%|#############################################################################7                                                        | 281/484 [00:07<00:05, 36.95it/s]"
     ]
    },
    {
     "name": "stdout",
     "output_type": "stream",
     "text": [
      "142/142 [==============================] - 1s 4ms/step\n"
     ]
    },
    {
     "name": "stderr",
     "output_type": "stream",
     "text": [
      " 62%|###################################################################################3                                                  | 301/484 [00:07<00:05, 34.99it/s]"
     ]
    },
    {
     "name": "stdout",
     "output_type": "stream",
     "text": [
      "142/142 [==============================] - 0s 3ms/step\n"
     ]
    },
    {
     "name": "stderr",
     "output_type": "stream",
     "text": [
      " 66%|########################################################################################8                                             | 321/484 [00:08<00:04, 36.20it/s]"
     ]
    },
    {
     "name": "stdout",
     "output_type": "stream",
     "text": [
      "142/142 [==============================] - 0s 744us/step\n"
     ]
    },
    {
     "name": "stderr",
     "output_type": "stream",
     "text": [
      " 70%|##############################################################################################4                                       | 341/484 [00:08<00:03, 44.83it/s]"
     ]
    },
    {
     "name": "stdout",
     "output_type": "stream",
     "text": [
      "142/142 [==============================] - 0s 2ms/step\n"
     ]
    },
    {
     "name": "stderr",
     "output_type": "stream",
     "text": [
      " 75%|###################################################################################################9                                  | 361/484 [00:09<00:02, 44.68it/s]"
     ]
    },
    {
     "name": "stdout",
     "output_type": "stream",
     "text": [
      "142/142 [==============================] - 0s 3ms/step\n"
     ]
    },
    {
     "name": "stderr",
     "output_type": "stream",
     "text": [
      " 79%|#########################################################################################################4                            | 381/484 [00:09<00:02, 41.94it/s]"
     ]
    },
    {
     "name": "stdout",
     "output_type": "stream",
     "text": [
      "142/142 [==============================] - 0s 2ms/step\n"
     ]
    },
    {
     "name": "stderr",
     "output_type": "stream",
     "text": [
      " 83%|###############################################################################################################                       | 401/484 [00:10<00:01, 42.78it/s]"
     ]
    },
    {
     "name": "stdout",
     "output_type": "stream",
     "text": [
      "142/142 [==============================] - 0s 3ms/step\n"
     ]
    },
    {
     "name": "stderr",
     "output_type": "stream",
     "text": [
      " 87%|####################################################################################################################5                 | 421/484 [00:10<00:01, 41.53it/s]"
     ]
    },
    {
     "name": "stdout",
     "output_type": "stream",
     "text": [
      "142/142 [==============================] - 0s 3ms/step\n"
     ]
    },
    {
     "name": "stderr",
     "output_type": "stream",
     "text": [
      " 91%|##########################################################################################################################            | 441/484 [00:11<00:01, 40.06it/s]"
     ]
    },
    {
     "name": "stdout",
     "output_type": "stream",
     "text": [
      "142/142 [==============================] - 0s 745us/step\n"
     ]
    },
    {
     "name": "stderr",
     "output_type": "stream",
     "text": [
      " 95%|###############################################################################################################################6      | 461/484 [00:11<00:00, 48.15it/s]"
     ]
    },
    {
     "name": "stdout",
     "output_type": "stream",
     "text": [
      "142/142 [==============================] - 0s 3ms/step\n"
     ]
    },
    {
     "name": "stderr",
     "output_type": "stream",
     "text": [
      " 99%|#####################################################################################################################################1| 481/484 [00:11<00:00, 44.83it/s]"
     ]
    },
    {
     "name": "stdout",
     "output_type": "stream",
     "text": [
      "22/22 [==============================] - 0s 2ms/step\n"
     ]
    },
    {
     "name": "stderr",
     "output_type": "stream",
     "text": [
      "100%|######################################################################################################################################| 484/484 [00:11<00:00, 40.67it/s]\n"
     ]
    },
    {
     "name": "stdout",
     "output_type": "stream",
     "text": [
      "8/8 [==============================] - 0s 959us/step\n",
      "calculating feature importance for column 1 ...\n"
     ]
    },
    {
     "name": "stderr",
     "output_type": "stream",
     "text": [
      "  0%|                                                                                                                                                | 0/484 [00:00<?, ?it/s]"
     ]
    },
    {
     "name": "stdout",
     "output_type": "stream",
     "text": [
      "149/149 [==============================] - 0s 1ms/step\n"
     ]
    },
    {
     "name": "stderr",
     "output_type": "stream",
     "text": [
      "  4%|#####8                                                                                                                                 | 21/484 [00:00<00:06, 67.55it/s]"
     ]
    },
    {
     "name": "stdout",
     "output_type": "stream",
     "text": [
      "142/142 [==============================] - 0s 3ms/step\n"
     ]
    },
    {
     "name": "stderr",
     "output_type": "stream",
     "text": [
      "  8%|###########4                                                                                                                           | 41/484 [00:00<00:09, 47.67it/s]"
     ]
    },
    {
     "name": "stdout",
     "output_type": "stream",
     "text": [
      "142/142 [==============================] - 0s 2ms/step\n"
     ]
    },
    {
     "name": "stderr",
     "output_type": "stream",
     "text": [
      " 13%|#################                                                                                                                      | 61/484 [00:01<00:08, 48.91it/s]"
     ]
    },
    {
     "name": "stdout",
     "output_type": "stream",
     "text": [
      "142/142 [==============================] - 0s 3ms/step\n"
     ]
    },
    {
     "name": "stderr",
     "output_type": "stream",
     "text": [
      " 17%|######################5                                                                                                                | 81/484 [00:01<00:08, 45.98it/s]"
     ]
    },
    {
     "name": "stdout",
     "output_type": "stream",
     "text": [
      "142/142 [==============================] - 0s 3ms/step\n"
     ]
    },
    {
     "name": "stderr",
     "output_type": "stream",
     "text": [
      " 21%|###########################9                                                                                                          | 101/484 [00:02<00:09, 40.54it/s]"
     ]
    },
    {
     "name": "stdout",
     "output_type": "stream",
     "text": [
      "142/142 [==============================] - 1s 4ms/step\n"
     ]
    },
    {
     "name": "stderr",
     "output_type": "stream",
     "text": [
      " 25%|#################################5                                                                                                    | 121/484 [00:02<00:10, 35.38it/s]"
     ]
    },
    {
     "name": "stdout",
     "output_type": "stream",
     "text": [
      "142/142 [==============================] - 1s 4ms/step\n"
     ]
    },
    {
     "name": "stderr",
     "output_type": "stream",
     "text": [
      " 29%|#######################################                                                                                               | 141/484 [00:03<00:10, 33.76it/s]"
     ]
    },
    {
     "name": "stdout",
     "output_type": "stream",
     "text": [
      "142/142 [==============================] - 0s 3ms/step\n"
     ]
    },
    {
     "name": "stderr",
     "output_type": "stream",
     "text": [
      " 33%|############################################5                                                                                         | 161/484 [00:04<00:08, 36.29it/s]"
     ]
    },
    {
     "name": "stdout",
     "output_type": "stream",
     "text": [
      "142/142 [==============================] - 0s 777us/step\n"
     ]
    },
    {
     "name": "stderr",
     "output_type": "stream",
     "text": [
      " 37%|##################################################1                                                                                   | 181/484 [00:04<00:06, 45.13it/s]"
     ]
    },
    {
     "name": "stdout",
     "output_type": "stream",
     "text": [
      "142/142 [==============================] - 0s 3ms/step\n"
     ]
    },
    {
     "name": "stderr",
     "output_type": "stream",
     "text": [
      " 42%|#######################################################6                                                                              | 201/484 [00:04<00:06, 42.08it/s]"
     ]
    },
    {
     "name": "stdout",
     "output_type": "stream",
     "text": [
      "142/142 [==============================] - 0s 1ms/step\n"
     ]
    },
    {
     "name": "stderr",
     "output_type": "stream",
     "text": [
      " 46%|#############################################################1                                                                        | 221/484 [00:05<00:05, 48.39it/s]"
     ]
    },
    {
     "name": "stdout",
     "output_type": "stream",
     "text": [
      "142/142 [==============================] - 0s 3ms/step\n"
     ]
    },
    {
     "name": "stderr",
     "output_type": "stream",
     "text": [
      " 50%|##################################################################7                                                                   | 241/484 [00:05<00:05, 45.88it/s]"
     ]
    },
    {
     "name": "stdout",
     "output_type": "stream",
     "text": [
      "142/142 [==============================] - 0s 1ms/step\n"
     ]
    },
    {
     "name": "stderr",
     "output_type": "stream",
     "text": [
      " 54%|########################################################################2                                                             | 261/484 [00:05<00:04, 51.59it/s]"
     ]
    },
    {
     "name": "stdout",
     "output_type": "stream",
     "text": [
      "142/142 [==============================] - 0s 3ms/step\n"
     ]
    },
    {
     "name": "stderr",
     "output_type": "stream",
     "text": [
      " 58%|#############################################################################7                                                        | 281/484 [00:06<00:04, 44.81it/s]"
     ]
    },
    {
     "name": "stdout",
     "output_type": "stream",
     "text": [
      "142/142 [==============================] - 0s 3ms/step\n"
     ]
    },
    {
     "name": "stderr",
     "output_type": "stream",
     "text": [
      " 62%|###################################################################################3                                                  | 301/484 [00:06<00:04, 43.58it/s]"
     ]
    },
    {
     "name": "stdout",
     "output_type": "stream",
     "text": [
      "142/142 [==============================] - 0s 2ms/step\n"
     ]
    },
    {
     "name": "stderr",
     "output_type": "stream",
     "text": [
      " 66%|########################################################################################8                                             | 321/484 [00:07<00:03, 46.14it/s]"
     ]
    },
    {
     "name": "stdout",
     "output_type": "stream",
     "text": [
      "142/142 [==============================] - 0s 854us/step\n"
     ]
    },
    {
     "name": "stderr",
     "output_type": "stream",
     "text": [
      " 70%|##############################################################################################4                                       | 341/484 [00:07<00:02, 54.09it/s]"
     ]
    },
    {
     "name": "stdout",
     "output_type": "stream",
     "text": [
      "142/142 [==============================] - 0s 3ms/step\n"
     ]
    },
    {
     "name": "stderr",
     "output_type": "stream",
     "text": [
      " 75%|###################################################################################################9                                  | 361/484 [00:08<00:02, 46.88it/s]"
     ]
    },
    {
     "name": "stdout",
     "output_type": "stream",
     "text": [
      "142/142 [==============================] - 0s 3ms/step\n"
     ]
    },
    {
     "name": "stderr",
     "output_type": "stream",
     "text": [
      " 79%|#########################################################################################################4                            | 381/484 [00:08<00:02, 41.65it/s]"
     ]
    },
    {
     "name": "stdout",
     "output_type": "stream",
     "text": [
      "142/142 [==============================] - 0s 2ms/step\n"
     ]
    },
    {
     "name": "stderr",
     "output_type": "stream",
     "text": [
      " 83%|###############################################################################################################                       | 401/484 [00:09<00:01, 45.70it/s]"
     ]
    },
    {
     "name": "stdout",
     "output_type": "stream",
     "text": [
      "142/142 [==============================] - 0s 2ms/step\n"
     ]
    },
    {
     "name": "stderr",
     "output_type": "stream",
     "text": [
      " 87%|####################################################################################################################5                 | 421/484 [00:09<00:01, 48.34it/s]"
     ]
    },
    {
     "name": "stdout",
     "output_type": "stream",
     "text": [
      "142/142 [==============================] - 0s 3ms/step\n"
     ]
    },
    {
     "name": "stderr",
     "output_type": "stream",
     "text": [
      " 91%|##########################################################################################################################            | 441/484 [00:10<00:00, 43.11it/s]"
     ]
    },
    {
     "name": "stdout",
     "output_type": "stream",
     "text": [
      "142/142 [==============================] - 1s 4ms/step\n"
     ]
    },
    {
     "name": "stderr",
     "output_type": "stream",
     "text": [
      " 95%|###############################################################################################################################6      | 461/484 [00:10<00:00, 37.82it/s]"
     ]
    },
    {
     "name": "stdout",
     "output_type": "stream",
     "text": [
      "142/142 [==============================] - 1s 4ms/step\n"
     ]
    },
    {
     "name": "stderr",
     "output_type": "stream",
     "text": [
      " 99%|#####################################################################################################################################1| 481/484 [00:11<00:00, 35.56it/s]"
     ]
    },
    {
     "name": "stdout",
     "output_type": "stream",
     "text": [
      "22/22 [==============================] - 0s 872us/step\n"
     ]
    },
    {
     "name": "stderr",
     "output_type": "stream",
     "text": [
      "100%|######################################################################################################################################| 484/484 [00:11<00:00, 42.52it/s]"
     ]
    },
    {
     "name": "stdout",
     "output_type": "stream",
     "text": [
      "8/8 [==============================] - 0s 953us/step\n"
     ]
    },
    {
     "name": "stderr",
     "output_type": "stream",
     "text": [
      "\n"
     ]
    },
    {
     "name": "stdout",
     "output_type": "stream",
     "text": [
      "calculating feature importance for column 1 ...\n"
     ]
    },
    {
     "name": "stderr",
     "output_type": "stream",
     "text": [
      "  0%|                                                                                                                                                | 0/484 [00:00<?, ?it/s]"
     ]
    },
    {
     "name": "stdout",
     "output_type": "stream",
     "text": [
      "149/149 [==============================] - 1s 4ms/step\n"
     ]
    },
    {
     "name": "stderr",
     "output_type": "stream",
     "text": [
      "  4%|#####8                                                                                                                                 | 21/484 [00:00<00:15, 30.15it/s]"
     ]
    },
    {
     "name": "stdout",
     "output_type": "stream",
     "text": [
      "142/142 [==============================] - 0s 3ms/step\n"
     ]
    },
    {
     "name": "stderr",
     "output_type": "stream",
     "text": [
      "  8%|###########4                                                                                                                           | 41/484 [00:01<00:13, 32.18it/s]"
     ]
    },
    {
     "name": "stdout",
     "output_type": "stream",
     "text": [
      "142/142 [==============================] - 0s 3ms/step\n"
     ]
    },
    {
     "name": "stderr",
     "output_type": "stream",
     "text": [
      " 13%|#################                                                                                                                      | 61/484 [00:01<00:12, 33.96it/s]"
     ]
    },
    {
     "name": "stdout",
     "output_type": "stream",
     "text": [
      "142/142 [==============================] - 0s 2ms/step\n"
     ]
    },
    {
     "name": "stderr",
     "output_type": "stream",
     "text": [
      " 17%|######################5                                                                                                                | 81/484 [00:02<00:10, 39.23it/s]"
     ]
    },
    {
     "name": "stdout",
     "output_type": "stream",
     "text": [
      "142/142 [==============================] - 1s 4ms/step\n"
     ]
    },
    {
     "name": "stderr",
     "output_type": "stream",
     "text": [
      " 21%|###########################9                                                                                                          | 101/484 [00:02<00:10, 36.70it/s]"
     ]
    },
    {
     "name": "stdout",
     "output_type": "stream",
     "text": [
      "142/142 [==============================] - 0s 1ms/step\n"
     ]
    },
    {
     "name": "stderr",
     "output_type": "stream",
     "text": [
      " 25%|#################################5                                                                                                    | 121/484 [00:03<00:08, 42.94it/s]"
     ]
    },
    {
     "name": "stdout",
     "output_type": "stream",
     "text": [
      "142/142 [==============================] - 0s 2ms/step\n"
     ]
    },
    {
     "name": "stderr",
     "output_type": "stream",
     "text": [
      " 29%|#######################################                                                                                               | 141/484 [00:03<00:07, 43.29it/s]"
     ]
    },
    {
     "name": "stdout",
     "output_type": "stream",
     "text": [
      "142/142 [==============================] - 0s 2ms/step\n"
     ]
    },
    {
     "name": "stderr",
     "output_type": "stream",
     "text": [
      " 33%|############################################5                                                                                         | 161/484 [00:04<00:07, 43.85it/s]"
     ]
    },
    {
     "name": "stdout",
     "output_type": "stream",
     "text": [
      "142/142 [==============================] - 0s 3ms/step\n"
     ]
    },
    {
     "name": "stderr",
     "output_type": "stream",
     "text": [
      " 37%|##################################################1                                                                                   | 181/484 [00:04<00:07, 40.83it/s]"
     ]
    },
    {
     "name": "stdout",
     "output_type": "stream",
     "text": [
      "142/142 [==============================] - 1s 4ms/step\n"
     ]
    },
    {
     "name": "stderr",
     "output_type": "stream",
     "text": [
      " 42%|#######################################################6                                                                              | 201/484 [00:05<00:07, 35.89it/s]"
     ]
    },
    {
     "name": "stdout",
     "output_type": "stream",
     "text": [
      "142/142 [==============================] - 0s 3ms/step\n"
     ]
    },
    {
     "name": "stderr",
     "output_type": "stream",
     "text": [
      " 46%|#############################################################1                                                                        | 221/484 [00:05<00:07, 35.77it/s]"
     ]
    },
    {
     "name": "stdout",
     "output_type": "stream",
     "text": [
      "142/142 [==============================] - 1s 4ms/step\n"
     ]
    },
    {
     "name": "stderr",
     "output_type": "stream",
     "text": [
      " 50%|##################################################################7                                                                   | 241/484 [00:06<00:07, 33.68it/s]"
     ]
    },
    {
     "name": "stdout",
     "output_type": "stream",
     "text": [
      "142/142 [==============================] - 0s 3ms/step\n"
     ]
    },
    {
     "name": "stderr",
     "output_type": "stream",
     "text": [
      " 54%|########################################################################2                                                             | 261/484 [00:07<00:06, 34.42it/s]"
     ]
    },
    {
     "name": "stdout",
     "output_type": "stream",
     "text": [
      "142/142 [==============================] - 0s 3ms/step\n"
     ]
    },
    {
     "name": "stderr",
     "output_type": "stream",
     "text": [
      " 58%|#############################################################################7                                                        | 281/484 [00:07<00:05, 35.32it/s]"
     ]
    },
    {
     "name": "stdout",
     "output_type": "stream",
     "text": [
      "142/142 [==============================] - 0s 3ms/step\n"
     ]
    },
    {
     "name": "stderr",
     "output_type": "stream",
     "text": [
      " 62%|###################################################################################3                                                  | 301/484 [00:08<00:05, 35.83it/s]"
     ]
    },
    {
     "name": "stdout",
     "output_type": "stream",
     "text": [
      "142/142 [==============================] - 1s 4ms/step\n"
     ]
    },
    {
     "name": "stderr",
     "output_type": "stream",
     "text": [
      " 66%|########################################################################################8                                             | 321/484 [00:08<00:04, 34.05it/s]"
     ]
    },
    {
     "name": "stdout",
     "output_type": "stream",
     "text": [
      "142/142 [==============================] - 0s 3ms/step\n"
     ]
    },
    {
     "name": "stderr",
     "output_type": "stream",
     "text": [
      " 70%|##############################################################################################4                                       | 341/484 [00:09<00:04, 33.96it/s]"
     ]
    },
    {
     "name": "stdout",
     "output_type": "stream",
     "text": [
      "142/142 [==============================] - 1s 4ms/step\n"
     ]
    },
    {
     "name": "stderr",
     "output_type": "stream",
     "text": [
      " 75%|###################################################################################################9                                  | 361/484 [00:10<00:03, 32.07it/s]"
     ]
    },
    {
     "name": "stdout",
     "output_type": "stream",
     "text": [
      "142/142 [==============================] - 1s 4ms/step\n"
     ]
    },
    {
     "name": "stderr",
     "output_type": "stream",
     "text": [
      " 79%|#########################################################################################################4                            | 381/484 [00:10<00:03, 31.36it/s]"
     ]
    },
    {
     "name": "stdout",
     "output_type": "stream",
     "text": [
      "142/142 [==============================] - 0s 3ms/step\n"
     ]
    },
    {
     "name": "stderr",
     "output_type": "stream",
     "text": [
      " 83%|###############################################################################################################                       | 401/484 [00:11<00:02, 33.94it/s]"
     ]
    },
    {
     "name": "stdout",
     "output_type": "stream",
     "text": [
      "142/142 [==============================] - 0s 1ms/step\n"
     ]
    },
    {
     "name": "stderr",
     "output_type": "stream",
     "text": [
      " 87%|####################################################################################################################5                 | 421/484 [00:11<00:01, 39.78it/s]"
     ]
    },
    {
     "name": "stdout",
     "output_type": "stream",
     "text": [
      "142/142 [==============================] - 1s 4ms/step\n"
     ]
    },
    {
     "name": "stderr",
     "output_type": "stream",
     "text": [
      " 91%|##########################################################################################################################            | 441/484 [00:12<00:01, 37.14it/s]"
     ]
    },
    {
     "name": "stdout",
     "output_type": "stream",
     "text": [
      "142/142 [==============================] - 0s 3ms/step\n"
     ]
    },
    {
     "name": "stderr",
     "output_type": "stream",
     "text": [
      " 95%|###############################################################################################################################6      | 461/484 [00:12<00:00, 38.72it/s]"
     ]
    },
    {
     "name": "stdout",
     "output_type": "stream",
     "text": [
      "142/142 [==============================] - 1s 4ms/step\n"
     ]
    },
    {
     "name": "stderr",
     "output_type": "stream",
     "text": [
      " 99%|#####################################################################################################################################1| 481/484 [00:13<00:00, 35.99it/s]"
     ]
    },
    {
     "name": "stdout",
     "output_type": "stream",
     "text": [
      "22/22 [==============================] - 0s 920us/step\n"
     ]
    },
    {
     "name": "stderr",
     "output_type": "stream",
     "text": [
      "100%|######################################################################################################################################| 484/484 [00:13<00:00, 36.22it/s]"
     ]
    },
    {
     "name": "stdout",
     "output_type": "stream",
     "text": [
      "1/8 [==>...........................] - ETA: 0s"
     ]
    },
    {
     "name": "stderr",
     "output_type": "stream",
     "text": [
      "\n"
     ]
    },
    {
     "name": "stdout",
     "output_type": "stream",
     "text": [
      "8/8 [==============================] - 0s 1ms/step\n",
      "calculating feature importance for column 1 ...\n"
     ]
    },
    {
     "name": "stderr",
     "output_type": "stream",
     "text": [
      "  0%|                                                                                                                                                | 0/484 [00:00<?, ?it/s]"
     ]
    },
    {
     "name": "stdout",
     "output_type": "stream",
     "text": [
      "150/150 [==============================] - 1s 4ms/step\n"
     ]
    },
    {
     "name": "stderr",
     "output_type": "stream",
     "text": [
      "  4%|#####8                                                                                                                                 | 21/484 [00:00<00:15, 30.28it/s]"
     ]
    },
    {
     "name": "stdout",
     "output_type": "stream",
     "text": [
      "143/143 [==============================] - 1s 4ms/step\n"
     ]
    },
    {
     "name": "stderr",
     "output_type": "stream",
     "text": [
      "  8%|###########4                                                                                                                           | 41/484 [00:01<00:14, 30.59it/s]"
     ]
    },
    {
     "name": "stdout",
     "output_type": "stream",
     "text": [
      "143/143 [==============================] - 0s 1ms/step\n"
     ]
    },
    {
     "name": "stderr",
     "output_type": "stream",
     "text": [
      " 13%|#################                                                                                                                      | 61/484 [00:01<00:10, 41.79it/s]"
     ]
    },
    {
     "name": "stdout",
     "output_type": "stream",
     "text": [
      "143/143 [==============================] - 0s 762us/step\n"
     ]
    },
    {
     "name": "stderr",
     "output_type": "stream",
     "text": [
      " 17%|######################5                                                                                                                | 81/484 [00:01<00:07, 53.83it/s]"
     ]
    },
    {
     "name": "stdout",
     "output_type": "stream",
     "text": [
      "143/143 [==============================] - 0s 3ms/step\n"
     ]
    },
    {
     "name": "stderr",
     "output_type": "stream",
     "text": [
      " 21%|###########################9                                                                                                          | 101/484 [00:02<00:08, 46.36it/s]"
     ]
    },
    {
     "name": "stdout",
     "output_type": "stream",
     "text": [
      "143/143 [==============================] - 1s 4ms/step\n"
     ]
    },
    {
     "name": "stderr",
     "output_type": "stream",
     "text": [
      " 25%|#################################5                                                                                                    | 121/484 [00:02<00:09, 39.80it/s]"
     ]
    },
    {
     "name": "stdout",
     "output_type": "stream",
     "text": [
      "143/143 [==============================] - 0s 3ms/step\n"
     ]
    },
    {
     "name": "stderr",
     "output_type": "stream",
     "text": [
      " 29%|#######################################                                                                                               | 141/484 [00:03<00:08, 40.73it/s]"
     ]
    },
    {
     "name": "stdout",
     "output_type": "stream",
     "text": [
      "143/143 [==============================] - 0s 2ms/step\n"
     ]
    },
    {
     "name": "stderr",
     "output_type": "stream",
     "text": [
      " 33%|############################################5                                                                                         | 161/484 [00:03<00:07, 43.10it/s]"
     ]
    },
    {
     "name": "stdout",
     "output_type": "stream",
     "text": [
      "143/143 [==============================] - 1s 4ms/step\n"
     ]
    },
    {
     "name": "stderr",
     "output_type": "stream",
     "text": [
      " 37%|##################################################1                                                                                   | 181/484 [00:04<00:07, 38.21it/s]"
     ]
    },
    {
     "name": "stdout",
     "output_type": "stream",
     "text": [
      "143/143 [==============================] - 1s 4ms/step\n"
     ]
    },
    {
     "name": "stderr",
     "output_type": "stream",
     "text": [
      " 42%|#######################################################6                                                                              | 201/484 [00:05<00:07, 35.83it/s]"
     ]
    },
    {
     "name": "stdout",
     "output_type": "stream",
     "text": [
      "143/143 [==============================] - 0s 1ms/step\n"
     ]
    },
    {
     "name": "stderr",
     "output_type": "stream",
     "text": [
      " 46%|#############################################################1                                                                        | 221/484 [00:05<00:06, 42.65it/s]"
     ]
    },
    {
     "name": "stdout",
     "output_type": "stream",
     "text": [
      "143/143 [==============================] - 0s 3ms/step\n"
     ]
    },
    {
     "name": "stderr",
     "output_type": "stream",
     "text": [
      " 50%|##################################################################7                                                                   | 241/484 [00:06<00:06, 39.73it/s]"
     ]
    },
    {
     "name": "stdout",
     "output_type": "stream",
     "text": [
      "143/143 [==============================] - 0s 1ms/step\n"
     ]
    },
    {
     "name": "stderr",
     "output_type": "stream",
     "text": [
      " 54%|########################################################################2                                                             | 261/484 [00:06<00:04, 46.22it/s]"
     ]
    },
    {
     "name": "stdout",
     "output_type": "stream",
     "text": [
      "143/143 [==============================] - 0s 3ms/step\n"
     ]
    },
    {
     "name": "stderr",
     "output_type": "stream",
     "text": [
      " 58%|#############################################################################7                                                        | 281/484 [00:06<00:04, 41.59it/s]"
     ]
    },
    {
     "name": "stdout",
     "output_type": "stream",
     "text": [
      "143/143 [==============================] - 0s 1ms/step\n"
     ]
    },
    {
     "name": "stderr",
     "output_type": "stream",
     "text": [
      " 62%|###################################################################################3                                                  | 301/484 [00:07<00:03, 46.99it/s]"
     ]
    },
    {
     "name": "stdout",
     "output_type": "stream",
     "text": [
      "143/143 [==============================] - 1s 4ms/step\n"
     ]
    },
    {
     "name": "stderr",
     "output_type": "stream",
     "text": [
      " 66%|########################################################################################8                                             | 321/484 [00:07<00:04, 39.97it/s]"
     ]
    },
    {
     "name": "stdout",
     "output_type": "stream",
     "text": [
      "143/143 [==============================] - 0s 2ms/step\n"
     ]
    },
    {
     "name": "stderr",
     "output_type": "stream",
     "text": [
      " 70%|##############################################################################################4                                       | 341/484 [00:08<00:03, 40.94it/s]"
     ]
    },
    {
     "name": "stdout",
     "output_type": "stream",
     "text": [
      "143/143 [==============================] - 0s 3ms/step\n"
     ]
    },
    {
     "name": "stderr",
     "output_type": "stream",
     "text": [
      " 75%|###################################################################################################9                                  | 361/484 [00:08<00:03, 39.06it/s]"
     ]
    },
    {
     "name": "stdout",
     "output_type": "stream",
     "text": [
      "143/143 [==============================] - 0s 2ms/step\n"
     ]
    },
    {
     "name": "stderr",
     "output_type": "stream",
     "text": [
      " 79%|#########################################################################################################4                            | 381/484 [00:09<00:02, 41.79it/s]"
     ]
    },
    {
     "name": "stdout",
     "output_type": "stream",
     "text": [
      "143/143 [==============================] - 0s 3ms/step\n"
     ]
    },
    {
     "name": "stderr",
     "output_type": "stream",
     "text": [
      " 83%|###############################################################################################################                       | 401/484 [00:09<00:02, 39.10it/s]"
     ]
    },
    {
     "name": "stdout",
     "output_type": "stream",
     "text": [
      "143/143 [==============================] - 0s 3ms/step\n"
     ]
    },
    {
     "name": "stderr",
     "output_type": "stream",
     "text": [
      " 87%|####################################################################################################################5                 | 421/484 [00:10<00:01, 37.88it/s]"
     ]
    },
    {
     "name": "stdout",
     "output_type": "stream",
     "text": [
      "143/143 [==============================] - 0s 3ms/step\n"
     ]
    },
    {
     "name": "stderr",
     "output_type": "stream",
     "text": [
      " 91%|##########################################################################################################################            | 441/484 [00:10<00:01, 39.27it/s]"
     ]
    },
    {
     "name": "stdout",
     "output_type": "stream",
     "text": [
      "143/143 [==============================] - 1s 4ms/step\n"
     ]
    },
    {
     "name": "stderr",
     "output_type": "stream",
     "text": [
      " 95%|###############################################################################################################################6      | 461/484 [00:11<00:00, 36.18it/s]"
     ]
    },
    {
     "name": "stdout",
     "output_type": "stream",
     "text": [
      "143/143 [==============================] - 1s 4ms/step\n"
     ]
    },
    {
     "name": "stderr",
     "output_type": "stream",
     "text": [
      " 99%|#####################################################################################################################################1| 481/484 [00:12<00:00, 33.88it/s]"
     ]
    },
    {
     "name": "stdout",
     "output_type": "stream",
     "text": [
      "22/22 [==============================] - 0s 3ms/step\n"
     ]
    },
    {
     "name": "stderr",
     "output_type": "stream",
     "text": [
      "100%|######################################################################################################################################| 484/484 [00:12<00:00, 39.31it/s]\n"
     ]
    },
    {
     "name": "stdout",
     "output_type": "stream",
     "text": [
      "8/8 [==============================] - 0s 990us/step\n",
      "calculating feature importance for column 1 ...\n"
     ]
    },
    {
     "name": "stderr",
     "output_type": "stream",
     "text": [
      "  0%|                                                                                                                                                | 0/484 [00:00<?, ?it/s]"
     ]
    },
    {
     "name": "stdout",
     "output_type": "stream",
     "text": [
      "150/150 [==============================] - 1s 3ms/step\n"
     ]
    },
    {
     "name": "stderr",
     "output_type": "stream",
     "text": [
      "  4%|#####8                                                                                                                                 | 21/484 [00:00<00:13, 34.44it/s]"
     ]
    },
    {
     "name": "stdout",
     "output_type": "stream",
     "text": [
      "143/143 [==============================] - 0s 3ms/step\n"
     ]
    },
    {
     "name": "stderr",
     "output_type": "stream",
     "text": [
      "  8%|###########4                                                                                                                           | 41/484 [00:01<00:11, 37.38it/s]"
     ]
    },
    {
     "name": "stdout",
     "output_type": "stream",
     "text": [
      "143/143 [==============================] - 0s 3ms/step\n"
     ]
    },
    {
     "name": "stderr",
     "output_type": "stream",
     "text": [
      " 13%|#################                                                                                                                      | 61/484 [00:01<00:11, 37.61it/s]"
     ]
    },
    {
     "name": "stdout",
     "output_type": "stream",
     "text": [
      "143/143 [==============================] - 0s 2ms/step\n"
     ]
    },
    {
     "name": "stderr",
     "output_type": "stream",
     "text": [
      " 17%|######################5                                                                                                                | 81/484 [00:02<00:09, 41.90it/s]"
     ]
    },
    {
     "name": "stdout",
     "output_type": "stream",
     "text": [
      "143/143 [==============================] - 0s 870us/step\n"
     ]
    },
    {
     "name": "stderr",
     "output_type": "stream",
     "text": [
      " 21%|###########################9                                                                                                          | 101/484 [00:02<00:07, 51.51it/s]"
     ]
    },
    {
     "name": "stdout",
     "output_type": "stream",
     "text": [
      "143/143 [==============================] - 0s 798us/step\n"
     ]
    },
    {
     "name": "stderr",
     "output_type": "stream",
     "text": [
      " 25%|#################################5                                                                                                    | 121/484 [00:02<00:06, 60.17it/s]"
     ]
    },
    {
     "name": "stdout",
     "output_type": "stream",
     "text": [
      "143/143 [==============================] - 0s 3ms/step\n"
     ]
    },
    {
     "name": "stderr",
     "output_type": "stream",
     "text": [
      " 29%|#######################################                                                                                               | 141/484 [00:02<00:06, 51.04it/s]"
     ]
    },
    {
     "name": "stdout",
     "output_type": "stream",
     "text": [
      "143/143 [==============================] - 0s 842us/step\n"
     ]
    },
    {
     "name": "stderr",
     "output_type": "stream",
     "text": [
      " 33%|############################################5                                                                                         | 161/484 [00:03<00:05, 59.11it/s]"
     ]
    },
    {
     "name": "stdout",
     "output_type": "stream",
     "text": [
      "143/143 [==============================] - 1s 4ms/step\n"
     ]
    },
    {
     "name": "stderr",
     "output_type": "stream",
     "text": [
      " 37%|##################################################1                                                                                   | 181/484 [00:03<00:06, 46.97it/s]"
     ]
    },
    {
     "name": "stdout",
     "output_type": "stream",
     "text": [
      "143/143 [==============================] - 1s 4ms/step\n"
     ]
    },
    {
     "name": "stderr",
     "output_type": "stream",
     "text": [
      " 42%|#######################################################6                                                                              | 201/484 [00:04<00:07, 38.44it/s]"
     ]
    },
    {
     "name": "stdout",
     "output_type": "stream",
     "text": [
      "143/143 [==============================] - 1s 4ms/step\n"
     ]
    },
    {
     "name": "stderr",
     "output_type": "stream",
     "text": [
      " 46%|#############################################################1                                                                        | 221/484 [00:05<00:07, 35.58it/s]"
     ]
    },
    {
     "name": "stdout",
     "output_type": "stream",
     "text": [
      "143/143 [==============================] - 0s 3ms/step\n"
     ]
    },
    {
     "name": "stderr",
     "output_type": "stream",
     "text": [
      " 50%|##################################################################7                                                                   | 241/484 [00:05<00:06, 37.51it/s]"
     ]
    },
    {
     "name": "stdout",
     "output_type": "stream",
     "text": [
      "143/143 [==============================] - 0s 2ms/step\n"
     ]
    },
    {
     "name": "stderr",
     "output_type": "stream",
     "text": [
      " 54%|########################################################################2                                                             | 261/484 [00:06<00:05, 39.05it/s]"
     ]
    },
    {
     "name": "stdout",
     "output_type": "stream",
     "text": [
      "143/143 [==============================] - 1s 3ms/step\n"
     ]
    },
    {
     "name": "stderr",
     "output_type": "stream",
     "text": [
      " 58%|#############################################################################7                                                        | 281/484 [00:06<00:05, 36.88it/s]"
     ]
    },
    {
     "name": "stdout",
     "output_type": "stream",
     "text": [
      "143/143 [==============================] - 0s 3ms/step\n"
     ]
    },
    {
     "name": "stderr",
     "output_type": "stream",
     "text": [
      " 62%|###################################################################################3                                                  | 301/484 [00:07<00:04, 37.70it/s]"
     ]
    },
    {
     "name": "stdout",
     "output_type": "stream",
     "text": [
      "143/143 [==============================] - 0s 3ms/step\n"
     ]
    },
    {
     "name": "stderr",
     "output_type": "stream",
     "text": [
      " 66%|########################################################################################8                                             | 321/484 [00:07<00:04, 36.77it/s]"
     ]
    },
    {
     "name": "stdout",
     "output_type": "stream",
     "text": [
      "143/143 [==============================] - 1s 4ms/step\n"
     ]
    },
    {
     "name": "stderr",
     "output_type": "stream",
     "text": [
      " 70%|##############################################################################################4                                       | 341/484 [00:08<00:04, 34.83it/s]"
     ]
    },
    {
     "name": "stdout",
     "output_type": "stream",
     "text": [
      "143/143 [==============================] - 0s 869us/step\n"
     ]
    },
    {
     "name": "stderr",
     "output_type": "stream",
     "text": [
      " 75%|###################################################################################################9                                  | 361/484 [00:08<00:02, 42.49it/s]"
     ]
    },
    {
     "name": "stdout",
     "output_type": "stream",
     "text": [
      "143/143 [==============================] - 0s 2ms/step\n"
     ]
    },
    {
     "name": "stderr",
     "output_type": "stream",
     "text": [
      " 79%|#########################################################################################################4                            | 381/484 [00:09<00:02, 46.56it/s]"
     ]
    },
    {
     "name": "stdout",
     "output_type": "stream",
     "text": [
      "143/143 [==============================] - 0s 2ms/step\n"
     ]
    },
    {
     "name": "stderr",
     "output_type": "stream",
     "text": [
      " 83%|###############################################################################################################                       | 401/484 [00:09<00:01, 46.19it/s]"
     ]
    },
    {
     "name": "stdout",
     "output_type": "stream",
     "text": [
      "143/143 [==============================] - 0s 3ms/step\n"
     ]
    },
    {
     "name": "stderr",
     "output_type": "stream",
     "text": [
      " 87%|####################################################################################################################5                 | 421/484 [00:10<00:01, 37.86it/s]"
     ]
    },
    {
     "name": "stdout",
     "output_type": "stream",
     "text": [
      "143/143 [==============================] - 0s 2ms/step\n"
     ]
    },
    {
     "name": "stderr",
     "output_type": "stream",
     "text": [
      " 91%|##########################################################################################################################            | 441/484 [00:10<00:01, 41.85it/s]"
     ]
    },
    {
     "name": "stdout",
     "output_type": "stream",
     "text": [
      "143/143 [==============================] - 0s 3ms/step\n"
     ]
    },
    {
     "name": "stderr",
     "output_type": "stream",
     "text": [
      " 95%|###############################################################################################################################6      | 461/484 [00:11<00:00, 40.73it/s]"
     ]
    },
    {
     "name": "stdout",
     "output_type": "stream",
     "text": [
      "143/143 [==============================] - 0s 3ms/step\n"
     ]
    },
    {
     "name": "stderr",
     "output_type": "stream",
     "text": [
      " 99%|#####################################################################################################################################1| 481/484 [00:11<00:00, 39.92it/s]"
     ]
    },
    {
     "name": "stdout",
     "output_type": "stream",
     "text": [
      "22/22 [==============================] - 0s 1ms/step\n"
     ]
    },
    {
     "name": "stderr",
     "output_type": "stream",
     "text": [
      "100%|######################################################################################################################################| 484/484 [00:11<00:00, 41.29it/s]\n"
     ]
    },
    {
     "name": "stdout",
     "output_type": "stream",
     "text": [
      "8/8 [==============================] - 0s 969us/step\n",
      "calculating feature importance for column 1 ...\n"
     ]
    },
    {
     "name": "stderr",
     "output_type": "stream",
     "text": [
      "  0%|                                                                                                                                                | 0/484 [00:00<?, ?it/s]"
     ]
    },
    {
     "name": "stdout",
     "output_type": "stream",
     "text": [
      "150/150 [==============================] - 0s 3ms/step\n"
     ]
    },
    {
     "name": "stderr",
     "output_type": "stream",
     "text": [
      "  4%|#####8                                                                                                                                 | 21/484 [00:00<00:12, 38.20it/s]"
     ]
    },
    {
     "name": "stdout",
     "output_type": "stream",
     "text": [
      "143/143 [==============================] - 1s 4ms/step\n"
     ]
    },
    {
     "name": "stderr",
     "output_type": "stream",
     "text": [
      "  8%|###########4                                                                                                                           | 41/484 [00:01<00:13, 33.97it/s]"
     ]
    },
    {
     "name": "stdout",
     "output_type": "stream",
     "text": [
      "143/143 [==============================] - 1s 4ms/step\n"
     ]
    },
    {
     "name": "stderr",
     "output_type": "stream",
     "text": [
      " 13%|#################                                                                                                                      | 61/484 [00:01<00:12, 33.42it/s]"
     ]
    },
    {
     "name": "stdout",
     "output_type": "stream",
     "text": [
      "143/143 [==============================] - 1s 4ms/step\n"
     ]
    },
    {
     "name": "stderr",
     "output_type": "stream",
     "text": [
      " 17%|######################5                                                                                                                | 81/484 [00:02<00:12, 32.26it/s]"
     ]
    },
    {
     "name": "stdout",
     "output_type": "stream",
     "text": [
      "143/143 [==============================] - 0s 798us/step\n"
     ]
    },
    {
     "name": "stderr",
     "output_type": "stream",
     "text": [
      " 21%|###########################9                                                                                                          | 101/484 [00:02<00:09, 42.18it/s]"
     ]
    },
    {
     "name": "stdout",
     "output_type": "stream",
     "text": [
      "143/143 [==============================] - 0s 3ms/step\n"
     ]
    },
    {
     "name": "stderr",
     "output_type": "stream",
     "text": [
      " 25%|#################################5                                                                                                    | 121/484 [00:03<00:08, 41.07it/s]"
     ]
    },
    {
     "name": "stdout",
     "output_type": "stream",
     "text": [
      "143/143 [==============================] - 0s 3ms/step\n"
     ]
    },
    {
     "name": "stderr",
     "output_type": "stream",
     "text": [
      " 29%|#######################################                                                                                               | 141/484 [00:03<00:08, 40.12it/s]"
     ]
    },
    {
     "name": "stdout",
     "output_type": "stream",
     "text": [
      "143/143 [==============================] - 0s 3ms/step\n"
     ]
    },
    {
     "name": "stderr",
     "output_type": "stream",
     "text": [
      " 33%|############################################5                                                                                         | 161/484 [00:04<00:08, 38.62it/s]"
     ]
    },
    {
     "name": "stdout",
     "output_type": "stream",
     "text": [
      "143/143 [==============================] - 0s 3ms/step\n"
     ]
    },
    {
     "name": "stderr",
     "output_type": "stream",
     "text": [
      " 37%|##################################################1                                                                                   | 181/484 [00:04<00:07, 38.60it/s]"
     ]
    },
    {
     "name": "stdout",
     "output_type": "stream",
     "text": [
      "143/143 [==============================] - 0s 3ms/step\n"
     ]
    },
    {
     "name": "stderr",
     "output_type": "stream",
     "text": [
      " 42%|#######################################################6                                                                              | 201/484 [00:05<00:07, 37.51it/s]"
     ]
    },
    {
     "name": "stdout",
     "output_type": "stream",
     "text": [
      "143/143 [==============================] - 1s 4ms/step\n"
     ]
    },
    {
     "name": "stderr",
     "output_type": "stream",
     "text": [
      " 46%|#############################################################1                                                                        | 221/484 [00:05<00:07, 35.18it/s]"
     ]
    },
    {
     "name": "stdout",
     "output_type": "stream",
     "text": [
      "143/143 [==============================] - 0s 2ms/step\n"
     ]
    },
    {
     "name": "stderr",
     "output_type": "stream",
     "text": [
      " 50%|##################################################################7                                                                   | 241/484 [00:06<00:06, 38.06it/s]"
     ]
    },
    {
     "name": "stdout",
     "output_type": "stream",
     "text": [
      "143/143 [==============================] - 0s 2ms/step\n"
     ]
    },
    {
     "name": "stderr",
     "output_type": "stream",
     "text": [
      " 54%|########################################################################2                                                             | 261/484 [00:06<00:05, 40.01it/s]"
     ]
    },
    {
     "name": "stdout",
     "output_type": "stream",
     "text": [
      "143/143 [==============================] - 1s 4ms/step\n"
     ]
    },
    {
     "name": "stderr",
     "output_type": "stream",
     "text": [
      " 58%|#############################################################################7                                                        | 281/484 [00:07<00:05, 37.29it/s]"
     ]
    },
    {
     "name": "stdout",
     "output_type": "stream",
     "text": [
      "143/143 [==============================] - 1s 4ms/step\n"
     ]
    },
    {
     "name": "stderr",
     "output_type": "stream",
     "text": [
      " 62%|###################################################################################3                                                  | 301/484 [00:08<00:05, 35.89it/s]"
     ]
    },
    {
     "name": "stdout",
     "output_type": "stream",
     "text": [
      "143/143 [==============================] - 0s 3ms/step\n"
     ]
    },
    {
     "name": "stderr",
     "output_type": "stream",
     "text": [
      " 66%|########################################################################################8                                             | 321/484 [00:08<00:04, 37.65it/s]"
     ]
    },
    {
     "name": "stdout",
     "output_type": "stream",
     "text": [
      "143/143 [==============================] - 0s 3ms/step\n"
     ]
    },
    {
     "name": "stderr",
     "output_type": "stream",
     "text": [
      " 70%|##############################################################################################4                                       | 341/484 [00:09<00:03, 37.40it/s]"
     ]
    },
    {
     "name": "stdout",
     "output_type": "stream",
     "text": [
      "143/143 [==============================] - 0s 3ms/step\n"
     ]
    },
    {
     "name": "stderr",
     "output_type": "stream",
     "text": [
      " 75%|###################################################################################################9                                  | 361/484 [00:09<00:03, 37.30it/s]"
     ]
    },
    {
     "name": "stdout",
     "output_type": "stream",
     "text": [
      "143/143 [==============================] - 1s 4ms/step\n"
     ]
    },
    {
     "name": "stderr",
     "output_type": "stream",
     "text": [
      " 79%|#########################################################################################################4                            | 381/484 [00:10<00:02, 35.59it/s]"
     ]
    },
    {
     "name": "stdout",
     "output_type": "stream",
     "text": [
      "143/143 [==============================] - 0s 3ms/step\n"
     ]
    },
    {
     "name": "stderr",
     "output_type": "stream",
     "text": [
      " 83%|###############################################################################################################                       | 401/484 [00:10<00:02, 35.18it/s]"
     ]
    },
    {
     "name": "stdout",
     "output_type": "stream",
     "text": [
      "143/143 [==============================] - 1s 4ms/step\n"
     ]
    },
    {
     "name": "stderr",
     "output_type": "stream",
     "text": [
      " 87%|####################################################################################################################5                 | 421/484 [00:11<00:01, 33.46it/s]"
     ]
    },
    {
     "name": "stdout",
     "output_type": "stream",
     "text": [
      "143/143 [==============================] - 0s 2ms/step\n"
     ]
    },
    {
     "name": "stderr",
     "output_type": "stream",
     "text": [
      " 91%|##########################################################################################################################            | 441/484 [00:11<00:01, 36.91it/s]"
     ]
    },
    {
     "name": "stdout",
     "output_type": "stream",
     "text": [
      "143/143 [==============================] - 0s 3ms/step\n"
     ]
    },
    {
     "name": "stderr",
     "output_type": "stream",
     "text": [
      " 95%|###############################################################################################################################6      | 461/484 [00:12<00:00, 37.00it/s]"
     ]
    },
    {
     "name": "stdout",
     "output_type": "stream",
     "text": [
      "143/143 [==============================] - 0s 3ms/step\n"
     ]
    },
    {
     "name": "stderr",
     "output_type": "stream",
     "text": [
      " 99%|#####################################################################################################################################1| 481/484 [00:12<00:00, 38.05it/s]"
     ]
    },
    {
     "name": "stdout",
     "output_type": "stream",
     "text": [
      "22/22 [==============================] - 0s 1ms/step\n"
     ]
    },
    {
     "name": "stderr",
     "output_type": "stream",
     "text": [
      "100%|######################################################################################################################################| 484/484 [00:13<00:00, 37.20it/s]"
     ]
    },
    {
     "name": "stdout",
     "output_type": "stream",
     "text": [
      "1/8 [==>...........................] - ETA: 0s"
     ]
    },
    {
     "name": "stderr",
     "output_type": "stream",
     "text": [
      "\n"
     ]
    },
    {
     "name": "stdout",
     "output_type": "stream",
     "text": [
      "8/8 [==============================] - 0s 1ms/step\n",
      "calculating feature importance for column 1 ...\n"
     ]
    },
    {
     "name": "stderr",
     "output_type": "stream",
     "text": [
      "  0%|                                                                                                                                                | 0/484 [00:00<?, ?it/s]"
     ]
    },
    {
     "name": "stdout",
     "output_type": "stream",
     "text": [
      "150/150 [==============================] - 1s 3ms/step\n"
     ]
    },
    {
     "name": "stderr",
     "output_type": "stream",
     "text": [
      "  4%|#####8                                                                                                                                 | 21/484 [00:00<00:13, 34.75it/s]"
     ]
    },
    {
     "name": "stdout",
     "output_type": "stream",
     "text": [
      "143/143 [==============================] - 0s 3ms/step\n"
     ]
    },
    {
     "name": "stderr",
     "output_type": "stream",
     "text": [
      "  8%|###########4                                                                                                                           | 41/484 [00:01<00:11, 38.60it/s]"
     ]
    },
    {
     "name": "stdout",
     "output_type": "stream",
     "text": [
      "143/143 [==============================] - 1s 4ms/step\n"
     ]
    },
    {
     "name": "stderr",
     "output_type": "stream",
     "text": [
      " 13%|#################                                                                                                                      | 61/484 [00:01<00:12, 34.11it/s]"
     ]
    },
    {
     "name": "stdout",
     "output_type": "stream",
     "text": [
      "143/143 [==============================] - 1s 4ms/step\n"
     ]
    },
    {
     "name": "stderr",
     "output_type": "stream",
     "text": [
      " 17%|######################5                                                                                                                | 81/484 [00:02<00:12, 32.19it/s]"
     ]
    },
    {
     "name": "stdout",
     "output_type": "stream",
     "text": [
      "143/143 [==============================] - 0s 1ms/step\n"
     ]
    },
    {
     "name": "stderr",
     "output_type": "stream",
     "text": [
      " 21%|###########################9                                                                                                          | 101/484 [00:02<00:09, 39.29it/s]"
     ]
    },
    {
     "name": "stdout",
     "output_type": "stream",
     "text": [
      "143/143 [==============================] - 0s 3ms/step\n"
     ]
    },
    {
     "name": "stderr",
     "output_type": "stream",
     "text": [
      " 25%|#################################5                                                                                                    | 121/484 [00:03<00:09, 37.22it/s]"
     ]
    },
    {
     "name": "stdout",
     "output_type": "stream",
     "text": [
      "143/143 [==============================] - 1s 4ms/step\n"
     ]
    },
    {
     "name": "stderr",
     "output_type": "stream",
     "text": [
      " 29%|#######################################                                                                                               | 141/484 [00:03<00:09, 35.46it/s]"
     ]
    },
    {
     "name": "stdout",
     "output_type": "stream",
     "text": [
      "143/143 [==============================] - 0s 3ms/step\n"
     ]
    },
    {
     "name": "stderr",
     "output_type": "stream",
     "text": [
      " 33%|############################################5                                                                                         | 161/484 [00:04<00:09, 35.79it/s]"
     ]
    },
    {
     "name": "stdout",
     "output_type": "stream",
     "text": [
      "143/143 [==============================] - 0s 2ms/step\n"
     ]
    },
    {
     "name": "stderr",
     "output_type": "stream",
     "text": [
      " 37%|##################################################1                                                                                   | 181/484 [00:04<00:07, 38.24it/s]"
     ]
    },
    {
     "name": "stdout",
     "output_type": "stream",
     "text": [
      "143/143 [==============================] - 0s 2ms/step\n"
     ]
    },
    {
     "name": "stderr",
     "output_type": "stream",
     "text": [
      " 42%|#######################################################6                                                                              | 201/484 [00:05<00:06, 43.05it/s]"
     ]
    },
    {
     "name": "stdout",
     "output_type": "stream",
     "text": [
      "143/143 [==============================] - 0s 3ms/step\n"
     ]
    },
    {
     "name": "stderr",
     "output_type": "stream",
     "text": [
      " 46%|#############################################################1                                                                        | 221/484 [00:05<00:06, 41.02it/s]"
     ]
    },
    {
     "name": "stdout",
     "output_type": "stream",
     "text": [
      "143/143 [==============================] - 0s 3ms/step\n"
     ]
    },
    {
     "name": "stderr",
     "output_type": "stream",
     "text": [
      " 50%|##################################################################7                                                                   | 241/484 [00:06<00:06, 38.90it/s]"
     ]
    },
    {
     "name": "stdout",
     "output_type": "stream",
     "text": [
      "143/143 [==============================] - 0s 3ms/step\n"
     ]
    },
    {
     "name": "stderr",
     "output_type": "stream",
     "text": [
      " 54%|########################################################################2                                                             | 261/484 [00:06<00:05, 39.72it/s]"
     ]
    },
    {
     "name": "stdout",
     "output_type": "stream",
     "text": [
      "143/143 [==============================] - 0s 2ms/step\n"
     ]
    },
    {
     "name": "stderr",
     "output_type": "stream",
     "text": [
      " 58%|#############################################################################7                                                        | 281/484 [00:07<00:04, 43.82it/s]"
     ]
    },
    {
     "name": "stdout",
     "output_type": "stream",
     "text": [
      "143/143 [==============================] - 1s 4ms/step\n"
     ]
    },
    {
     "name": "stderr",
     "output_type": "stream",
     "text": [
      " 62%|###################################################################################3                                                  | 301/484 [00:07<00:04, 39.37it/s]"
     ]
    },
    {
     "name": "stdout",
     "output_type": "stream",
     "text": [
      "143/143 [==============================] - 0s 3ms/step\n"
     ]
    },
    {
     "name": "stderr",
     "output_type": "stream",
     "text": [
      " 66%|########################################################################################8                                             | 321/484 [00:08<00:04, 39.71it/s]"
     ]
    },
    {
     "name": "stdout",
     "output_type": "stream",
     "text": [
      "143/143 [==============================] - 0s 3ms/step\n"
     ]
    },
    {
     "name": "stderr",
     "output_type": "stream",
     "text": [
      " 70%|##############################################################################################4                                       | 341/484 [00:08<00:03, 38.93it/s]"
     ]
    },
    {
     "name": "stdout",
     "output_type": "stream",
     "text": [
      "143/143 [==============================] - 0s 3ms/step\n"
     ]
    },
    {
     "name": "stderr",
     "output_type": "stream",
     "text": [
      " 75%|###################################################################################################9                                  | 361/484 [00:09<00:03, 37.89it/s]"
     ]
    },
    {
     "name": "stdout",
     "output_type": "stream",
     "text": [
      "143/143 [==============================] - 0s 2ms/step\n"
     ]
    },
    {
     "name": "stderr",
     "output_type": "stream",
     "text": [
      " 79%|#########################################################################################################4                            | 381/484 [00:09<00:02, 39.57it/s]"
     ]
    },
    {
     "name": "stdout",
     "output_type": "stream",
     "text": [
      "143/143 [==============================] - 0s 2ms/step\n"
     ]
    },
    {
     "name": "stderr",
     "output_type": "stream",
     "text": [
      " 83%|###############################################################################################################                       | 401/484 [00:10<00:01, 42.56it/s]"
     ]
    },
    {
     "name": "stdout",
     "output_type": "stream",
     "text": [
      "143/143 [==============================] - 0s 3ms/step\n"
     ]
    },
    {
     "name": "stderr",
     "output_type": "stream",
     "text": [
      " 87%|####################################################################################################################5                 | 421/484 [00:10<00:01, 39.92it/s]"
     ]
    },
    {
     "name": "stdout",
     "output_type": "stream",
     "text": [
      "143/143 [==============================] - 0s 3ms/step\n"
     ]
    },
    {
     "name": "stderr",
     "output_type": "stream",
     "text": [
      " 91%|##########################################################################################################################            | 441/484 [00:11<00:01, 40.09it/s]"
     ]
    },
    {
     "name": "stdout",
     "output_type": "stream",
     "text": [
      "143/143 [==============================] - 0s 3ms/step\n"
     ]
    },
    {
     "name": "stderr",
     "output_type": "stream",
     "text": [
      " 95%|###############################################################################################################################6      | 461/484 [00:11<00:00, 38.92it/s]"
     ]
    },
    {
     "name": "stdout",
     "output_type": "stream",
     "text": [
      "143/143 [==============================] - 0s 772us/step\n"
     ]
    },
    {
     "name": "stderr",
     "output_type": "stream",
     "text": [
      " 99%|#####################################################################################################################################1| 481/484 [00:12<00:00, 47.46it/s]"
     ]
    },
    {
     "name": "stdout",
     "output_type": "stream",
     "text": [
      "22/22 [==============================] - 0s 876us/step\n"
     ]
    },
    {
     "name": "stderr",
     "output_type": "stream",
     "text": [
      "100%|######################################################################################################################################| 484/484 [00:12<00:00, 39.85it/s]"
     ]
    },
    {
     "name": "stdout",
     "output_type": "stream",
     "text": [
      "1/8 [==>...........................] - ETA: 0s"
     ]
    },
    {
     "name": "stderr",
     "output_type": "stream",
     "text": [
      "\n"
     ]
    },
    {
     "name": "stdout",
     "output_type": "stream",
     "text": [
      "8/8 [==============================] - 0s 1ms/step\n",
      "calculating feature importance for column 1 ...\n"
     ]
    },
    {
     "name": "stderr",
     "output_type": "stream",
     "text": [
      "  0%|                                                                                                                                                | 0/484 [00:00<?, ?it/s]"
     ]
    },
    {
     "name": "stdout",
     "output_type": "stream",
     "text": [
      "150/150 [==============================] - 0s 3ms/step\n"
     ]
    },
    {
     "name": "stderr",
     "output_type": "stream",
     "text": [
      "  4%|#####8                                                                                                                                 | 21/484 [00:00<00:11, 38.90it/s]"
     ]
    },
    {
     "name": "stdout",
     "output_type": "stream",
     "text": [
      "143/143 [==============================] - 1s 4ms/step\n"
     ]
    },
    {
     "name": "stderr",
     "output_type": "stream",
     "text": [
      "  8%|###########4                                                                                                                           | 41/484 [00:01<00:13, 32.28it/s]"
     ]
    },
    {
     "name": "stdout",
     "output_type": "stream",
     "text": [
      "143/143 [==============================] - 0s 3ms/step\n"
     ]
    },
    {
     "name": "stderr",
     "output_type": "stream",
     "text": [
      " 13%|#################                                                                                                                      | 61/484 [00:01<00:12, 34.68it/s]"
     ]
    },
    {
     "name": "stdout",
     "output_type": "stream",
     "text": [
      "143/143 [==============================] - 0s 3ms/step\n"
     ]
    },
    {
     "name": "stderr",
     "output_type": "stream",
     "text": [
      " 17%|######################5                                                                                                                | 81/484 [00:02<00:11, 36.00it/s]"
     ]
    },
    {
     "name": "stdout",
     "output_type": "stream",
     "text": [
      "143/143 [==============================] - 1s 4ms/step\n"
     ]
    },
    {
     "name": "stderr",
     "output_type": "stream",
     "text": [
      " 21%|###########################9                                                                                                          | 101/484 [00:02<00:11, 34.70it/s]"
     ]
    },
    {
     "name": "stdout",
     "output_type": "stream",
     "text": [
      "143/143 [==============================] - 0s 3ms/step\n"
     ]
    },
    {
     "name": "stderr",
     "output_type": "stream",
     "text": [
      " 25%|#################################5                                                                                                    | 121/484 [00:03<00:10, 34.80it/s]"
     ]
    },
    {
     "name": "stdout",
     "output_type": "stream",
     "text": [
      "143/143 [==============================] - 0s 2ms/step\n"
     ]
    },
    {
     "name": "stderr",
     "output_type": "stream",
     "text": [
      " 29%|#######################################                                                                                               | 141/484 [00:03<00:09, 37.29it/s]"
     ]
    },
    {
     "name": "stdout",
     "output_type": "stream",
     "text": [
      "143/143 [==============================] - 0s 3ms/step\n"
     ]
    },
    {
     "name": "stderr",
     "output_type": "stream",
     "text": [
      " 33%|############################################5                                                                                         | 161/484 [00:04<00:08, 35.94it/s]"
     ]
    },
    {
     "name": "stdout",
     "output_type": "stream",
     "text": [
      "143/143 [==============================] - 1s 4ms/step\n"
     ]
    },
    {
     "name": "stderr",
     "output_type": "stream",
     "text": [
      " 37%|##################################################1                                                                                   | 181/484 [00:05<00:08, 34.56it/s]"
     ]
    },
    {
     "name": "stdout",
     "output_type": "stream",
     "text": [
      "143/143 [==============================] - 1s 4ms/step\n"
     ]
    },
    {
     "name": "stderr",
     "output_type": "stream",
     "text": [
      " 42%|#######################################################6                                                                              | 201/484 [00:05<00:08, 33.17it/s]"
     ]
    },
    {
     "name": "stdout",
     "output_type": "stream",
     "text": [
      "143/143 [==============================] - 0s 738us/step\n"
     ]
    },
    {
     "name": "stderr",
     "output_type": "stream",
     "text": [
      " 46%|#############################################################1                                                                        | 221/484 [00:06<00:06, 41.70it/s]"
     ]
    },
    {
     "name": "stdout",
     "output_type": "stream",
     "text": [
      "143/143 [==============================] - 0s 924us/step\n"
     ]
    },
    {
     "name": "stderr",
     "output_type": "stream",
     "text": [
      " 50%|##################################################################7                                                                   | 241/484 [00:06<00:04, 49.60it/s]"
     ]
    },
    {
     "name": "stdout",
     "output_type": "stream",
     "text": [
      "143/143 [==============================] - 0s 2ms/step\n"
     ]
    },
    {
     "name": "stderr",
     "output_type": "stream",
     "text": [
      " 54%|########################################################################2                                                             | 261/484 [00:06<00:04, 49.50it/s]"
     ]
    },
    {
     "name": "stdout",
     "output_type": "stream",
     "text": [
      "143/143 [==============================] - 0s 2ms/step\n"
     ]
    },
    {
     "name": "stderr",
     "output_type": "stream",
     "text": [
      " 58%|#############################################################################7                                                        | 281/484 [00:07<00:04, 47.26it/s]"
     ]
    },
    {
     "name": "stdout",
     "output_type": "stream",
     "text": [
      "143/143 [==============================] - 0s 3ms/step\n"
     ]
    },
    {
     "name": "stderr",
     "output_type": "stream",
     "text": [
      " 62%|###################################################################################3                                                  | 301/484 [00:07<00:04, 42.58it/s]"
     ]
    },
    {
     "name": "stdout",
     "output_type": "stream",
     "text": [
      "143/143 [==============================] - 0s 2ms/step\n"
     ]
    },
    {
     "name": "stderr",
     "output_type": "stream",
     "text": [
      " 66%|########################################################################################8                                             | 321/484 [00:08<00:03, 43.53it/s]"
     ]
    },
    {
     "name": "stdout",
     "output_type": "stream",
     "text": [
      "143/143 [==============================] - 0s 2ms/step\n"
     ]
    },
    {
     "name": "stderr",
     "output_type": "stream",
     "text": [
      " 70%|##############################################################################################4                                       | 341/484 [00:08<00:03, 45.25it/s]"
     ]
    },
    {
     "name": "stdout",
     "output_type": "stream",
     "text": [
      "143/143 [==============================] - 0s 3ms/step\n"
     ]
    },
    {
     "name": "stderr",
     "output_type": "stream",
     "text": [
      " 75%|###################################################################################################9                                  | 361/484 [00:09<00:02, 41.29it/s]"
     ]
    },
    {
     "name": "stdout",
     "output_type": "stream",
     "text": [
      "143/143 [==============================] - 1s 4ms/step\n"
     ]
    },
    {
     "name": "stderr",
     "output_type": "stream",
     "text": [
      " 79%|#########################################################################################################4                            | 381/484 [00:09<00:02, 36.19it/s]"
     ]
    },
    {
     "name": "stdout",
     "output_type": "stream",
     "text": [
      "143/143 [==============================] - 0s 3ms/step\n"
     ]
    },
    {
     "name": "stderr",
     "output_type": "stream",
     "text": [
      " 83%|###############################################################################################################                       | 401/484 [00:10<00:02, 36.10it/s]"
     ]
    },
    {
     "name": "stdout",
     "output_type": "stream",
     "text": [
      "143/143 [==============================] - 0s 3ms/step\n"
     ]
    },
    {
     "name": "stderr",
     "output_type": "stream",
     "text": [
      " 87%|####################################################################################################################5                 | 421/484 [00:10<00:01, 35.51it/s]"
     ]
    },
    {
     "name": "stdout",
     "output_type": "stream",
     "text": [
      "143/143 [==============================] - 1s 4ms/step\n"
     ]
    },
    {
     "name": "stderr",
     "output_type": "stream",
     "text": [
      " 91%|##########################################################################################################################            | 441/484 [00:11<00:01, 32.88it/s]"
     ]
    },
    {
     "name": "stdout",
     "output_type": "stream",
     "text": [
      "143/143 [==============================] - 1s 4ms/step\n"
     ]
    },
    {
     "name": "stderr",
     "output_type": "stream",
     "text": [
      " 95%|###############################################################################################################################6      | 461/484 [00:12<00:00, 31.96it/s]"
     ]
    },
    {
     "name": "stdout",
     "output_type": "stream",
     "text": [
      "143/143 [==============================] - 0s 3ms/step\n"
     ]
    },
    {
     "name": "stderr",
     "output_type": "stream",
     "text": [
      " 99%|#####################################################################################################################################1| 481/484 [00:12<00:00, 33.02it/s]"
     ]
    },
    {
     "name": "stdout",
     "output_type": "stream",
     "text": [
      "22/22 [==============================] - 0s 899us/step\n"
     ]
    },
    {
     "name": "stderr",
     "output_type": "stream",
     "text": [
      "100%|######################################################################################################################################| 484/484 [00:12<00:00, 37.35it/s]"
     ]
    },
    {
     "name": "stdout",
     "output_type": "stream",
     "text": [
      "1/8 [==>...........................] - ETA: 0s"
     ]
    },
    {
     "name": "stderr",
     "output_type": "stream",
     "text": [
      "\n"
     ]
    },
    {
     "name": "stdout",
     "output_type": "stream",
     "text": [
      "8/8 [==============================] - 0s 1ms/step\n",
      "calculating feature importance for column 1 ...\n"
     ]
    },
    {
     "name": "stderr",
     "output_type": "stream",
     "text": [
      "  0%|                                                                                                                                                | 0/484 [00:00<?, ?it/s]"
     ]
    },
    {
     "name": "stdout",
     "output_type": "stream",
     "text": [
      "150/150 [==============================] - 0s 2ms/step\n"
     ]
    },
    {
     "name": "stderr",
     "output_type": "stream",
     "text": [
      "  4%|#####8                                                                                                                                 | 21/484 [00:00<00:08, 53.09it/s]"
     ]
    },
    {
     "name": "stdout",
     "output_type": "stream",
     "text": [
      "143/143 [==============================] - 0s 1ms/step\n"
     ]
    },
    {
     "name": "stderr",
     "output_type": "stream",
     "text": [
      "  8%|###########4                                                                                                                           | 41/484 [00:00<00:07, 61.60it/s]"
     ]
    },
    {
     "name": "stdout",
     "output_type": "stream",
     "text": [
      "143/143 [==============================] - 0s 1ms/step\n"
     ]
    },
    {
     "name": "stderr",
     "output_type": "stream",
     "text": [
      " 13%|#################                                                                                                                      | 61/484 [00:00<00:06, 63.38it/s]"
     ]
    },
    {
     "name": "stdout",
     "output_type": "stream",
     "text": [
      "143/143 [==============================] - 0s 791us/step\n"
     ]
    },
    {
     "name": "stderr",
     "output_type": "stream",
     "text": [
      " 17%|######################5                                                                                                                | 81/484 [00:01<00:05, 72.23it/s]"
     ]
    },
    {
     "name": "stdout",
     "output_type": "stream",
     "text": [
      "143/143 [==============================] - 1s 4ms/step\n"
     ]
    },
    {
     "name": "stderr",
     "output_type": "stream",
     "text": [
      " 21%|###########################9                                                                                                          | 101/484 [00:01<00:07, 48.64it/s]"
     ]
    },
    {
     "name": "stdout",
     "output_type": "stream",
     "text": [
      "143/143 [==============================] - 1s 3ms/step\n"
     ]
    },
    {
     "name": "stderr",
     "output_type": "stream",
     "text": [
      " 25%|#################################5                                                                                                    | 121/484 [00:02<00:08, 42.00it/s]"
     ]
    },
    {
     "name": "stdout",
     "output_type": "stream",
     "text": [
      "143/143 [==============================] - 0s 3ms/step\n"
     ]
    },
    {
     "name": "stderr",
     "output_type": "stream",
     "text": [
      " 29%|#######################################                                                                                               | 141/484 [00:03<00:08, 39.46it/s]"
     ]
    },
    {
     "name": "stdout",
     "output_type": "stream",
     "text": [
      "143/143 [==============================] - 1s 4ms/step\n"
     ]
    },
    {
     "name": "stderr",
     "output_type": "stream",
     "text": [
      " 33%|############################################5                                                                                         | 161/484 [00:03<00:08, 36.02it/s]"
     ]
    },
    {
     "name": "stdout",
     "output_type": "stream",
     "text": [
      "143/143 [==============================] - 1s 4ms/step\n"
     ]
    },
    {
     "name": "stderr",
     "output_type": "stream",
     "text": [
      " 37%|##################################################1                                                                                   | 181/484 [00:04<00:08, 34.28it/s]"
     ]
    },
    {
     "name": "stdout",
     "output_type": "stream",
     "text": [
      "143/143 [==============================] - 0s 3ms/step\n"
     ]
    },
    {
     "name": "stderr",
     "output_type": "stream",
     "text": [
      " 42%|#######################################################6                                                                              | 201/484 [00:04<00:08, 34.43it/s]"
     ]
    },
    {
     "name": "stdout",
     "output_type": "stream",
     "text": [
      "143/143 [==============================] - 0s 774us/step\n"
     ]
    },
    {
     "name": "stderr",
     "output_type": "stream",
     "text": [
      " 46%|#############################################################1                                                                        | 221/484 [00:05<00:06, 42.75it/s]"
     ]
    },
    {
     "name": "stdout",
     "output_type": "stream",
     "text": [
      "143/143 [==============================] - 0s 1ms/step\n"
     ]
    },
    {
     "name": "stderr",
     "output_type": "stream",
     "text": [
      " 50%|##################################################################7                                                                   | 241/484 [00:05<00:04, 48.79it/s]"
     ]
    },
    {
     "name": "stdout",
     "output_type": "stream",
     "text": [
      "143/143 [==============================] - 1s 4ms/step\n"
     ]
    },
    {
     "name": "stderr",
     "output_type": "stream",
     "text": [
      " 54%|########################################################################2                                                             | 261/484 [00:06<00:05, 42.60it/s]"
     ]
    },
    {
     "name": "stdout",
     "output_type": "stream",
     "text": [
      "143/143 [==============================] - 0s 2ms/step\n"
     ]
    },
    {
     "name": "stderr",
     "output_type": "stream",
     "text": [
      " 58%|#############################################################################7                                                        | 281/484 [00:06<00:04, 44.90it/s]"
     ]
    },
    {
     "name": "stdout",
     "output_type": "stream",
     "text": [
      "143/143 [==============================] - 0s 2ms/step\n"
     ]
    },
    {
     "name": "stderr",
     "output_type": "stream",
     "text": [
      " 62%|###################################################################################3                                                  | 301/484 [00:06<00:03, 46.96it/s]"
     ]
    },
    {
     "name": "stdout",
     "output_type": "stream",
     "text": [
      "143/143 [==============================] - 0s 3ms/step\n"
     ]
    },
    {
     "name": "stderr",
     "output_type": "stream",
     "text": [
      " 66%|########################################################################################8                                             | 321/484 [00:07<00:03, 43.08it/s]"
     ]
    },
    {
     "name": "stdout",
     "output_type": "stream",
     "text": [
      "143/143 [==============================] - 0s 830us/step\n"
     ]
    },
    {
     "name": "stderr",
     "output_type": "stream",
     "text": [
      " 70%|##############################################################################################4                                       | 341/484 [00:07<00:02, 51.22it/s]"
     ]
    },
    {
     "name": "stdout",
     "output_type": "stream",
     "text": [
      "143/143 [==============================] - 0s 3ms/step\n"
     ]
    },
    {
     "name": "stderr",
     "output_type": "stream",
     "text": [
      " 75%|###################################################################################################9                                  | 361/484 [00:08<00:02, 45.39it/s]"
     ]
    },
    {
     "name": "stdout",
     "output_type": "stream",
     "text": [
      "143/143 [==============================] - 0s 2ms/step\n"
     ]
    },
    {
     "name": "stderr",
     "output_type": "stream",
     "text": [
      " 79%|#########################################################################################################4                            | 381/484 [00:08<00:02, 45.81it/s]"
     ]
    },
    {
     "name": "stdout",
     "output_type": "stream",
     "text": [
      "143/143 [==============================] - 0s 2ms/step\n"
     ]
    },
    {
     "name": "stderr",
     "output_type": "stream",
     "text": [
      " 83%|###############################################################################################################                       | 401/484 [00:08<00:01, 47.65it/s]"
     ]
    },
    {
     "name": "stdout",
     "output_type": "stream",
     "text": [
      "143/143 [==============================] - 1s 4ms/step\n"
     ]
    },
    {
     "name": "stderr",
     "output_type": "stream",
     "text": [
      " 87%|####################################################################################################################5                 | 421/484 [00:09<00:01, 41.81it/s]"
     ]
    },
    {
     "name": "stdout",
     "output_type": "stream",
     "text": [
      "143/143 [==============================] - 0s 2ms/step\n"
     ]
    },
    {
     "name": "stderr",
     "output_type": "stream",
     "text": [
      " 91%|##########################################################################################################################            | 441/484 [00:09<00:00, 45.88it/s]"
     ]
    },
    {
     "name": "stdout",
     "output_type": "stream",
     "text": [
      "143/143 [==============================] - 0s 2ms/step\n"
     ]
    },
    {
     "name": "stderr",
     "output_type": "stream",
     "text": [
      " 95%|###############################################################################################################################6      | 461/484 [00:10<00:00, 45.30it/s]"
     ]
    },
    {
     "name": "stdout",
     "output_type": "stream",
     "text": [
      "143/143 [==============================] - 1s 4ms/step\n"
     ]
    },
    {
     "name": "stderr",
     "output_type": "stream",
     "text": [
      " 99%|#####################################################################################################################################1| 481/484 [00:10<00:00, 39.87it/s]"
     ]
    },
    {
     "name": "stdout",
     "output_type": "stream",
     "text": [
      "22/22 [==============================] - 0s 927us/step\n"
     ]
    },
    {
     "name": "stderr",
     "output_type": "stream",
     "text": [
      "100%|######################################################################################################################################| 484/484 [00:11<00:00, 43.91it/s]\n"
     ]
    },
    {
     "name": "stdout",
     "output_type": "stream",
     "text": [
      "8/8 [==============================] - 0s 1ms/step\n",
      "calculating feature importance for column 1 ...\n"
     ]
    },
    {
     "name": "stderr",
     "output_type": "stream",
     "text": [
      "  0%|                                                                                                                                                | 0/484 [00:00<?, ?it/s]"
     ]
    },
    {
     "name": "stdout",
     "output_type": "stream",
     "text": [
      "150/150 [==============================] - 0s 3ms/step\n"
     ]
    },
    {
     "name": "stderr",
     "output_type": "stream",
     "text": [
      "  4%|#####8                                                                                                                                 | 21/484 [00:00<00:12, 35.77it/s]"
     ]
    },
    {
     "name": "stdout",
     "output_type": "stream",
     "text": [
      "143/143 [==============================] - 0s 3ms/step\n"
     ]
    },
    {
     "name": "stderr",
     "output_type": "stream",
     "text": [
      "  8%|###########4                                                                                                                           | 41/484 [00:01<00:11, 39.06it/s]"
     ]
    },
    {
     "name": "stdout",
     "output_type": "stream",
     "text": [
      "143/143 [==============================] - 0s 3ms/step\n"
     ]
    },
    {
     "name": "stderr",
     "output_type": "stream",
     "text": [
      " 13%|#################                                                                                                                      | 61/484 [00:01<00:11, 37.91it/s]"
     ]
    },
    {
     "name": "stdout",
     "output_type": "stream",
     "text": [
      "143/143 [==============================] - 0s 3ms/step\n"
     ]
    },
    {
     "name": "stderr",
     "output_type": "stream",
     "text": [
      " 17%|######################5                                                                                                                | 81/484 [00:02<00:10, 37.10it/s]"
     ]
    },
    {
     "name": "stdout",
     "output_type": "stream",
     "text": [
      "143/143 [==============================] - 0s 3ms/step\n"
     ]
    },
    {
     "name": "stderr",
     "output_type": "stream",
     "text": [
      " 21%|###########################9                                                                                                          | 101/484 [00:02<00:10, 36.92it/s]"
     ]
    },
    {
     "name": "stdout",
     "output_type": "stream",
     "text": [
      "143/143 [==============================] - 0s 2ms/step\n"
     ]
    },
    {
     "name": "stderr",
     "output_type": "stream",
     "text": [
      " 25%|#################################5                                                                                                    | 121/484 [00:03<00:08, 41.17it/s]"
     ]
    },
    {
     "name": "stdout",
     "output_type": "stream",
     "text": [
      "143/143 [==============================] - 0s 2ms/step\n"
     ]
    },
    {
     "name": "stderr",
     "output_type": "stream",
     "text": [
      " 29%|#######################################                                                                                               | 141/484 [00:03<00:08, 42.39it/s]"
     ]
    },
    {
     "name": "stdout",
     "output_type": "stream",
     "text": [
      "143/143 [==============================] - 0s 3ms/step\n"
     ]
    },
    {
     "name": "stderr",
     "output_type": "stream",
     "text": [
      " 33%|############################################5                                                                                         | 161/484 [00:04<00:08, 39.64it/s]"
     ]
    },
    {
     "name": "stdout",
     "output_type": "stream",
     "text": [
      "143/143 [==============================] - 1s 4ms/step\n"
     ]
    },
    {
     "name": "stderr",
     "output_type": "stream",
     "text": [
      " 37%|##################################################1                                                                                   | 181/484 [00:04<00:08, 35.16it/s]"
     ]
    },
    {
     "name": "stdout",
     "output_type": "stream",
     "text": [
      "143/143 [==============================] - 0s 860us/step\n"
     ]
    },
    {
     "name": "stderr",
     "output_type": "stream",
     "text": [
      " 42%|#######################################################6                                                                              | 201/484 [00:05<00:06, 43.36it/s]"
     ]
    },
    {
     "name": "stdout",
     "output_type": "stream",
     "text": [
      "143/143 [==============================] - 0s 1ms/step\n"
     ]
    },
    {
     "name": "stderr",
     "output_type": "stream",
     "text": [
      " 46%|#############################################################1                                                                        | 221/484 [00:05<00:05, 50.06it/s]"
     ]
    },
    {
     "name": "stdout",
     "output_type": "stream",
     "text": [
      "143/143 [==============================] - 0s 3ms/step\n"
     ]
    },
    {
     "name": "stderr",
     "output_type": "stream",
     "text": [
      " 50%|##################################################################7                                                                   | 241/484 [00:05<00:05, 45.63it/s]"
     ]
    },
    {
     "name": "stdout",
     "output_type": "stream",
     "text": [
      "143/143 [==============================] - 0s 3ms/step\n"
     ]
    },
    {
     "name": "stderr",
     "output_type": "stream",
     "text": [
      " 54%|########################################################################2                                                             | 261/484 [00:06<00:05, 42.46it/s]"
     ]
    },
    {
     "name": "stdout",
     "output_type": "stream",
     "text": [
      "143/143 [==============================] - 1s 4ms/step\n"
     ]
    },
    {
     "name": "stderr",
     "output_type": "stream",
     "text": [
      " 58%|#############################################################################7                                                        | 281/484 [00:07<00:05, 37.84it/s]"
     ]
    },
    {
     "name": "stdout",
     "output_type": "stream",
     "text": [
      "143/143 [==============================] - 1s 4ms/step\n"
     ]
    },
    {
     "name": "stderr",
     "output_type": "stream",
     "text": [
      " 62%|###################################################################################3                                                  | 301/484 [00:07<00:05, 34.64it/s]"
     ]
    },
    {
     "name": "stdout",
     "output_type": "stream",
     "text": [
      "143/143 [==============================] - 1s 4ms/step\n"
     ]
    },
    {
     "name": "stderr",
     "output_type": "stream",
     "text": [
      " 66%|########################################################################################8                                             | 321/484 [00:08<00:04, 34.09it/s]"
     ]
    },
    {
     "name": "stdout",
     "output_type": "stream",
     "text": [
      "143/143 [==============================] - 1s 3ms/step\n"
     ]
    },
    {
     "name": "stderr",
     "output_type": "stream",
     "text": [
      " 70%|##############################################################################################4                                       | 341/484 [00:08<00:04, 33.88it/s]"
     ]
    },
    {
     "name": "stdout",
     "output_type": "stream",
     "text": [
      "143/143 [==============================] - 1s 3ms/step\n"
     ]
    },
    {
     "name": "stderr",
     "output_type": "stream",
     "text": [
      " 75%|###################################################################################################9                                  | 361/484 [00:09<00:03, 33.58it/s]"
     ]
    },
    {
     "name": "stdout",
     "output_type": "stream",
     "text": [
      "143/143 [==============================] - 0s 2ms/step\n"
     ]
    },
    {
     "name": "stderr",
     "output_type": "stream",
     "text": [
      " 79%|#########################################################################################################4                            | 381/484 [00:09<00:02, 38.58it/s]"
     ]
    },
    {
     "name": "stdout",
     "output_type": "stream",
     "text": [
      "143/143 [==============================] - 0s 2ms/step\n"
     ]
    },
    {
     "name": "stderr",
     "output_type": "stream",
     "text": [
      " 83%|###############################################################################################################                       | 401/484 [00:10<00:01, 41.53it/s]"
     ]
    },
    {
     "name": "stdout",
     "output_type": "stream",
     "text": [
      "143/143 [==============================] - 0s 2ms/step\n"
     ]
    },
    {
     "name": "stderr",
     "output_type": "stream",
     "text": [
      " 87%|####################################################################################################################5                 | 421/484 [00:10<00:01, 45.35it/s]"
     ]
    },
    {
     "name": "stdout",
     "output_type": "stream",
     "text": [
      "143/143 [==============================] - 0s 3ms/step\n"
     ]
    },
    {
     "name": "stderr",
     "output_type": "stream",
     "text": [
      " 91%|##########################################################################################################################            | 441/484 [00:11<00:00, 44.24it/s]"
     ]
    },
    {
     "name": "stdout",
     "output_type": "stream",
     "text": [
      "143/143 [==============================] - 0s 3ms/step\n"
     ]
    },
    {
     "name": "stderr",
     "output_type": "stream",
     "text": [
      " 95%|###############################################################################################################################6      | 461/484 [00:11<00:00, 43.13it/s]"
     ]
    },
    {
     "name": "stdout",
     "output_type": "stream",
     "text": [
      "143/143 [==============================] - 0s 3ms/step\n"
     ]
    },
    {
     "name": "stderr",
     "output_type": "stream",
     "text": [
      " 99%|#####################################################################################################################################1| 481/484 [00:12<00:00, 41.07it/s]"
     ]
    },
    {
     "name": "stdout",
     "output_type": "stream",
     "text": [
      "22/22 [==============================] - 0s 992us/step\n"
     ]
    },
    {
     "name": "stderr",
     "output_type": "stream",
     "text": [
      "100%|######################################################################################################################################| 484/484 [00:12<00:00, 39.71it/s]\n"
     ]
    }
   ],
   "source": [
    "all_imps = []\n",
    "for i in range(10):\n",
    "    clf = load_model(os.path.join(save_dir, 'fold_%s.model' % str(i).zfill(2)))\n",
    "    dfe = clf.explain_model(mp, clf.X_, clf.y_, binary_task=True, apply_logrithm=False)\n",
    "    df_imp = dfe.col_1_importance.to_frame(name = 'fold_%s_imp' % str(i).zfill(2))\n",
    "    all_imps.append(df_imp)"
   ]
  },
  {
   "cell_type": "code",
   "execution_count": 17,
   "metadata": {},
   "outputs": [],
   "source": [
    "dfi = dfe[dfe.columns[:-1]]\n",
    "dfi['scatter_x'] = dfi.v.map(mp.df_embedding.x)\n",
    "dfi['scatter_y'] = dfi.v.map(mp.df_embedding.y)\n",
    "\n",
    "dfimp_all = pd.concat(all_imps, axis=1)\n",
    "dfi = dfi.join(dfimp_all.mean(axis=1).to_frame(name = 'avg_imp'))\n",
    "dfi = dfi.join(dfimp_all)\n",
    "dfi.to_csv(os.path.join(save_dir, 'feature_imp_results.csv'))"
   ]
  },
  {
   "cell_type": "code",
   "execution_count": null,
   "metadata": {},
   "outputs": [],
   "source": []
  },
  {
   "cell_type": "code",
   "execution_count": 18,
   "metadata": {},
   "outputs": [
    {
     "data": {
      "text/plain": [
       "<AxesSubplot:>"
      ]
     },
     "execution_count": 18,
     "metadata": {},
     "output_type": "execute_result"
    },
    {
     "data": {
      "image/png": "[encoded data removed]",
      "text/plain": [
       "<Figure size 432x288 with 2 Axes>"
      ]
     },
     "metadata": {
      "needs_background": "light"
     },
     "output_type": "display_data"
    }
   ],
   "source": [
    "sns.heatmap(dfi.avg_imp.values.reshape(*mp.fmap_shape), vmin=0, vmax=5, cmap = 'jet')"
   ]
  },
  {
   "cell_type": "code",
   "execution_count": 19,
   "metadata": {},
   "outputs": [
    {
     "data": {
      "text/plain": [
       "355    20.006894\n",
       "379     3.116000\n",
       "338     2.314334\n",
       "205     2.201051\n",
       "316     2.171483\n",
       "443     2.088249\n",
       "269     1.867875\n",
       "383     1.593316\n",
       "312     1.102996\n",
       "318     1.012086\n",
       "358     1.007508\n",
       "356     1.004625\n",
       "334     0.974401\n",
       "315     0.935076\n",
       "266     0.770091\n",
       "286     0.659842\n",
       "291     0.658891\n",
       "289     0.616295\n",
       "267     0.503196\n",
       "313     0.465901\n",
       "Name: avg_imp, dtype: float64"
      ]
     },
     "execution_count": 19,
     "metadata": {},
     "output_type": "execute_result"
    }
   ],
   "source": [
    "dfi.avg_imp.sort_values(ascending=False).head(20)"
   ]
  },
  {
   "cell_type": "code",
   "execution_count": null,
   "metadata": {},
   "outputs": [],
   "source": []
  },
  {
   "cell_type": "code",
   "execution_count": null,
   "metadata": {},
   "outputs": [],
   "source": []
  },
  {
   "cell_type": "code",
   "execution_count": null,
   "metadata": {},
   "outputs": [],
   "source": []
  },
  {
   "cell_type": "code",
   "execution_count": null,
   "metadata": {},
   "outputs": [],
   "source": []
  },
  {
   "cell_type": "code",
   "execution_count": null,
   "metadata": {},
   "outputs": [],
   "source": []
  }
 ],
 "metadata": {
  "kernelspec": {
   "display_name": "Python 3 (ipykernel)",
   "language": "python",
   "name": "python3"
  },
  "language_info": {
   "codemirror_mode": {
    "name": "ipython",
    "version": 3
   },
   "file_extension": ".py",
   "mimetype": "text/x-python",
   "name": "python",
   "nbconvert_exporter": "python",
   "pygments_lexer": "ipython3",
   "version": "3.7.11"
  }
 },
 "nbformat": 4,
 "nbformat_minor": 4
}
