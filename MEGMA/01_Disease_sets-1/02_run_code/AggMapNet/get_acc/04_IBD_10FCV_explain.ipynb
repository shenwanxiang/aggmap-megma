{
 "cells": [
  {
   "cell_type": "code",
   "execution_count": 1,
   "metadata": {},
   "outputs": [
    {
     "name": "stderr",
     "output_type": "stream",
     "text": [
      "2022-10-03 17:34:24.393442: I tensorflow/core/util/util.cc:169] oneDNN custom operations are on. You may see slightly different numerical results due to floating-point round-off errors from different computation orders. To turn them off, set the environment variable `TF_ENABLE_ONEDNN_OPTS=0`.\n"
     ]
    }
   ],
   "source": [
    "import warnings, os\n",
    "warnings.filterwarnings(\"ignore\")\n",
    "\n",
    "from copy import copy\n",
    "import pandas as pd\n",
    "import numpy as np\n",
    "from tqdm import tqdm\n",
    "from sklearn.model_selection import KFold, StratifiedKFold\n",
    "from sklearn.metrics import confusion_matrix, precision_recall_curve, accuracy_score\n",
    "from sklearn.metrics import roc_auc_score, matthews_corrcoef, precision_score, recall_score, f1_score\n",
    "\n",
    "\n",
    "import seaborn as sns\n",
    "import matplotlib.pyplot as plt\n",
    "from joblib import dump, load\n",
    "\n",
    "from aggmap import AggMap, loadmap\n",
    "from aggmap import AggMapNet as AggModel\n",
    "\n",
    "from aggmap.AggMapNet import load_model, save_model\n",
    "from aggmap import show\n",
    "\n",
    "\n",
    "np.random.seed(666) #just for reaptable results\n",
    "\n",
    "\n",
    "def score(dfr):\n",
    "    y_true = dfr.y_true\n",
    "    y_score = dfr.y_score\n",
    "    y_pred = dfr.y_pred\n",
    "\n",
    "    '''\n",
    "    the metrics are taken from orignal paper:\n",
    "    Meta-Signer: Metagenomic Signature Identifier based on Rank Aggregation of Features\n",
    "    https://github.com/YDaiLab/Meta-Signer/blob/bd6a1cd98d1035f848ecb6e53d9ee67a85871db2/src/utils/metasigner_io.py#L34\n",
    "    '''\n",
    "    auc = roc_auc_score(y_true, y_score, average='weighted')        \n",
    "    mcc = matthews_corrcoef(y_true, y_pred)\n",
    "    pres = precision_score(y_true, y_pred, average='weighted')\n",
    "    recall = recall_score(y_true, y_pred, average='weighted')\n",
    "    f1 = f1_score(y_true, y_pred, average='weighted')\n",
    "    acc = accuracy_score(y_true, y_pred)\n",
    "    \n",
    "    print('roc-auc: %.3f, mcc: %.3f, pres: %.3f, recall: %.3f, f1: %.3f' % (auc, mcc, pres, recall, f1))\n",
    "\n",
    "    return acc, auc, mcc, pres, recall, f1"
   ]
  },
  {
   "cell_type": "markdown",
   "metadata": {},
   "source": [
    "# read data"
   ]
  },
  {
   "cell_type": "code",
   "execution_count": 2,
   "metadata": {},
   "outputs": [],
   "source": [
    "task = 'IBD'\n",
    "data_path = '../../../01_data/species_level/%s/' % (task)\n",
    "save_dir = '%s_results' % task\n",
    "if not os.path.exists(save_dir):\n",
    "    os.makedirs(save_dir)\n",
    "\n",
    "dfa = pd.read_csv(os.path.join(data_path, 'abundance.tsv'),sep='\\t', header=None, index_col=0)\n",
    "dfy = pd.read_csv(os.path.join(data_path, 'labels.txt'),sep='\\t', header=None)\n",
    "dfx = dfa.T\n",
    "dfy = pd.get_dummies(dfy[0].map({'ibd':1, 'n':0}))\n",
    "Y = dfy.values"
   ]
  },
  {
   "cell_type": "markdown",
   "metadata": {},
   "source": [
    "# generate Fmaps"
   ]
  },
  {
   "cell_type": "code",
   "execution_count": 3,
   "metadata": {},
   "outputs": [
    {
     "name": "stdout",
     "output_type": "stream",
     "text": [
      "2022-10-03 17:34:25,019 - \u001b[32mINFO\u001b[0m - [bidd-aggmap]\u001b[0m - Calculating distance ...\u001b[0m\n",
      "2022-10-03 17:34:25,025 - \u001b[32mINFO\u001b[0m - [bidd-aggmap]\u001b[0m - the number of process is 16\u001b[0m\n"
     ]
    },
    {
     "name": "stderr",
     "output_type": "stream",
     "text": [
      "100%|###############################################################################################################################| 97903/97903 [00:02<00:00, 44477.21it/s]\n",
      "100%|#############################################################################################################################| 97903/97903 [00:00<00:00, 5337288.23it/s]\n",
      "100%|####################################################################################################################################| 443/443 [00:00<00:00, 6030.92it/s]\n"
     ]
    },
    {
     "name": "stdout",
     "output_type": "stream",
     "text": [
      "2022-10-03 17:34:27,433 - \u001b[32mINFO\u001b[0m - [bidd-aggmap]\u001b[0m - applying hierarchical clustering to obtain group information ...\u001b[0m\n",
      "2022-10-03 17:34:29,738 - \u001b[32mINFO\u001b[0m - [bidd-aggmap]\u001b[0m - Applying grid assignment of feature points, this may take several minutes(1~30 min)\u001b[0m\n",
      "2022-10-03 17:34:29,932 - \u001b[32mINFO\u001b[0m - [bidd-aggmap]\u001b[0m - Finished\u001b[0m\n"
     ]
    },
    {
     "name": "stderr",
     "output_type": "stream",
     "text": [
      "100%|######################################################################################################################################| 110/110 [00:01<00:00, 58.16it/s]\n"
     ]
    },
    {
     "name": "stdout",
     "output_type": "stream",
     "text": [
      "2022-10-03 17:34:31,902 - \u001b[32mINFO\u001b[0m - [bidd-aggmap]\u001b[0m - generate file: IBD_results/feature points_443_correlation_umap_mp\u001b[0m\n",
      "2022-10-03 17:34:31,909 - \u001b[32mINFO\u001b[0m - [bidd-aggmap]\u001b[0m - save html file to IBD_results/feature points_443_correlation_umap_mp\u001b[0m\n",
      "2022-10-03 17:34:31,909 - \u001b[32mINFO\u001b[0m - [bidd-aggmap]\u001b[0m - generate file: IBD_results/feature points_443_correlation_umap_scatter\u001b[0m\n",
      "2022-10-03 17:34:31,914 - \u001b[32mINFO\u001b[0m - [bidd-aggmap]\u001b[0m - save html file to IBD_results/feature points_443_correlation_umap_scatter\u001b[0m\n"
     ]
    },
    {
     "data": {
      "text/plain": [
       "['IBD_results/agg.mp']"
      ]
     },
     "execution_count": 3,
     "metadata": {},
     "output_type": "execute_result"
    }
   ],
   "source": [
    "#could be optimized\n",
    "featHPs = {\"best_fill\":1e-2, \"best_scale_method\":'minmax', \"best_channel_number\":5}\n",
    "dfx = np.log(dfx + featHPs.get('best_fill'))\n",
    "mp = AggMap(dfx, metric = 'correlation')\n",
    "mp = mp.fit(cluster_channels = featHPs.get('best_channel_number'), verbose = 0, var_thr = 0)\n",
    "X = mp.batch_transform(dfx.values, scale = featHPs.get('best_scale_method')) # NaN values should be the lowest value\n",
    "mp.plot_grid(save_dir)\n",
    "mp.plot_scatter(save_dir)\n",
    "mp.save(os.path.join(save_dir, 'agg.mp'))"
   ]
  },
  {
   "cell_type": "markdown",
   "metadata": {},
   "source": [
    "# 10FCV"
   ]
  },
  {
   "cell_type": "code",
   "execution_count": 4,
   "metadata": {
    "collapsed": true,
    "jupyter": {
     "outputs_hidden": true
    },
    "tags": []
   },
   "outputs": [
    {
     "name": "stderr",
     "output_type": "stream",
     "text": [
      "2022-10-03 17:34:31.963038: I tensorflow/stream_executor/cuda/cuda_gpu_executor.cc:975] successful NUMA node read from SysFS had negative value (-1), but there must be at least one NUMA node, so returning NUMA node zero\n"
     ]
    },
    {
     "name": "stdout",
     "output_type": "stream",
     "text": [
      "################################################## repeat_seed: 8; fold_00 ##################################################\n",
      "\n",
      " input train and test X shape is (99, 22, 21, 5), (11, 22, 21, 5) \n",
      "MultiClassEstimator(batch_norm=False, batch_size=2, conv1_kernel_size=13,\n",
      "                    dense_avf='relu', dense_layers=[128], dropout=0.0,\n",
      "                    epochs=50, gpuid='1', last_avf='softmax',\n",
      "                    loss='categorical_crossentropy', lr=0.0001, metric='ACC',\n",
      "                    monitor='val_loss', n_inception=2,\n",
      "                    name='AggMap MultiClass Estimator', patience=10000,\n",
      "                    random_state=32, verbose=0)\n"
     ]
    },
    {
     "name": "stderr",
     "output_type": "stream",
     "text": [
      "2022-10-03 17:34:31.979550: I tensorflow/stream_executor/cuda/cuda_gpu_executor.cc:975] successful NUMA node read from SysFS had negative value (-1), but there must be at least one NUMA node, so returning NUMA node zero\n",
      "2022-10-03 17:34:31.979660: I tensorflow/stream_executor/cuda/cuda_gpu_executor.cc:975] successful NUMA node read from SysFS had negative value (-1), but there must be at least one NUMA node, so returning NUMA node zero\n",
      "2022-10-03 17:34:31.979891: I tensorflow/core/platform/cpu_feature_guard.cc:193] This TensorFlow binary is optimized with oneAPI Deep Neural Network Library (oneDNN) to use the following CPU instructions in performance-critical operations:  AVX2 AVX_VNNI FMA\n",
      "To enable them in other operations, rebuild TensorFlow with the appropriate compiler flags.\n",
      "2022-10-03 17:34:31.980460: I tensorflow/stream_executor/cuda/cuda_gpu_executor.cc:975] successful NUMA node read from SysFS had negative value (-1), but there must be at least one NUMA node, so returning NUMA node zero\n",
      "2022-10-03 17:34:31.980551: I tensorflow/stream_executor/cuda/cuda_gpu_executor.cc:975] successful NUMA node read from SysFS had negative value (-1), but there must be at least one NUMA node, so returning NUMA node zero\n",
      "2022-10-03 17:34:31.980612: I tensorflow/stream_executor/cuda/cuda_gpu_executor.cc:975] successful NUMA node read from SysFS had negative value (-1), but there must be at least one NUMA node, so returning NUMA node zero\n",
      "2022-10-03 17:34:32.508108: I tensorflow/stream_executor/cuda/cuda_gpu_executor.cc:975] successful NUMA node read from SysFS had negative value (-1), but there must be at least one NUMA node, so returning NUMA node zero\n",
      "2022-10-03 17:34:32.508244: I tensorflow/stream_executor/cuda/cuda_gpu_executor.cc:975] successful NUMA node read from SysFS had negative value (-1), but there must be at least one NUMA node, so returning NUMA node zero\n",
      "2022-10-03 17:34:32.508313: I tensorflow/stream_executor/cuda/cuda_gpu_executor.cc:975] successful NUMA node read from SysFS had negative value (-1), but there must be at least one NUMA node, so returning NUMA node zero\n",
      "2022-10-03 17:34:32.508378: I tensorflow/core/common_runtime/gpu/gpu_device.cc:1532] Created device /job:localhost/replica:0/task:0/device:GPU:0 with 10091 MB memory:  -> device: 0, name: NVIDIA GeForce RTX 3080 Ti, pci bus id: 0000:04:00.0, compute capability: 8.6\n",
      "2022-10-03 17:34:34.038036: I tensorflow/stream_executor/cuda/cuda_dnn.cc:384] Loaded cuDNN version 8302\n",
      "2022-10-03 17:34:35.311876: I tensorflow/core/platform/default/subprocess.cc:304] Start cannot spawn child process: No such file or directory\n",
      "2022-10-03 17:34:35.379466: I tensorflow/stream_executor/cuda/cuda_blas.cc:1786] TensorFloat-32 will be used for the matrix multiplication. This will only be logged once.\n"
     ]
    },
    {
     "name": "stdout",
     "output_type": "stream",
     "text": [
      "saving model to IBD_results/fold_00.model\n",
      "roc-auc: 0.889, mcc: 0.671, pres: 0.918, recall: 0.909, f1: 0.896\n",
      "{'acc': 0.909, 'auc': 0.889, 'mcc': 0.671, 'pres': 0.918, 'recall': 0.909, 'f1': 0.896, 'i': 0.0, 'repeat_seed': 8.0}\n",
      "################################################## repeat_seed: 8; fold_01 ##################################################\n",
      "\n",
      " input train and test X shape is (99, 22, 21, 5), (11, 22, 21, 5) \n",
      "MultiClassEstimator(batch_norm=False, batch_size=2, conv1_kernel_size=13,\n",
      "                    dense_avf='relu', dense_layers=[128], dropout=0.0,\n",
      "                    epochs=50, gpuid='1', last_avf='softmax',\n",
      "                    loss='categorical_crossentropy', lr=0.0001, metric='ACC',\n",
      "                    monitor='val_loss', n_inception=2,\n",
      "                    name='AggMap MultiClass Estimator', patience=10000,\n",
      "                    random_state=32, verbose=0)\n",
      "saving model to IBD_results/fold_01.model\n",
      "roc-auc: 0.944, mcc: 0.671, pres: 0.918, recall: 0.909, f1: 0.896\n",
      "{'acc': 0.909, 'auc': 0.944, 'mcc': 0.671, 'pres': 0.918, 'recall': 0.909, 'f1': 0.896, 'i': 0.0, 'repeat_seed': 8.0}\n",
      "################################################## repeat_seed: 8; fold_02 ##################################################\n",
      "\n",
      " input train and test X shape is (99, 22, 21, 5), (11, 22, 21, 5) \n",
      "MultiClassEstimator(batch_norm=False, batch_size=2, conv1_kernel_size=13,\n",
      "                    dense_avf='relu', dense_layers=[128], dropout=0.0,\n",
      "                    epochs=50, gpuid='1', last_avf='softmax',\n",
      "                    loss='categorical_crossentropy', lr=0.0001, metric='ACC',\n",
      "                    monitor='val_loss', n_inception=2,\n",
      "                    name='AggMap MultiClass Estimator', patience=10000,\n",
      "                    random_state=32, verbose=0)\n",
      "saving model to IBD_results/fold_02.model\n",
      "roc-auc: 0.944, mcc: 0.671, pres: 0.918, recall: 0.909, f1: 0.896\n",
      "{'acc': 0.909, 'auc': 0.944, 'mcc': 0.671, 'pres': 0.918, 'recall': 0.909, 'f1': 0.896, 'i': 0.0, 'repeat_seed': 8.0}\n",
      "################################################## repeat_seed: 8; fold_03 ##################################################\n",
      "\n",
      " input train and test X shape is (99, 22, 21, 5), (11, 22, 21, 5) \n",
      "MultiClassEstimator(batch_norm=False, batch_size=2, conv1_kernel_size=13,\n",
      "                    dense_avf='relu', dense_layers=[128], dropout=0.0,\n",
      "                    epochs=50, gpuid='1', last_avf='softmax',\n",
      "                    loss='categorical_crossentropy', lr=0.0001, metric='ACC',\n",
      "                    monitor='val_loss', n_inception=2,\n",
      "                    name='AggMap MultiClass Estimator', patience=10000,\n",
      "                    random_state=32, verbose=0)\n",
      "saving model to IBD_results/fold_03.model\n",
      "roc-auc: 1.000, mcc: 1.000, pres: 1.000, recall: 1.000, f1: 1.000\n",
      "{'acc': 1.0, 'auc': 1.0, 'mcc': 1.0, 'pres': 1.0, 'recall': 1.0, 'f1': 1.0, 'i': 0.0, 'repeat_seed': 8.0}\n",
      "################################################## repeat_seed: 8; fold_04 ##################################################\n",
      "\n",
      " input train and test X shape is (99, 22, 21, 5), (11, 22, 21, 5) \n",
      "MultiClassEstimator(batch_norm=False, batch_size=2, conv1_kernel_size=13,\n",
      "                    dense_avf='relu', dense_layers=[128], dropout=0.0,\n",
      "                    epochs=50, gpuid='1', last_avf='softmax',\n",
      "                    loss='categorical_crossentropy', lr=0.0001, metric='ACC',\n",
      "                    monitor='val_loss', n_inception=2,\n",
      "                    name='AggMap MultiClass Estimator', patience=10000,\n",
      "                    random_state=32, verbose=0)\n",
      "saving model to IBD_results/fold_04.model\n",
      "roc-auc: 1.000, mcc: 1.000, pres: 1.000, recall: 1.000, f1: 1.000\n",
      "{'acc': 1.0, 'auc': 1.0, 'mcc': 1.0, 'pres': 1.0, 'recall': 1.0, 'f1': 1.0, 'i': 0.0, 'repeat_seed': 8.0}\n",
      "################################################## repeat_seed: 8; fold_05 ##################################################\n",
      "\n",
      " input train and test X shape is (99, 22, 21, 5), (11, 22, 21, 5) \n",
      "MultiClassEstimator(batch_norm=False, batch_size=2, conv1_kernel_size=13,\n",
      "                    dense_avf='relu', dense_layers=[128], dropout=0.0,\n",
      "                    epochs=50, gpuid='1', last_avf='softmax',\n",
      "                    loss='categorical_crossentropy', lr=0.0001, metric='ACC',\n",
      "                    monitor='val_loss', n_inception=2,\n",
      "                    name='AggMap MultiClass Estimator', patience=10000,\n",
      "                    random_state=32, verbose=0)\n",
      "saving model to IBD_results/fold_05.model\n",
      "roc-auc: 1.000, mcc: 1.000, pres: 1.000, recall: 1.000, f1: 1.000\n",
      "{'acc': 1.0, 'auc': 1.0, 'mcc': 1.0, 'pres': 1.0, 'recall': 1.0, 'f1': 1.0, 'i': 0.0, 'repeat_seed': 8.0}\n",
      "################################################## repeat_seed: 8; fold_06 ##################################################\n",
      "\n",
      " input train and test X shape is (99, 22, 21, 5), (11, 22, 21, 5) \n",
      "MultiClassEstimator(batch_norm=False, batch_size=2, conv1_kernel_size=13,\n",
      "                    dense_avf='relu', dense_layers=[128], dropout=0.0,\n",
      "                    epochs=50, gpuid='1', last_avf='softmax',\n",
      "                    loss='categorical_crossentropy', lr=0.0001, metric='ACC',\n",
      "                    monitor='val_loss', n_inception=2,\n",
      "                    name='AggMap MultiClass Estimator', patience=10000,\n",
      "                    random_state=32, verbose=0)\n",
      "saving model to IBD_results/fold_06.model\n",
      "roc-auc: 0.833, mcc: 0.083, pres: 0.636, recall: 0.636, f1: 0.636\n",
      "{'acc': 0.636, 'auc': 0.833, 'mcc': 0.083, 'pres': 0.636, 'recall': 0.636, 'f1': 0.636, 'i': 0.0, 'repeat_seed': 8.0}\n",
      "################################################## repeat_seed: 8; fold_07 ##################################################\n",
      "\n",
      " input train and test X shape is (99, 22, 21, 5), (11, 22, 21, 5) \n",
      "MultiClassEstimator(batch_norm=False, batch_size=2, conv1_kernel_size=13,\n",
      "                    dense_avf='relu', dense_layers=[128], dropout=0.0,\n",
      "                    epochs=50, gpuid='1', last_avf='softmax',\n",
      "                    loss='categorical_crossentropy', lr=0.0001, metric='ACC',\n",
      "                    monitor='val_loss', n_inception=2,\n",
      "                    name='AggMap MultiClass Estimator', patience=10000,\n",
      "                    random_state=32, verbose=0)\n",
      "saving model to IBD_results/fold_07.model\n",
      "roc-auc: 1.000, mcc: 0.770, pres: 0.919, recall: 0.909, f1: 0.903\n",
      "{'acc': 0.909, 'auc': 1.0, 'mcc': 0.77, 'pres': 0.919, 'recall': 0.909, 'f1': 0.903, 'i': 0.0, 'repeat_seed': 8.0}\n",
      "################################################## repeat_seed: 8; fold_08 ##################################################\n",
      "\n",
      " input train and test X shape is (99, 22, 21, 5), (11, 22, 21, 5) \n",
      "MultiClassEstimator(batch_norm=False, batch_size=2, conv1_kernel_size=13,\n",
      "                    dense_avf='relu', dense_layers=[128], dropout=0.0,\n",
      "                    epochs=50, gpuid='1', last_avf='softmax',\n",
      "                    loss='categorical_crossentropy', lr=0.0001, metric='ACC',\n",
      "                    monitor='val_loss', n_inception=2,\n",
      "                    name='AggMap MultiClass Estimator', patience=10000,\n",
      "                    random_state=32, verbose=0)\n",
      "saving model to IBD_results/fold_08.model\n",
      "roc-auc: 1.000, mcc: 1.000, pres: 1.000, recall: 1.000, f1: 1.000\n",
      "{'acc': 1.0, 'auc': 1.0, 'mcc': 1.0, 'pres': 1.0, 'recall': 1.0, 'f1': 1.0, 'i': 0.0, 'repeat_seed': 8.0}\n",
      "################################################## repeat_seed: 8; fold_09 ##################################################\n",
      "\n",
      " input train and test X shape is (99, 22, 21, 5), (11, 22, 21, 5) \n",
      "MultiClassEstimator(batch_norm=False, batch_size=2, conv1_kernel_size=13,\n",
      "                    dense_avf='relu', dense_layers=[128], dropout=0.0,\n",
      "                    epochs=50, gpuid='1', last_avf='softmax',\n",
      "                    loss='categorical_crossentropy', lr=0.0001, metric='ACC',\n",
      "                    monitor='val_loss', n_inception=2,\n",
      "                    name='AggMap MultiClass Estimator', patience=10000,\n",
      "                    random_state=32, verbose=0)\n",
      "saving model to IBD_results/fold_09.model\n",
      "roc-auc: 0.792, mcc: 0.000, pres: 0.529, recall: 0.727, f1: 0.612\n",
      "{'acc': 0.727, 'auc': 0.792, 'mcc': 0.0, 'pres': 0.529, 'recall': 0.727, 'f1': 0.612, 'i': 0.0, 'repeat_seed': 8.0}\n",
      "################################################## repeat_seed: 16; fold_00 ##################################################\n",
      "\n",
      " input train and test X shape is (99, 22, 21, 5), (11, 22, 21, 5) \n",
      "MultiClassEstimator(batch_norm=False, batch_size=2, conv1_kernel_size=13,\n",
      "                    dense_avf='relu', dense_layers=[128], dropout=0.0,\n",
      "                    epochs=50, gpuid='1', last_avf='softmax',\n",
      "                    loss='categorical_crossentropy', lr=0.0001, metric='ACC',\n",
      "                    monitor='val_loss', n_inception=2,\n",
      "                    name='AggMap MultiClass Estimator', patience=10000,\n",
      "                    random_state=32, verbose=0)\n",
      "roc-auc: 0.889, mcc: 0.770, pres: 0.939, recall: 0.909, f1: 0.916\n",
      "{'acc': 0.909, 'auc': 0.889, 'mcc': 0.77, 'pres': 0.939, 'recall': 0.909, 'f1': 0.916, 'i': 1.0, 'repeat_seed': 16.0}\n",
      "################################################## repeat_seed: 16; fold_01 ##################################################\n",
      "\n",
      " input train and test X shape is (99, 22, 21, 5), (11, 22, 21, 5) \n",
      "MultiClassEstimator(batch_norm=False, batch_size=2, conv1_kernel_size=13,\n",
      "                    dense_avf='relu', dense_layers=[128], dropout=0.0,\n",
      "                    epochs=50, gpuid='1', last_avf='softmax',\n",
      "                    loss='categorical_crossentropy', lr=0.0001, metric='ACC',\n",
      "                    monitor='val_loss', n_inception=2,\n",
      "                    name='AggMap MultiClass Estimator', patience=10000,\n",
      "                    random_state=32, verbose=0)\n",
      "roc-auc: 1.000, mcc: 0.671, pres: 0.918, recall: 0.909, f1: 0.896\n",
      "{'acc': 0.909, 'auc': 1.0, 'mcc': 0.671, 'pres': 0.918, 'recall': 0.909, 'f1': 0.896, 'i': 1.0, 'repeat_seed': 16.0}\n",
      "################################################## repeat_seed: 16; fold_02 ##################################################\n",
      "\n",
      " input train and test X shape is (99, 22, 21, 5), (11, 22, 21, 5) \n",
      "MultiClassEstimator(batch_norm=False, batch_size=2, conv1_kernel_size=13,\n",
      "                    dense_avf='relu', dense_layers=[128], dropout=0.0,\n",
      "                    epochs=50, gpuid='1', last_avf='softmax',\n",
      "                    loss='categorical_crossentropy', lr=0.0001, metric='ACC',\n",
      "                    monitor='val_loss', n_inception=2,\n",
      "                    name='AggMap MultiClass Estimator', patience=10000,\n",
      "                    random_state=32, verbose=0)\n",
      "roc-auc: 0.778, mcc: 0.000, pres: 0.669, recall: 0.818, f1: 0.736\n",
      "{'acc': 0.818, 'auc': 0.778, 'mcc': 0.0, 'pres': 0.669, 'recall': 0.818, 'f1': 0.736, 'i': 1.0, 'repeat_seed': 16.0}\n",
      "################################################## repeat_seed: 16; fold_03 ##################################################\n",
      "\n",
      " input train and test X shape is (99, 22, 21, 5), (11, 22, 21, 5) \n",
      "MultiClassEstimator(batch_norm=False, batch_size=2, conv1_kernel_size=13,\n",
      "                    dense_avf='relu', dense_layers=[128], dropout=0.0,\n",
      "                    epochs=50, gpuid='1', last_avf='softmax',\n",
      "                    loss='categorical_crossentropy', lr=0.0001, metric='ACC',\n",
      "                    monitor='val_loss', n_inception=2,\n",
      "                    name='AggMap MultiClass Estimator', patience=10000,\n",
      "                    random_state=32, verbose=0)\n",
      "roc-auc: 1.000, mcc: 0.671, pres: 0.918, recall: 0.909, f1: 0.896\n",
      "{'acc': 0.909, 'auc': 1.0, 'mcc': 0.671, 'pres': 0.918, 'recall': 0.909, 'f1': 0.896, 'i': 1.0, 'repeat_seed': 16.0}\n",
      "################################################## repeat_seed: 16; fold_04 ##################################################\n",
      "\n",
      " input train and test X shape is (99, 22, 21, 5), (11, 22, 21, 5) \n",
      "MultiClassEstimator(batch_norm=False, batch_size=2, conv1_kernel_size=13,\n",
      "                    dense_avf='relu', dense_layers=[128], dropout=0.0,\n",
      "                    epochs=50, gpuid='1', last_avf='softmax',\n",
      "                    loss='categorical_crossentropy', lr=0.0001, metric='ACC',\n",
      "                    monitor='val_loss', n_inception=2,\n",
      "                    name='AggMap MultiClass Estimator', patience=10000,\n",
      "                    random_state=32, verbose=0)\n",
      "roc-auc: 1.000, mcc: 1.000, pres: 1.000, recall: 1.000, f1: 1.000\n",
      "{'acc': 1.0, 'auc': 1.0, 'mcc': 1.0, 'pres': 1.0, 'recall': 1.0, 'f1': 1.0, 'i': 1.0, 'repeat_seed': 16.0}\n",
      "################################################## repeat_seed: 16; fold_05 ##################################################\n",
      "\n",
      " input train and test X shape is (99, 22, 21, 5), (11, 22, 21, 5) \n",
      "MultiClassEstimator(batch_norm=False, batch_size=2, conv1_kernel_size=13,\n",
      "                    dense_avf='relu', dense_layers=[128], dropout=0.0,\n",
      "                    epochs=50, gpuid='1', last_avf='softmax',\n",
      "                    loss='categorical_crossentropy', lr=0.0001, metric='ACC',\n",
      "                    monitor='val_loss', n_inception=2,\n",
      "                    name='AggMap MultiClass Estimator', patience=10000,\n",
      "                    random_state=32, verbose=0)\n",
      "roc-auc: 1.000, mcc: 0.000, pres: 0.529, recall: 0.727, f1: 0.612\n",
      "{'acc': 0.727, 'auc': 1.0, 'mcc': 0.0, 'pres': 0.529, 'recall': 0.727, 'f1': 0.612, 'i': 1.0, 'repeat_seed': 16.0}\n",
      "################################################## repeat_seed: 16; fold_06 ##################################################\n",
      "\n",
      " input train and test X shape is (99, 22, 21, 5), (11, 22, 21, 5) \n",
      "MultiClassEstimator(batch_norm=False, batch_size=2, conv1_kernel_size=13,\n",
      "                    dense_avf='relu', dense_layers=[128], dropout=0.0,\n",
      "                    epochs=50, gpuid='1', last_avf='softmax',\n",
      "                    loss='categorical_crossentropy', lr=0.0001, metric='ACC',\n",
      "                    monitor='val_loss', n_inception=2,\n",
      "                    name='AggMap MultiClass Estimator', patience=10000,\n",
      "                    random_state=32, verbose=0)\n",
      "roc-auc: 0.958, mcc: 0.770, pres: 0.919, recall: 0.909, f1: 0.903\n",
      "{'acc': 0.909, 'auc': 0.958, 'mcc': 0.77, 'pres': 0.919, 'recall': 0.909, 'f1': 0.903, 'i': 1.0, 'repeat_seed': 16.0}\n",
      "################################################## repeat_seed: 16; fold_07 ##################################################\n",
      "\n",
      " input train and test X shape is (99, 22, 21, 5), (11, 22, 21, 5) \n",
      "MultiClassEstimator(batch_norm=False, batch_size=2, conv1_kernel_size=13,\n",
      "                    dense_avf='relu', dense_layers=[128], dropout=0.0,\n",
      "                    epochs=50, gpuid='1', last_avf='softmax',\n",
      "                    loss='categorical_crossentropy', lr=0.0001, metric='ACC',\n",
      "                    monitor='val_loss', n_inception=2,\n",
      "                    name='AggMap MultiClass Estimator', patience=10000,\n",
      "                    random_state=32, verbose=0)\n",
      "roc-auc: 0.958, mcc: 0.516, pres: 0.855, recall: 0.818, f1: 0.783\n",
      "{'acc': 0.818, 'auc': 0.958, 'mcc': 0.516, 'pres': 0.855, 'recall': 0.818, 'f1': 0.783, 'i': 1.0, 'repeat_seed': 16.0}\n",
      "################################################## repeat_seed: 16; fold_08 ##################################################\n",
      "\n",
      " input train and test X shape is (99, 22, 21, 5), (11, 22, 21, 5) \n",
      "MultiClassEstimator(batch_norm=False, batch_size=2, conv1_kernel_size=13,\n",
      "                    dense_avf='relu', dense_layers=[128], dropout=0.0,\n",
      "                    epochs=50, gpuid='1', last_avf='softmax',\n",
      "                    loss='categorical_crossentropy', lr=0.0001, metric='ACC',\n",
      "                    monitor='val_loss', n_inception=2,\n",
      "                    name='AggMap MultiClass Estimator', patience=10000,\n",
      "                    random_state=32, verbose=0)\n",
      "roc-auc: 1.000, mcc: 1.000, pres: 1.000, recall: 1.000, f1: 1.000\n",
      "{'acc': 1.0, 'auc': 1.0, 'mcc': 1.0, 'pres': 1.0, 'recall': 1.0, 'f1': 1.0, 'i': 1.0, 'repeat_seed': 16.0}\n",
      "################################################## repeat_seed: 16; fold_09 ##################################################\n",
      "\n",
      " input train and test X shape is (99, 22, 21, 5), (11, 22, 21, 5) \n",
      "MultiClassEstimator(batch_norm=False, batch_size=2, conv1_kernel_size=13,\n",
      "                    dense_avf='relu', dense_layers=[128], dropout=0.0,\n",
      "                    epochs=50, gpuid='1', last_avf='softmax',\n",
      "                    loss='categorical_crossentropy', lr=0.0001, metric='ACC',\n",
      "                    monitor='val_loss', n_inception=2,\n",
      "                    name='AggMap MultiClass Estimator', patience=10000,\n",
      "                    random_state=32, verbose=0)\n",
      "roc-auc: 0.875, mcc: 0.542, pres: 0.818, recall: 0.818, f1: 0.818\n",
      "{'acc': 0.818, 'auc': 0.875, 'mcc': 0.542, 'pres': 0.818, 'recall': 0.818, 'f1': 0.818, 'i': 1.0, 'repeat_seed': 16.0}\n",
      "################################################## repeat_seed: 32; fold_00 ##################################################\n",
      "\n",
      " input train and test X shape is (99, 22, 21, 5), (11, 22, 21, 5) \n",
      "MultiClassEstimator(batch_norm=False, batch_size=2, conv1_kernel_size=13,\n",
      "                    dense_avf='relu', dense_layers=[128], dropout=0.0,\n",
      "                    epochs=50, gpuid='1', last_avf='softmax',\n",
      "                    loss='categorical_crossentropy', lr=0.0001, metric='ACC',\n",
      "                    monitor='val_loss', n_inception=2,\n",
      "                    name='AggMap MultiClass Estimator', patience=10000,\n",
      "                    random_state=32, verbose=0)\n",
      "roc-auc: 1.000, mcc: 0.671, pres: 0.918, recall: 0.909, f1: 0.896\n",
      "{'acc': 0.909, 'auc': 1.0, 'mcc': 0.671, 'pres': 0.918, 'recall': 0.909, 'f1': 0.896, 'i': 2.0, 'repeat_seed': 32.0}\n",
      "################################################## repeat_seed: 32; fold_01 ##################################################\n",
      "\n",
      " input train and test X shape is (99, 22, 21, 5), (11, 22, 21, 5) \n",
      "MultiClassEstimator(batch_norm=False, batch_size=2, conv1_kernel_size=13,\n",
      "                    dense_avf='relu', dense_layers=[128], dropout=0.0,\n",
      "                    epochs=50, gpuid='1', last_avf='softmax',\n",
      "                    loss='categorical_crossentropy', lr=0.0001, metric='ACC',\n",
      "                    monitor='val_loss', n_inception=2,\n",
      "                    name='AggMap MultiClass Estimator', patience=10000,\n",
      "                    random_state=32, verbose=0)\n",
      "roc-auc: 0.889, mcc: 0.389, pres: 0.818, recall: 0.818, f1: 0.818\n",
      "{'acc': 0.818, 'auc': 0.889, 'mcc': 0.389, 'pres': 0.818, 'recall': 0.818, 'f1': 0.818, 'i': 2.0, 'repeat_seed': 32.0}\n",
      "################################################## repeat_seed: 32; fold_02 ##################################################\n",
      "\n",
      " input train and test X shape is (99, 22, 21, 5), (11, 22, 21, 5) \n",
      "MultiClassEstimator(batch_norm=False, batch_size=2, conv1_kernel_size=13,\n",
      "                    dense_avf='relu', dense_layers=[128], dropout=0.0,\n",
      "                    epochs=50, gpuid='1', last_avf='softmax',\n",
      "                    loss='categorical_crossentropy', lr=0.0001, metric='ACC',\n",
      "                    monitor='val_loss', n_inception=2,\n",
      "                    name='AggMap MultiClass Estimator', patience=10000,\n",
      "                    random_state=32, verbose=0)\n",
      "roc-auc: 1.000, mcc: 0.671, pres: 0.918, recall: 0.909, f1: 0.896\n",
      "{'acc': 0.909, 'auc': 1.0, 'mcc': 0.671, 'pres': 0.918, 'recall': 0.909, 'f1': 0.896, 'i': 2.0, 'repeat_seed': 32.0}\n",
      "################################################## repeat_seed: 32; fold_03 ##################################################\n",
      "\n",
      " input train and test X shape is (99, 22, 21, 5), (11, 22, 21, 5) \n",
      "MultiClassEstimator(batch_norm=False, batch_size=2, conv1_kernel_size=13,\n",
      "                    dense_avf='relu', dense_layers=[128], dropout=0.0,\n",
      "                    epochs=50, gpuid='1', last_avf='softmax',\n",
      "                    loss='categorical_crossentropy', lr=0.0001, metric='ACC',\n",
      "                    monitor='val_loss', n_inception=2,\n",
      "                    name='AggMap MultiClass Estimator', patience=10000,\n",
      "                    random_state=32, verbose=0)\n",
      "roc-auc: 0.944, mcc: 0.770, pres: 0.939, recall: 0.909, f1: 0.916\n",
      "{'acc': 0.909, 'auc': 0.944, 'mcc': 0.77, 'pres': 0.939, 'recall': 0.909, 'f1': 0.916, 'i': 2.0, 'repeat_seed': 32.0}\n",
      "################################################## repeat_seed: 32; fold_04 ##################################################\n",
      "\n",
      " input train and test X shape is (99, 22, 21, 5), (11, 22, 21, 5) \n",
      "MultiClassEstimator(batch_norm=False, batch_size=2, conv1_kernel_size=13,\n",
      "                    dense_avf='relu', dense_layers=[128], dropout=0.0,\n",
      "                    epochs=50, gpuid='1', last_avf='softmax',\n",
      "                    loss='categorical_crossentropy', lr=0.0001, metric='ACC',\n",
      "                    monitor='val_loss', n_inception=2,\n",
      "                    name='AggMap MultiClass Estimator', patience=10000,\n",
      "                    random_state=32, verbose=0)\n",
      "roc-auc: 1.000, mcc: 0.671, pres: 0.918, recall: 0.909, f1: 0.896\n",
      "{'acc': 0.909, 'auc': 1.0, 'mcc': 0.671, 'pres': 0.918, 'recall': 0.909, 'f1': 0.896, 'i': 2.0, 'repeat_seed': 32.0}\n",
      "################################################## repeat_seed: 32; fold_05 ##################################################\n",
      "\n",
      " input train and test X shape is (99, 22, 21, 5), (11, 22, 21, 5) \n",
      "MultiClassEstimator(batch_norm=False, batch_size=2, conv1_kernel_size=13,\n",
      "                    dense_avf='relu', dense_layers=[128], dropout=0.0,\n",
      "                    epochs=50, gpuid='1', last_avf='softmax',\n",
      "                    loss='categorical_crossentropy', lr=0.0001, metric='ACC',\n",
      "                    monitor='val_loss', n_inception=2,\n",
      "                    name='AggMap MultiClass Estimator', patience=10000,\n",
      "                    random_state=32, verbose=0)\n",
      "roc-auc: 0.833, mcc: -0.194, pres: 0.509, recall: 0.636, f1: 0.566\n",
      "{'acc': 0.636, 'auc': 0.833, 'mcc': -0.194, 'pres': 0.509, 'recall': 0.636, 'f1': 0.566, 'i': 2.0, 'repeat_seed': 32.0}\n",
      "################################################## repeat_seed: 32; fold_06 ##################################################\n",
      "\n",
      " input train and test X shape is (99, 22, 21, 5), (11, 22, 21, 5) \n",
      "MultiClassEstimator(batch_norm=False, batch_size=2, conv1_kernel_size=13,\n",
      "                    dense_avf='relu', dense_layers=[128], dropout=0.0,\n",
      "                    epochs=50, gpuid='1', last_avf='softmax',\n",
      "                    loss='categorical_crossentropy', lr=0.0001, metric='ACC',\n",
      "                    monitor='val_loss', n_inception=2,\n",
      "                    name='AggMap MultiClass Estimator', patience=10000,\n",
      "                    random_state=32, verbose=0)\n",
      "roc-auc: 1.000, mcc: 0.516, pres: 0.855, recall: 0.818, f1: 0.783\n",
      "{'acc': 0.818, 'auc': 1.0, 'mcc': 0.516, 'pres': 0.855, 'recall': 0.818, 'f1': 0.783, 'i': 2.0, 'repeat_seed': 32.0}\n",
      "################################################## repeat_seed: 32; fold_07 ##################################################\n",
      "\n",
      " input train and test X shape is (99, 22, 21, 5), (11, 22, 21, 5) \n",
      "MultiClassEstimator(batch_norm=False, batch_size=2, conv1_kernel_size=13,\n",
      "                    dense_avf='relu', dense_layers=[128], dropout=0.0,\n",
      "                    epochs=50, gpuid='1', last_avf='softmax',\n",
      "                    loss='categorical_crossentropy', lr=0.0001, metric='ACC',\n",
      "                    monitor='val_loss', n_inception=2,\n",
      "                    name='AggMap MultiClass Estimator', patience=10000,\n",
      "                    random_state=32, verbose=0)\n",
      "roc-auc: 1.000, mcc: 0.770, pres: 0.919, recall: 0.909, f1: 0.903\n",
      "{'acc': 0.909, 'auc': 1.0, 'mcc': 0.77, 'pres': 0.919, 'recall': 0.909, 'f1': 0.903, 'i': 2.0, 'repeat_seed': 32.0}\n",
      "################################################## repeat_seed: 32; fold_08 ##################################################\n",
      "\n",
      " input train and test X shape is (99, 22, 21, 5), (11, 22, 21, 5) \n",
      "MultiClassEstimator(batch_norm=False, batch_size=2, conv1_kernel_size=13,\n",
      "                    dense_avf='relu', dense_layers=[128], dropout=0.0,\n",
      "                    epochs=50, gpuid='1', last_avf='softmax',\n",
      "                    loss='categorical_crossentropy', lr=0.0001, metric='ACC',\n",
      "                    monitor='val_loss', n_inception=2,\n",
      "                    name='AggMap MultiClass Estimator', patience=10000,\n",
      "                    random_state=32, verbose=0)\n",
      "roc-auc: 0.792, mcc: 0.542, pres: 0.818, recall: 0.818, f1: 0.818\n",
      "{'acc': 0.818, 'auc': 0.792, 'mcc': 0.542, 'pres': 0.818, 'recall': 0.818, 'f1': 0.818, 'i': 2.0, 'repeat_seed': 32.0}\n",
      "################################################## repeat_seed: 32; fold_09 ##################################################\n",
      "\n",
      " input train and test X shape is (99, 22, 21, 5), (11, 22, 21, 5) \n",
      "MultiClassEstimator(batch_norm=False, batch_size=2, conv1_kernel_size=13,\n",
      "                    dense_avf='relu', dense_layers=[128], dropout=0.0,\n",
      "                    epochs=50, gpuid='1', last_avf='softmax',\n",
      "                    loss='categorical_crossentropy', lr=0.0001, metric='ACC',\n",
      "                    monitor='val_loss', n_inception=2,\n",
      "                    name='AggMap MultiClass Estimator', patience=10000,\n",
      "                    random_state=32, verbose=0)\n",
      "roc-auc: 1.000, mcc: 1.000, pres: 1.000, recall: 1.000, f1: 1.000\n",
      "{'acc': 1.0, 'auc': 1.0, 'mcc': 1.0, 'pres': 1.0, 'recall': 1.0, 'f1': 1.0, 'i': 2.0, 'repeat_seed': 32.0}\n",
      "################################################## repeat_seed: 64; fold_00 ##################################################\n",
      "\n",
      " input train and test X shape is (99, 22, 21, 5), (11, 22, 21, 5) \n",
      "MultiClassEstimator(batch_norm=False, batch_size=2, conv1_kernel_size=13,\n",
      "                    dense_avf='relu', dense_layers=[128], dropout=0.0,\n",
      "                    epochs=50, gpuid='1', last_avf='softmax',\n",
      "                    loss='categorical_crossentropy', lr=0.0001, metric='ACC',\n",
      "                    monitor='val_loss', n_inception=2,\n",
      "                    name='AggMap MultiClass Estimator', patience=10000,\n",
      "                    random_state=32, verbose=0)\n",
      "roc-auc: 1.000, mcc: 1.000, pres: 1.000, recall: 1.000, f1: 1.000\n",
      "{'acc': 1.0, 'auc': 1.0, 'mcc': 1.0, 'pres': 1.0, 'recall': 1.0, 'f1': 1.0, 'i': 3.0, 'repeat_seed': 64.0}\n",
      "################################################## repeat_seed: 64; fold_01 ##################################################\n",
      "\n",
      " input train and test X shape is (99, 22, 21, 5), (11, 22, 21, 5) \n",
      "MultiClassEstimator(batch_norm=False, batch_size=2, conv1_kernel_size=13,\n",
      "                    dense_avf='relu', dense_layers=[128], dropout=0.0,\n",
      "                    epochs=50, gpuid='1', last_avf='softmax',\n",
      "                    loss='categorical_crossentropy', lr=0.0001, metric='ACC',\n",
      "                    monitor='val_loss', n_inception=2,\n",
      "                    name='AggMap MultiClass Estimator', patience=10000,\n",
      "                    random_state=32, verbose=0)\n",
      "roc-auc: 0.889, mcc: 0.389, pres: 0.818, recall: 0.818, f1: 0.818\n",
      "{'acc': 0.818, 'auc': 0.889, 'mcc': 0.389, 'pres': 0.818, 'recall': 0.818, 'f1': 0.818, 'i': 3.0, 'repeat_seed': 64.0}\n",
      "################################################## repeat_seed: 64; fold_02 ##################################################\n",
      "\n",
      " input train and test X shape is (99, 22, 21, 5), (11, 22, 21, 5) \n",
      "MultiClassEstimator(batch_norm=False, batch_size=2, conv1_kernel_size=13,\n",
      "                    dense_avf='relu', dense_layers=[128], dropout=0.0,\n",
      "                    epochs=50, gpuid='1', last_avf='softmax',\n",
      "                    loss='categorical_crossentropy', lr=0.0001, metric='ACC',\n",
      "                    monitor='val_loss', n_inception=2,\n",
      "                    name='AggMap MultiClass Estimator', patience=10000,\n",
      "                    random_state=32, verbose=0)\n",
      "roc-auc: 0.889, mcc: 0.389, pres: 0.818, recall: 0.818, f1: 0.818\n",
      "{'acc': 0.818, 'auc': 0.889, 'mcc': 0.389, 'pres': 0.818, 'recall': 0.818, 'f1': 0.818, 'i': 3.0, 'repeat_seed': 64.0}\n",
      "################################################## repeat_seed: 64; fold_03 ##################################################\n",
      "\n",
      " input train and test X shape is (99, 22, 21, 5), (11, 22, 21, 5) \n",
      "MultiClassEstimator(batch_norm=False, batch_size=2, conv1_kernel_size=13,\n",
      "                    dense_avf='relu', dense_layers=[128], dropout=0.0,\n",
      "                    epochs=50, gpuid='1', last_avf='softmax',\n",
      "                    loss='categorical_crossentropy', lr=0.0001, metric='ACC',\n",
      "                    monitor='val_loss', n_inception=2,\n",
      "                    name='AggMap MultiClass Estimator', patience=10000,\n",
      "                    random_state=32, verbose=0)\n",
      "roc-auc: 0.944, mcc: 0.389, pres: 0.818, recall: 0.818, f1: 0.818\n",
      "{'acc': 0.818, 'auc': 0.944, 'mcc': 0.389, 'pres': 0.818, 'recall': 0.818, 'f1': 0.818, 'i': 3.0, 'repeat_seed': 64.0}\n",
      "################################################## repeat_seed: 64; fold_04 ##################################################\n",
      "\n",
      " input train and test X shape is (99, 22, 21, 5), (11, 22, 21, 5) \n",
      "MultiClassEstimator(batch_norm=False, batch_size=2, conv1_kernel_size=13,\n",
      "                    dense_avf='relu', dense_layers=[128], dropout=0.0,\n",
      "                    epochs=50, gpuid='1', last_avf='softmax',\n",
      "                    loss='categorical_crossentropy', lr=0.0001, metric='ACC',\n",
      "                    monitor='val_loss', n_inception=2,\n",
      "                    name='AggMap MultiClass Estimator', patience=10000,\n",
      "                    random_state=32, verbose=0)\n",
      "roc-auc: 0.944, mcc: 0.389, pres: 0.818, recall: 0.818, f1: 0.818\n",
      "{'acc': 0.818, 'auc': 0.944, 'mcc': 0.389, 'pres': 0.818, 'recall': 0.818, 'f1': 0.818, 'i': 3.0, 'repeat_seed': 64.0}\n",
      "################################################## repeat_seed: 64; fold_05 ##################################################\n",
      "\n",
      " input train and test X shape is (99, 22, 21, 5), (11, 22, 21, 5) \n",
      "MultiClassEstimator(batch_norm=False, batch_size=2, conv1_kernel_size=13,\n",
      "                    dense_avf='relu', dense_layers=[128], dropout=0.0,\n",
      "                    epochs=50, gpuid='1', last_avf='softmax',\n",
      "                    loss='categorical_crossentropy', lr=0.0001, metric='ACC',\n",
      "                    monitor='val_loss', n_inception=2,\n",
      "                    name='AggMap MultiClass Estimator', patience=10000,\n",
      "                    random_state=32, verbose=0)\n",
      "roc-auc: 0.917, mcc: 0.516, pres: 0.855, recall: 0.818, f1: 0.783\n",
      "{'acc': 0.818, 'auc': 0.917, 'mcc': 0.516, 'pres': 0.855, 'recall': 0.818, 'f1': 0.783, 'i': 3.0, 'repeat_seed': 64.0}\n",
      "################################################## repeat_seed: 64; fold_06 ##################################################\n",
      "\n",
      " input train and test X shape is (99, 22, 21, 5), (11, 22, 21, 5) \n",
      "MultiClassEstimator(batch_norm=False, batch_size=2, conv1_kernel_size=13,\n",
      "                    dense_avf='relu', dense_layers=[128], dropout=0.0,\n",
      "                    epochs=50, gpuid='1', last_avf='softmax',\n",
      "                    loss='categorical_crossentropy', lr=0.0001, metric='ACC',\n",
      "                    monitor='val_loss', n_inception=2,\n",
      "                    name='AggMap MultiClass Estimator', patience=10000,\n",
      "                    random_state=32, verbose=0)\n",
      "roc-auc: 0.958, mcc: 0.000, pres: 0.529, recall: 0.727, f1: 0.612\n",
      "{'acc': 0.727, 'auc': 0.958, 'mcc': 0.0, 'pres': 0.529, 'recall': 0.727, 'f1': 0.612, 'i': 3.0, 'repeat_seed': 64.0}\n",
      "################################################## repeat_seed: 64; fold_07 ##################################################\n",
      "\n",
      " input train and test X shape is (99, 22, 21, 5), (11, 22, 21, 5) \n",
      "MultiClassEstimator(batch_norm=False, batch_size=2, conv1_kernel_size=13,\n",
      "                    dense_avf='relu', dense_layers=[128], dropout=0.0,\n",
      "                    epochs=50, gpuid='1', last_avf='softmax',\n",
      "                    loss='categorical_crossentropy', lr=0.0001, metric='ACC',\n",
      "                    monitor='val_loss', n_inception=2,\n",
      "                    name='AggMap MultiClass Estimator', patience=10000,\n",
      "                    random_state=32, verbose=0)\n",
      "roc-auc: 1.000, mcc: 0.770, pres: 0.919, recall: 0.909, f1: 0.903\n",
      "{'acc': 0.909, 'auc': 1.0, 'mcc': 0.77, 'pres': 0.919, 'recall': 0.909, 'f1': 0.903, 'i': 3.0, 'repeat_seed': 64.0}\n",
      "################################################## repeat_seed: 64; fold_08 ##################################################\n",
      "\n",
      " input train and test X shape is (99, 22, 21, 5), (11, 22, 21, 5) \n",
      "MultiClassEstimator(batch_norm=False, batch_size=2, conv1_kernel_size=13,\n",
      "                    dense_avf='relu', dense_layers=[128], dropout=0.0,\n",
      "                    epochs=50, gpuid='1', last_avf='softmax',\n",
      "                    loss='categorical_crossentropy', lr=0.0001, metric='ACC',\n",
      "                    monitor='val_loss', n_inception=2,\n",
      "                    name='AggMap MultiClass Estimator', patience=10000,\n",
      "                    random_state=32, verbose=0)\n",
      "roc-auc: 1.000, mcc: 0.770, pres: 0.919, recall: 0.909, f1: 0.903\n",
      "{'acc': 0.909, 'auc': 1.0, 'mcc': 0.77, 'pres': 0.919, 'recall': 0.909, 'f1': 0.903, 'i': 3.0, 'repeat_seed': 64.0}\n",
      "################################################## repeat_seed: 64; fold_09 ##################################################\n",
      "\n",
      " input train and test X shape is (99, 22, 21, 5), (11, 22, 21, 5) \n",
      "MultiClassEstimator(batch_norm=False, batch_size=2, conv1_kernel_size=13,\n",
      "                    dense_avf='relu', dense_layers=[128], dropout=0.0,\n",
      "                    epochs=50, gpuid='1', last_avf='softmax',\n",
      "                    loss='categorical_crossentropy', lr=0.0001, metric='ACC',\n",
      "                    monitor='val_loss', n_inception=2,\n",
      "                    name='AggMap MultiClass Estimator', patience=10000,\n",
      "                    random_state=32, verbose=0)\n",
      "roc-auc: 1.000, mcc: 0.516, pres: 0.855, recall: 0.818, f1: 0.783\n",
      "{'acc': 0.818, 'auc': 1.0, 'mcc': 0.516, 'pres': 0.855, 'recall': 0.818, 'f1': 0.783, 'i': 3.0, 'repeat_seed': 64.0}\n",
      "################################################## repeat_seed: 128; fold_00 ##################################################\n",
      "\n",
      " input train and test X shape is (99, 22, 21, 5), (11, 22, 21, 5) \n",
      "MultiClassEstimator(batch_norm=False, batch_size=2, conv1_kernel_size=13,\n",
      "                    dense_avf='relu', dense_layers=[128], dropout=0.0,\n",
      "                    epochs=50, gpuid='1', last_avf='softmax',\n",
      "                    loss='categorical_crossentropy', lr=0.0001, metric='ACC',\n",
      "                    monitor='val_loss', n_inception=2,\n",
      "                    name='AggMap MultiClass Estimator', patience=10000,\n",
      "                    random_state=32, verbose=0)\n",
      "roc-auc: 1.000, mcc: 1.000, pres: 1.000, recall: 1.000, f1: 1.000\n",
      "{'acc': 1.0, 'auc': 1.0, 'mcc': 1.0, 'pres': 1.0, 'recall': 1.0, 'f1': 1.0, 'i': 4.0, 'repeat_seed': 128.0}\n",
      "################################################## repeat_seed: 128; fold_01 ##################################################\n",
      "\n",
      " input train and test X shape is (99, 22, 21, 5), (11, 22, 21, 5) \n",
      "MultiClassEstimator(batch_norm=False, batch_size=2, conv1_kernel_size=13,\n",
      "                    dense_avf='relu', dense_layers=[128], dropout=0.0,\n",
      "                    epochs=50, gpuid='1', last_avf='softmax',\n",
      "                    loss='categorical_crossentropy', lr=0.0001, metric='ACC',\n",
      "                    monitor='val_loss', n_inception=2,\n",
      "                    name='AggMap MultiClass Estimator', patience=10000,\n",
      "                    random_state=32, verbose=0)\n",
      "roc-auc: 1.000, mcc: 0.000, pres: 0.669, recall: 0.818, f1: 0.736\n",
      "{'acc': 0.818, 'auc': 1.0, 'mcc': 0.0, 'pres': 0.669, 'recall': 0.818, 'f1': 0.736, 'i': 4.0, 'repeat_seed': 128.0}\n",
      "################################################## repeat_seed: 128; fold_02 ##################################################\n",
      "\n",
      " input train and test X shape is (99, 22, 21, 5), (11, 22, 21, 5) \n",
      "MultiClassEstimator(batch_norm=False, batch_size=2, conv1_kernel_size=13,\n",
      "                    dense_avf='relu', dense_layers=[128], dropout=0.0,\n",
      "                    epochs=50, gpuid='1', last_avf='softmax',\n",
      "                    loss='categorical_crossentropy', lr=0.0001, metric='ACC',\n",
      "                    monitor='val_loss', n_inception=2,\n",
      "                    name='AggMap MultiClass Estimator', patience=10000,\n",
      "                    random_state=32, verbose=0)\n",
      "roc-auc: 0.778, mcc: 0.671, pres: 0.918, recall: 0.909, f1: 0.896\n",
      "{'acc': 0.909, 'auc': 0.778, 'mcc': 0.671, 'pres': 0.918, 'recall': 0.909, 'f1': 0.896, 'i': 4.0, 'repeat_seed': 128.0}\n",
      "################################################## repeat_seed: 128; fold_03 ##################################################\n",
      "\n",
      " input train and test X shape is (99, 22, 21, 5), (11, 22, 21, 5) \n",
      "MultiClassEstimator(batch_norm=False, batch_size=2, conv1_kernel_size=13,\n",
      "                    dense_avf='relu', dense_layers=[128], dropout=0.0,\n",
      "                    epochs=50, gpuid='1', last_avf='softmax',\n",
      "                    loss='categorical_crossentropy', lr=0.0001, metric='ACC',\n",
      "                    monitor='val_loss', n_inception=2,\n",
      "                    name='AggMap MultiClass Estimator', patience=10000,\n",
      "                    random_state=32, verbose=0)\n",
      "roc-auc: 1.000, mcc: 1.000, pres: 1.000, recall: 1.000, f1: 1.000\n",
      "{'acc': 1.0, 'auc': 1.0, 'mcc': 1.0, 'pres': 1.0, 'recall': 1.0, 'f1': 1.0, 'i': 4.0, 'repeat_seed': 128.0}\n",
      "################################################## repeat_seed: 128; fold_04 ##################################################\n",
      "\n",
      " input train and test X shape is (99, 22, 21, 5), (11, 22, 21, 5) \n",
      "MultiClassEstimator(batch_norm=False, batch_size=2, conv1_kernel_size=13,\n",
      "                    dense_avf='relu', dense_layers=[128], dropout=0.0,\n",
      "                    epochs=50, gpuid='1', last_avf='softmax',\n",
      "                    loss='categorical_crossentropy', lr=0.0001, metric='ACC',\n",
      "                    monitor='val_loss', n_inception=2,\n",
      "                    name='AggMap MultiClass Estimator', patience=10000,\n",
      "                    random_state=32, verbose=0)\n",
      "roc-auc: 0.944, mcc: 0.770, pres: 0.939, recall: 0.909, f1: 0.916\n",
      "{'acc': 0.909, 'auc': 0.944, 'mcc': 0.77, 'pres': 0.939, 'recall': 0.909, 'f1': 0.916, 'i': 4.0, 'repeat_seed': 128.0}\n",
      "################################################## repeat_seed: 128; fold_05 ##################################################\n",
      "\n",
      " input train and test X shape is (99, 22, 21, 5), (11, 22, 21, 5) \n",
      "MultiClassEstimator(batch_norm=False, batch_size=2, conv1_kernel_size=13,\n",
      "                    dense_avf='relu', dense_layers=[128], dropout=0.0,\n",
      "                    epochs=50, gpuid='1', last_avf='softmax',\n",
      "                    loss='categorical_crossentropy', lr=0.0001, metric='ACC',\n",
      "                    monitor='val_loss', n_inception=2,\n",
      "                    name='AggMap MultiClass Estimator', patience=10000,\n",
      "                    random_state=32, verbose=0)\n",
      "roc-auc: 0.917, mcc: 0.542, pres: 0.818, recall: 0.818, f1: 0.818\n",
      "{'acc': 0.818, 'auc': 0.917, 'mcc': 0.542, 'pres': 0.818, 'recall': 0.818, 'f1': 0.818, 'i': 4.0, 'repeat_seed': 128.0}\n",
      "################################################## repeat_seed: 128; fold_06 ##################################################\n",
      "\n",
      " input train and test X shape is (99, 22, 21, 5), (11, 22, 21, 5) \n",
      "MultiClassEstimator(batch_norm=False, batch_size=2, conv1_kernel_size=13,\n",
      "                    dense_avf='relu', dense_layers=[128], dropout=0.0,\n",
      "                    epochs=50, gpuid='1', last_avf='softmax',\n",
      "                    loss='categorical_crossentropy', lr=0.0001, metric='ACC',\n",
      "                    monitor='val_loss', n_inception=2,\n",
      "                    name='AggMap MultiClass Estimator', patience=10000,\n",
      "                    random_state=32, verbose=0)\n",
      "roc-auc: 0.875, mcc: 0.542, pres: 0.818, recall: 0.818, f1: 0.818\n",
      "{'acc': 0.818, 'auc': 0.875, 'mcc': 0.542, 'pres': 0.818, 'recall': 0.818, 'f1': 0.818, 'i': 4.0, 'repeat_seed': 128.0}\n",
      "################################################## repeat_seed: 128; fold_07 ##################################################\n",
      "\n",
      " input train and test X shape is (99, 22, 21, 5), (11, 22, 21, 5) \n",
      "MultiClassEstimator(batch_norm=False, batch_size=2, conv1_kernel_size=13,\n",
      "                    dense_avf='relu', dense_layers=[128], dropout=0.0,\n",
      "                    epochs=50, gpuid='1', last_avf='softmax',\n",
      "                    loss='categorical_crossentropy', lr=0.0001, metric='ACC',\n",
      "                    monitor='val_loss', n_inception=2,\n",
      "                    name='AggMap MultiClass Estimator', patience=10000,\n",
      "                    random_state=32, verbose=0)\n",
      "roc-auc: 0.958, mcc: 0.516, pres: 0.855, recall: 0.818, f1: 0.783\n",
      "{'acc': 0.818, 'auc': 0.958, 'mcc': 0.516, 'pres': 0.855, 'recall': 0.818, 'f1': 0.783, 'i': 4.0, 'repeat_seed': 128.0}\n",
      "################################################## repeat_seed: 128; fold_08 ##################################################\n",
      "\n",
      " input train and test X shape is (99, 22, 21, 5), (11, 22, 21, 5) \n",
      "MultiClassEstimator(batch_norm=False, batch_size=2, conv1_kernel_size=13,\n",
      "                    dense_avf='relu', dense_layers=[128], dropout=0.0,\n",
      "                    epochs=50, gpuid='1', last_avf='softmax',\n",
      "                    loss='categorical_crossentropy', lr=0.0001, metric='ACC',\n",
      "                    monitor='val_loss', n_inception=2,\n",
      "                    name='AggMap MultiClass Estimator', patience=10000,\n",
      "                    random_state=32, verbose=0)\n",
      "roc-auc: 1.000, mcc: 0.516, pres: 0.855, recall: 0.818, f1: 0.783\n",
      "{'acc': 0.818, 'auc': 1.0, 'mcc': 0.516, 'pres': 0.855, 'recall': 0.818, 'f1': 0.783, 'i': 4.0, 'repeat_seed': 128.0}\n",
      "################################################## repeat_seed: 128; fold_09 ##################################################\n",
      "\n",
      " input train and test X shape is (99, 22, 21, 5), (11, 22, 21, 5) \n",
      "MultiClassEstimator(batch_norm=False, batch_size=2, conv1_kernel_size=13,\n",
      "                    dense_avf='relu', dense_layers=[128], dropout=0.0,\n",
      "                    epochs=50, gpuid='1', last_avf='softmax',\n",
      "                    loss='categorical_crossentropy', lr=0.0001, metric='ACC',\n",
      "                    monitor='val_loss', n_inception=2,\n",
      "                    name='AggMap MultiClass Estimator', patience=10000,\n",
      "                    random_state=32, verbose=0)\n",
      "roc-auc: 1.000, mcc: 1.000, pres: 1.000, recall: 1.000, f1: 1.000\n",
      "{'acc': 1.0, 'auc': 1.0, 'mcc': 1.0, 'pres': 1.0, 'recall': 1.0, 'f1': 1.0, 'i': 4.0, 'repeat_seed': 128.0}\n",
      "################################################## repeat_seed: 256; fold_00 ##################################################\n",
      "\n",
      " input train and test X shape is (99, 22, 21, 5), (11, 22, 21, 5) \n",
      "MultiClassEstimator(batch_norm=False, batch_size=2, conv1_kernel_size=13,\n",
      "                    dense_avf='relu', dense_layers=[128], dropout=0.0,\n",
      "                    epochs=50, gpuid='1', last_avf='softmax',\n",
      "                    loss='categorical_crossentropy', lr=0.0001, metric='ACC',\n",
      "                    monitor='val_loss', n_inception=2,\n",
      "                    name='AggMap MultiClass Estimator', patience=10000,\n",
      "                    random_state=32, verbose=0)\n",
      "roc-auc: 0.944, mcc: 0.389, pres: 0.818, recall: 0.818, f1: 0.818\n",
      "{'acc': 0.818, 'auc': 0.944, 'mcc': 0.389, 'pres': 0.818, 'recall': 0.818, 'f1': 0.818, 'i': 5.0, 'repeat_seed': 256.0}\n",
      "################################################## repeat_seed: 256; fold_01 ##################################################\n",
      "\n",
      " input train and test X shape is (99, 22, 21, 5), (11, 22, 21, 5) \n",
      "MultiClassEstimator(batch_norm=False, batch_size=2, conv1_kernel_size=13,\n",
      "                    dense_avf='relu', dense_layers=[128], dropout=0.0,\n",
      "                    epochs=50, gpuid='1', last_avf='softmax',\n",
      "                    loss='categorical_crossentropy', lr=0.0001, metric='ACC',\n",
      "                    monitor='val_loss', n_inception=2,\n",
      "                    name='AggMap MultiClass Estimator', patience=10000,\n",
      "                    random_state=32, verbose=0)\n",
      "roc-auc: 1.000, mcc: 0.671, pres: 0.918, recall: 0.909, f1: 0.896\n",
      "{'acc': 0.909, 'auc': 1.0, 'mcc': 0.671, 'pres': 0.918, 'recall': 0.909, 'f1': 0.896, 'i': 5.0, 'repeat_seed': 256.0}\n",
      "################################################## repeat_seed: 256; fold_02 ##################################################\n",
      "\n",
      " input train and test X shape is (99, 22, 21, 5), (11, 22, 21, 5) \n",
      "MultiClassEstimator(batch_norm=False, batch_size=2, conv1_kernel_size=13,\n",
      "                    dense_avf='relu', dense_layers=[128], dropout=0.0,\n",
      "                    epochs=50, gpuid='1', last_avf='softmax',\n",
      "                    loss='categorical_crossentropy', lr=0.0001, metric='ACC',\n",
      "                    monitor='val_loss', n_inception=2,\n",
      "                    name='AggMap MultiClass Estimator', patience=10000,\n",
      "                    random_state=32, verbose=0)\n",
      "roc-auc: 0.944, mcc: 0.671, pres: 0.918, recall: 0.909, f1: 0.896\n",
      "{'acc': 0.909, 'auc': 0.944, 'mcc': 0.671, 'pres': 0.918, 'recall': 0.909, 'f1': 0.896, 'i': 5.0, 'repeat_seed': 256.0}\n",
      "################################################## repeat_seed: 256; fold_03 ##################################################\n",
      "\n",
      " input train and test X shape is (99, 22, 21, 5), (11, 22, 21, 5) \n",
      "MultiClassEstimator(batch_norm=False, batch_size=2, conv1_kernel_size=13,\n",
      "                    dense_avf='relu', dense_layers=[128], dropout=0.0,\n",
      "                    epochs=50, gpuid='1', last_avf='softmax',\n",
      "                    loss='categorical_crossentropy', lr=0.0001, metric='ACC',\n",
      "                    monitor='val_loss', n_inception=2,\n",
      "                    name='AggMap MultiClass Estimator', patience=10000,\n",
      "                    random_state=32, verbose=0)\n",
      "roc-auc: 1.000, mcc: 1.000, pres: 1.000, recall: 1.000, f1: 1.000\n",
      "{'acc': 1.0, 'auc': 1.0, 'mcc': 1.0, 'pres': 1.0, 'recall': 1.0, 'f1': 1.0, 'i': 5.0, 'repeat_seed': 256.0}\n",
      "################################################## repeat_seed: 256; fold_04 ##################################################\n",
      "\n",
      " input train and test X shape is (99, 22, 21, 5), (11, 22, 21, 5) \n",
      "MultiClassEstimator(batch_norm=False, batch_size=2, conv1_kernel_size=13,\n",
      "                    dense_avf='relu', dense_layers=[128], dropout=0.0,\n",
      "                    epochs=50, gpuid='1', last_avf='softmax',\n",
      "                    loss='categorical_crossentropy', lr=0.0001, metric='ACC',\n",
      "                    monitor='val_loss', n_inception=2,\n",
      "                    name='AggMap MultiClass Estimator', patience=10000,\n",
      "                    random_state=32, verbose=0)\n",
      "roc-auc: 1.000, mcc: 0.671, pres: 0.918, recall: 0.909, f1: 0.896\n",
      "{'acc': 0.909, 'auc': 1.0, 'mcc': 0.671, 'pres': 0.918, 'recall': 0.909, 'f1': 0.896, 'i': 5.0, 'repeat_seed': 256.0}\n",
      "################################################## repeat_seed: 256; fold_05 ##################################################\n",
      "\n",
      " input train and test X shape is (99, 22, 21, 5), (11, 22, 21, 5) \n",
      "MultiClassEstimator(batch_norm=False, batch_size=2, conv1_kernel_size=13,\n",
      "                    dense_avf='relu', dense_layers=[128], dropout=0.0,\n",
      "                    epochs=50, gpuid='1', last_avf='softmax',\n",
      "                    loss='categorical_crossentropy', lr=0.0001, metric='ACC',\n",
      "                    monitor='val_loss', n_inception=2,\n",
      "                    name='AggMap MultiClass Estimator', patience=10000,\n",
      "                    random_state=32, verbose=0)\n",
      "roc-auc: 0.875, mcc: 0.542, pres: 0.818, recall: 0.818, f1: 0.818\n",
      "{'acc': 0.818, 'auc': 0.875, 'mcc': 0.542, 'pres': 0.818, 'recall': 0.818, 'f1': 0.818, 'i': 5.0, 'repeat_seed': 256.0}\n",
      "################################################## repeat_seed: 256; fold_06 ##################################################\n",
      "\n",
      " input train and test X shape is (99, 22, 21, 5), (11, 22, 21, 5) \n",
      "MultiClassEstimator(batch_norm=False, batch_size=2, conv1_kernel_size=13,\n",
      "                    dense_avf='relu', dense_layers=[128], dropout=0.0,\n",
      "                    epochs=50, gpuid='1', last_avf='softmax',\n",
      "                    loss='categorical_crossentropy', lr=0.0001, metric='ACC',\n",
      "                    monitor='val_loss', n_inception=2,\n",
      "                    name='AggMap MultiClass Estimator', patience=10000,\n",
      "                    random_state=32, verbose=0)\n",
      "roc-auc: 0.667, mcc: 0.542, pres: 0.818, recall: 0.818, f1: 0.818\n",
      "{'acc': 0.818, 'auc': 0.667, 'mcc': 0.542, 'pres': 0.818, 'recall': 0.818, 'f1': 0.818, 'i': 5.0, 'repeat_seed': 256.0}\n",
      "################################################## repeat_seed: 256; fold_07 ##################################################\n",
      "\n",
      " input train and test X shape is (99, 22, 21, 5), (11, 22, 21, 5) \n",
      "MultiClassEstimator(batch_norm=False, batch_size=2, conv1_kernel_size=13,\n",
      "                    dense_avf='relu', dense_layers=[128], dropout=0.0,\n",
      "                    epochs=50, gpuid='1', last_avf='softmax',\n",
      "                    loss='categorical_crossentropy', lr=0.0001, metric='ACC',\n",
      "                    monitor='val_loss', n_inception=2,\n",
      "                    name='AggMap MultiClass Estimator', patience=10000,\n",
      "                    random_state=32, verbose=0)\n",
      "roc-auc: 1.000, mcc: 0.000, pres: 0.529, recall: 0.727, f1: 0.612\n",
      "{'acc': 0.727, 'auc': 1.0, 'mcc': 0.0, 'pres': 0.529, 'recall': 0.727, 'f1': 0.612, 'i': 5.0, 'repeat_seed': 256.0}\n",
      "################################################## repeat_seed: 256; fold_08 ##################################################\n",
      "\n",
      " input train and test X shape is (99, 22, 21, 5), (11, 22, 21, 5) \n",
      "MultiClassEstimator(batch_norm=False, batch_size=2, conv1_kernel_size=13,\n",
      "                    dense_avf='relu', dense_layers=[128], dropout=0.0,\n",
      "                    epochs=50, gpuid='1', last_avf='softmax',\n",
      "                    loss='categorical_crossentropy', lr=0.0001, metric='ACC',\n",
      "                    monitor='val_loss', n_inception=2,\n",
      "                    name='AggMap MultiClass Estimator', patience=10000,\n",
      "                    random_state=32, verbose=0)\n",
      "roc-auc: 1.000, mcc: 1.000, pres: 1.000, recall: 1.000, f1: 1.000\n",
      "{'acc': 1.0, 'auc': 1.0, 'mcc': 1.0, 'pres': 1.0, 'recall': 1.0, 'f1': 1.0, 'i': 5.0, 'repeat_seed': 256.0}\n",
      "################################################## repeat_seed: 256; fold_09 ##################################################\n",
      "\n",
      " input train and test X shape is (99, 22, 21, 5), (11, 22, 21, 5) \n",
      "MultiClassEstimator(batch_norm=False, batch_size=2, conv1_kernel_size=13,\n",
      "                    dense_avf='relu', dense_layers=[128], dropout=0.0,\n",
      "                    epochs=50, gpuid='1', last_avf='softmax',\n",
      "                    loss='categorical_crossentropy', lr=0.0001, metric='ACC',\n",
      "                    monitor='val_loss', n_inception=2,\n",
      "                    name='AggMap MultiClass Estimator', patience=10000,\n",
      "                    random_state=32, verbose=0)\n",
      "roc-auc: 0.958, mcc: 0.516, pres: 0.855, recall: 0.818, f1: 0.783\n",
      "{'acc': 0.818, 'auc': 0.958, 'mcc': 0.516, 'pres': 0.855, 'recall': 0.818, 'f1': 0.783, 'i': 5.0, 'repeat_seed': 256.0}\n",
      "################################################## repeat_seed: 1024; fold_00 ##################################################\n",
      "\n",
      " input train and test X shape is (99, 22, 21, 5), (11, 22, 21, 5) \n",
      "MultiClassEstimator(batch_norm=False, batch_size=2, conv1_kernel_size=13,\n",
      "                    dense_avf='relu', dense_layers=[128], dropout=0.0,\n",
      "                    epochs=50, gpuid='1', last_avf='softmax',\n",
      "                    loss='categorical_crossentropy', lr=0.0001, metric='ACC',\n",
      "                    monitor='val_loss', n_inception=2,\n",
      "                    name='AggMap MultiClass Estimator', patience=10000,\n",
      "                    random_state=32, verbose=0)\n",
      "roc-auc: 1.000, mcc: 0.671, pres: 0.918, recall: 0.909, f1: 0.896\n",
      "{'acc': 0.909, 'auc': 1.0, 'mcc': 0.671, 'pres': 0.918, 'recall': 0.909, 'f1': 0.896, 'i': 6.0, 'repeat_seed': 1024.0}\n",
      "################################################## repeat_seed: 1024; fold_01 ##################################################\n",
      "\n",
      " input train and test X shape is (99, 22, 21, 5), (11, 22, 21, 5) \n",
      "MultiClassEstimator(batch_norm=False, batch_size=2, conv1_kernel_size=13,\n",
      "                    dense_avf='relu', dense_layers=[128], dropout=0.0,\n",
      "                    epochs=50, gpuid='1', last_avf='softmax',\n",
      "                    loss='categorical_crossentropy', lr=0.0001, metric='ACC',\n",
      "                    monitor='val_loss', n_inception=2,\n",
      "                    name='AggMap MultiClass Estimator', patience=10000,\n",
      "                    random_state=32, verbose=0)\n",
      "roc-auc: 1.000, mcc: 1.000, pres: 1.000, recall: 1.000, f1: 1.000\n",
      "{'acc': 1.0, 'auc': 1.0, 'mcc': 1.0, 'pres': 1.0, 'recall': 1.0, 'f1': 1.0, 'i': 6.0, 'repeat_seed': 1024.0}\n",
      "################################################## repeat_seed: 1024; fold_02 ##################################################\n",
      "\n",
      " input train and test X shape is (99, 22, 21, 5), (11, 22, 21, 5) \n",
      "MultiClassEstimator(batch_norm=False, batch_size=2, conv1_kernel_size=13,\n",
      "                    dense_avf='relu', dense_layers=[128], dropout=0.0,\n",
      "                    epochs=50, gpuid='1', last_avf='softmax',\n",
      "                    loss='categorical_crossentropy', lr=0.0001, metric='ACC',\n",
      "                    monitor='val_loss', n_inception=2,\n",
      "                    name='AggMap MultiClass Estimator', patience=10000,\n",
      "                    random_state=32, verbose=0)\n",
      "roc-auc: 1.000, mcc: 0.000, pres: 0.669, recall: 0.818, f1: 0.736\n",
      "{'acc': 0.818, 'auc': 1.0, 'mcc': 0.0, 'pres': 0.669, 'recall': 0.818, 'f1': 0.736, 'i': 6.0, 'repeat_seed': 1024.0}\n",
      "################################################## repeat_seed: 1024; fold_03 ##################################################\n",
      "\n",
      " input train and test X shape is (99, 22, 21, 5), (11, 22, 21, 5) \n",
      "MultiClassEstimator(batch_norm=False, batch_size=2, conv1_kernel_size=13,\n",
      "                    dense_avf='relu', dense_layers=[128], dropout=0.0,\n",
      "                    epochs=50, gpuid='1', last_avf='softmax',\n",
      "                    loss='categorical_crossentropy', lr=0.0001, metric='ACC',\n",
      "                    monitor='val_loss', n_inception=2,\n",
      "                    name='AggMap MultiClass Estimator', patience=10000,\n",
      "                    random_state=32, verbose=0)\n",
      "roc-auc: 1.000, mcc: 0.671, pres: 0.918, recall: 0.909, f1: 0.896\n",
      "{'acc': 0.909, 'auc': 1.0, 'mcc': 0.671, 'pres': 0.918, 'recall': 0.909, 'f1': 0.896, 'i': 6.0, 'repeat_seed': 1024.0}\n",
      "################################################## repeat_seed: 1024; fold_04 ##################################################\n",
      "\n",
      " input train and test X shape is (99, 22, 21, 5), (11, 22, 21, 5) \n",
      "MultiClassEstimator(batch_norm=False, batch_size=2, conv1_kernel_size=13,\n",
      "                    dense_avf='relu', dense_layers=[128], dropout=0.0,\n",
      "                    epochs=50, gpuid='1', last_avf='softmax',\n",
      "                    loss='categorical_crossentropy', lr=0.0001, metric='ACC',\n",
      "                    monitor='val_loss', n_inception=2,\n",
      "                    name='AggMap MultiClass Estimator', patience=10000,\n",
      "                    random_state=32, verbose=0)\n",
      "roc-auc: 0.944, mcc: 0.671, pres: 0.918, recall: 0.909, f1: 0.896\n",
      "{'acc': 0.909, 'auc': 0.944, 'mcc': 0.671, 'pres': 0.918, 'recall': 0.909, 'f1': 0.896, 'i': 6.0, 'repeat_seed': 1024.0}\n",
      "################################################## repeat_seed: 1024; fold_05 ##################################################\n",
      "\n",
      " input train and test X shape is (99, 22, 21, 5), (11, 22, 21, 5) \n",
      "MultiClassEstimator(batch_norm=False, batch_size=2, conv1_kernel_size=13,\n",
      "                    dense_avf='relu', dense_layers=[128], dropout=0.0,\n",
      "                    epochs=50, gpuid='1', last_avf='softmax',\n",
      "                    loss='categorical_crossentropy', lr=0.0001, metric='ACC',\n",
      "                    monitor='val_loss', n_inception=2,\n",
      "                    name='AggMap MultiClass Estimator', patience=10000,\n",
      "                    random_state=32, verbose=0)\n",
      "roc-auc: 1.000, mcc: 0.770, pres: 0.919, recall: 0.909, f1: 0.903\n",
      "{'acc': 0.909, 'auc': 1.0, 'mcc': 0.77, 'pres': 0.919, 'recall': 0.909, 'f1': 0.903, 'i': 6.0, 'repeat_seed': 1024.0}\n",
      "################################################## repeat_seed: 1024; fold_06 ##################################################\n",
      "\n",
      " input train and test X shape is (99, 22, 21, 5), (11, 22, 21, 5) \n",
      "MultiClassEstimator(batch_norm=False, batch_size=2, conv1_kernel_size=13,\n",
      "                    dense_avf='relu', dense_layers=[128], dropout=0.0,\n",
      "                    epochs=50, gpuid='1', last_avf='softmax',\n",
      "                    loss='categorical_crossentropy', lr=0.0001, metric='ACC',\n",
      "                    monitor='val_loss', n_inception=2,\n",
      "                    name='AggMap MultiClass Estimator', patience=10000,\n",
      "                    random_state=32, verbose=0)\n",
      "roc-auc: 0.792, mcc: 0.516, pres: 0.855, recall: 0.818, f1: 0.783\n",
      "{'acc': 0.818, 'auc': 0.792, 'mcc': 0.516, 'pres': 0.855, 'recall': 0.818, 'f1': 0.783, 'i': 6.0, 'repeat_seed': 1024.0}\n",
      "################################################## repeat_seed: 1024; fold_07 ##################################################\n",
      "\n",
      " input train and test X shape is (99, 22, 21, 5), (11, 22, 21, 5) \n",
      "MultiClassEstimator(batch_norm=False, batch_size=2, conv1_kernel_size=13,\n",
      "                    dense_avf='relu', dense_layers=[128], dropout=0.0,\n",
      "                    epochs=50, gpuid='1', last_avf='softmax',\n",
      "                    loss='categorical_crossentropy', lr=0.0001, metric='ACC',\n",
      "                    monitor='val_loss', n_inception=2,\n",
      "                    name='AggMap MultiClass Estimator', patience=10000,\n",
      "                    random_state=32, verbose=0)\n",
      "roc-auc: 0.875, mcc: 0.542, pres: 0.818, recall: 0.818, f1: 0.818\n",
      "{'acc': 0.818, 'auc': 0.875, 'mcc': 0.542, 'pres': 0.818, 'recall': 0.818, 'f1': 0.818, 'i': 6.0, 'repeat_seed': 1024.0}\n",
      "################################################## repeat_seed: 1024; fold_08 ##################################################\n",
      "\n",
      " input train and test X shape is (99, 22, 21, 5), (11, 22, 21, 5) \n",
      "MultiClassEstimator(batch_norm=False, batch_size=2, conv1_kernel_size=13,\n",
      "                    dense_avf='relu', dense_layers=[128], dropout=0.0,\n",
      "                    epochs=50, gpuid='1', last_avf='softmax',\n",
      "                    loss='categorical_crossentropy', lr=0.0001, metric='ACC',\n",
      "                    monitor='val_loss', n_inception=2,\n",
      "                    name='AggMap MultiClass Estimator', patience=10000,\n",
      "                    random_state=32, verbose=0)\n",
      "roc-auc: 0.917, mcc: 0.542, pres: 0.818, recall: 0.818, f1: 0.818\n",
      "{'acc': 0.818, 'auc': 0.917, 'mcc': 0.542, 'pres': 0.818, 'recall': 0.818, 'f1': 0.818, 'i': 6.0, 'repeat_seed': 1024.0}\n",
      "################################################## repeat_seed: 1024; fold_09 ##################################################\n",
      "\n",
      " input train and test X shape is (99, 22, 21, 5), (11, 22, 21, 5) \n",
      "MultiClassEstimator(batch_norm=False, batch_size=2, conv1_kernel_size=13,\n",
      "                    dense_avf='relu', dense_layers=[128], dropout=0.0,\n",
      "                    epochs=50, gpuid='1', last_avf='softmax',\n",
      "                    loss='categorical_crossentropy', lr=0.0001, metric='ACC',\n",
      "                    monitor='val_loss', n_inception=2,\n",
      "                    name='AggMap MultiClass Estimator', patience=10000,\n",
      "                    random_state=32, verbose=0)\n",
      "roc-auc: 0.875, mcc: 0.542, pres: 0.818, recall: 0.818, f1: 0.818\n",
      "{'acc': 0.818, 'auc': 0.875, 'mcc': 0.542, 'pres': 0.818, 'recall': 0.818, 'f1': 0.818, 'i': 6.0, 'repeat_seed': 1024.0}\n",
      "################################################## repeat_seed: 2048; fold_00 ##################################################\n",
      "\n",
      " input train and test X shape is (99, 22, 21, 5), (11, 22, 21, 5) \n",
      "MultiClassEstimator(batch_norm=False, batch_size=2, conv1_kernel_size=13,\n",
      "                    dense_avf='relu', dense_layers=[128], dropout=0.0,\n",
      "                    epochs=50, gpuid='1', last_avf='softmax',\n",
      "                    loss='categorical_crossentropy', lr=0.0001, metric='ACC',\n",
      "                    monitor='val_loss', n_inception=2,\n",
      "                    name='AggMap MultiClass Estimator', patience=10000,\n",
      "                    random_state=32, verbose=0)\n",
      "roc-auc: 0.944, mcc: 0.671, pres: 0.918, recall: 0.909, f1: 0.896\n",
      "{'acc': 0.909, 'auc': 0.944, 'mcc': 0.671, 'pres': 0.918, 'recall': 0.909, 'f1': 0.896, 'i': 7.0, 'repeat_seed': 2048.0}\n",
      "################################################## repeat_seed: 2048; fold_01 ##################################################\n",
      "\n",
      " input train and test X shape is (99, 22, 21, 5), (11, 22, 21, 5) \n",
      "MultiClassEstimator(batch_norm=False, batch_size=2, conv1_kernel_size=13,\n",
      "                    dense_avf='relu', dense_layers=[128], dropout=0.0,\n",
      "                    epochs=50, gpuid='1', last_avf='softmax',\n",
      "                    loss='categorical_crossentropy', lr=0.0001, metric='ACC',\n",
      "                    monitor='val_loss', n_inception=2,\n",
      "                    name='AggMap MultiClass Estimator', patience=10000,\n",
      "                    random_state=32, verbose=0)\n",
      "roc-auc: 0.833, mcc: 0.389, pres: 0.818, recall: 0.818, f1: 0.818\n",
      "{'acc': 0.818, 'auc': 0.833, 'mcc': 0.389, 'pres': 0.818, 'recall': 0.818, 'f1': 0.818, 'i': 7.0, 'repeat_seed': 2048.0}\n",
      "################################################## repeat_seed: 2048; fold_02 ##################################################\n",
      "\n",
      " input train and test X shape is (99, 22, 21, 5), (11, 22, 21, 5) \n",
      "MultiClassEstimator(batch_norm=False, batch_size=2, conv1_kernel_size=13,\n",
      "                    dense_avf='relu', dense_layers=[128], dropout=0.0,\n",
      "                    epochs=50, gpuid='1', last_avf='softmax',\n",
      "                    loss='categorical_crossentropy', lr=0.0001, metric='ACC',\n",
      "                    monitor='val_loss', n_inception=2,\n",
      "                    name='AggMap MultiClass Estimator', patience=10000,\n",
      "                    random_state=32, verbose=0)\n",
      "roc-auc: 1.000, mcc: 0.000, pres: 0.669, recall: 0.818, f1: 0.736\n",
      "{'acc': 0.818, 'auc': 1.0, 'mcc': 0.0, 'pres': 0.669, 'recall': 0.818, 'f1': 0.736, 'i': 7.0, 'repeat_seed': 2048.0}\n",
      "################################################## repeat_seed: 2048; fold_03 ##################################################\n",
      "\n",
      " input train and test X shape is (99, 22, 21, 5), (11, 22, 21, 5) \n",
      "MultiClassEstimator(batch_norm=False, batch_size=2, conv1_kernel_size=13,\n",
      "                    dense_avf='relu', dense_layers=[128], dropout=0.0,\n",
      "                    epochs=50, gpuid='1', last_avf='softmax',\n",
      "                    loss='categorical_crossentropy', lr=0.0001, metric='ACC',\n",
      "                    monitor='val_loss', n_inception=2,\n",
      "                    name='AggMap MultiClass Estimator', patience=10000,\n",
      "                    random_state=32, verbose=0)\n",
      "roc-auc: 0.889, mcc: 0.770, pres: 0.939, recall: 0.909, f1: 0.916\n",
      "{'acc': 0.909, 'auc': 0.889, 'mcc': 0.77, 'pres': 0.939, 'recall': 0.909, 'f1': 0.916, 'i': 7.0, 'repeat_seed': 2048.0}\n",
      "################################################## repeat_seed: 2048; fold_04 ##################################################\n",
      "\n",
      " input train and test X shape is (99, 22, 21, 5), (11, 22, 21, 5) \n",
      "MultiClassEstimator(batch_norm=False, batch_size=2, conv1_kernel_size=13,\n",
      "                    dense_avf='relu', dense_layers=[128], dropout=0.0,\n",
      "                    epochs=50, gpuid='1', last_avf='softmax',\n",
      "                    loss='categorical_crossentropy', lr=0.0001, metric='ACC',\n",
      "                    monitor='val_loss', n_inception=2,\n",
      "                    name='AggMap MultiClass Estimator', patience=10000,\n",
      "                    random_state=32, verbose=0)\n",
      "roc-auc: 0.944, mcc: 0.671, pres: 0.918, recall: 0.909, f1: 0.896\n",
      "{'acc': 0.909, 'auc': 0.944, 'mcc': 0.671, 'pres': 0.918, 'recall': 0.909, 'f1': 0.896, 'i': 7.0, 'repeat_seed': 2048.0}\n",
      "################################################## repeat_seed: 2048; fold_05 ##################################################\n",
      "\n",
      " input train and test X shape is (99, 22, 21, 5), (11, 22, 21, 5) \n",
      "MultiClassEstimator(batch_norm=False, batch_size=2, conv1_kernel_size=13,\n",
      "                    dense_avf='relu', dense_layers=[128], dropout=0.0,\n",
      "                    epochs=50, gpuid='1', last_avf='softmax',\n",
      "                    loss='categorical_crossentropy', lr=0.0001, metric='ACC',\n",
      "                    monitor='val_loss', n_inception=2,\n",
      "                    name='AggMap MultiClass Estimator', patience=10000,\n",
      "                    random_state=32, verbose=0)\n",
      "roc-auc: 0.750, mcc: 0.770, pres: 0.919, recall: 0.909, f1: 0.903\n",
      "{'acc': 0.909, 'auc': 0.75, 'mcc': 0.77, 'pres': 0.919, 'recall': 0.909, 'f1': 0.903, 'i': 7.0, 'repeat_seed': 2048.0}\n",
      "################################################## repeat_seed: 2048; fold_06 ##################################################\n",
      "\n",
      " input train and test X shape is (99, 22, 21, 5), (11, 22, 21, 5) \n",
      "MultiClassEstimator(batch_norm=False, batch_size=2, conv1_kernel_size=13,\n",
      "                    dense_avf='relu', dense_layers=[128], dropout=0.0,\n",
      "                    epochs=50, gpuid='1', last_avf='softmax',\n",
      "                    loss='categorical_crossentropy', lr=0.0001, metric='ACC',\n",
      "                    monitor='val_loss', n_inception=2,\n",
      "                    name='AggMap MultiClass Estimator', patience=10000,\n",
      "                    random_state=32, verbose=0)\n",
      "roc-auc: 1.000, mcc: 0.516, pres: 0.855, recall: 0.818, f1: 0.783\n",
      "{'acc': 0.818, 'auc': 1.0, 'mcc': 0.516, 'pres': 0.855, 'recall': 0.818, 'f1': 0.783, 'i': 7.0, 'repeat_seed': 2048.0}\n",
      "################################################## repeat_seed: 2048; fold_07 ##################################################\n",
      "\n",
      " input train and test X shape is (99, 22, 21, 5), (11, 22, 21, 5) \n",
      "MultiClassEstimator(batch_norm=False, batch_size=2, conv1_kernel_size=13,\n",
      "                    dense_avf='relu', dense_layers=[128], dropout=0.0,\n",
      "                    epochs=50, gpuid='1', last_avf='softmax',\n",
      "                    loss='categorical_crossentropy', lr=0.0001, metric='ACC',\n",
      "                    monitor='val_loss', n_inception=2,\n",
      "                    name='AggMap MultiClass Estimator', patience=10000,\n",
      "                    random_state=32, verbose=0)\n",
      "roc-auc: 1.000, mcc: 1.000, pres: 1.000, recall: 1.000, f1: 1.000\n",
      "{'acc': 1.0, 'auc': 1.0, 'mcc': 1.0, 'pres': 1.0, 'recall': 1.0, 'f1': 1.0, 'i': 7.0, 'repeat_seed': 2048.0}\n",
      "################################################## repeat_seed: 2048; fold_08 ##################################################\n",
      "\n",
      " input train and test X shape is (99, 22, 21, 5), (11, 22, 21, 5) \n",
      "MultiClassEstimator(batch_norm=False, batch_size=2, conv1_kernel_size=13,\n",
      "                    dense_avf='relu', dense_layers=[128], dropout=0.0,\n",
      "                    epochs=50, gpuid='1', last_avf='softmax',\n",
      "                    loss='categorical_crossentropy', lr=0.0001, metric='ACC',\n",
      "                    monitor='val_loss', n_inception=2,\n",
      "                    name='AggMap MultiClass Estimator', patience=10000,\n",
      "                    random_state=32, verbose=0)\n",
      "roc-auc: 0.875, mcc: 0.542, pres: 0.818, recall: 0.818, f1: 0.818\n",
      "{'acc': 0.818, 'auc': 0.875, 'mcc': 0.542, 'pres': 0.818, 'recall': 0.818, 'f1': 0.818, 'i': 7.0, 'repeat_seed': 2048.0}\n",
      "################################################## repeat_seed: 2048; fold_09 ##################################################\n",
      "\n",
      " input train and test X shape is (99, 22, 21, 5), (11, 22, 21, 5) \n",
      "MultiClassEstimator(batch_norm=False, batch_size=2, conv1_kernel_size=13,\n",
      "                    dense_avf='relu', dense_layers=[128], dropout=0.0,\n",
      "                    epochs=50, gpuid='1', last_avf='softmax',\n",
      "                    loss='categorical_crossentropy', lr=0.0001, metric='ACC',\n",
      "                    monitor='val_loss', n_inception=2,\n",
      "                    name='AggMap MultiClass Estimator', patience=10000,\n",
      "                    random_state=32, verbose=0)\n",
      "roc-auc: 1.000, mcc: 0.516, pres: 0.855, recall: 0.818, f1: 0.783\n",
      "{'acc': 0.818, 'auc': 1.0, 'mcc': 0.516, 'pres': 0.855, 'recall': 0.818, 'f1': 0.783, 'i': 7.0, 'repeat_seed': 2048.0}\n",
      "################################################## repeat_seed: 4096; fold_00 ##################################################\n",
      "\n",
      " input train and test X shape is (99, 22, 21, 5), (11, 22, 21, 5) \n",
      "MultiClassEstimator(batch_norm=False, batch_size=2, conv1_kernel_size=13,\n",
      "                    dense_avf='relu', dense_layers=[128], dropout=0.0,\n",
      "                    epochs=50, gpuid='1', last_avf='softmax',\n",
      "                    loss='categorical_crossentropy', lr=0.0001, metric='ACC',\n",
      "                    monitor='val_loss', n_inception=2,\n",
      "                    name='AggMap MultiClass Estimator', patience=10000,\n",
      "                    random_state=32, verbose=0)\n",
      "roc-auc: 1.000, mcc: 1.000, pres: 1.000, recall: 1.000, f1: 1.000\n",
      "{'acc': 1.0, 'auc': 1.0, 'mcc': 1.0, 'pres': 1.0, 'recall': 1.0, 'f1': 1.0, 'i': 8.0, 'repeat_seed': 4096.0}\n",
      "################################################## repeat_seed: 4096; fold_01 ##################################################\n",
      "\n",
      " input train and test X shape is (99, 22, 21, 5), (11, 22, 21, 5) \n",
      "MultiClassEstimator(batch_norm=False, batch_size=2, conv1_kernel_size=13,\n",
      "                    dense_avf='relu', dense_layers=[128], dropout=0.0,\n",
      "                    epochs=50, gpuid='1', last_avf='softmax',\n",
      "                    loss='categorical_crossentropy', lr=0.0001, metric='ACC',\n",
      "                    monitor='val_loss', n_inception=2,\n",
      "                    name='AggMap MultiClass Estimator', patience=10000,\n",
      "                    random_state=32, verbose=0)\n",
      "roc-auc: 1.000, mcc: 1.000, pres: 1.000, recall: 1.000, f1: 1.000\n",
      "{'acc': 1.0, 'auc': 1.0, 'mcc': 1.0, 'pres': 1.0, 'recall': 1.0, 'f1': 1.0, 'i': 8.0, 'repeat_seed': 4096.0}\n",
      "################################################## repeat_seed: 4096; fold_02 ##################################################\n",
      "\n",
      " input train and test X shape is (99, 22, 21, 5), (11, 22, 21, 5) \n",
      "MultiClassEstimator(batch_norm=False, batch_size=2, conv1_kernel_size=13,\n",
      "                    dense_avf='relu', dense_layers=[128], dropout=0.0,\n",
      "                    epochs=50, gpuid='1', last_avf='softmax',\n",
      "                    loss='categorical_crossentropy', lr=0.0001, metric='ACC',\n",
      "                    monitor='val_loss', n_inception=2,\n",
      "                    name='AggMap MultiClass Estimator', patience=10000,\n",
      "                    random_state=32, verbose=0)\n",
      "roc-auc: 1.000, mcc: 0.671, pres: 0.918, recall: 0.909, f1: 0.896\n",
      "{'acc': 0.909, 'auc': 1.0, 'mcc': 0.671, 'pres': 0.918, 'recall': 0.909, 'f1': 0.896, 'i': 8.0, 'repeat_seed': 4096.0}\n",
      "################################################## repeat_seed: 4096; fold_03 ##################################################\n",
      "\n",
      " input train and test X shape is (99, 22, 21, 5), (11, 22, 21, 5) \n",
      "MultiClassEstimator(batch_norm=False, batch_size=2, conv1_kernel_size=13,\n",
      "                    dense_avf='relu', dense_layers=[128], dropout=0.0,\n",
      "                    epochs=50, gpuid='1', last_avf='softmax',\n",
      "                    loss='categorical_crossentropy', lr=0.0001, metric='ACC',\n",
      "                    monitor='val_loss', n_inception=2,\n",
      "                    name='AggMap MultiClass Estimator', patience=10000,\n",
      "                    random_state=32, verbose=0)\n",
      "roc-auc: 0.889, mcc: 0.000, pres: 0.669, recall: 0.818, f1: 0.736\n",
      "{'acc': 0.818, 'auc': 0.889, 'mcc': 0.0, 'pres': 0.669, 'recall': 0.818, 'f1': 0.736, 'i': 8.0, 'repeat_seed': 4096.0}\n",
      "################################################## repeat_seed: 4096; fold_04 ##################################################\n",
      "\n",
      " input train and test X shape is (99, 22, 21, 5), (11, 22, 21, 5) \n",
      "MultiClassEstimator(batch_norm=False, batch_size=2, conv1_kernel_size=13,\n",
      "                    dense_avf='relu', dense_layers=[128], dropout=0.0,\n",
      "                    epochs=50, gpuid='1', last_avf='softmax',\n",
      "                    loss='categorical_crossentropy', lr=0.0001, metric='ACC',\n",
      "                    monitor='val_loss', n_inception=2,\n",
      "                    name='AggMap MultiClass Estimator', patience=10000,\n",
      "                    random_state=32, verbose=0)\n",
      "roc-auc: 1.000, mcc: 1.000, pres: 1.000, recall: 1.000, f1: 1.000\n",
      "{'acc': 1.0, 'auc': 1.0, 'mcc': 1.0, 'pres': 1.0, 'recall': 1.0, 'f1': 1.0, 'i': 8.0, 'repeat_seed': 4096.0}\n",
      "################################################## repeat_seed: 4096; fold_05 ##################################################\n",
      "\n",
      " input train and test X shape is (99, 22, 21, 5), (11, 22, 21, 5) \n",
      "MultiClassEstimator(batch_norm=False, batch_size=2, conv1_kernel_size=13,\n",
      "                    dense_avf='relu', dense_layers=[128], dropout=0.0,\n",
      "                    epochs=50, gpuid='1', last_avf='softmax',\n",
      "                    loss='categorical_crossentropy', lr=0.0001, metric='ACC',\n",
      "                    monitor='val_loss', n_inception=2,\n",
      "                    name='AggMap MultiClass Estimator', patience=10000,\n",
      "                    random_state=32, verbose=0)\n",
      "roc-auc: 1.000, mcc: 1.000, pres: 1.000, recall: 1.000, f1: 1.000\n",
      "{'acc': 1.0, 'auc': 1.0, 'mcc': 1.0, 'pres': 1.0, 'recall': 1.0, 'f1': 1.0, 'i': 8.0, 'repeat_seed': 4096.0}\n",
      "################################################## repeat_seed: 4096; fold_06 ##################################################\n",
      "\n",
      " input train and test X shape is (99, 22, 21, 5), (11, 22, 21, 5) \n",
      "MultiClassEstimator(batch_norm=False, batch_size=2, conv1_kernel_size=13,\n",
      "                    dense_avf='relu', dense_layers=[128], dropout=0.0,\n",
      "                    epochs=50, gpuid='1', last_avf='softmax',\n",
      "                    loss='categorical_crossentropy', lr=0.0001, metric='ACC',\n",
      "                    monitor='val_loss', n_inception=2,\n",
      "                    name='AggMap MultiClass Estimator', patience=10000,\n",
      "                    random_state=32, verbose=0)\n",
      "roc-auc: 0.667, mcc: 0.241, pres: 0.702, recall: 0.727, f1: 0.708\n",
      "{'acc': 0.727, 'auc': 0.667, 'mcc': 0.241, 'pres': 0.702, 'recall': 0.727, 'f1': 0.708, 'i': 8.0, 'repeat_seed': 4096.0}\n",
      "################################################## repeat_seed: 4096; fold_07 ##################################################\n",
      "\n",
      " input train and test X shape is (99, 22, 21, 5), (11, 22, 21, 5) \n",
      "MultiClassEstimator(batch_norm=False, batch_size=2, conv1_kernel_size=13,\n",
      "                    dense_avf='relu', dense_layers=[128], dropout=0.0,\n",
      "                    epochs=50, gpuid='1', last_avf='softmax',\n",
      "                    loss='categorical_crossentropy', lr=0.0001, metric='ACC',\n",
      "                    monitor='val_loss', n_inception=2,\n",
      "                    name='AggMap MultiClass Estimator', patience=10000,\n",
      "                    random_state=32, verbose=0)\n",
      "roc-auc: 0.917, mcc: 0.542, pres: 0.818, recall: 0.818, f1: 0.818\n",
      "{'acc': 0.818, 'auc': 0.917, 'mcc': 0.542, 'pres': 0.818, 'recall': 0.818, 'f1': 0.818, 'i': 8.0, 'repeat_seed': 4096.0}\n",
      "################################################## repeat_seed: 4096; fold_08 ##################################################\n",
      "\n",
      " input train and test X shape is (99, 22, 21, 5), (11, 22, 21, 5) \n",
      "MultiClassEstimator(batch_norm=False, batch_size=2, conv1_kernel_size=13,\n",
      "                    dense_avf='relu', dense_layers=[128], dropout=0.0,\n",
      "                    epochs=50, gpuid='1', last_avf='softmax',\n",
      "                    loss='categorical_crossentropy', lr=0.0001, metric='ACC',\n",
      "                    monitor='val_loss', n_inception=2,\n",
      "                    name='AggMap MultiClass Estimator', patience=10000,\n",
      "                    random_state=32, verbose=0)\n",
      "roc-auc: 0.875, mcc: 0.542, pres: 0.818, recall: 0.818, f1: 0.818\n",
      "{'acc': 0.818, 'auc': 0.875, 'mcc': 0.542, 'pres': 0.818, 'recall': 0.818, 'f1': 0.818, 'i': 8.0, 'repeat_seed': 4096.0}\n",
      "################################################## repeat_seed: 4096; fold_09 ##################################################\n",
      "\n",
      " input train and test X shape is (99, 22, 21, 5), (11, 22, 21, 5) \n",
      "MultiClassEstimator(batch_norm=False, batch_size=2, conv1_kernel_size=13,\n",
      "                    dense_avf='relu', dense_layers=[128], dropout=0.0,\n",
      "                    epochs=50, gpuid='1', last_avf='softmax',\n",
      "                    loss='categorical_crossentropy', lr=0.0001, metric='ACC',\n",
      "                    monitor='val_loss', n_inception=2,\n",
      "                    name='AggMap MultiClass Estimator', patience=10000,\n",
      "                    random_state=32, verbose=0)\n",
      "roc-auc: 0.875, mcc: -0.194, pres: 0.509, recall: 0.636, f1: 0.566\n",
      "{'acc': 0.636, 'auc': 0.875, 'mcc': -0.194, 'pres': 0.509, 'recall': 0.636, 'f1': 0.566, 'i': 8.0, 'repeat_seed': 4096.0}\n",
      "################################################## repeat_seed: 8192; fold_00 ##################################################\n",
      "\n",
      " input train and test X shape is (99, 22, 21, 5), (11, 22, 21, 5) \n",
      "MultiClassEstimator(batch_norm=False, batch_size=2, conv1_kernel_size=13,\n",
      "                    dense_avf='relu', dense_layers=[128], dropout=0.0,\n",
      "                    epochs=50, gpuid='1', last_avf='softmax',\n",
      "                    loss='categorical_crossentropy', lr=0.0001, metric='ACC',\n",
      "                    monitor='val_loss', n_inception=2,\n",
      "                    name='AggMap MultiClass Estimator', patience=10000,\n",
      "                    random_state=32, verbose=0)\n",
      "roc-auc: 1.000, mcc: 0.671, pres: 0.918, recall: 0.909, f1: 0.896\n",
      "{'acc': 0.909, 'auc': 1.0, 'mcc': 0.671, 'pres': 0.918, 'recall': 0.909, 'f1': 0.896, 'i': 9.0, 'repeat_seed': 8192.0}\n",
      "################################################## repeat_seed: 8192; fold_01 ##################################################\n",
      "\n",
      " input train and test X shape is (99, 22, 21, 5), (11, 22, 21, 5) \n",
      "MultiClassEstimator(batch_norm=False, batch_size=2, conv1_kernel_size=13,\n",
      "                    dense_avf='relu', dense_layers=[128], dropout=0.0,\n",
      "                    epochs=50, gpuid='1', last_avf='softmax',\n",
      "                    loss='categorical_crossentropy', lr=0.0001, metric='ACC',\n",
      "                    monitor='val_loss', n_inception=2,\n",
      "                    name='AggMap MultiClass Estimator', patience=10000,\n",
      "                    random_state=32, verbose=0)\n",
      "roc-auc: 1.000, mcc: 0.671, pres: 0.918, recall: 0.909, f1: 0.896\n",
      "{'acc': 0.909, 'auc': 1.0, 'mcc': 0.671, 'pres': 0.918, 'recall': 0.909, 'f1': 0.896, 'i': 9.0, 'repeat_seed': 8192.0}\n",
      "################################################## repeat_seed: 8192; fold_02 ##################################################\n",
      "\n",
      " input train and test X shape is (99, 22, 21, 5), (11, 22, 21, 5) \n",
      "MultiClassEstimator(batch_norm=False, batch_size=2, conv1_kernel_size=13,\n",
      "                    dense_avf='relu', dense_layers=[128], dropout=0.0,\n",
      "                    epochs=50, gpuid='1', last_avf='softmax',\n",
      "                    loss='categorical_crossentropy', lr=0.0001, metric='ACC',\n",
      "                    monitor='val_loss', n_inception=2,\n",
      "                    name='AggMap MultiClass Estimator', patience=10000,\n",
      "                    random_state=32, verbose=0)\n",
      "roc-auc: 1.000, mcc: 0.671, pres: 0.918, recall: 0.909, f1: 0.896\n",
      "{'acc': 0.909, 'auc': 1.0, 'mcc': 0.671, 'pres': 0.918, 'recall': 0.909, 'f1': 0.896, 'i': 9.0, 'repeat_seed': 8192.0}\n",
      "################################################## repeat_seed: 8192; fold_03 ##################################################\n",
      "\n",
      " input train and test X shape is (99, 22, 21, 5), (11, 22, 21, 5) \n",
      "MultiClassEstimator(batch_norm=False, batch_size=2, conv1_kernel_size=13,\n",
      "                    dense_avf='relu', dense_layers=[128], dropout=0.0,\n",
      "                    epochs=50, gpuid='1', last_avf='softmax',\n",
      "                    loss='categorical_crossentropy', lr=0.0001, metric='ACC',\n",
      "                    monitor='val_loss', n_inception=2,\n",
      "                    name='AggMap MultiClass Estimator', patience=10000,\n",
      "                    random_state=32, verbose=0)\n",
      "roc-auc: 0.944, mcc: 0.671, pres: 0.918, recall: 0.909, f1: 0.896\n",
      "{'acc': 0.909, 'auc': 0.944, 'mcc': 0.671, 'pres': 0.918, 'recall': 0.909, 'f1': 0.896, 'i': 9.0, 'repeat_seed': 8192.0}\n",
      "################################################## repeat_seed: 8192; fold_04 ##################################################\n",
      "\n",
      " input train and test X shape is (99, 22, 21, 5), (11, 22, 21, 5) \n",
      "MultiClassEstimator(batch_norm=False, batch_size=2, conv1_kernel_size=13,\n",
      "                    dense_avf='relu', dense_layers=[128], dropout=0.0,\n",
      "                    epochs=50, gpuid='1', last_avf='softmax',\n",
      "                    loss='categorical_crossentropy', lr=0.0001, metric='ACC',\n",
      "                    monitor='val_loss', n_inception=2,\n",
      "                    name='AggMap MultiClass Estimator', patience=10000,\n",
      "                    random_state=32, verbose=0)\n",
      "roc-auc: 0.611, mcc: 0.000, pres: 0.669, recall: 0.818, f1: 0.736\n",
      "{'acc': 0.818, 'auc': 0.611, 'mcc': 0.0, 'pres': 0.669, 'recall': 0.818, 'f1': 0.736, 'i': 9.0, 'repeat_seed': 8192.0}\n",
      "################################################## repeat_seed: 8192; fold_05 ##################################################\n",
      "\n",
      " input train and test X shape is (99, 22, 21, 5), (11, 22, 21, 5) \n",
      "MultiClassEstimator(batch_norm=False, batch_size=2, conv1_kernel_size=13,\n",
      "                    dense_avf='relu', dense_layers=[128], dropout=0.0,\n",
      "                    epochs=50, gpuid='1', last_avf='softmax',\n",
      "                    loss='categorical_crossentropy', lr=0.0001, metric='ACC',\n",
      "                    monitor='val_loss', n_inception=2,\n",
      "                    name='AggMap MultiClass Estimator', patience=10000,\n",
      "                    random_state=32, verbose=0)\n",
      "roc-auc: 1.000, mcc: 1.000, pres: 1.000, recall: 1.000, f1: 1.000\n",
      "{'acc': 1.0, 'auc': 1.0, 'mcc': 1.0, 'pres': 1.0, 'recall': 1.0, 'f1': 1.0, 'i': 9.0, 'repeat_seed': 8192.0}\n",
      "################################################## repeat_seed: 8192; fold_06 ##################################################\n",
      "\n",
      " input train and test X shape is (99, 22, 21, 5), (11, 22, 21, 5) \n",
      "MultiClassEstimator(batch_norm=False, batch_size=2, conv1_kernel_size=13,\n",
      "                    dense_avf='relu', dense_layers=[128], dropout=0.0,\n",
      "                    epochs=50, gpuid='1', last_avf='softmax',\n",
      "                    loss='categorical_crossentropy', lr=0.0001, metric='ACC',\n",
      "                    monitor='val_loss', n_inception=2,\n",
      "                    name='AggMap MultiClass Estimator', patience=10000,\n",
      "                    random_state=32, verbose=0)\n",
      "roc-auc: 0.875, mcc: 0.770, pres: 0.919, recall: 0.909, f1: 0.903\n",
      "{'acc': 0.909, 'auc': 0.875, 'mcc': 0.77, 'pres': 0.919, 'recall': 0.909, 'f1': 0.903, 'i': 9.0, 'repeat_seed': 8192.0}\n",
      "################################################## repeat_seed: 8192; fold_07 ##################################################\n",
      "\n",
      " input train and test X shape is (99, 22, 21, 5), (11, 22, 21, 5) \n",
      "MultiClassEstimator(batch_norm=False, batch_size=2, conv1_kernel_size=13,\n",
      "                    dense_avf='relu', dense_layers=[128], dropout=0.0,\n",
      "                    epochs=50, gpuid='1', last_avf='softmax',\n",
      "                    loss='categorical_crossentropy', lr=0.0001, metric='ACC',\n",
      "                    monitor='val_loss', n_inception=2,\n",
      "                    name='AggMap MultiClass Estimator', patience=10000,\n",
      "                    random_state=32, verbose=0)\n",
      "roc-auc: 0.750, mcc: 0.559, pres: 0.864, recall: 0.727, f1: 0.741\n",
      "{'acc': 0.727, 'auc': 0.75, 'mcc': 0.559, 'pres': 0.864, 'recall': 0.727, 'f1': 0.741, 'i': 9.0, 'repeat_seed': 8192.0}\n",
      "################################################## repeat_seed: 8192; fold_08 ##################################################\n",
      "\n",
      " input train and test X shape is (99, 22, 21, 5), (11, 22, 21, 5) \n",
      "MultiClassEstimator(batch_norm=False, batch_size=2, conv1_kernel_size=13,\n",
      "                    dense_avf='relu', dense_layers=[128], dropout=0.0,\n",
      "                    epochs=50, gpuid='1', last_avf='softmax',\n",
      "                    loss='categorical_crossentropy', lr=0.0001, metric='ACC',\n",
      "                    monitor='val_loss', n_inception=2,\n",
      "                    name='AggMap MultiClass Estimator', patience=10000,\n",
      "                    random_state=32, verbose=0)\n",
      "roc-auc: 1.000, mcc: 0.770, pres: 0.919, recall: 0.909, f1: 0.903\n",
      "{'acc': 0.909, 'auc': 1.0, 'mcc': 0.77, 'pres': 0.919, 'recall': 0.909, 'f1': 0.903, 'i': 9.0, 'repeat_seed': 8192.0}\n",
      "################################################## repeat_seed: 8192; fold_09 ##################################################\n",
      "\n",
      " input train and test X shape is (99, 22, 21, 5), (11, 22, 21, 5) \n",
      "MultiClassEstimator(batch_norm=False, batch_size=2, conv1_kernel_size=13,\n",
      "                    dense_avf='relu', dense_layers=[128], dropout=0.0,\n",
      "                    epochs=50, gpuid='1', last_avf='softmax',\n",
      "                    loss='categorical_crossentropy', lr=0.0001, metric='ACC',\n",
      "                    monitor='val_loss', n_inception=2,\n",
      "                    name='AggMap MultiClass Estimator', patience=10000,\n",
      "                    random_state=32, verbose=0)\n",
      "roc-auc: 1.000, mcc: 0.516, pres: 0.855, recall: 0.818, f1: 0.783\n",
      "{'acc': 0.818, 'auc': 1.0, 'mcc': 0.516, 'pres': 0.855, 'recall': 0.818, 'f1': 0.783, 'i': 9.0, 'repeat_seed': 8192.0}\n"
     ]
    }
   ],
   "source": [
    "gpuid = 1\n",
    "\n",
    "outer_fold = 10\n",
    "repeat_seeds = [8, 16, 32, 64, 128, 256, 1024, 2048, 4096, 8192] #10 repeats random seeds 8, 16, 32, 64, 128\n",
    "\n",
    "each_fold_results = []\n",
    "run_all_res = []\n",
    "\n",
    "for i, repeat_seed in enumerate(repeat_seeds): \n",
    "    outer = StratifiedKFold(n_splits = outer_fold, shuffle = True, random_state = repeat_seed)\n",
    "    outer_idx = outer.split(range(len(dfy)), dfy.idxmax(axis=1))\n",
    "    run_one_res = []\n",
    "    for j, idx in enumerate(outer_idx):\n",
    "        fold_num = \"fold_%s\" % str(j).zfill(2) \n",
    "        print('#'*50 + ' repeat_seed: %s; %s ' % (repeat_seed, fold_num) + '#'*50 )\n",
    "        \n",
    "        train_idx, test_idx = idx\n",
    "\n",
    "        testY = Y[test_idx]\n",
    "        testX = X[test_idx]\n",
    "        \n",
    "        trainX = X[train_idx]\n",
    "        trainY = Y[train_idx]\n",
    "\n",
    "        print(\"\\n input train and test X shape is %s, %s \" % (trainX.shape,  testX.shape))\n",
    "\n",
    "        clf = AggModel.MultiClassEstimator(epochs = 50,  batch_size = 2, verbose = 0, gpuid=gpuid) #\n",
    "        clf.fit(trainX, trainY)  #, \n",
    "        \n",
    "        ## save model for explaination\n",
    "        if i == 0:\n",
    "            clf.save_model(os.path.join(save_dir, '%s.model' % fold_num))\n",
    "            paras = clf.get_params()\n",
    "            paras.update({'featHPs':featHPs})\n",
    "            pd.Series(paras).to_json(os.path.join(save_dir, 'HPs.json'))\n",
    "\n",
    "        pred_proba = clf.predict_proba(testX)\n",
    "        y_true = testY[:,1] \n",
    "        y_score = pred_proba[:,1]\n",
    "        y_pred = np.argmax(pred_proba, axis=1)\n",
    "        \n",
    "        dfr = pd.DataFrame([y_true, y_score, y_pred]).T\n",
    "        dfr.columns = ['y_true', 'y_score', 'y_pred']\n",
    "        dfr.index = dfy.iloc[test_idx].index\n",
    "        \n",
    "        acc, auc, mcc, pres, recall, f1  = score(dfr)\n",
    "        run_one_res.append(dfr)\n",
    "        ts = pd.Series([acc, auc, mcc, pres, recall, f1, i, repeat_seed]).round(3)\n",
    "        ts.index = ['acc','auc', 'mcc', 'pres', 'recall', 'f1', 'i', 'repeat_seed']\n",
    "\n",
    "        print(ts.to_dict())\n",
    "        each_fold_results.append(ts.to_dict())\n",
    "    run_all_res.append(pd.concat(run_one_res))"
   ]
  },
  {
   "cell_type": "code",
   "execution_count": 5,
   "metadata": {},
   "outputs": [
    {
     "data": {
      "text/plain": [
       "acc       0.87533\n",
       "auc       0.93760\n",
       "mcc       0.60170\n",
       "pres      0.86520\n",
       "recall    0.87533\n",
       "f1        0.85739\n",
       "i         4.50000\n",
       "dtype: float64"
      ]
     },
     "execution_count": 5,
     "metadata": {},
     "output_type": "execute_result"
    }
   ],
   "source": [
    "pd.DataFrame(each_fold_results).groupby('repeat_seed').mean().mean()"
   ]
  },
  {
   "cell_type": "code",
   "execution_count": 6,
   "metadata": {},
   "outputs": [
    {
     "data": {
      "text/plain": [
       "acc       0.088806\n",
       "auc       0.085647\n",
       "mcc       0.314170\n",
       "pres      0.125726\n",
       "recall    0.088806\n",
       "f1        0.109032\n",
       "i         0.000000\n",
       "dtype: float64"
      ]
     },
     "execution_count": 6,
     "metadata": {},
     "output_type": "execute_result"
    }
   ],
   "source": [
    "pd.DataFrame(each_fold_results).groupby('repeat_seed').std().mean()"
   ]
  },
  {
   "cell_type": "code",
   "execution_count": 7,
   "metadata": {},
   "outputs": [],
   "source": [
    "pd.DataFrame(each_fold_results).to_csv(os.path.join(save_dir, 'performance_results.csv'))"
   ]
  },
  {
   "cell_type": "code",
   "execution_count": null,
   "metadata": {},
   "outputs": [],
   "source": []
  },
  {
   "cell_type": "code",
   "execution_count": null,
   "metadata": {},
   "outputs": [],
   "source": []
  },
  {
   "cell_type": "code",
   "execution_count": null,
   "metadata": {},
   "outputs": [],
   "source": []
  },
  {
   "cell_type": "markdown",
   "metadata": {},
   "source": [
    "# feature importance"
   ]
  },
  {
   "cell_type": "code",
   "execution_count": 8,
   "metadata": {},
   "outputs": [
    {
     "name": "stdout",
     "output_type": "stream",
     "text": [
      "4/4 [==============================] - 0s 1ms/step\n",
      "calculating feature importance for column 1 ...\n"
     ]
    },
    {
     "name": "stderr",
     "output_type": "stream",
     "text": [
      "  0%|                                                                                                                                                | 0/462 [00:00<?, ?it/s]"
     ]
    },
    {
     "name": "stdout",
     "output_type": "stream",
     "text": [
      "65/65 [==============================] - 0s 2ms/step\n"
     ]
    },
    {
     "name": "stderr",
     "output_type": "stream",
     "text": [
      "  5%|######1                                                                                                                                | 21/462 [00:00<00:04, 93.97it/s]"
     ]
    },
    {
     "name": "stdout",
     "output_type": "stream",
     "text": [
      "62/62 [==============================] - 0s 2ms/step\n"
     ]
    },
    {
     "name": "stderr",
     "output_type": "stream",
     "text": [
      "  9%|###########9                                                                                                                           | 41/462 [00:00<00:04, 94.51it/s]"
     ]
    },
    {
     "name": "stdout",
     "output_type": "stream",
     "text": [
      "62/62 [==============================] - 0s 2ms/step\n"
     ]
    },
    {
     "name": "stderr",
     "output_type": "stream",
     "text": [
      " 13%|#################8                                                                                                                     | 61/462 [00:00<00:04, 99.15it/s]"
     ]
    },
    {
     "name": "stdout",
     "output_type": "stream",
     "text": [
      "62/62 [==============================] - 0s 2ms/step\n"
     ]
    },
    {
     "name": "stderr",
     "output_type": "stream",
     "text": [
      " 18%|#######################6                                                                                                               | 81/462 [00:00<00:04, 90.42it/s]"
     ]
    },
    {
     "name": "stdout",
     "output_type": "stream",
     "text": [
      "62/62 [==============================] - 0s 2ms/step\n"
     ]
    },
    {
     "name": "stderr",
     "output_type": "stream",
     "text": [
      " 22%|#############################2                                                                                                        | 101/462 [00:01<00:04, 88.20it/s]"
     ]
    },
    {
     "name": "stdout",
     "output_type": "stream",
     "text": [
      "62/62 [==============================] - 0s 2ms/step\n"
     ]
    },
    {
     "name": "stderr",
     "output_type": "stream",
     "text": [
      " 26%|###################################                                                                                                   | 121/462 [00:01<00:03, 88.89it/s]"
     ]
    },
    {
     "name": "stdout",
     "output_type": "stream",
     "text": [
      "62/62 [==============================] - 0s 1ms/step\n"
     ]
    },
    {
     "name": "stderr",
     "output_type": "stream",
     "text": [
      " 31%|########################################8                                                                                             | 141/462 [00:01<00:03, 96.65it/s]"
     ]
    },
    {
     "name": "stdout",
     "output_type": "stream",
     "text": [
      "62/62 [==============================] - 0s 2ms/step\n"
     ]
    },
    {
     "name": "stderr",
     "output_type": "stream",
     "text": [
      " 35%|##############################################6                                                                                       | 161/462 [00:01<00:03, 97.73it/s]"
     ]
    },
    {
     "name": "stdout",
     "output_type": "stream",
     "text": [
      "62/62 [==============================] - 0s 2ms/step\n"
     ]
    },
    {
     "name": "stderr",
     "output_type": "stream",
     "text": [
      " 39%|####################################################4                                                                                 | 181/462 [00:01<00:02, 94.54it/s]"
     ]
    },
    {
     "name": "stdout",
     "output_type": "stream",
     "text": [
      "62/62 [==============================] - 0s 2ms/step\n"
     ]
    },
    {
     "name": "stderr",
     "output_type": "stream",
     "text": [
      " 44%|##########################################################2                                                                           | 201/462 [00:02<00:02, 94.33it/s]"
     ]
    },
    {
     "name": "stdout",
     "output_type": "stream",
     "text": [
      "62/62 [==============================] - 0s 3ms/step\n"
     ]
    },
    {
     "name": "stderr",
     "output_type": "stream",
     "text": [
      " 48%|################################################################                                                                      | 221/462 [00:02<00:02, 86.45it/s]"
     ]
    },
    {
     "name": "stdout",
     "output_type": "stream",
     "text": [
      "62/62 [==============================] - 0s 2ms/step\n"
     ]
    },
    {
     "name": "stderr",
     "output_type": "stream",
     "text": [
      " 52%|#####################################################################9                                                                | 241/462 [00:02<00:02, 83.01it/s]"
     ]
    },
    {
     "name": "stdout",
     "output_type": "stream",
     "text": [
      "62/62 [==============================] - 0s 1ms/step\n"
     ]
    },
    {
     "name": "stderr",
     "output_type": "stream",
     "text": [
      " 56%|###########################################################################7                                                          | 261/462 [00:02<00:02, 92.18it/s]"
     ]
    },
    {
     "name": "stdout",
     "output_type": "stream",
     "text": [
      "62/62 [==============================] - 0s 1ms/step\n"
     ]
    },
    {
     "name": "stderr",
     "output_type": "stream",
     "text": [
      " 61%|#################################################################################5                                                    | 281/462 [00:03<00:01, 97.98it/s]"
     ]
    },
    {
     "name": "stdout",
     "output_type": "stream",
     "text": [
      "62/62 [==============================] - 0s 2ms/step\n"
     ]
    },
    {
     "name": "stderr",
     "output_type": "stream",
     "text": [
      " 65%|#######################################################################################3                                              | 301/462 [00:03<00:01, 91.61it/s]"
     ]
    },
    {
     "name": "stdout",
     "output_type": "stream",
     "text": [
      "62/62 [==============================] - 0s 1ms/step\n"
     ]
    },
    {
     "name": "stderr",
     "output_type": "stream",
     "text": [
      " 69%|#############################################################################################1                                        | 321/462 [00:03<00:01, 97.49it/s]"
     ]
    },
    {
     "name": "stdout",
     "output_type": "stream",
     "text": [
      "62/62 [==============================] - 0s 3ms/step\n"
     ]
    },
    {
     "name": "stderr",
     "output_type": "stream",
     "text": [
      " 74%|##################################################################################################9                                   | 341/462 [00:03<00:01, 88.27it/s]"
     ]
    },
    {
     "name": "stdout",
     "output_type": "stream",
     "text": [
      "62/62 [==============================] - 0s 1ms/step\n"
     ]
    },
    {
     "name": "stderr",
     "output_type": "stream",
     "text": [
      " 78%|########################################################################################################7                             | 361/462 [00:03<00:01, 93.40it/s]"
     ]
    },
    {
     "name": "stdout",
     "output_type": "stream",
     "text": [
      "62/62 [==============================] - 0s 2ms/step\n"
     ]
    },
    {
     "name": "stderr",
     "output_type": "stream",
     "text": [
      " 82%|##############################################################################################################5                       | 381/462 [00:04<00:00, 91.36it/s]"
     ]
    },
    {
     "name": "stdout",
     "output_type": "stream",
     "text": [
      "62/62 [==============================] - 0s 3ms/step\n"
     ]
    },
    {
     "name": "stderr",
     "output_type": "stream",
     "text": [
      " 87%|####################################################################################################################3                 | 401/462 [00:04<00:00, 86.09it/s]"
     ]
    },
    {
     "name": "stdout",
     "output_type": "stream",
     "text": [
      "62/62 [==============================] - 0s 2ms/step\n"
     ]
    },
    {
     "name": "stderr",
     "output_type": "stream",
     "text": [
      " 91%|##########################################################################################################################1           | 421/462 [00:04<00:00, 83.74it/s]"
     ]
    },
    {
     "name": "stdout",
     "output_type": "stream",
     "text": [
      "62/62 [==============================] - 0s 3ms/step\n"
     ]
    },
    {
     "name": "stderr",
     "output_type": "stream",
     "text": [
      " 95%|###############################################################################################################################9      | 441/462 [00:04<00:00, 79.33it/s]"
     ]
    },
    {
     "name": "stdout",
     "output_type": "stream",
     "text": [
      "62/62 [==============================] - 0s 1ms/step\n"
     ]
    },
    {
     "name": "stderr",
     "output_type": "stream",
     "text": [
      "100%|#####################################################################################################################################7| 461/462 [00:05<00:00, 86.68it/s]"
     ]
    },
    {
     "name": "stdout",
     "output_type": "stream",
     "text": [
      "4/4 [==============================] - 0s 1ms/step\n"
     ]
    },
    {
     "name": "stderr",
     "output_type": "stream",
     "text": [
      "100%|######################################################################################################################################| 462/462 [00:05<00:00, 89.73it/s]"
     ]
    },
    {
     "name": "stdout",
     "output_type": "stream",
     "text": [
      "4/4 [==============================] - 0s 1ms/step\n"
     ]
    },
    {
     "name": "stderr",
     "output_type": "stream",
     "text": [
      "\n"
     ]
    },
    {
     "name": "stdout",
     "output_type": "stream",
     "text": [
      "calculating feature importance for column 1 ...\n"
     ]
    },
    {
     "name": "stderr",
     "output_type": "stream",
     "text": [
      "  0%|                                                                                                                                                | 0/462 [00:00<?, ?it/s]"
     ]
    },
    {
     "name": "stdout",
     "output_type": "stream",
     "text": [
      "65/65 [==============================] - 0s 1ms/step\n"
     ]
    },
    {
     "name": "stderr",
     "output_type": "stream",
     "text": [
      "  5%|######                                                                                                                                | 21/462 [00:00<00:03, 116.70it/s]"
     ]
    },
    {
     "name": "stdout",
     "output_type": "stream",
     "text": [
      "62/62 [==============================] - 0s 2ms/step\n"
     ]
    },
    {
     "name": "stderr",
     "output_type": "stream",
     "text": [
      "  9%|###########9                                                                                                                           | 41/462 [00:00<00:04, 96.55it/s]"
     ]
    },
    {
     "name": "stdout",
     "output_type": "stream",
     "text": [
      "62/62 [==============================] - 0s 1ms/step\n"
     ]
    },
    {
     "name": "stderr",
     "output_type": "stream",
     "text": [
      " 13%|#################6                                                                                                                    | 61/462 [00:00<00:04, 100.03it/s]"
     ]
    },
    {
     "name": "stdout",
     "output_type": "stream",
     "text": [
      "62/62 [==============================] - 0s 2ms/step\n"
     ]
    },
    {
     "name": "stderr",
     "output_type": "stream",
     "text": [
      " 18%|#######################6                                                                                                               | 81/462 [00:00<00:03, 99.92it/s]"
     ]
    },
    {
     "name": "stdout",
     "output_type": "stream",
     "text": [
      "62/62 [==============================] - 0s 2ms/step\n"
     ]
    },
    {
     "name": "stderr",
     "output_type": "stream",
     "text": [
      " 22%|#############################2                                                                                                        | 101/462 [00:01<00:03, 99.76it/s]"
     ]
    },
    {
     "name": "stdout",
     "output_type": "stream",
     "text": [
      "62/62 [==============================] - 0s 1ms/step\n"
     ]
    },
    {
     "name": "stderr",
     "output_type": "stream",
     "text": [
      " 26%|##################################8                                                                                                  | 121/462 [00:01<00:03, 104.05it/s]"
     ]
    },
    {
     "name": "stdout",
     "output_type": "stream",
     "text": [
      "62/62 [==============================] - 0s 3ms/step\n"
     ]
    },
    {
     "name": "stderr",
     "output_type": "stream",
     "text": [
      " 31%|########################################8                                                                                             | 141/462 [00:01<00:03, 91.27it/s]"
     ]
    },
    {
     "name": "stdout",
     "output_type": "stream",
     "text": [
      "62/62 [==============================] - 0s 1ms/step\n"
     ]
    },
    {
     "name": "stderr",
     "output_type": "stream",
     "text": [
      " 35%|##############################################6                                                                                       | 161/462 [00:01<00:03, 97.63it/s]"
     ]
    },
    {
     "name": "stdout",
     "output_type": "stream",
     "text": [
      "62/62 [==============================] - 0s 1ms/step\n"
     ]
    },
    {
     "name": "stderr",
     "output_type": "stream",
     "text": [
      " 39%|####################################################1                                                                                | 181/462 [00:01<00:02, 102.20it/s]"
     ]
    },
    {
     "name": "stdout",
     "output_type": "stream",
     "text": [
      "62/62 [==============================] - 0s 1ms/step\n"
     ]
    },
    {
     "name": "stderr",
     "output_type": "stream",
     "text": [
      " 44%|#########################################################8                                                                           | 201/462 [00:01<00:02, 105.21it/s]"
     ]
    },
    {
     "name": "stdout",
     "output_type": "stream",
     "text": [
      "62/62 [==============================] - 0s 1ms/step\n"
     ]
    },
    {
     "name": "stderr",
     "output_type": "stream",
     "text": [
      " 48%|###############################################################6                                                                     | 221/462 [00:02<00:02, 110.52it/s]"
     ]
    },
    {
     "name": "stdout",
     "output_type": "stream",
     "text": [
      "62/62 [==============================] - 0s 2ms/step\n"
     ]
    },
    {
     "name": "stderr",
     "output_type": "stream",
     "text": [
      " 52%|#####################################################################9                                                                | 241/462 [00:02<00:02, 99.89it/s]"
     ]
    },
    {
     "name": "stdout",
     "output_type": "stream",
     "text": [
      "62/62 [==============================] - 0s 1ms/step\n"
     ]
    },
    {
     "name": "stderr",
     "output_type": "stream",
     "text": [
      " 56%|###########################################################################1                                                         | 261/462 [00:02<00:01, 101.44it/s]"
     ]
    },
    {
     "name": "stdout",
     "output_type": "stream",
     "text": [
      "62/62 [==============================] - 0s 1ms/step\n"
     ]
    },
    {
     "name": "stderr",
     "output_type": "stream",
     "text": [
      " 61%|################################################################################8                                                    | 281/462 [00:02<00:01, 105.94it/s]"
     ]
    },
    {
     "name": "stdout",
     "output_type": "stream",
     "text": [
      "62/62 [==============================] - 0s 3ms/step\n"
     ]
    },
    {
     "name": "stderr",
     "output_type": "stream",
     "text": [
      " 65%|#######################################################################################3                                              | 301/462 [00:03<00:01, 93.15it/s]"
     ]
    },
    {
     "name": "stdout",
     "output_type": "stream",
     "text": [
      "62/62 [==============================] - 0s 2ms/step\n"
     ]
    },
    {
     "name": "stderr",
     "output_type": "stream",
     "text": [
      " 69%|#############################################################################################1                                        | 321/462 [00:03<00:01, 89.23it/s]"
     ]
    },
    {
     "name": "stdout",
     "output_type": "stream",
     "text": [
      "62/62 [==============================] - 0s 1ms/step\n"
     ]
    },
    {
     "name": "stderr",
     "output_type": "stream",
     "text": [
      " 74%|##################################################################################################9                                   | 341/462 [00:03<00:01, 96.70it/s]"
     ]
    },
    {
     "name": "stdout",
     "output_type": "stream",
     "text": [
      "62/62 [==============================] - 0s 2ms/step\n"
     ]
    },
    {
     "name": "stderr",
     "output_type": "stream",
     "text": [
      " 78%|########################################################################################################7                             | 361/462 [00:03<00:01, 97.33it/s]"
     ]
    },
    {
     "name": "stdout",
     "output_type": "stream",
     "text": [
      "62/62 [==============================] - 0s 2ms/step\n"
     ]
    },
    {
     "name": "stderr",
     "output_type": "stream",
     "text": [
      " 82%|##############################################################################################################5                       | 381/462 [00:03<00:00, 89.97it/s]"
     ]
    },
    {
     "name": "stdout",
     "output_type": "stream",
     "text": [
      "62/62 [==============================] - 0s 1ms/step\n"
     ]
    },
    {
     "name": "stderr",
     "output_type": "stream",
     "text": [
      " 87%|####################################################################################################################3                 | 401/462 [00:04<00:00, 93.35it/s]"
     ]
    },
    {
     "name": "stdout",
     "output_type": "stream",
     "text": [
      "62/62 [==============================] - 0s 1ms/step\n"
     ]
    },
    {
     "name": "stderr",
     "output_type": "stream",
     "text": [
      " 91%|#########################################################################################################################1           | 421/462 [00:04<00:00, 101.15it/s]"
     ]
    },
    {
     "name": "stdout",
     "output_type": "stream",
     "text": [
      "62/62 [==============================] - 0s 2ms/step\n"
     ]
    },
    {
     "name": "stderr",
     "output_type": "stream",
     "text": [
      " 95%|##############################################################################################################################9      | 441/462 [00:04<00:00, 100.86it/s]"
     ]
    },
    {
     "name": "stdout",
     "output_type": "stream",
     "text": [
      "62/62 [==============================] - 0s 2ms/step\n"
     ]
    },
    {
     "name": "stderr",
     "output_type": "stream",
     "text": [
      "100%|#####################################################################################################################################7| 461/462 [00:04<00:00, 94.12it/s]"
     ]
    },
    {
     "name": "stdout",
     "output_type": "stream",
     "text": [
      "4/4 [==============================] - 0s 1ms/step\n"
     ]
    },
    {
     "name": "stderr",
     "output_type": "stream",
     "text": [
      "100%|######################################################################################################################################| 462/462 [00:04<00:00, 97.64it/s]"
     ]
    },
    {
     "name": "stdout",
     "output_type": "stream",
     "text": [
      "4/4 [==============================] - 0s 2ms/step\n"
     ]
    },
    {
     "name": "stderr",
     "output_type": "stream",
     "text": [
      "\n"
     ]
    },
    {
     "name": "stdout",
     "output_type": "stream",
     "text": [
      "calculating feature importance for column 1 ...\n"
     ]
    },
    {
     "name": "stderr",
     "output_type": "stream",
     "text": [
      "  0%|                                                                                                                                                | 0/462 [00:00<?, ?it/s]"
     ]
    },
    {
     "name": "stdout",
     "output_type": "stream",
     "text": [
      "65/65 [==============================] - 0s 3ms/step\n"
     ]
    },
    {
     "name": "stderr",
     "output_type": "stream",
     "text": [
      "  5%|######1                                                                                                                                | 21/462 [00:00<00:06, 68.91it/s]"
     ]
    },
    {
     "name": "stdout",
     "output_type": "stream",
     "text": [
      "62/62 [==============================] - 0s 2ms/step\n"
     ]
    },
    {
     "name": "stderr",
     "output_type": "stream",
     "text": [
      "  9%|###########9                                                                                                                           | 41/462 [00:00<00:05, 75.22it/s]"
     ]
    },
    {
     "name": "stdout",
     "output_type": "stream",
     "text": [
      "62/62 [==============================] - 0s 2ms/step\n"
     ]
    },
    {
     "name": "stderr",
     "output_type": "stream",
     "text": [
      " 13%|#################8                                                                                                                     | 61/462 [00:00<00:05, 79.81it/s]"
     ]
    },
    {
     "name": "stdout",
     "output_type": "stream",
     "text": [
      "62/62 [==============================] - 0s 1ms/step\n"
     ]
    },
    {
     "name": "stderr",
     "output_type": "stream",
     "text": [
      " 18%|#######################6                                                                                                               | 81/462 [00:00<00:04, 89.50it/s]"
     ]
    },
    {
     "name": "stdout",
     "output_type": "stream",
     "text": [
      "62/62 [==============================] - 0s 1ms/step\n"
     ]
    },
    {
     "name": "stderr",
     "output_type": "stream",
     "text": [
      " 22%|#############################2                                                                                                        | 101/462 [00:01<00:03, 99.09it/s]"
     ]
    },
    {
     "name": "stdout",
     "output_type": "stream",
     "text": [
      "62/62 [==============================] - 0s 1ms/step\n"
     ]
    },
    {
     "name": "stderr",
     "output_type": "stream",
     "text": [
      " 26%|##################################8                                                                                                  | 121/462 [00:01<00:03, 106.54it/s]"
     ]
    },
    {
     "name": "stdout",
     "output_type": "stream",
     "text": [
      "62/62 [==============================] - 0s 1ms/step\n"
     ]
    },
    {
     "name": "stderr",
     "output_type": "stream",
     "text": [
      " 31%|########################################5                                                                                            | 141/462 [00:01<00:03, 106.94it/s]"
     ]
    },
    {
     "name": "stdout",
     "output_type": "stream",
     "text": [
      "62/62 [==============================] - 0s 1ms/step\n"
     ]
    },
    {
     "name": "stderr",
     "output_type": "stream",
     "text": [
      " 35%|##############################################3                                                                                      | 161/462 [00:01<00:02, 109.28it/s]"
     ]
    },
    {
     "name": "stdout",
     "output_type": "stream",
     "text": [
      "62/62 [==============================] - 0s 2ms/step\n"
     ]
    },
    {
     "name": "stderr",
     "output_type": "stream",
     "text": [
      " 39%|####################################################1                                                                                | 181/462 [00:01<00:02, 103.41it/s]"
     ]
    },
    {
     "name": "stdout",
     "output_type": "stream",
     "text": [
      "62/62 [==============================] - 0s 2ms/step\n"
     ]
    },
    {
     "name": "stderr",
     "output_type": "stream",
     "text": [
      " 44%|#########################################################8                                                                           | 201/462 [00:02<00:02, 101.95it/s]"
     ]
    },
    {
     "name": "stdout",
     "output_type": "stream",
     "text": [
      "62/62 [==============================] - 0s 3ms/step\n"
     ]
    },
    {
     "name": "stderr",
     "output_type": "stream",
     "text": [
      " 48%|################################################################                                                                      | 221/462 [00:02<00:02, 91.55it/s]"
     ]
    },
    {
     "name": "stdout",
     "output_type": "stream",
     "text": [
      "62/62 [==============================] - 0s 1ms/step\n"
     ]
    },
    {
     "name": "stderr",
     "output_type": "stream",
     "text": [
      " 52%|#####################################################################9                                                                | 241/462 [00:02<00:02, 97.43it/s]"
     ]
    },
    {
     "name": "stdout",
     "output_type": "stream",
     "text": [
      "62/62 [==============================] - 0s 2ms/step\n"
     ]
    },
    {
     "name": "stderr",
     "output_type": "stream",
     "text": [
      " 56%|###########################################################################7                                                          | 261/462 [00:02<00:02, 96.91it/s]"
     ]
    },
    {
     "name": "stdout",
     "output_type": "stream",
     "text": [
      "62/62 [==============================] - 0s 2ms/step\n"
     ]
    },
    {
     "name": "stderr",
     "output_type": "stream",
     "text": [
      " 61%|#################################################################################5                                                    | 281/462 [00:02<00:01, 95.30it/s]"
     ]
    },
    {
     "name": "stdout",
     "output_type": "stream",
     "text": [
      "62/62 [==============================] - 0s 2ms/step\n"
     ]
    },
    {
     "name": "stderr",
     "output_type": "stream",
     "text": [
      " 65%|#######################################################################################3                                              | 301/462 [00:03<00:01, 96.53it/s]"
     ]
    },
    {
     "name": "stdout",
     "output_type": "stream",
     "text": [
      "62/62 [==============================] - 0s 2ms/step\n"
     ]
    },
    {
     "name": "stderr",
     "output_type": "stream",
     "text": [
      " 69%|#############################################################################################1                                        | 321/462 [00:03<00:01, 97.76it/s]"
     ]
    },
    {
     "name": "stdout",
     "output_type": "stream",
     "text": [
      "62/62 [==============================] - 0s 2ms/step\n"
     ]
    },
    {
     "name": "stderr",
     "output_type": "stream",
     "text": [
      " 74%|##################################################################################################9                                   | 341/462 [00:03<00:01, 98.40it/s]"
     ]
    },
    {
     "name": "stdout",
     "output_type": "stream",
     "text": [
      "62/62 [==============================] - 0s 2ms/step\n"
     ]
    },
    {
     "name": "stderr",
     "output_type": "stream",
     "text": [
      " 78%|########################################################################################################7                             | 361/462 [00:03<00:01, 93.94it/s]"
     ]
    },
    {
     "name": "stdout",
     "output_type": "stream",
     "text": [
      "62/62 [==============================] - 0s 3ms/step\n"
     ]
    },
    {
     "name": "stderr",
     "output_type": "stream",
     "text": [
      " 82%|##############################################################################################################5                       | 381/462 [00:04<00:00, 87.60it/s]"
     ]
    },
    {
     "name": "stdout",
     "output_type": "stream",
     "text": [
      "62/62 [==============================] - 0s 2ms/step\n"
     ]
    },
    {
     "name": "stderr",
     "output_type": "stream",
     "text": [
      " 87%|####################################################################################################################3                 | 401/462 [00:04<00:00, 87.22it/s]"
     ]
    },
    {
     "name": "stdout",
     "output_type": "stream",
     "text": [
      "62/62 [==============================] - 0s 2ms/step\n"
     ]
    },
    {
     "name": "stderr",
     "output_type": "stream",
     "text": [
      " 91%|##########################################################################################################################1           | 421/462 [00:04<00:00, 91.31it/s]"
     ]
    },
    {
     "name": "stdout",
     "output_type": "stream",
     "text": [
      "62/62 [==============================] - 0s 1ms/step\n"
     ]
    },
    {
     "name": "stderr",
     "output_type": "stream",
     "text": [
      " 95%|###############################################################################################################################9      | 441/462 [00:04<00:00, 97.66it/s]"
     ]
    },
    {
     "name": "stdout",
     "output_type": "stream",
     "text": [
      "62/62 [==============================] - 0s 4ms/step\n"
     ]
    },
    {
     "name": "stderr",
     "output_type": "stream",
     "text": [
      "100%|#####################################################################################################################################7| 461/462 [00:04<00:00, 83.20it/s]"
     ]
    },
    {
     "name": "stdout",
     "output_type": "stream",
     "text": [
      "4/4 [==============================] - 0s 1ms/step\n"
     ]
    },
    {
     "name": "stderr",
     "output_type": "stream",
     "text": [
      "100%|######################################################################################################################################| 462/462 [00:04<00:00, 92.54it/s]"
     ]
    },
    {
     "name": "stdout",
     "output_type": "stream",
     "text": [
      "4/4 [==============================] - 0s 1ms/step\n"
     ]
    },
    {
     "name": "stderr",
     "output_type": "stream",
     "text": [
      "\n"
     ]
    },
    {
     "name": "stdout",
     "output_type": "stream",
     "text": [
      "calculating feature importance for column 1 ...\n"
     ]
    },
    {
     "name": "stderr",
     "output_type": "stream",
     "text": [
      "  0%|                                                                                                                                                | 0/462 [00:00<?, ?it/s]"
     ]
    },
    {
     "name": "stdout",
     "output_type": "stream",
     "text": [
      "65/65 [==============================] - 0s 1ms/step\n"
     ]
    },
    {
     "name": "stderr",
     "output_type": "stream",
     "text": [
      "  5%|######                                                                                                                                | 21/462 [00:00<00:04, 103.90it/s]"
     ]
    },
    {
     "name": "stdout",
     "output_type": "stream",
     "text": [
      "62/62 [==============================] - 0s 2ms/step\n"
     ]
    },
    {
     "name": "stderr",
     "output_type": "stream",
     "text": [
      "  9%|###########9                                                                                                                           | 41/462 [00:00<00:04, 98.49it/s]"
     ]
    },
    {
     "name": "stdout",
     "output_type": "stream",
     "text": [
      "62/62 [==============================] - 0s 2ms/step\n"
     ]
    },
    {
     "name": "stderr",
     "output_type": "stream",
     "text": [
      " 13%|#################8                                                                                                                     | 61/462 [00:00<00:04, 89.60it/s]"
     ]
    },
    {
     "name": "stdout",
     "output_type": "stream",
     "text": [
      "62/62 [==============================] - 0s 3ms/step\n"
     ]
    },
    {
     "name": "stderr",
     "output_type": "stream",
     "text": [
      " 18%|#######################6                                                                                                               | 81/462 [00:00<00:04, 83.45it/s]"
     ]
    },
    {
     "name": "stdout",
     "output_type": "stream",
     "text": [
      "62/62 [==============================] - 0s 1ms/step\n"
     ]
    },
    {
     "name": "stderr",
     "output_type": "stream",
     "text": [
      " 22%|#############################2                                                                                                        | 101/462 [00:01<00:03, 91.99it/s]"
     ]
    },
    {
     "name": "stdout",
     "output_type": "stream",
     "text": [
      "62/62 [==============================] - 0s 2ms/step\n"
     ]
    },
    {
     "name": "stderr",
     "output_type": "stream",
     "text": [
      " 26%|###################################                                                                                                   | 121/462 [00:01<00:03, 95.05it/s]"
     ]
    },
    {
     "name": "stdout",
     "output_type": "stream",
     "text": [
      "62/62 [==============================] - 0s 1ms/step\n"
     ]
    },
    {
     "name": "stderr",
     "output_type": "stream",
     "text": [
      " 31%|########################################8                                                                                             | 141/462 [00:01<00:03, 99.82it/s]"
     ]
    },
    {
     "name": "stdout",
     "output_type": "stream",
     "text": [
      "62/62 [==============================] - 0s 2ms/step\n"
     ]
    },
    {
     "name": "stderr",
     "output_type": "stream",
     "text": [
      " 35%|##############################################6                                                                                       | 161/462 [00:01<00:03, 95.15it/s]"
     ]
    },
    {
     "name": "stdout",
     "output_type": "stream",
     "text": [
      "62/62 [==============================] - 0s 2ms/step\n"
     ]
    },
    {
     "name": "stderr",
     "output_type": "stream",
     "text": [
      " 39%|####################################################4                                                                                 | 181/462 [00:01<00:02, 97.54it/s]"
     ]
    },
    {
     "name": "stdout",
     "output_type": "stream",
     "text": [
      "62/62 [==============================] - 0s 1ms/step\n"
     ]
    },
    {
     "name": "stderr",
     "output_type": "stream",
     "text": [
      " 44%|##########################################################2                                                                           | 201/462 [00:02<00:02, 99.72it/s]"
     ]
    },
    {
     "name": "stdout",
     "output_type": "stream",
     "text": [
      "62/62 [==============================] - 0s 2ms/step\n"
     ]
    },
    {
     "name": "stderr",
     "output_type": "stream",
     "text": [
      " 48%|################################################################                                                                      | 221/462 [00:02<00:02, 95.68it/s]"
     ]
    },
    {
     "name": "stdout",
     "output_type": "stream",
     "text": [
      "62/62 [==============================] - 0s 1ms/step\n"
     ]
    },
    {
     "name": "stderr",
     "output_type": "stream",
     "text": [
      " 52%|#####################################################################9                                                                | 241/462 [00:02<00:02, 98.11it/s]"
     ]
    },
    {
     "name": "stdout",
     "output_type": "stream",
     "text": [
      "62/62 [==============================] - 0s 2ms/step\n"
     ]
    },
    {
     "name": "stderr",
     "output_type": "stream",
     "text": [
      " 56%|###########################################################################7                                                          | 261/462 [00:02<00:02, 99.93it/s]"
     ]
    },
    {
     "name": "stdout",
     "output_type": "stream",
     "text": [
      "62/62 [==============================] - 0s 2ms/step\n"
     ]
    },
    {
     "name": "stderr",
     "output_type": "stream",
     "text": [
      " 61%|################################################################################8                                                    | 281/462 [00:02<00:01, 101.46it/s]"
     ]
    },
    {
     "name": "stdout",
     "output_type": "stream",
     "text": [
      "62/62 [==============================] - 0s 2ms/step\n"
     ]
    },
    {
     "name": "stderr",
     "output_type": "stream",
     "text": [
      " 65%|#######################################################################################3                                              | 301/462 [00:03<00:01, 93.96it/s]"
     ]
    },
    {
     "name": "stdout",
     "output_type": "stream",
     "text": [
      "62/62 [==============================] - 0s 1ms/step\n"
     ]
    },
    {
     "name": "stderr",
     "output_type": "stream",
     "text": [
      " 69%|#############################################################################################1                                        | 321/462 [00:03<00:01, 99.37it/s]"
     ]
    },
    {
     "name": "stdout",
     "output_type": "stream",
     "text": [
      "62/62 [==============================] - 0s 2ms/step\n"
     ]
    },
    {
     "name": "stderr",
     "output_type": "stream",
     "text": [
      " 74%|##################################################################################################9                                   | 341/462 [00:03<00:01, 92.88it/s]"
     ]
    },
    {
     "name": "stdout",
     "output_type": "stream",
     "text": [
      "62/62 [==============================] - 0s 2ms/step\n"
     ]
    },
    {
     "name": "stderr",
     "output_type": "stream",
     "text": [
      " 78%|########################################################################################################7                             | 361/462 [00:03<00:01, 95.82it/s]"
     ]
    },
    {
     "name": "stdout",
     "output_type": "stream",
     "text": [
      "62/62 [==============================] - 0s 2ms/step\n"
     ]
    },
    {
     "name": "stderr",
     "output_type": "stream",
     "text": [
      " 82%|##############################################################################################################5                       | 381/462 [00:04<00:00, 91.59it/s]"
     ]
    },
    {
     "name": "stdout",
     "output_type": "stream",
     "text": [
      "62/62 [==============================] - 0s 3ms/step\n"
     ]
    },
    {
     "name": "stderr",
     "output_type": "stream",
     "text": [
      " 87%|####################################################################################################################3                 | 401/462 [00:04<00:00, 82.57it/s]"
     ]
    },
    {
     "name": "stdout",
     "output_type": "stream",
     "text": [
      "62/62 [==============================] - 0s 2ms/step\n"
     ]
    },
    {
     "name": "stderr",
     "output_type": "stream",
     "text": [
      " 91%|##########################################################################################################################1           | 421/462 [00:04<00:00, 80.69it/s]"
     ]
    },
    {
     "name": "stdout",
     "output_type": "stream",
     "text": [
      "62/62 [==============================] - 0s 1ms/step\n"
     ]
    },
    {
     "name": "stderr",
     "output_type": "stream",
     "text": [
      " 95%|###############################################################################################################################9      | 441/462 [00:04<00:00, 88.96it/s]"
     ]
    },
    {
     "name": "stdout",
     "output_type": "stream",
     "text": [
      "62/62 [==============================] - 0s 1ms/step\n"
     ]
    },
    {
     "name": "stderr",
     "output_type": "stream",
     "text": [
      "100%|#####################################################################################################################################7| 461/462 [00:04<00:00, 96.31it/s]"
     ]
    },
    {
     "name": "stdout",
     "output_type": "stream",
     "text": [
      "4/4 [==============================] - 0s 1ms/step\n"
     ]
    },
    {
     "name": "stderr",
     "output_type": "stream",
     "text": [
      "100%|######################################################################################################################################| 462/462 [00:04<00:00, 93.64it/s]"
     ]
    },
    {
     "name": "stdout",
     "output_type": "stream",
     "text": [
      "4/4 [==============================] - 0s 1ms/step\n"
     ]
    },
    {
     "name": "stderr",
     "output_type": "stream",
     "text": [
      "\n"
     ]
    },
    {
     "name": "stdout",
     "output_type": "stream",
     "text": [
      "calculating feature importance for column 1 ...\n"
     ]
    },
    {
     "name": "stderr",
     "output_type": "stream",
     "text": [
      "  0%|                                                                                                                                                | 0/462 [00:00<?, ?it/s]"
     ]
    },
    {
     "name": "stdout",
     "output_type": "stream",
     "text": [
      "65/65 [==============================] - 0s 1ms/step\n"
     ]
    },
    {
     "name": "stderr",
     "output_type": "stream",
     "text": [
      "  5%|######                                                                                                                                | 21/462 [00:00<00:03, 123.15it/s]"
     ]
    },
    {
     "name": "stdout",
     "output_type": "stream",
     "text": [
      "62/62 [==============================] - 0s 1ms/step\n"
     ]
    },
    {
     "name": "stderr",
     "output_type": "stream",
     "text": [
      "  9%|###########8                                                                                                                          | 41/462 [00:00<00:03, 116.79it/s]"
     ]
    },
    {
     "name": "stdout",
     "output_type": "stream",
     "text": [
      "62/62 [==============================] - 0s 2ms/step\n"
     ]
    },
    {
     "name": "stderr",
     "output_type": "stream",
     "text": [
      " 13%|#################6                                                                                                                    | 61/462 [00:00<00:03, 107.42it/s]"
     ]
    },
    {
     "name": "stdout",
     "output_type": "stream",
     "text": [
      "62/62 [==============================] - 0s 1ms/step\n"
     ]
    },
    {
     "name": "stderr",
     "output_type": "stream",
     "text": [
      " 18%|#######################4                                                                                                              | 81/462 [00:00<00:03, 111.91it/s]"
     ]
    },
    {
     "name": "stdout",
     "output_type": "stream",
     "text": [
      "62/62 [==============================] - 0s 1ms/step\n"
     ]
    },
    {
     "name": "stderr",
     "output_type": "stream",
     "text": [
      " 22%|#############################                                                                                                        | 101/462 [00:00<00:03, 111.73it/s]"
     ]
    },
    {
     "name": "stdout",
     "output_type": "stream",
     "text": [
      "62/62 [==============================] - 0s 1ms/step\n"
     ]
    },
    {
     "name": "stderr",
     "output_type": "stream",
     "text": [
      " 26%|##################################8                                                                                                  | 121/462 [00:01<00:03, 113.37it/s]"
     ]
    },
    {
     "name": "stdout",
     "output_type": "stream",
     "text": [
      "62/62 [==============================] - 0s 3ms/step\n"
     ]
    },
    {
     "name": "stderr",
     "output_type": "stream",
     "text": [
      " 31%|########################################8                                                                                             | 141/462 [00:01<00:03, 98.36it/s]"
     ]
    },
    {
     "name": "stdout",
     "output_type": "stream",
     "text": [
      "62/62 [==============================] - 0s 1ms/step\n"
     ]
    },
    {
     "name": "stderr",
     "output_type": "stream",
     "text": [
      " 35%|##############################################3                                                                                      | 161/462 [00:01<00:02, 103.78it/s]"
     ]
    },
    {
     "name": "stdout",
     "output_type": "stream",
     "text": [
      "62/62 [==============================] - 0s 3ms/step\n"
     ]
    },
    {
     "name": "stderr",
     "output_type": "stream",
     "text": [
      " 39%|####################################################4                                                                                 | 181/462 [00:01<00:03, 90.54it/s]"
     ]
    },
    {
     "name": "stdout",
     "output_type": "stream",
     "text": [
      "62/62 [==============================] - 0s 3ms/step\n"
     ]
    },
    {
     "name": "stderr",
     "output_type": "stream",
     "text": [
      " 44%|##########################################################2                                                                           | 201/462 [00:02<00:03, 80.78it/s]"
     ]
    },
    {
     "name": "stdout",
     "output_type": "stream",
     "text": [
      "62/62 [==============================] - 0s 2ms/step\n"
     ]
    },
    {
     "name": "stderr",
     "output_type": "stream",
     "text": [
      " 48%|################################################################                                                                      | 221/462 [00:02<00:02, 80.96it/s]"
     ]
    },
    {
     "name": "stdout",
     "output_type": "stream",
     "text": [
      "62/62 [==============================] - 0s 1ms/step\n"
     ]
    },
    {
     "name": "stderr",
     "output_type": "stream",
     "text": [
      " 52%|#####################################################################9                                                                | 241/462 [00:02<00:02, 88.29it/s]"
     ]
    },
    {
     "name": "stdout",
     "output_type": "stream",
     "text": [
      "62/62 [==============================] - 0s 2ms/step\n"
     ]
    },
    {
     "name": "stderr",
     "output_type": "stream",
     "text": [
      " 56%|###########################################################################7                                                          | 261/462 [00:02<00:02, 86.99it/s]"
     ]
    },
    {
     "name": "stdout",
     "output_type": "stream",
     "text": [
      "62/62 [==============================] - 0s 2ms/step\n"
     ]
    },
    {
     "name": "stderr",
     "output_type": "stream",
     "text": [
      " 61%|#################################################################################5                                                    | 281/462 [00:03<00:02, 84.42it/s]"
     ]
    },
    {
     "name": "stdout",
     "output_type": "stream",
     "text": [
      "62/62 [==============================] - 0s 1ms/step\n"
     ]
    },
    {
     "name": "stderr",
     "output_type": "stream",
     "text": [
      " 65%|#######################################################################################3                                              | 301/462 [00:03<00:01, 93.54it/s]"
     ]
    },
    {
     "name": "stdout",
     "output_type": "stream",
     "text": [
      "62/62 [==============================] - 0s 2ms/step\n"
     ]
    },
    {
     "name": "stderr",
     "output_type": "stream",
     "text": [
      " 69%|#############################################################################################1                                        | 321/462 [00:03<00:01, 96.19it/s]"
     ]
    },
    {
     "name": "stdout",
     "output_type": "stream",
     "text": [
      "62/62 [==============================] - 0s 2ms/step\n"
     ]
    },
    {
     "name": "stderr",
     "output_type": "stream",
     "text": [
      " 74%|##################################################################################################9                                   | 341/462 [00:03<00:01, 89.80it/s]"
     ]
    },
    {
     "name": "stdout",
     "output_type": "stream",
     "text": [
      "62/62 [==============================] - 0s 3ms/step\n"
     ]
    },
    {
     "name": "stderr",
     "output_type": "stream",
     "text": [
      " 78%|########################################################################################################7                             | 361/462 [00:03<00:01, 84.26it/s]"
     ]
    },
    {
     "name": "stdout",
     "output_type": "stream",
     "text": [
      "62/62 [==============================] - 0s 2ms/step\n"
     ]
    },
    {
     "name": "stderr",
     "output_type": "stream",
     "text": [
      " 82%|##############################################################################################################5                       | 381/462 [00:04<00:00, 86.92it/s]"
     ]
    },
    {
     "name": "stdout",
     "output_type": "stream",
     "text": [
      "62/62 [==============================] - 0s 2ms/step\n"
     ]
    },
    {
     "name": "stderr",
     "output_type": "stream",
     "text": [
      " 87%|####################################################################################################################3                 | 401/462 [00:04<00:00, 88.27it/s]"
     ]
    },
    {
     "name": "stdout",
     "output_type": "stream",
     "text": [
      "62/62 [==============================] - 0s 3ms/step\n"
     ]
    },
    {
     "name": "stderr",
     "output_type": "stream",
     "text": [
      " 91%|##########################################################################################################################1           | 421/462 [00:04<00:00, 81.20it/s]"
     ]
    },
    {
     "name": "stdout",
     "output_type": "stream",
     "text": [
      "62/62 [==============================] - 0s 1ms/step\n"
     ]
    },
    {
     "name": "stderr",
     "output_type": "stream",
     "text": [
      " 95%|###############################################################################################################################9      | 441/462 [00:04<00:00, 88.08it/s]"
     ]
    },
    {
     "name": "stdout",
     "output_type": "stream",
     "text": [
      "62/62 [==============================] - 0s 2ms/step\n"
     ]
    },
    {
     "name": "stderr",
     "output_type": "stream",
     "text": [
      "100%|#####################################################################################################################################7| 461/462 [00:05<00:00, 89.34it/s]"
     ]
    },
    {
     "name": "stdout",
     "output_type": "stream",
     "text": [
      "4/4 [==============================] - 0s 1ms/step\n"
     ]
    },
    {
     "name": "stderr",
     "output_type": "stream",
     "text": [
      "100%|######################################################################################################################################| 462/462 [00:05<00:00, 91.58it/s]\n"
     ]
    },
    {
     "name": "stdout",
     "output_type": "stream",
     "text": [
      "4/4 [==============================] - 0s 1ms/step\n",
      "calculating feature importance for column 1 ...\n"
     ]
    },
    {
     "name": "stderr",
     "output_type": "stream",
     "text": [
      "  0%|                                                                                                                                                | 0/462 [00:00<?, ?it/s]"
     ]
    },
    {
     "name": "stdout",
     "output_type": "stream",
     "text": [
      "65/65 [==============================] - 0s 2ms/step\n"
     ]
    },
    {
     "name": "stderr",
     "output_type": "stream",
     "text": [
      "  5%|######1                                                                                                                                | 21/462 [00:00<00:05, 76.57it/s]"
     ]
    },
    {
     "name": "stdout",
     "output_type": "stream",
     "text": [
      "62/62 [==============================] - 0s 3ms/step\n"
     ]
    },
    {
     "name": "stderr",
     "output_type": "stream",
     "text": [
      "  9%|###########9                                                                                                                           | 41/462 [00:00<00:05, 73.63it/s]"
     ]
    },
    {
     "name": "stdout",
     "output_type": "stream",
     "text": [
      "62/62 [==============================] - 0s 2ms/step\n"
     ]
    },
    {
     "name": "stderr",
     "output_type": "stream",
     "text": [
      " 13%|#################8                                                                                                                     | 61/462 [00:00<00:05, 79.52it/s]"
     ]
    },
    {
     "name": "stdout",
     "output_type": "stream",
     "text": [
      "62/62 [==============================] - 0s 2ms/step\n"
     ]
    },
    {
     "name": "stderr",
     "output_type": "stream",
     "text": [
      " 18%|#######################6                                                                                                               | 81/462 [00:00<00:04, 85.81it/s]"
     ]
    },
    {
     "name": "stdout",
     "output_type": "stream",
     "text": [
      "62/62 [==============================] - 0s 1ms/step\n"
     ]
    },
    {
     "name": "stderr",
     "output_type": "stream",
     "text": [
      " 22%|#############################2                                                                                                        | 101/462 [00:01<00:03, 95.58it/s]"
     ]
    },
    {
     "name": "stdout",
     "output_type": "stream",
     "text": [
      "62/62 [==============================] - 0s 1ms/step\n"
     ]
    },
    {
     "name": "stderr",
     "output_type": "stream",
     "text": [
      " 26%|##################################8                                                                                                  | 121/462 [00:01<00:03, 100.65it/s]"
     ]
    },
    {
     "name": "stdout",
     "output_type": "stream",
     "text": [
      "62/62 [==============================] - 0s 1ms/step\n"
     ]
    },
    {
     "name": "stderr",
     "output_type": "stream",
     "text": [
      " 31%|########################################5                                                                                            | 141/462 [00:01<00:03, 105.02it/s]"
     ]
    },
    {
     "name": "stdout",
     "output_type": "stream",
     "text": [
      "62/62 [==============================] - 0s 1ms/step\n"
     ]
    },
    {
     "name": "stderr",
     "output_type": "stream",
     "text": [
      " 35%|##############################################3                                                                                      | 161/462 [00:01<00:02, 107.81it/s]"
     ]
    },
    {
     "name": "stdout",
     "output_type": "stream",
     "text": [
      "62/62 [==============================] - 0s 1ms/step\n"
     ]
    },
    {
     "name": "stderr",
     "output_type": "stream",
     "text": [
      " 39%|####################################################1                                                                                | 181/462 [00:01<00:02, 107.13it/s]"
     ]
    },
    {
     "name": "stdout",
     "output_type": "stream",
     "text": [
      "62/62 [==============================] - 0s 2ms/step\n"
     ]
    },
    {
     "name": "stderr",
     "output_type": "stream",
     "text": [
      " 44%|#########################################################8                                                                           | 201/462 [00:02<00:02, 102.42it/s]"
     ]
    },
    {
     "name": "stdout",
     "output_type": "stream",
     "text": [
      "62/62 [==============================] - 0s 2ms/step\n"
     ]
    },
    {
     "name": "stderr",
     "output_type": "stream",
     "text": [
      " 48%|###############################################################6                                                                     | 221/462 [00:02<00:02, 102.75it/s]"
     ]
    },
    {
     "name": "stdout",
     "output_type": "stream",
     "text": [
      "62/62 [==============================] - 0s 1ms/step\n"
     ]
    },
    {
     "name": "stderr",
     "output_type": "stream",
     "text": [
      " 52%|#####################################################################3                                                               | 241/462 [00:02<00:02, 107.93it/s]"
     ]
    },
    {
     "name": "stdout",
     "output_type": "stream",
     "text": [
      "62/62 [==============================] - 0s 1ms/step\n"
     ]
    },
    {
     "name": "stderr",
     "output_type": "stream",
     "text": [
      " 56%|###########################################################################1                                                         | 261/462 [00:02<00:01, 109.02it/s]"
     ]
    },
    {
     "name": "stdout",
     "output_type": "stream",
     "text": [
      "62/62 [==============================] - 0s 1ms/step\n"
     ]
    },
    {
     "name": "stderr",
     "output_type": "stream",
     "text": [
      " 61%|################################################################################8                                                    | 281/462 [00:02<00:01, 109.83it/s]"
     ]
    },
    {
     "name": "stdout",
     "output_type": "stream",
     "text": [
      "62/62 [==============================] - 0s 1ms/step\n"
     ]
    },
    {
     "name": "stderr",
     "output_type": "stream",
     "text": [
      " 65%|######################################################################################6                                              | 301/462 [00:02<00:01, 108.83it/s]"
     ]
    },
    {
     "name": "stdout",
     "output_type": "stream",
     "text": [
      "62/62 [==============================] - 0s 2ms/step\n"
     ]
    },
    {
     "name": "stderr",
     "output_type": "stream",
     "text": [
      " 69%|#############################################################################################1                                        | 321/462 [00:03<00:01, 96.45it/s]"
     ]
    },
    {
     "name": "stdout",
     "output_type": "stream",
     "text": [
      "62/62 [==============================] - 0s 3ms/step\n"
     ]
    },
    {
     "name": "stderr",
     "output_type": "stream",
     "text": [
      " 74%|##################################################################################################9                                   | 341/462 [00:03<00:01, 82.34it/s]"
     ]
    },
    {
     "name": "stdout",
     "output_type": "stream",
     "text": [
      "62/62 [==============================] - 0s 3ms/step\n"
     ]
    },
    {
     "name": "stderr",
     "output_type": "stream",
     "text": [
      " 78%|########################################################################################################7                             | 361/462 [00:03<00:01, 80.35it/s]"
     ]
    },
    {
     "name": "stdout",
     "output_type": "stream",
     "text": [
      "62/62 [==============================] - 0s 2ms/step\n"
     ]
    },
    {
     "name": "stderr",
     "output_type": "stream",
     "text": [
      " 82%|##############################################################################################################5                       | 381/462 [00:04<00:00, 82.44it/s]"
     ]
    },
    {
     "name": "stdout",
     "output_type": "stream",
     "text": [
      "62/62 [==============================] - 0s 1ms/step\n"
     ]
    },
    {
     "name": "stderr",
     "output_type": "stream",
     "text": [
      " 87%|####################################################################################################################3                 | 401/462 [00:04<00:00, 89.52it/s]"
     ]
    },
    {
     "name": "stdout",
     "output_type": "stream",
     "text": [
      "62/62 [==============================] - 0s 1ms/step\n"
     ]
    },
    {
     "name": "stderr",
     "output_type": "stream",
     "text": [
      " 91%|##########################################################################################################################1           | 421/462 [00:04<00:00, 96.24it/s]"
     ]
    },
    {
     "name": "stdout",
     "output_type": "stream",
     "text": [
      "62/62 [==============================] - 0s 3ms/step\n"
     ]
    },
    {
     "name": "stderr",
     "output_type": "stream",
     "text": [
      " 95%|###############################################################################################################################9      | 441/462 [00:04<00:00, 88.31it/s]"
     ]
    },
    {
     "name": "stdout",
     "output_type": "stream",
     "text": [
      "62/62 [==============================] - 0s 1ms/step\n"
     ]
    },
    {
     "name": "stderr",
     "output_type": "stream",
     "text": [
      "100%|#####################################################################################################################################7| 461/462 [00:04<00:00, 95.86it/s]"
     ]
    },
    {
     "name": "stdout",
     "output_type": "stream",
     "text": [
      "4/4 [==============================] - 0s 1ms/step\n"
     ]
    },
    {
     "name": "stderr",
     "output_type": "stream",
     "text": [
      "100%|######################################################################################################################################| 462/462 [00:04<00:00, 94.61it/s]\n"
     ]
    },
    {
     "name": "stdout",
     "output_type": "stream",
     "text": [
      "4/4 [==============================] - 0s 1ms/step\n",
      "calculating feature importance for column 1 ...\n"
     ]
    },
    {
     "name": "stderr",
     "output_type": "stream",
     "text": [
      "  0%|                                                                                                                                                | 0/462 [00:00<?, ?it/s]"
     ]
    },
    {
     "name": "stdout",
     "output_type": "stream",
     "text": [
      "65/65 [==============================] - 0s 1ms/step\n"
     ]
    },
    {
     "name": "stderr",
     "output_type": "stream",
     "text": [
      "  5%|######                                                                                                                                | 21/462 [00:00<00:03, 124.75it/s]"
     ]
    },
    {
     "name": "stdout",
     "output_type": "stream",
     "text": [
      "62/62 [==============================] - 0s 2ms/step\n"
     ]
    },
    {
     "name": "stderr",
     "output_type": "stream",
     "text": [
      "  9%|###########8                                                                                                                          | 41/462 [00:00<00:03, 105.39it/s]"
     ]
    },
    {
     "name": "stdout",
     "output_type": "stream",
     "text": [
      "62/62 [==============================] - 0s 2ms/step\n"
     ]
    },
    {
     "name": "stderr",
     "output_type": "stream",
     "text": [
      " 13%|#################8                                                                                                                     | 61/462 [00:00<00:04, 97.75it/s]"
     ]
    },
    {
     "name": "stdout",
     "output_type": "stream",
     "text": [
      "62/62 [==============================] - 0s 2ms/step\n"
     ]
    },
    {
     "name": "stderr",
     "output_type": "stream",
     "text": [
      " 18%|#######################6                                                                                                               | 81/462 [00:00<00:04, 90.39it/s]"
     ]
    },
    {
     "name": "stdout",
     "output_type": "stream",
     "text": [
      "62/62 [==============================] - 0s 2ms/step\n"
     ]
    },
    {
     "name": "stderr",
     "output_type": "stream",
     "text": [
      " 22%|#############################2                                                                                                        | 101/462 [00:01<00:04, 86.75it/s]"
     ]
    },
    {
     "name": "stdout",
     "output_type": "stream",
     "text": [
      "62/62 [==============================] - 0s 2ms/step\n"
     ]
    },
    {
     "name": "stderr",
     "output_type": "stream",
     "text": [
      " 26%|###################################                                                                                                   | 121/462 [00:01<00:03, 89.97it/s]"
     ]
    },
    {
     "name": "stdout",
     "output_type": "stream",
     "text": [
      "62/62 [==============================] - 0s 1ms/step\n"
     ]
    },
    {
     "name": "stderr",
     "output_type": "stream",
     "text": [
      " 31%|########################################8                                                                                             | 141/462 [00:01<00:03, 96.30it/s]"
     ]
    },
    {
     "name": "stdout",
     "output_type": "stream",
     "text": [
      "62/62 [==============================] - 0s 1ms/step\n"
     ]
    },
    {
     "name": "stderr",
     "output_type": "stream",
     "text": [
      " 35%|##############################################3                                                                                      | 161/462 [00:01<00:02, 102.39it/s]"
     ]
    },
    {
     "name": "stdout",
     "output_type": "stream",
     "text": [
      "62/62 [==============================] - 0s 1ms/step\n"
     ]
    },
    {
     "name": "stderr",
     "output_type": "stream",
     "text": [
      " 39%|####################################################1                                                                                | 181/462 [00:01<00:02, 105.50it/s]"
     ]
    },
    {
     "name": "stdout",
     "output_type": "stream",
     "text": [
      "62/62 [==============================] - 0s 1ms/step\n"
     ]
    },
    {
     "name": "stderr",
     "output_type": "stream",
     "text": [
      " 44%|#########################################################8                                                                           | 201/462 [00:02<00:02, 105.52it/s]"
     ]
    },
    {
     "name": "stdout",
     "output_type": "stream",
     "text": [
      "62/62 [==============================] - 0s 2ms/step\n"
     ]
    },
    {
     "name": "stderr",
     "output_type": "stream",
     "text": [
      " 48%|###############################################################6                                                                     | 221/462 [00:02<00:02, 103.70it/s]"
     ]
    },
    {
     "name": "stdout",
     "output_type": "stream",
     "text": [
      "62/62 [==============================] - 0s 2ms/step\n"
     ]
    },
    {
     "name": "stderr",
     "output_type": "stream",
     "text": [
      " 52%|#####################################################################3                                                               | 241/462 [00:02<00:02, 100.48it/s]"
     ]
    },
    {
     "name": "stdout",
     "output_type": "stream",
     "text": [
      "62/62 [==============================] - 0s 2ms/step\n"
     ]
    },
    {
     "name": "stderr",
     "output_type": "stream",
     "text": [
      " 56%|###########################################################################7                                                          | 261/462 [00:02<00:02, 91.72it/s]"
     ]
    },
    {
     "name": "stdout",
     "output_type": "stream",
     "text": [
      "62/62 [==============================] - 0s 2ms/step\n"
     ]
    },
    {
     "name": "stderr",
     "output_type": "stream",
     "text": [
      " 61%|#################################################################################5                                                    | 281/462 [00:02<00:02, 90.07it/s]"
     ]
    },
    {
     "name": "stdout",
     "output_type": "stream",
     "text": [
      "62/62 [==============================] - 0s 1ms/step\n"
     ]
    },
    {
     "name": "stderr",
     "output_type": "stream",
     "text": [
      " 65%|#######################################################################################3                                              | 301/462 [00:03<00:01, 98.27it/s]"
     ]
    },
    {
     "name": "stdout",
     "output_type": "stream",
     "text": [
      "62/62 [==============================] - 0s 4ms/step\n"
     ]
    },
    {
     "name": "stderr",
     "output_type": "stream",
     "text": [
      " 69%|#############################################################################################1                                        | 321/462 [00:03<00:01, 81.74it/s]"
     ]
    },
    {
     "name": "stdout",
     "output_type": "stream",
     "text": [
      "62/62 [==============================] - 0s 1ms/step\n"
     ]
    },
    {
     "name": "stderr",
     "output_type": "stream",
     "text": [
      " 74%|##################################################################################################9                                   | 341/462 [00:03<00:01, 87.42it/s]"
     ]
    },
    {
     "name": "stdout",
     "output_type": "stream",
     "text": [
      "62/62 [==============================] - 0s 2ms/step\n"
     ]
    },
    {
     "name": "stderr",
     "output_type": "stream",
     "text": [
      " 78%|########################################################################################################7                             | 361/462 [00:03<00:01, 86.86it/s]"
     ]
    },
    {
     "name": "stdout",
     "output_type": "stream",
     "text": [
      "62/62 [==============================] - 0s 2ms/step\n"
     ]
    },
    {
     "name": "stderr",
     "output_type": "stream",
     "text": [
      " 82%|##############################################################################################################5                       | 381/462 [00:04<00:00, 86.35it/s]"
     ]
    },
    {
     "name": "stdout",
     "output_type": "stream",
     "text": [
      "62/62 [==============================] - 0s 1ms/step\n"
     ]
    },
    {
     "name": "stderr",
     "output_type": "stream",
     "text": [
      " 87%|####################################################################################################################3                 | 401/462 [00:04<00:00, 91.93it/s]"
     ]
    },
    {
     "name": "stdout",
     "output_type": "stream",
     "text": [
      "62/62 [==============================] - 0s 1ms/step\n"
     ]
    },
    {
     "name": "stderr",
     "output_type": "stream",
     "text": [
      " 91%|##########################################################################################################################1           | 421/462 [00:04<00:00, 95.97it/s]"
     ]
    },
    {
     "name": "stdout",
     "output_type": "stream",
     "text": [
      "62/62 [==============================] - 0s 1ms/step\n"
     ]
    },
    {
     "name": "stderr",
     "output_type": "stream",
     "text": [
      " 95%|###############################################################################################################################9      | 441/462 [00:04<00:00, 99.47it/s]"
     ]
    },
    {
     "name": "stdout",
     "output_type": "stream",
     "text": [
      "62/62 [==============================] - 0s 2ms/step\n"
     ]
    },
    {
     "name": "stderr",
     "output_type": "stream",
     "text": [
      "100%|####################################################################################################################################7| 461/462 [00:04<00:00, 100.01it/s]"
     ]
    },
    {
     "name": "stdout",
     "output_type": "stream",
     "text": [
      "4/4 [==============================] - 0s 1ms/step\n"
     ]
    },
    {
     "name": "stderr",
     "output_type": "stream",
     "text": [
      "100%|######################################################################################################################################| 462/462 [00:04<00:00, 94.89it/s]\n"
     ]
    },
    {
     "name": "stdout",
     "output_type": "stream",
     "text": [
      "4/4 [==============================] - 0s 1ms/step\n",
      "calculating feature importance for column 1 ...\n"
     ]
    },
    {
     "name": "stderr",
     "output_type": "stream",
     "text": [
      "  0%|                                                                                                                                                | 0/462 [00:00<?, ?it/s]"
     ]
    },
    {
     "name": "stdout",
     "output_type": "stream",
     "text": [
      "65/65 [==============================] - 0s 3ms/step\n"
     ]
    },
    {
     "name": "stderr",
     "output_type": "stream",
     "text": [
      "  5%|######1                                                                                                                                | 21/462 [00:00<00:05, 77.55it/s]"
     ]
    },
    {
     "name": "stdout",
     "output_type": "stream",
     "text": [
      "62/62 [==============================] - 0s 1ms/step\n"
     ]
    },
    {
     "name": "stderr",
     "output_type": "stream",
     "text": [
      "  9%|###########9                                                                                                                           | 41/462 [00:00<00:04, 97.38it/s]"
     ]
    },
    {
     "name": "stdout",
     "output_type": "stream",
     "text": [
      "62/62 [==============================] - 0s 1ms/step\n"
     ]
    },
    {
     "name": "stderr",
     "output_type": "stream",
     "text": [
      " 13%|#################6                                                                                                                    | 61/462 [00:00<00:03, 104.83it/s]"
     ]
    },
    {
     "name": "stdout",
     "output_type": "stream",
     "text": [
      "62/62 [==============================] - 0s 1ms/step\n"
     ]
    },
    {
     "name": "stderr",
     "output_type": "stream",
     "text": [
      " 18%|#######################4                                                                                                              | 81/462 [00:00<00:03, 111.98it/s]"
     ]
    },
    {
     "name": "stdout",
     "output_type": "stream",
     "text": [
      "62/62 [==============================] - 0s 2ms/step\n"
     ]
    },
    {
     "name": "stderr",
     "output_type": "stream",
     "text": [
      " 22%|#############################                                                                                                        | 101/462 [00:00<00:03, 107.29it/s]"
     ]
    },
    {
     "name": "stdout",
     "output_type": "stream",
     "text": [
      "62/62 [==============================] - 0s 1ms/step\n"
     ]
    },
    {
     "name": "stderr",
     "output_type": "stream",
     "text": [
      " 26%|##################################8                                                                                                  | 121/462 [00:01<00:03, 111.81it/s]"
     ]
    },
    {
     "name": "stdout",
     "output_type": "stream",
     "text": [
      "62/62 [==============================] - 0s 1ms/step\n"
     ]
    },
    {
     "name": "stderr",
     "output_type": "stream",
     "text": [
      " 31%|########################################5                                                                                            | 141/462 [00:01<00:02, 116.49it/s]"
     ]
    },
    {
     "name": "stdout",
     "output_type": "stream",
     "text": [
      "62/62 [==============================] - 0s 2ms/step\n"
     ]
    },
    {
     "name": "stderr",
     "output_type": "stream",
     "text": [
      " 35%|##############################################3                                                                                      | 161/462 [00:01<00:02, 106.77it/s]"
     ]
    },
    {
     "name": "stdout",
     "output_type": "stream",
     "text": [
      "62/62 [==============================] - 0s 3ms/step\n"
     ]
    },
    {
     "name": "stderr",
     "output_type": "stream",
     "text": [
      " 39%|####################################################4                                                                                 | 181/462 [00:01<00:03, 92.05it/s]"
     ]
    },
    {
     "name": "stdout",
     "output_type": "stream",
     "text": [
      "62/62 [==============================] - 0s 2ms/step\n"
     ]
    },
    {
     "name": "stderr",
     "output_type": "stream",
     "text": [
      " 44%|##########################################################2                                                                           | 201/462 [00:02<00:02, 93.46it/s]"
     ]
    },
    {
     "name": "stdout",
     "output_type": "stream",
     "text": [
      "62/62 [==============================] - 0s 1ms/step\n"
     ]
    },
    {
     "name": "stderr",
     "output_type": "stream",
     "text": [
      " 48%|################################################################                                                                      | 221/462 [00:02<00:02, 98.03it/s]"
     ]
    },
    {
     "name": "stdout",
     "output_type": "stream",
     "text": [
      "62/62 [==============================] - 0s 2ms/step\n"
     ]
    },
    {
     "name": "stderr",
     "output_type": "stream",
     "text": [
      " 52%|#####################################################################9                                                                | 241/462 [00:02<00:02, 92.72it/s]"
     ]
    },
    {
     "name": "stdout",
     "output_type": "stream",
     "text": [
      "62/62 [==============================] - 0s 2ms/step\n"
     ]
    },
    {
     "name": "stderr",
     "output_type": "stream",
     "text": [
      " 56%|###########################################################################7                                                          | 261/462 [00:02<00:02, 88.09it/s]"
     ]
    },
    {
     "name": "stdout",
     "output_type": "stream",
     "text": [
      "62/62 [==============================] - 0s 1ms/step\n"
     ]
    },
    {
     "name": "stderr",
     "output_type": "stream",
     "text": [
      " 61%|#################################################################################5                                                    | 281/462 [00:02<00:01, 94.35it/s]"
     ]
    },
    {
     "name": "stdout",
     "output_type": "stream",
     "text": [
      "62/62 [==============================] - 0s 3ms/step\n"
     ]
    },
    {
     "name": "stderr",
     "output_type": "stream",
     "text": [
      " 65%|#######################################################################################3                                              | 301/462 [00:03<00:01, 84.84it/s]"
     ]
    },
    {
     "name": "stdout",
     "output_type": "stream",
     "text": [
      "62/62 [==============================] - 0s 1ms/step\n"
     ]
    },
    {
     "name": "stderr",
     "output_type": "stream",
     "text": [
      " 69%|#############################################################################################1                                        | 321/462 [00:03<00:01, 91.23it/s]"
     ]
    },
    {
     "name": "stdout",
     "output_type": "stream",
     "text": [
      "62/62 [==============================] - 0s 2ms/step\n"
     ]
    },
    {
     "name": "stderr",
     "output_type": "stream",
     "text": [
      " 74%|##################################################################################################9                                   | 341/462 [00:03<00:01, 91.78it/s]"
     ]
    },
    {
     "name": "stdout",
     "output_type": "stream",
     "text": [
      "62/62 [==============================] - 0s 2ms/step\n"
     ]
    },
    {
     "name": "stderr",
     "output_type": "stream",
     "text": [
      " 78%|########################################################################################################7                             | 361/462 [00:03<00:01, 91.23it/s]"
     ]
    },
    {
     "name": "stdout",
     "output_type": "stream",
     "text": [
      "62/62 [==============================] - 0s 3ms/step\n"
     ]
    },
    {
     "name": "stderr",
     "output_type": "stream",
     "text": [
      " 82%|##############################################################################################################5                       | 381/462 [00:04<00:00, 83.84it/s]"
     ]
    },
    {
     "name": "stdout",
     "output_type": "stream",
     "text": [
      "62/62 [==============================] - 0s 2ms/step\n"
     ]
    },
    {
     "name": "stderr",
     "output_type": "stream",
     "text": [
      " 87%|####################################################################################################################3                 | 401/462 [00:04<00:00, 86.32it/s]"
     ]
    },
    {
     "name": "stdout",
     "output_type": "stream",
     "text": [
      "62/62 [==============================] - 0s 1ms/step\n"
     ]
    },
    {
     "name": "stderr",
     "output_type": "stream",
     "text": [
      " 91%|##########################################################################################################################1           | 421/462 [00:04<00:00, 94.29it/s]"
     ]
    },
    {
     "name": "stdout",
     "output_type": "stream",
     "text": [
      "62/62 [==============================] - 0s 2ms/step\n"
     ]
    },
    {
     "name": "stderr",
     "output_type": "stream",
     "text": [
      " 95%|###############################################################################################################################9      | 441/462 [00:04<00:00, 94.66it/s]"
     ]
    },
    {
     "name": "stdout",
     "output_type": "stream",
     "text": [
      "62/62 [==============================] - 0s 1ms/step\n"
     ]
    },
    {
     "name": "stderr",
     "output_type": "stream",
     "text": [
      "100%|####################################################################################################################################7| 461/462 [00:04<00:00, 100.14it/s]"
     ]
    },
    {
     "name": "stdout",
     "output_type": "stream",
     "text": [
      "4/4 [==============================] - 0s 2ms/step\n"
     ]
    },
    {
     "name": "stderr",
     "output_type": "stream",
     "text": [
      "100%|######################################################################################################################################| 462/462 [00:04<00:00, 95.32it/s]"
     ]
    },
    {
     "name": "stdout",
     "output_type": "stream",
     "text": [
      "1/4 [======>.......................] - ETA: 0s"
     ]
    },
    {
     "name": "stderr",
     "output_type": "stream",
     "text": [
      "\n"
     ]
    },
    {
     "name": "stdout",
     "output_type": "stream",
     "text": [
      "4/4 [==============================] - 0s 1ms/step\n",
      "calculating feature importance for column 1 ...\n"
     ]
    },
    {
     "name": "stderr",
     "output_type": "stream",
     "text": [
      "  0%|                                                                                                                                                | 0/462 [00:00<?, ?it/s]"
     ]
    },
    {
     "name": "stdout",
     "output_type": "stream",
     "text": [
      "65/65 [==============================] - 0s 2ms/step\n"
     ]
    },
    {
     "name": "stderr",
     "output_type": "stream",
     "text": [
      "  5%|######                                                                                                                                | 21/462 [00:00<00:04, 102.31it/s]"
     ]
    },
    {
     "name": "stdout",
     "output_type": "stream",
     "text": [
      "62/62 [==============================] - 0s 2ms/step\n"
     ]
    },
    {
     "name": "stderr",
     "output_type": "stream",
     "text": [
      "  9%|###########9                                                                                                                           | 41/462 [00:00<00:04, 89.02it/s]"
     ]
    },
    {
     "name": "stdout",
     "output_type": "stream",
     "text": [
      "62/62 [==============================] - 0s 2ms/step\n"
     ]
    },
    {
     "name": "stderr",
     "output_type": "stream",
     "text": [
      " 13%|#################8                                                                                                                     | 61/462 [00:00<00:04, 84.93it/s]"
     ]
    },
    {
     "name": "stdout",
     "output_type": "stream",
     "text": [
      "62/62 [==============================] - 0s 1ms/step\n"
     ]
    },
    {
     "name": "stderr",
     "output_type": "stream",
     "text": [
      " 18%|#######################6                                                                                                               | 81/462 [00:00<00:04, 92.51it/s]"
     ]
    },
    {
     "name": "stdout",
     "output_type": "stream",
     "text": [
      "62/62 [==============================] - 0s 2ms/step\n"
     ]
    },
    {
     "name": "stderr",
     "output_type": "stream",
     "text": [
      " 22%|#############################2                                                                                                        | 101/462 [00:01<00:04, 87.26it/s]"
     ]
    },
    {
     "name": "stdout",
     "output_type": "stream",
     "text": [
      "62/62 [==============================] - 0s 1ms/step\n"
     ]
    },
    {
     "name": "stderr",
     "output_type": "stream",
     "text": [
      " 26%|###################################                                                                                                   | 121/462 [00:01<00:03, 92.49it/s]"
     ]
    },
    {
     "name": "stdout",
     "output_type": "stream",
     "text": [
      "62/62 [==============================] - 0s 2ms/step\n"
     ]
    },
    {
     "name": "stderr",
     "output_type": "stream",
     "text": [
      " 31%|########################################8                                                                                             | 141/462 [00:01<00:03, 91.93it/s]"
     ]
    },
    {
     "name": "stdout",
     "output_type": "stream",
     "text": [
      "62/62 [==============================] - 0s 2ms/step\n"
     ]
    },
    {
     "name": "stderr",
     "output_type": "stream",
     "text": [
      " 35%|##############################################6                                                                                       | 161/462 [00:01<00:03, 94.97it/s]"
     ]
    },
    {
     "name": "stdout",
     "output_type": "stream",
     "text": [
      "62/62 [==============================] - 0s 2ms/step\n"
     ]
    },
    {
     "name": "stderr",
     "output_type": "stream",
     "text": [
      " 39%|####################################################4                                                                                 | 181/462 [00:01<00:02, 95.50it/s]"
     ]
    },
    {
     "name": "stdout",
     "output_type": "stream",
     "text": [
      "62/62 [==============================] - 0s 1ms/step\n"
     ]
    },
    {
     "name": "stderr",
     "output_type": "stream",
     "text": [
      " 44%|##########################################################2                                                                           | 201/462 [00:02<00:02, 98.44it/s]"
     ]
    },
    {
     "name": "stdout",
     "output_type": "stream",
     "text": [
      "62/62 [==============================] - 0s 2ms/step\n"
     ]
    },
    {
     "name": "stderr",
     "output_type": "stream",
     "text": [
      " 48%|################################################################                                                                      | 221/462 [00:02<00:02, 95.29it/s]"
     ]
    },
    {
     "name": "stdout",
     "output_type": "stream",
     "text": [
      "62/62 [==============================] - 0s 1ms/step\n"
     ]
    },
    {
     "name": "stderr",
     "output_type": "stream",
     "text": [
      " 52%|#####################################################################9                                                                | 241/462 [00:02<00:02, 97.75it/s]"
     ]
    },
    {
     "name": "stdout",
     "output_type": "stream",
     "text": [
      "62/62 [==============================] - 0s 1ms/step\n"
     ]
    },
    {
     "name": "stderr",
     "output_type": "stream",
     "text": [
      " 56%|###########################################################################1                                                         | 261/462 [00:02<00:01, 102.46it/s]"
     ]
    },
    {
     "name": "stdout",
     "output_type": "stream",
     "text": [
      "62/62 [==============================] - 0s 1ms/step\n"
     ]
    },
    {
     "name": "stderr",
     "output_type": "stream",
     "text": [
      " 61%|################################################################################8                                                    | 281/462 [00:02<00:01, 105.67it/s]"
     ]
    },
    {
     "name": "stdout",
     "output_type": "stream",
     "text": [
      "62/62 [==============================] - 0s 2ms/step\n"
     ]
    },
    {
     "name": "stderr",
     "output_type": "stream",
     "text": [
      " 65%|#######################################################################################3                                              | 301/462 [00:03<00:01, 95.42it/s]"
     ]
    },
    {
     "name": "stdout",
     "output_type": "stream",
     "text": [
      "62/62 [==============================] - 0s 2ms/step\n"
     ]
    },
    {
     "name": "stderr",
     "output_type": "stream",
     "text": [
      " 69%|#############################################################################################1                                        | 321/462 [00:03<00:01, 89.88it/s]"
     ]
    },
    {
     "name": "stdout",
     "output_type": "stream",
     "text": [
      "62/62 [==============================] - 0s 3ms/step\n"
     ]
    },
    {
     "name": "stderr",
     "output_type": "stream",
     "text": [
      " 74%|##################################################################################################9                                   | 341/462 [00:03<00:01, 84.67it/s]"
     ]
    },
    {
     "name": "stdout",
     "output_type": "stream",
     "text": [
      "62/62 [==============================] - 0s 2ms/step\n"
     ]
    },
    {
     "name": "stderr",
     "output_type": "stream",
     "text": [
      " 78%|########################################################################################################7                             | 361/462 [00:03<00:01, 86.05it/s]"
     ]
    },
    {
     "name": "stdout",
     "output_type": "stream",
     "text": [
      "62/62 [==============================] - 0s 2ms/step\n"
     ]
    },
    {
     "name": "stderr",
     "output_type": "stream",
     "text": [
      " 82%|##############################################################################################################5                       | 381/462 [00:04<00:00, 87.45it/s]"
     ]
    },
    {
     "name": "stdout",
     "output_type": "stream",
     "text": [
      "62/62 [==============================] - 0s 2ms/step\n"
     ]
    },
    {
     "name": "stderr",
     "output_type": "stream",
     "text": [
      " 87%|####################################################################################################################3                 | 401/462 [00:04<00:00, 91.82it/s]"
     ]
    },
    {
     "name": "stdout",
     "output_type": "stream",
     "text": [
      "62/62 [==============================] - 0s 2ms/step\n"
     ]
    },
    {
     "name": "stderr",
     "output_type": "stream",
     "text": [
      " 91%|##########################################################################################################################1           | 421/462 [00:04<00:00, 91.46it/s]"
     ]
    },
    {
     "name": "stdout",
     "output_type": "stream",
     "text": [
      "62/62 [==============================] - 0s 1ms/step\n"
     ]
    },
    {
     "name": "stderr",
     "output_type": "stream",
     "text": [
      " 95%|###############################################################################################################################9      | 441/462 [00:04<00:00, 97.43it/s]"
     ]
    },
    {
     "name": "stdout",
     "output_type": "stream",
     "text": [
      "62/62 [==============================] - 0s 1ms/step\n"
     ]
    },
    {
     "name": "stderr",
     "output_type": "stream",
     "text": [
      "100%|####################################################################################################################################7| 461/462 [00:04<00:00, 101.00it/s]"
     ]
    },
    {
     "name": "stdout",
     "output_type": "stream",
     "text": [
      "4/4 [==============================] - 0s 2ms/step\n"
     ]
    },
    {
     "name": "stderr",
     "output_type": "stream",
     "text": [
      "100%|######################################################################################################################################| 462/462 [00:04<00:00, 93.59it/s]\n"
     ]
    },
    {
     "name": "stdout",
     "output_type": "stream",
     "text": [
      "4/4 [==============================] - 0s 2ms/step\n",
      "calculating feature importance for column 1 ...\n"
     ]
    },
    {
     "name": "stderr",
     "output_type": "stream",
     "text": [
      "  0%|                                                                                                                                                | 0/462 [00:00<?, ?it/s]"
     ]
    },
    {
     "name": "stdout",
     "output_type": "stream",
     "text": [
      "65/65 [==============================] - 0s 3ms/step\n"
     ]
    },
    {
     "name": "stderr",
     "output_type": "stream",
     "text": [
      "  5%|######1                                                                                                                                | 21/462 [00:00<00:05, 75.78it/s]"
     ]
    },
    {
     "name": "stdout",
     "output_type": "stream",
     "text": [
      "62/62 [==============================] - 0s 2ms/step\n"
     ]
    },
    {
     "name": "stderr",
     "output_type": "stream",
     "text": [
      "  9%|###########9                                                                                                                           | 41/462 [00:00<00:04, 86.36it/s]"
     ]
    },
    {
     "name": "stdout",
     "output_type": "stream",
     "text": [
      "62/62 [==============================] - 0s 2ms/step\n"
     ]
    },
    {
     "name": "stderr",
     "output_type": "stream",
     "text": [
      " 13%|#################8                                                                                                                     | 61/462 [00:00<00:04, 84.75it/s]"
     ]
    },
    {
     "name": "stdout",
     "output_type": "stream",
     "text": [
      "62/62 [==============================] - 0s 2ms/step\n"
     ]
    },
    {
     "name": "stderr",
     "output_type": "stream",
     "text": [
      " 18%|#######################6                                                                                                               | 81/462 [00:00<00:04, 89.81it/s]"
     ]
    },
    {
     "name": "stdout",
     "output_type": "stream",
     "text": [
      "62/62 [==============================] - 0s 2ms/step\n"
     ]
    },
    {
     "name": "stderr",
     "output_type": "stream",
     "text": [
      " 22%|#############################2                                                                                                        | 101/462 [00:01<00:03, 94.95it/s]"
     ]
    },
    {
     "name": "stdout",
     "output_type": "stream",
     "text": [
      "62/62 [==============================] - 0s 3ms/step\n"
     ]
    },
    {
     "name": "stderr",
     "output_type": "stream",
     "text": [
      " 26%|###################################                                                                                                   | 121/462 [00:01<00:03, 88.07it/s]"
     ]
    },
    {
     "name": "stdout",
     "output_type": "stream",
     "text": [
      "62/62 [==============================] - 0s 2ms/step\n"
     ]
    },
    {
     "name": "stderr",
     "output_type": "stream",
     "text": [
      " 31%|########################################8                                                                                             | 141/462 [00:01<00:03, 84.68it/s]"
     ]
    },
    {
     "name": "stdout",
     "output_type": "stream",
     "text": [
      "62/62 [==============================] - 0s 3ms/step\n"
     ]
    },
    {
     "name": "stderr",
     "output_type": "stream",
     "text": [
      " 35%|##############################################6                                                                                       | 161/462 [00:01<00:03, 78.54it/s]"
     ]
    },
    {
     "name": "stdout",
     "output_type": "stream",
     "text": [
      "62/62 [==============================] - 0s 3ms/step\n"
     ]
    },
    {
     "name": "stderr",
     "output_type": "stream",
     "text": [
      " 39%|####################################################4                                                                                 | 181/462 [00:02<00:03, 77.59it/s]"
     ]
    },
    {
     "name": "stdout",
     "output_type": "stream",
     "text": [
      "62/62 [==============================] - 0s 1ms/step\n"
     ]
    },
    {
     "name": "stderr",
     "output_type": "stream",
     "text": [
      " 44%|##########################################################2                                                                           | 201/462 [00:02<00:02, 87.36it/s]"
     ]
    },
    {
     "name": "stdout",
     "output_type": "stream",
     "text": [
      "62/62 [==============================] - 0s 2ms/step\n"
     ]
    },
    {
     "name": "stderr",
     "output_type": "stream",
     "text": [
      " 48%|################################################################                                                                      | 221/462 [00:02<00:02, 86.44it/s]"
     ]
    },
    {
     "name": "stdout",
     "output_type": "stream",
     "text": [
      "62/62 [==============================] - 0s 1ms/step\n"
     ]
    },
    {
     "name": "stderr",
     "output_type": "stream",
     "text": [
      " 52%|#####################################################################9                                                                | 241/462 [00:02<00:02, 92.38it/s]"
     ]
    },
    {
     "name": "stdout",
     "output_type": "stream",
     "text": [
      "62/62 [==============================] - 0s 2ms/step\n"
     ]
    },
    {
     "name": "stderr",
     "output_type": "stream",
     "text": [
      " 56%|###########################################################################7                                                          | 261/462 [00:02<00:02, 95.81it/s]"
     ]
    },
    {
     "name": "stdout",
     "output_type": "stream",
     "text": [
      "62/62 [==============================] - 0s 1ms/step\n"
     ]
    },
    {
     "name": "stderr",
     "output_type": "stream",
     "text": [
      " 61%|################################################################################8                                                    | 281/462 [00:03<00:01, 101.33it/s]"
     ]
    },
    {
     "name": "stdout",
     "output_type": "stream",
     "text": [
      "62/62 [==============================] - 0s 2ms/step\n"
     ]
    },
    {
     "name": "stderr",
     "output_type": "stream",
     "text": [
      " 65%|#######################################################################################3                                              | 301/462 [00:03<00:01, 92.60it/s]"
     ]
    },
    {
     "name": "stdout",
     "output_type": "stream",
     "text": [
      "62/62 [==============================] - 0s 2ms/step\n"
     ]
    },
    {
     "name": "stderr",
     "output_type": "stream",
     "text": [
      " 69%|#############################################################################################1                                        | 321/462 [00:03<00:01, 89.63it/s]"
     ]
    },
    {
     "name": "stdout",
     "output_type": "stream",
     "text": [
      "62/62 [==============================] - 0s 2ms/step\n"
     ]
    },
    {
     "name": "stderr",
     "output_type": "stream",
     "text": [
      " 74%|##################################################################################################9                                   | 341/462 [00:03<00:01, 88.33it/s]"
     ]
    },
    {
     "name": "stdout",
     "output_type": "stream",
     "text": [
      "62/62 [==============================] - 0s 2ms/step\n"
     ]
    },
    {
     "name": "stderr",
     "output_type": "stream",
     "text": [
      " 78%|########################################################################################################7                             | 361/462 [00:04<00:01, 86.26it/s]"
     ]
    },
    {
     "name": "stdout",
     "output_type": "stream",
     "text": [
      "62/62 [==============================] - 0s 2ms/step\n"
     ]
    },
    {
     "name": "stderr",
     "output_type": "stream",
     "text": [
      " 82%|##############################################################################################################5                       | 381/462 [00:04<00:00, 90.87it/s]"
     ]
    },
    {
     "name": "stdout",
     "output_type": "stream",
     "text": [
      "62/62 [==============================] - 0s 1ms/step\n"
     ]
    },
    {
     "name": "stderr",
     "output_type": "stream",
     "text": [
      " 87%|####################################################################################################################3                 | 401/462 [00:04<00:00, 94.78it/s]"
     ]
    },
    {
     "name": "stdout",
     "output_type": "stream",
     "text": [
      "62/62 [==============================] - 0s 1ms/step\n"
     ]
    },
    {
     "name": "stderr",
     "output_type": "stream",
     "text": [
      " 91%|#########################################################################################################################1           | 421/462 [00:04<00:00, 102.03it/s]"
     ]
    },
    {
     "name": "stdout",
     "output_type": "stream",
     "text": [
      "62/62 [==============================] - 0s 3ms/step\n"
     ]
    },
    {
     "name": "stderr",
     "output_type": "stream",
     "text": [
      " 95%|###############################################################################################################################9      | 441/462 [00:04<00:00, 91.75it/s]"
     ]
    },
    {
     "name": "stdout",
     "output_type": "stream",
     "text": [
      "62/62 [==============================] - 0s 2ms/step\n"
     ]
    },
    {
     "name": "stderr",
     "output_type": "stream",
     "text": [
      "100%|#####################################################################################################################################7| 461/462 [00:05<00:00, 92.39it/s]"
     ]
    },
    {
     "name": "stdout",
     "output_type": "stream",
     "text": [
      "4/4 [==============================] - 0s 1ms/step\n"
     ]
    },
    {
     "name": "stderr",
     "output_type": "stream",
     "text": [
      "100%|######################################################################################################################################| 462/462 [00:05<00:00, 89.31it/s]\n"
     ]
    }
   ],
   "source": [
    "all_imps = []\n",
    "for i in range(10):\n",
    "    clf = load_model(os.path.join(save_dir, 'fold_%s.model' % str(i).zfill(2)))\n",
    "    dfe = clf.explain_model(mp, clf.X_, clf.y_, binary_task=True, apply_logrithm=False)\n",
    "    df_imp = dfe.col_1_importance.to_frame(name = 'fold_%s_imp' % str(i).zfill(2))\n",
    "    all_imps.append(df_imp)"
   ]
  },
  {
   "cell_type": "code",
   "execution_count": 9,
   "metadata": {},
   "outputs": [],
   "source": [
    "dfi = dfe[dfe.columns[:-1]]\n",
    "dfi['scatter_x'] = dfi.v.map(mp.df_embedding.x)\n",
    "dfi['scatter_y'] = dfi.v.map(mp.df_embedding.y)\n",
    "\n",
    "dfimp_all = pd.concat(all_imps, axis=1)\n",
    "dfi = dfi.join(dfimp_all.mean(axis=1).to_frame(name = 'avg_imp'))\n",
    "dfi = dfi.join(dfimp_all)\n",
    "dfi.to_csv(os.path.join(save_dir, 'feature_imp_results.csv'))"
   ]
  },
  {
   "cell_type": "code",
   "execution_count": null,
   "metadata": {},
   "outputs": [],
   "source": []
  },
  {
   "cell_type": "code",
   "execution_count": 10,
   "metadata": {},
   "outputs": [
    {
     "data": {
      "text/html": [
       "<div>\n",
       "<style scoped>\n",
       "    .dataframe tbody tr th:only-of-type {\n",
       "        vertical-align: middle;\n",
       "    }\n",
       "\n",
       "    .dataframe tbody tr th {\n",
       "        vertical-align: top;\n",
       "    }\n",
       "\n",
       "    .dataframe thead th {\n",
       "        text-align: right;\n",
       "    }\n",
       "</style>\n",
       "<table border=\"1\" class=\"dataframe\">\n",
       "  <thead>\n",
       "    <tr style=\"text-align: right;\">\n",
       "      <th></th>\n",
       "      <th>x</th>\n",
       "      <th>y</th>\n",
       "      <th>v</th>\n",
       "      <th>Subtypes</th>\n",
       "      <th>colors</th>\n",
       "      <th>scatter_x</th>\n",
       "      <th>scatter_y</th>\n",
       "      <th>avg_imp</th>\n",
       "      <th>fold_00_imp</th>\n",
       "      <th>fold_01_imp</th>\n",
       "      <th>fold_02_imp</th>\n",
       "      <th>fold_03_imp</th>\n",
       "      <th>fold_04_imp</th>\n",
       "      <th>fold_05_imp</th>\n",
       "      <th>fold_06_imp</th>\n",
       "      <th>fold_07_imp</th>\n",
       "      <th>fold_08_imp</th>\n",
       "      <th>fold_09_imp</th>\n",
       "    </tr>\n",
       "  </thead>\n",
       "  <tbody>\n",
       "    <tr>\n",
       "      <th>0</th>\n",
       "      <td>0</td>\n",
       "      <td>0</td>\n",
       "      <td>k__Bacteria|p__Proteobacteria|c__Gammaproteoba...</td>\n",
       "      <td>cluster_04</td>\n",
       "      <td>#0010ff</td>\n",
       "      <td>1.919993</td>\n",
       "      <td>0.598925</td>\n",
       "      <td>-0.311019</td>\n",
       "      <td>-0.341685</td>\n",
       "      <td>-0.302067</td>\n",
       "      <td>-0.362262</td>\n",
       "      <td>-0.286650</td>\n",
       "      <td>-0.337547</td>\n",
       "      <td>-0.315830</td>\n",
       "      <td>-0.258773</td>\n",
       "      <td>-0.317028</td>\n",
       "      <td>-0.334428</td>\n",
       "      <td>-0.253924</td>\n",
       "    </tr>\n",
       "    <tr>\n",
       "      <th>1</th>\n",
       "      <td>1</td>\n",
       "      <td>0</td>\n",
       "      <td>k__Bacteria|p__Proteobacteria|c__Gammaproteoba...</td>\n",
       "      <td>cluster_04</td>\n",
       "      <td>#0010ff</td>\n",
       "      <td>1.943752</td>\n",
       "      <td>0.648995</td>\n",
       "      <td>-0.334407</td>\n",
       "      <td>-0.367489</td>\n",
       "      <td>-0.331313</td>\n",
       "      <td>-0.382972</td>\n",
       "      <td>-0.314872</td>\n",
       "      <td>-0.370340</td>\n",
       "      <td>-0.344244</td>\n",
       "      <td>-0.271312</td>\n",
       "      <td>-0.318480</td>\n",
       "      <td>-0.364958</td>\n",
       "      <td>-0.278094</td>\n",
       "    </tr>\n",
       "    <tr>\n",
       "      <th>2</th>\n",
       "      <td>2</td>\n",
       "      <td>0</td>\n",
       "      <td>k__Bacteria|p__Proteobacteria|c__Gammaproteoba...</td>\n",
       "      <td>cluster_04</td>\n",
       "      <td>#0010ff</td>\n",
       "      <td>1.966278</td>\n",
       "      <td>0.640597</td>\n",
       "      <td>-0.334696</td>\n",
       "      <td>-0.367936</td>\n",
       "      <td>-0.331622</td>\n",
       "      <td>-0.383361</td>\n",
       "      <td>-0.315087</td>\n",
       "      <td>-0.370959</td>\n",
       "      <td>-0.344438</td>\n",
       "      <td>-0.271585</td>\n",
       "      <td>-0.318728</td>\n",
       "      <td>-0.364985</td>\n",
       "      <td>-0.278263</td>\n",
       "    </tr>\n",
       "    <tr>\n",
       "      <th>3</th>\n",
       "      <td>3</td>\n",
       "      <td>0</td>\n",
       "      <td>k__Bacteria|p__Proteobacteria|c__Gammaproteoba...</td>\n",
       "      <td>cluster_04</td>\n",
       "      <td>#0010ff</td>\n",
       "      <td>1.972043</td>\n",
       "      <td>0.634254</td>\n",
       "      <td>-0.334659</td>\n",
       "      <td>-0.367822</td>\n",
       "      <td>-0.331555</td>\n",
       "      <td>-0.383311</td>\n",
       "      <td>-0.315041</td>\n",
       "      <td>-0.370942</td>\n",
       "      <td>-0.344439</td>\n",
       "      <td>-0.271577</td>\n",
       "      <td>-0.318718</td>\n",
       "      <td>-0.364920</td>\n",
       "      <td>-0.278263</td>\n",
       "    </tr>\n",
       "    <tr>\n",
       "      <th>4</th>\n",
       "      <td>4</td>\n",
       "      <td>0</td>\n",
       "      <td>k__Bacteria|p__Proteobacteria|c__Gammaproteoba...</td>\n",
       "      <td>cluster_04</td>\n",
       "      <td>#0010ff</td>\n",
       "      <td>1.985219</td>\n",
       "      <td>0.683424</td>\n",
       "      <td>-0.334712</td>\n",
       "      <td>-0.367959</td>\n",
       "      <td>-0.331644</td>\n",
       "      <td>-0.383394</td>\n",
       "      <td>-0.315059</td>\n",
       "      <td>-0.370967</td>\n",
       "      <td>-0.344447</td>\n",
       "      <td>-0.271627</td>\n",
       "      <td>-0.318726</td>\n",
       "      <td>-0.365035</td>\n",
       "      <td>-0.278263</td>\n",
       "    </tr>\n",
       "    <tr>\n",
       "      <th>...</th>\n",
       "      <td>...</td>\n",
       "      <td>...</td>\n",
       "      <td>...</td>\n",
       "      <td>...</td>\n",
       "      <td>...</td>\n",
       "      <td>...</td>\n",
       "      <td>...</td>\n",
       "      <td>...</td>\n",
       "      <td>...</td>\n",
       "      <td>...</td>\n",
       "      <td>...</td>\n",
       "      <td>...</td>\n",
       "      <td>...</td>\n",
       "      <td>...</td>\n",
       "      <td>...</td>\n",
       "      <td>...</td>\n",
       "      <td>...</td>\n",
       "      <td>...</td>\n",
       "    </tr>\n",
       "    <tr>\n",
       "      <th>457</th>\n",
       "      <td>16</td>\n",
       "      <td>21</td>\n",
       "      <td>NaN-457</td>\n",
       "      <td>NaN</td>\n",
       "      <td>#000000</td>\n",
       "      <td>NaN</td>\n",
       "      <td>NaN</td>\n",
       "      <td>-0.334732</td>\n",
       "      <td>-0.368001</td>\n",
       "      <td>-0.331665</td>\n",
       "      <td>-0.383420</td>\n",
       "      <td>-0.315095</td>\n",
       "      <td>-0.370982</td>\n",
       "      <td>-0.344481</td>\n",
       "      <td>-0.271640</td>\n",
       "      <td>-0.318738</td>\n",
       "      <td>-0.365035</td>\n",
       "      <td>-0.278263</td>\n",
       "    </tr>\n",
       "    <tr>\n",
       "      <th>458</th>\n",
       "      <td>17</td>\n",
       "      <td>21</td>\n",
       "      <td>NaN-458</td>\n",
       "      <td>NaN</td>\n",
       "      <td>#000000</td>\n",
       "      <td>NaN</td>\n",
       "      <td>NaN</td>\n",
       "      <td>-0.334732</td>\n",
       "      <td>-0.368001</td>\n",
       "      <td>-0.331665</td>\n",
       "      <td>-0.383420</td>\n",
       "      <td>-0.315095</td>\n",
       "      <td>-0.370982</td>\n",
       "      <td>-0.344481</td>\n",
       "      <td>-0.271640</td>\n",
       "      <td>-0.318738</td>\n",
       "      <td>-0.365035</td>\n",
       "      <td>-0.278263</td>\n",
       "    </tr>\n",
       "    <tr>\n",
       "      <th>459</th>\n",
       "      <td>18</td>\n",
       "      <td>21</td>\n",
       "      <td>NaN-459</td>\n",
       "      <td>NaN</td>\n",
       "      <td>#000000</td>\n",
       "      <td>NaN</td>\n",
       "      <td>NaN</td>\n",
       "      <td>-0.334732</td>\n",
       "      <td>-0.368001</td>\n",
       "      <td>-0.331665</td>\n",
       "      <td>-0.383420</td>\n",
       "      <td>-0.315095</td>\n",
       "      <td>-0.370982</td>\n",
       "      <td>-0.344481</td>\n",
       "      <td>-0.271640</td>\n",
       "      <td>-0.318738</td>\n",
       "      <td>-0.365035</td>\n",
       "      <td>-0.278263</td>\n",
       "    </tr>\n",
       "    <tr>\n",
       "      <th>460</th>\n",
       "      <td>19</td>\n",
       "      <td>21</td>\n",
       "      <td>NaN-460</td>\n",
       "      <td>NaN</td>\n",
       "      <td>#000000</td>\n",
       "      <td>NaN</td>\n",
       "      <td>NaN</td>\n",
       "      <td>-0.334732</td>\n",
       "      <td>-0.368001</td>\n",
       "      <td>-0.331665</td>\n",
       "      <td>-0.383420</td>\n",
       "      <td>-0.315095</td>\n",
       "      <td>-0.370982</td>\n",
       "      <td>-0.344481</td>\n",
       "      <td>-0.271640</td>\n",
       "      <td>-0.318738</td>\n",
       "      <td>-0.365035</td>\n",
       "      <td>-0.278263</td>\n",
       "    </tr>\n",
       "    <tr>\n",
       "      <th>461</th>\n",
       "      <td>20</td>\n",
       "      <td>21</td>\n",
       "      <td>NaN-461</td>\n",
       "      <td>NaN</td>\n",
       "      <td>#000000</td>\n",
       "      <td>NaN</td>\n",
       "      <td>NaN</td>\n",
       "      <td>-0.334731</td>\n",
       "      <td>-0.368016</td>\n",
       "      <td>-0.331661</td>\n",
       "      <td>-0.383412</td>\n",
       "      <td>-0.315095</td>\n",
       "      <td>-0.370983</td>\n",
       "      <td>-0.344482</td>\n",
       "      <td>-0.271641</td>\n",
       "      <td>-0.318733</td>\n",
       "      <td>-0.365027</td>\n",
       "      <td>-0.278262</td>\n",
       "    </tr>\n",
       "  </tbody>\n",
       "</table>\n",
       "<p>462 rows × 18 columns</p>\n",
       "</div>"
      ],
      "text/plain": [
       "      x   y                                                  v    Subtypes  \\\n",
       "0     0   0  k__Bacteria|p__Proteobacteria|c__Gammaproteoba...  cluster_04   \n",
       "1     1   0  k__Bacteria|p__Proteobacteria|c__Gammaproteoba...  cluster_04   \n",
       "2     2   0  k__Bacteria|p__Proteobacteria|c__Gammaproteoba...  cluster_04   \n",
       "3     3   0  k__Bacteria|p__Proteobacteria|c__Gammaproteoba...  cluster_04   \n",
       "4     4   0  k__Bacteria|p__Proteobacteria|c__Gammaproteoba...  cluster_04   \n",
       "..   ..  ..                                                ...         ...   \n",
       "457  16  21                                            NaN-457         NaN   \n",
       "458  17  21                                            NaN-458         NaN   \n",
       "459  18  21                                            NaN-459         NaN   \n",
       "460  19  21                                            NaN-460         NaN   \n",
       "461  20  21                                            NaN-461         NaN   \n",
       "\n",
       "      colors  scatter_x  scatter_y   avg_imp  fold_00_imp  fold_01_imp  \\\n",
       "0    #0010ff   1.919993   0.598925 -0.311019    -0.341685    -0.302067   \n",
       "1    #0010ff   1.943752   0.648995 -0.334407    -0.367489    -0.331313   \n",
       "2    #0010ff   1.966278   0.640597 -0.334696    -0.367936    -0.331622   \n",
       "3    #0010ff   1.972043   0.634254 -0.334659    -0.367822    -0.331555   \n",
       "4    #0010ff   1.985219   0.683424 -0.334712    -0.367959    -0.331644   \n",
       "..       ...        ...        ...       ...          ...          ...   \n",
       "457  #000000        NaN        NaN -0.334732    -0.368001    -0.331665   \n",
       "458  #000000        NaN        NaN -0.334732    -0.368001    -0.331665   \n",
       "459  #000000        NaN        NaN -0.334732    -0.368001    -0.331665   \n",
       "460  #000000        NaN        NaN -0.334732    -0.368001    -0.331665   \n",
       "461  #000000        NaN        NaN -0.334731    -0.368016    -0.331661   \n",
       "\n",
       "     fold_02_imp  fold_03_imp  fold_04_imp  fold_05_imp  fold_06_imp  \\\n",
       "0      -0.362262    -0.286650    -0.337547    -0.315830    -0.258773   \n",
       "1      -0.382972    -0.314872    -0.370340    -0.344244    -0.271312   \n",
       "2      -0.383361    -0.315087    -0.370959    -0.344438    -0.271585   \n",
       "3      -0.383311    -0.315041    -0.370942    -0.344439    -0.271577   \n",
       "4      -0.383394    -0.315059    -0.370967    -0.344447    -0.271627   \n",
       "..           ...          ...          ...          ...          ...   \n",
       "457    -0.383420    -0.315095    -0.370982    -0.344481    -0.271640   \n",
       "458    -0.383420    -0.315095    -0.370982    -0.344481    -0.271640   \n",
       "459    -0.383420    -0.315095    -0.370982    -0.344481    -0.271640   \n",
       "460    -0.383420    -0.315095    -0.370982    -0.344481    -0.271640   \n",
       "461    -0.383412    -0.315095    -0.370983    -0.344482    -0.271641   \n",
       "\n",
       "     fold_07_imp  fold_08_imp  fold_09_imp  \n",
       "0      -0.317028    -0.334428    -0.253924  \n",
       "1      -0.318480    -0.364958    -0.278094  \n",
       "2      -0.318728    -0.364985    -0.278263  \n",
       "3      -0.318718    -0.364920    -0.278263  \n",
       "4      -0.318726    -0.365035    -0.278263  \n",
       "..           ...          ...          ...  \n",
       "457    -0.318738    -0.365035    -0.278263  \n",
       "458    -0.318738    -0.365035    -0.278263  \n",
       "459    -0.318738    -0.365035    -0.278263  \n",
       "460    -0.318738    -0.365035    -0.278263  \n",
       "461    -0.318733    -0.365027    -0.278262  \n",
       "\n",
       "[462 rows x 18 columns]"
      ]
     },
     "execution_count": 10,
     "metadata": {},
     "output_type": "execute_result"
    }
   ],
   "source": [
    "dfi"
   ]
  },
  {
   "cell_type": "code",
   "execution_count": null,
   "metadata": {},
   "outputs": [],
   "source": []
  },
  {
   "cell_type": "code",
   "execution_count": null,
   "metadata": {},
   "outputs": [],
   "source": []
  },
  {
   "cell_type": "code",
   "execution_count": null,
   "metadata": {},
   "outputs": [],
   "source": []
  },
  {
   "cell_type": "code",
   "execution_count": null,
   "metadata": {},
   "outputs": [],
   "source": []
  },
  {
   "cell_type": "code",
   "execution_count": null,
   "metadata": {},
   "outputs": [],
   "source": []
  },
  {
   "cell_type": "code",
   "execution_count": null,
   "metadata": {},
   "outputs": [],
   "source": []
  }
 ],
 "metadata": {
  "kernelspec": {
   "display_name": "Python 3 (ipykernel)",
   "language": "python",
   "name": "python3"
  },
  "language_info": {
   "codemirror_mode": {
    "name": "ipython",
    "version": 3
   },
   "file_extension": ".py",
   "mimetype": "text/x-python",
   "name": "python",
   "nbconvert_exporter": "python",
   "pygments_lexer": "ipython3",
   "version": "3.7.11"
  }
 },
 "nbformat": 4,
 "nbformat_minor": 4
}
